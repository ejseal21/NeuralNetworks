{
 "cells": [
  {
   "cell_type": "markdown",
   "metadata": {},
   "source": [
    "**Cole Turner and Ethan Seal**\n",
    "\n",
    "Fall 2019\n",
    "\n",
    "CS343: Neural Networks\n",
    "\n",
    "Project 0: Scientific Python\n",
    "\n",
    "**FINAL DUE 11:59pm Tues Sept 10**\n",
    "- `sci_python.ipynb`\n",
    "\n",
    "**REMINDER**: Submit rubric on Google Classroom\n",
    "\n",
    "**REMINDER**: There should be ZERO loops of any kind below!"
   ]
  },
  {
   "cell_type": "markdown",
   "metadata": {},
   "source": [
    "## Goals\n",
    "\n",
    "- Refresher of numpy / vectorized programming.\n",
    "- Get used to ndarray data type, matplotlib, pandas.\n",
    "- Practice common operations that will come up all semester with simple examples.\n",
    "- Practice turning in project on filer and rubric on Google Classroom"
   ]
  },
  {
   "cell_type": "code",
   "execution_count": 1,
   "metadata": {},
   "outputs": [],
   "source": [
    "import numpy as np\n",
    "import matplotlib.pyplot as plt\n",
    "import pandas as pd\n",
    "\n",
    "# Set the color style so that Professor Layton can see your plots\n",
    "plt.style.use(['seaborn-colorblind', 'seaborn-darkgrid'])\n",
    "# Make the font size larger\n",
    "plt.rcParams.update({'font.size': 20})\n",
    "\n",
    "# Turn off scientific notation when printing\n",
    "np.set_printoptions(suppress=True, precision=3)\n",
    "\n",
    "# Automatically reload your external source code\n",
    "%load_ext autoreload\n",
    "%autoreload 2"
   ]
  },
  {
   "cell_type": "markdown",
   "metadata": {},
   "source": [
    "## Task 1) Common shape operations"
   ]
  },
  {
   "cell_type": "markdown",
   "metadata": {},
   "source": [
    "1. Create an ndarray of values drawn from a Gaussian mean 0 stdev 0.01 with shape (3, 1, 8, 9)"
   ]
  },
  {
   "cell_type": "code",
   "execution_count": 2,
   "metadata": {},
   "outputs": [
    {
     "name": "stdout",
     "output_type": "stream",
     "text": [
      "Your shape is (3, 1, 8, 9) and should be (3, 1, 8, 9)\n",
      "Your first 3 numbers are [0.018 0.004 0.01 ] and should be [0.018, 0.004, 0.01]\n"
     ]
    }
   ],
   "source": [
    "np.random.seed(0)  # Keep these random seeds for test code purposes\n",
    "\n",
    "gauss = np.random.normal(0,.01, (3,1,8,9))\n",
    "\n",
    "print(f'Your shape is {gauss.shape} and should be (3, 1, 8, 9)')\n",
    "print(f'Your first 3 numbers are {gauss[0,0,0,:3]} and should be [0.018, 0.004, 0.01]')"
   ]
  },
  {
   "cell_type": "markdown",
   "metadata": {},
   "source": [
    "2. Reshape your array so that it has a leading singleton dimension"
   ]
  },
  {
   "cell_type": "code",
   "execution_count": 3,
   "metadata": {},
   "outputs": [
    {
     "name": "stdout",
     "output_type": "stream",
     "text": [
      "Your shape is (1, 3, 1, 8, 9) and should be (1, 3, 1, 8, 9)\n"
     ]
    }
   ],
   "source": [
    "gauss = gauss[np.newaxis,:]\n",
    "print(f'Your shape is {gauss.shape} and should be (1, 3, 1, 8, 9)')"
   ]
  },
  {
   "cell_type": "markdown",
   "metadata": {},
   "source": [
    "3. Remove singleton dimensions"
   ]
  },
  {
   "cell_type": "code",
   "execution_count": 4,
   "metadata": {},
   "outputs": [
    {
     "name": "stdout",
     "output_type": "stream",
     "text": [
      "Your shape is (3, 8, 9) and should be (3, 8, 9)\n"
     ]
    }
   ],
   "source": [
    "gauss = np.squeeze(gauss)\n",
    "print(f'Your shape is {gauss.shape} and should be (3, 8, 9)')"
   ]
  },
  {
   "cell_type": "markdown",
   "metadata": {},
   "source": [
    "4. Reshape your ndarray to merge non-leading dimensions. No hard coding!"
   ]
  },
  {
   "cell_type": "code",
   "execution_count": 5,
   "metadata": {},
   "outputs": [
    {
     "name": "stdout",
     "output_type": "stream",
     "text": [
      "Your shape is (3, 72) and should be (3, 72)\n",
      "Your 2nd row of 1st 3 numbers is [ 0.011 -0.012  0.004] and should be [0.011 -0.012  0.004]\n"
     ]
    }
   ],
   "source": [
    "\n",
    "gauss = gauss.reshape([gauss.shape[0], np.prod(gauss.shape[1:])])\n",
    "print(f'Your shape is {gauss.shape} and should be (3, 72)')\n",
    "print(f'Your 2nd row of 1st 3 numbers is {gauss[1,:3]} and should be [0.011 -0.012  0.004]')"
   ]
  },
  {
   "cell_type": "markdown",
   "metadata": {},
   "source": [
    "5. Print the number of total elements in `gauss`"
   ]
  },
  {
   "cell_type": "code",
   "execution_count": 6,
   "metadata": {},
   "outputs": [
    {
     "name": "stdout",
     "output_type": "stream",
     "text": [
      "Size of gauss: 216\n",
      "You should get 216.\n"
     ]
    }
   ],
   "source": [
    "print(f'Size of gauss: {gauss.size}')\n",
    "print('You should get 216.')"
   ]
  },
  {
   "cell_type": "markdown",
   "metadata": {},
   "source": [
    "6. Figure out how to permute (swap) the dimensions of the ndarray `x` in the cell below from shape=(5, 2, 3) to (3, 5, 2). You should do this in one line of code and is relatively simple. *The long text below is just to give you an intuition why this problem will come up in class this semester when working with image data.*\n",
    "\n",
    "**Intuition:** There is a 5x2 grid of RGB triplets (i.e. 5x2x3): `[(R1,G1,B1), (R2,G2,B2)], [(R1,G1,B1), (R2,G2,B2)], ...`. We want to shuffle this up so that all the R values in the pairs of RGB values are grouped next to each other (every other element down the 1st column of the original `x` array). We also want the R values for the 1st element of the RGB pair to be next to each other (in 1st column of result), and the R values for the 2nd element of the RGB pair to be next to each other (in 2nd column of result).\n",
    "\n",
    "**Visually**:\n",
    "\n",
    "Original `x`:\n",
    "\n",
    "    array([[[ 1.764,  0.4  ,  0.979],\n",
    "            [ 2.241,  1.868, -0.977]],\n",
    "\n",
    "           [[ 0.95 , -0.151, -0.103],\n",
    "            [ 0.411,  0.144,  1.454]],\n",
    "\n",
    "           [[ 0.761,  0.122,  0.444],\n",
    "            [ 0.334,  1.494, -0.205]],\n",
    "\n",
    "           [[ 0.313, -0.854, -2.553],\n",
    "            [ 0.654,  0.864, -0.742]],\n",
    "\n",
    "           [[ 2.27 , -1.454,  0.046],\n",
    "            [-0.187,  1.533,  1.469]]])\n",
    "    \n",
    " \n",
    "Answer `x_p`:\n",
    "\n",
    "    array([[[ 1.764,  2.241],\n",
    "            [ 0.95 ,  0.411],\n",
    "            [ 0.761,  0.334],\n",
    "            [ 0.313,  0.654],\n",
    "            [ 2.27 , -0.187]],\n",
    "\n",
    "           [[ 0.4  ,  1.868],\n",
    "            [-0.151,  0.144],\n",
    "            [ 0.122,  1.494],\n",
    "            [-0.854,  0.864],\n",
    "            [-1.454,  1.533]],\n",
    "\n",
    "           [[ 0.979, -0.977],\n",
    "            [-0.103,  1.454],\n",
    "            [ 0.444, -0.205],\n",
    "            [-2.553, -0.742],\n",
    "            [ 0.046,  1.469]]])\n",
    "            \n",
    "**In terms of the RGB pixels:**\n",
    "    \n",
    "        \n",
    "    [R1, G1, B1]\n",
    "    [R2, G2, B2]\n",
    "    [R1, G1, B1]\n",
    "    [R2, G2, B2]\n",
    "    ...\n",
    "    \n",
    "    to:\n",
    "    \n",
    "    [R1, R2]\n",
    "    [R1, R2]\n",
    "    [R1, R2]\n",
    "    [R1, R2]\n",
    "    [B1, B2]\n",
    "    [B1, B2]\n",
    "    [B1, B2]\n",
    "    [B1, B2]\n",
    "    ..."
   ]
  },
  {
   "cell_type": "code",
   "execution_count": 7,
   "metadata": {},
   "outputs": [],
   "source": [
    "# don't change this (but do execute it). This is for test code\n",
    "x_p_sol = np.array([[[ 1.764,  2.241],\n",
    "            [ 0.95 ,  0.411],\n",
    "            [ 0.761,  0.334],\n",
    "            [ 0.313,  0.654],\n",
    "            [ 2.27 , -0.187]],\n",
    "\n",
    "           [[ 0.4  ,  1.868],\n",
    "            [-0.151,  0.144],\n",
    "            [ 0.122,  1.494],\n",
    "            [-0.854,  0.864],\n",
    "            [-1.454,  1.533]],\n",
    "\n",
    "           [[ 0.979, -0.977],\n",
    "            [-0.103,  1.454],\n",
    "            [ 0.444, -0.205],\n",
    "            [-2.553, -0.742],\n",
    "            [ 0.046,  1.469]]])"
   ]
  },
  {
   "cell_type": "code",
   "execution_count": 8,
   "metadata": {},
   "outputs": [
    {
     "name": "stdout",
     "output_type": "stream",
     "text": [
      "The shape of x_p is (3, 5, 2) and should be (3, 5, 2)\n",
      "Your array below should match x_p above:\n",
      " [[[ 1.764  2.241]\n",
      "  [ 0.95   0.411]\n",
      "  [ 0.761  0.334]\n",
      "  [ 0.313  0.654]\n",
      "  [ 2.27  -0.187]]\n",
      "\n",
      " [[ 0.4    1.868]\n",
      "  [-0.151  0.144]\n",
      "  [ 0.122  1.494]\n",
      "  [-0.854  0.864]\n",
      "  [-1.454  1.533]]\n",
      "\n",
      " [[ 0.979 -0.977]\n",
      "  [-0.103  1.454]\n",
      "  [ 0.444 -0.205]\n",
      "  [-2.553 -0.742]\n",
      "  [ 0.046  1.469]]]\n",
      "...and they match? True\n"
     ]
    }
   ],
   "source": [
    "np.random.seed(0)  # keep me\n",
    "x = np.random.randn(5, 2, 3)\n",
    "\n",
    "x_p = np.transpose(x,(2,0,1))\n",
    "\n",
    "print(f'The shape of x_p is {x_p.shape} and should be (3, 5, 2)')\n",
    "print('Your array below should match x_p above:\\n', x_p)\n",
    "print(f'...and they match? {np.allclose(x_p_sol, x_p, rtol=1e-1)}')"
   ]
  },
  {
   "cell_type": "markdown",
   "metadata": {},
   "source": [
    "7. The following ndarray has a `uint8` datatype (`dtype` in numpy parlance). Cast the ndarray into a `float64` dtype, then normalize the values so that the min is 0 and max is 255.\n",
    "\n",
    "Data from images often comes in as `uint8` (0 to 255 ints) but neural networks tend to work with continuous real values, and best with normalized inputs."
   ]
  },
  {
   "cell_type": "code",
   "execution_count": 9,
   "metadata": {},
   "outputs": [
    {
     "name": "stdout",
     "output_type": "stream",
     "text": [
      "The min is 0.0, the max is 1.0. They should be 0.0 and 1.0\n",
      "The type is float64 and should be float64.\n"
     ]
    }
   ],
   "source": [
    "u = np.uint8([10, 0, 13, 255, 200, 14])\n",
    "u = u.astype(float)\n",
    "u *= (255.0/u.max())/255.0\n",
    "print(f'The min is {u.min()}, the max is {u.max()}. They should be 0.0 and 1.0')\n",
    "print(f'The type is {u.dtype} and should be float64.')"
   ]
  },
  {
   "cell_type": "markdown",
   "metadata": {},
   "source": [
    "## Task 2) Matrix multiplication and operations"
   ]
  },
  {
   "cell_type": "markdown",
   "metadata": {},
   "source": [
    "1. Define ndarray `a` of all 2s (shape=(10,20)). Define ndarray `b` of ints 0 thru 9 (shape=(10)), no hard coding!"
   ]
  },
  {
   "cell_type": "code",
   "execution_count": 10,
   "metadata": {},
   "outputs": [
    {
     "name": "stdout",
     "output_type": "stream",
     "text": [
      "Your a shape is (10, 20), and should be (10, 20).\n",
      "All your a values == 2? True\n",
      "Your b shape is (10,), and should be (10,).\n",
      "Min of b is 0? True. Max of b is 9? True\n"
     ]
    }
   ],
   "source": [
    "a = 2*np.ones((10,20))\n",
    "b = np.arange(10)\n",
    "print(f'Your a shape is {a.shape}, and should be (10, 20).')\n",
    "print(f'All your a values == 2? {np.all(a == 2)}')\n",
    "print(f'Your b shape is {b.shape}, and should be (10,).')\n",
    "print(f'Min of b is 0? {b.min() == 0}. Max of b is 9? {b.max() == 9}')"
   ]
  },
  {
   "cell_type": "markdown",
   "metadata": {},
   "source": [
    "2. Matrix multiply the ndarrays in the order \"a times b\" a way to get `c` with dimensions (20,). **This should be a one-liner!**"
   ]
  },
  {
   "cell_type": "code",
   "execution_count": 11,
   "metadata": {
    "scrolled": true
   },
   "outputs": [
    {
     "name": "stdout",
     "output_type": "stream",
     "text": [
      "Your c shape is (20,), and should be (20,).\n",
      "All your c values == 90? True\n"
     ]
    }
   ],
   "source": [
    "c = np.sum((a * np.expand_dims(b, 1)).T, 1)\n",
    "print(f'Your c shape is {c.shape}, and should be (20,).')\n",
    "print(f'All your c values == 90? {np.all(c == 90.)}')"
   ]
  },
  {
   "cell_type": "markdown",
   "metadata": {},
   "source": [
    "3. Sum across your `a` array along the last axis, preserving the number of dimensions"
   ]
  },
  {
   "cell_type": "code",
   "execution_count": 12,
   "metadata": {},
   "outputs": [
    {
     "name": "stdout",
     "output_type": "stream",
     "text": [
      "Your c shape is (10, 1), and should be (10,1).\n"
     ]
    }
   ],
   "source": [
    "a_sum = np.expand_dims(np.sum(a, axis = 1), 1)\n",
    "print(f'Your c shape is {a_sum.shape}, and should be (10,1).')"
   ]
  },
  {
   "cell_type": "markdown",
   "metadata": {},
   "source": [
    "4. Standardize the following following array in 1 line of code. Recall the equation is $$x_s = \\frac{x-\\mu}{\\sigma}$$"
   ]
  },
  {
   "cell_type": "code",
   "execution_count": 13,
   "metadata": {},
   "outputs": [
    {
     "name": "stdout",
     "output_type": "stream",
     "text": [
      "Your standardized array is\n",
      "[-0.193  1.568  0.378 -0.235 -1.518]\n",
      "and should be\n",
      "[-0.193  1.568  0.378 -0.235 -1.518]\n"
     ]
    }
   ],
   "source": [
    "np.random.seed(0)  # keep me!\n",
    "x = np.random.uniform(low=10, high=16, size=(5,))\n",
    "x_s = (x - np.mean(x)) / np.std(x)\n",
    "\n",
    "print(f'Your standardized array is\\n{x_s}\\nand should be\\n[-0.193  1.568  0.378 -0.235 -1.518]')"
   ]
  },
  {
   "cell_type": "markdown",
   "metadata": {},
   "source": [
    "## Task 3) Indexing"
   ]
  },
  {
   "cell_type": "markdown",
   "metadata": {},
   "source": [
    "1. Replace all values < 0 with -1, all values >= 0 with +1. Can be done with a one-liner."
   ]
  },
  {
   "cell_type": "code",
   "execution_count": 14,
   "metadata": {},
   "outputs": [
    {
     "name": "stdout",
     "output_type": "stream",
     "text": [
      "Number of -1s is 47 and should be 47.\n",
      "Number of +1s is 53 and should be 53.\n"
     ]
    }
   ],
   "source": [
    "np.random.seed(0)  # keep me!\n",
    "rand_vals = np.random.uniform(low=-5, high=6, size=(10, 10))\n",
    "rand_vals = np.where(rand_vals < 0, -1, 1)\n",
    "print(f'Number of -1s is {np.count_nonzero(rand_vals == -1)} and should be 47.')\n",
    "print(f'Number of +1s is {np.count_nonzero(rand_vals == 1)} and should be 53.')"
   ]
  },
  {
   "cell_type": "markdown",
   "metadata": {},
   "source": [
    "2. Use logical indexing to select values greater than 10, assign them to a new variable `x_10`"
   ]
  },
  {
   "cell_type": "code",
   "execution_count": 15,
   "metadata": {},
   "outputs": [
    {
     "name": "stdout",
     "output_type": "stream",
     "text": [
      "Values > 10 are: [11 12] and should be [11 12]\n"
     ]
    }
   ],
   "source": [
    "x = np.arange(13)\n",
    "x_10 = x[x > 10]\n",
    "print(f'Values > 10 are: {x_10} and should be [11 12]')"
   ]
  },
  {
   "cell_type": "markdown",
   "metadata": {},
   "source": [
    "3. Figure out how to convert (row, col) **subscript (tuple) indices** to a **linear (flat) index**. *Hint*: This is a Numpy function that does the math. It should work on the following test case:\n",
    "\n",
    "(row, col) = (5, 5) in an ndarray with shape=(10, 50). "
   ]
  },
  {
   "cell_type": "code",
   "execution_count": 16,
   "metadata": {},
   "outputs": [
    {
     "name": "stdout",
     "output_type": "stream",
     "text": [
      "Your linear index is 255 and should be 255\n"
     ]
    }
   ],
   "source": [
    "row, col = 5, 5\n",
    "linInd = np.ravel_multi_index((row, col), (10, 50))\n",
    "print(f'Your linear index is {linInd} and should be 255')"
   ]
  },
  {
   "cell_type": "markdown",
   "metadata": {},
   "source": [
    "4. Figure out how to go in the other direction, go from linear index to subscript index. It should work on the following test case:\n",
    "\n",
    "The linear index 255 maps to (row, col) = (5, 5) in an ndarray with shape=(10, 50). "
   ]
  },
  {
   "cell_type": "code",
   "execution_count": 17,
   "metadata": {},
   "outputs": [
    {
     "name": "stdout",
     "output_type": "stream",
     "text": [
      "Your subscripts are (5, 5) and should be (5, 5)\n"
     ]
    }
   ],
   "source": [
    "linInd = 255\n",
    "subs = np.unravel_index(linInd, (10, 50))\n",
    "print(f'Your subscripts are {subs} and should be (5, 5)')"
   ]
  },
  {
   "cell_type": "markdown",
   "metadata": {},
   "source": [
    "5. Use column `arange` indexing to make the 1st 3 rows of the first column 1s and rows 4-6 of the second column 1s.\n",
    "\n",
    "The cell below should print:\n",
    "\n",
    "    [[1. 0. 0.]\n",
    "     [1. 0. 0.]\n",
    "     [1. 0. 0.]\n",
    "     [0. 1. 0.]\n",
    "     [0. 1. 0.]\n",
    "     [0. 1. 0.]]"
   ]
  },
  {
   "cell_type": "code",
   "execution_count": 18,
   "metadata": {},
   "outputs": [
    {
     "name": "stdout",
     "output_type": "stream",
     "text": [
      "[[1. 0. 0.]\n",
      " [1. 0. 0.]\n",
      " [1. 0. 0.]\n",
      " [0. 1. 0.]\n",
      " [0. 1. 0.]\n",
      " [0. 1. 0.]]\n"
     ]
    }
   ],
   "source": [
    "x = np.zeros([6, 3])\n",
    "y = np.array([0,0,0,1,1,1])\n",
    "x[np.arange(len(x)), y] = 1\n",
    "print(x)"
   ]
  },
  {
   "cell_type": "markdown",
   "metadata": {},
   "source": [
    "6. In one line of code (using indexing), assign 1s between the rows and columns 25-35 (inclusive)."
   ]
  },
  {
   "cell_type": "code",
   "execution_count": 19,
   "metadata": {},
   "outputs": [
    {
     "name": "stdout",
     "output_type": "stream",
     "text": [
      "No rouge elements in your array? True\n",
      "Total number of 1s correct? True\n"
     ]
    }
   ],
   "source": [
    "x = np.zeros((50, 50))\n",
    "x[25:36, 25:36] = 1\n",
    "print(f'No rouge elements in your array? {np.all(np.unique(x) == np.array([0, 1]))}')\n",
    "print(f'Total number of 1s correct? {np.sum(x) == 121}')"
   ]
  },
  {
   "cell_type": "markdown",
   "metadata": {},
   "source": [
    "7. Reverse elements in the following ndarray in axes 2 and 3 only (counting from 0)."
   ]
  },
  {
   "cell_type": "code",
   "execution_count": 20,
   "metadata": {},
   "outputs": [
    {
     "name": "stdout",
     "output_type": "stream",
     "text": [
      "Your 1st 2 elements of the result in each dim (flattened) are\n",
      " [ 0.252  2.286 -0.966 -0.724 -1.26   0.029 -0.334 -0.02  -0.212  0.267\n",
      " -0.976  0.024  1.838 -0.984  0.029  0.56   1.891 -0.736 -0.301  0.908\n",
      " -1.477 -0.071  0.537  0.455  1.224 -1.231  1.148 -1.253  0.009 -0.642\n",
      " -0.998 -0.619]\n",
      "They should be\n",
      "[ 0.252  2.286 -0.966 -0.724 -1.26   0.029 -0.334 -0.02  -0.212  0.267\n",
      " -0.976  0.024  1.838 -0.984  0.029  0.56   1.891 -0.736 -0.301  0.908\n",
      " -1.477 -0.071  0.537  0.455  1.224 -1.231  1.148 -1.253  0.009 -0.642\n",
      " -0.998 -0.619]\n"
     ]
    }
   ],
   "source": [
    "np.random.seed(0)\n",
    "x = np.random.randn(10, 11, 12, 13, 14)\n",
    "x = x[:, :, ::-1, ::-1, :]\n",
    "print('Your 1st 2 elements of the result in each dim (flattened) are\\n', x[:2, :2, :2, :2, :2].flatten())\n",
    "print('They should be')\n",
    "x_sol = np.array([ 0.252,  2.286, -0.966, -0.724, -1.26 ,  0.029, -0.334, -0.02 ,\n",
    "       -0.212,  0.267, -0.976,  0.024,  1.838, -0.984,  0.029,  0.56 ,\n",
    "        1.891, -0.736, -0.301,  0.908, -1.477, -0.071,  0.537,  0.455,\n",
    "        1.224, -1.231,  1.148, -1.253,  0.009, -0.642, -0.998, -0.619])\n",
    "print(x_sol)"
   ]
  },
  {
   "cell_type": "markdown",
   "metadata": {},
   "source": [
    "## Task 4) Plotting and loading data"
   ]
  },
  {
   "cell_type": "markdown",
   "metadata": {},
   "source": [
    "1. Use matplotlib to create a nicely formatted plot of $sin(x)$ and $cos(x)$ evaluated from -10 to 10. Choose an x sampling rate so that the curves look smooth (**no jagged edges!!**). Make sure to\n",
    "\n",
    "\n",
    "- make $sin(x)$ red and dashed\n",
    "- make $cos(x)$ blue and dotted\n",
    "- set the y range in view to -3 to 3.\n",
    "- include a legend\n",
    "- include x and y axis labels\n",
    "- include a title\n",
    "\n",
    "Executing the cell below should generate the plot include WITHOUT any weird outputs about plot object"
   ]
  },
  {
   "cell_type": "code",
   "execution_count": 132,
   "metadata": {},
   "outputs": [
    {
     "data": {
      "image/png": "[encoded data removed]",
      "text/plain": [
       "<Figure size 432x288 with 1 Axes>"
      ]
     },
     "metadata": {},
     "output_type": "display_data"
    }
   ],
   "source": [
    "x = np.linspace(-10, 10,100)\n",
    "plt.plot(x, np.sin(x), 'r--', label=\"SINE\")\n",
    "plt.plot(x, np.cos(x), 'b.', label=\"COSINE\")\n",
    "plt.xlabel('x')\n",
    "plt.ylabel('y')\n",
    "plt.ylim([-3, 3])\n",
    "plt.title('Cole and Ethan\\'s Next Level Grapheroni')\n",
    "plt.legend()\n",
    "plt.show()"
   ]
  },
  {
   "cell_type": "markdown",
   "metadata": {},
   "source": [
    "2. Use `pandas` to download and open the Iris dataset over the internet (should run if data CSV file NOT present in your working directory). Create a DataFrame object `df` with the 1st two features and the species names (currently strings) coded categorically as ints.\n",
    "\n",
    "The url for the data is: https://archive.ics.uci.edu/ml/machine-learning-databases/iris/iris.data\n",
    "\n",
    "Note that the above file does not include any headers and is in CSV format."
   ]
  },
  {
   "cell_type": "code",
   "execution_count": 163,
   "metadata": {},
   "outputs": [
    {
     "name": "stdout",
     "output_type": "stream",
     "text": [
      "The first row is [5.1 3.5 0. ] and should be [5.1 3.5 0. ]\n",
      "The last row is [5.9 3.  2. ] and should be [5.9 3.  2. ]\n"
     ]
    },
    {
     "data": {
      "text/html": [
       "<div>\n",
       "<style scoped>\n",
       "    .dataframe tbody tr th:only-of-type {\n",
       "        vertical-align: middle;\n",
       "    }\n",
       "\n",
       "    .dataframe tbody tr th {\n",
       "        vertical-align: top;\n",
       "    }\n",
       "\n",
       "    .dataframe thead th {\n",
       "        text-align: right;\n",
       "    }\n",
       "</style>\n",
       "<table border=\"1\" class=\"dataframe\">\n",
       "  <thead>\n",
       "    <tr style=\"text-align: right;\">\n",
       "      <th></th>\n",
       "      <th>0</th>\n",
       "      <th>1</th>\n",
       "      <th>4</th>\n",
       "    </tr>\n",
       "  </thead>\n",
       "  <tbody>\n",
       "    <tr>\n",
       "      <td>0</td>\n",
       "      <td>5.1</td>\n",
       "      <td>3.5</td>\n",
       "      <td>0</td>\n",
       "    </tr>\n",
       "    <tr>\n",
       "      <td>1</td>\n",
       "      <td>4.9</td>\n",
       "      <td>3.0</td>\n",
       "      <td>0</td>\n",
       "    </tr>\n",
       "    <tr>\n",
       "      <td>2</td>\n",
       "      <td>4.7</td>\n",
       "      <td>3.2</td>\n",
       "      <td>0</td>\n",
       "    </tr>\n",
       "    <tr>\n",
       "      <td>3</td>\n",
       "      <td>4.6</td>\n",
       "      <td>3.1</td>\n",
       "      <td>0</td>\n",
       "    </tr>\n",
       "    <tr>\n",
       "      <td>4</td>\n",
       "      <td>5.0</td>\n",
       "      <td>3.6</td>\n",
       "      <td>0</td>\n",
       "    </tr>\n",
       "  </tbody>\n",
       "</table>\n",
       "</div>"
      ],
      "text/plain": [
       "     0    1  4\n",
       "0  5.1  3.5  0\n",
       "1  4.9  3.0  0\n",
       "2  4.7  3.2  0\n",
       "3  4.6  3.1  0\n",
       "4  5.0  3.6  0"
      ]
     },
     "execution_count": 163,
     "metadata": {},
     "output_type": "execute_result"
    }
   ],
   "source": [
    "df = pd.read_csv('https://archive.ics.uci.edu/ml/machine-learning-databases/iris/iris.data', header=None)\n",
    "df[4] = pd.Categorical(df[4])\n",
    "df[4] = df[4].cat.codes\n",
    "df.pop(2)\n",
    "df.pop(3)\n",
    "print(f'The first row is {df.iloc[0,:].to_numpy()} and should be [5.1 3.5 0. ]')\n",
    "print(f'The last row is {df.iloc[-1,:].to_numpy()} and should be [5.9 3.  2. ]')\n",
    "df.head()"
   ]
  },
  {
   "cell_type": "markdown",
   "metadata": {},
   "source": [
    "3. Convert the DataFrame to a ndarray and create a scatter plot of `df`. Color the points by their class label. The default white/gray/black color scheme is fine.\n",
    "\n",
    "\n",
    "- Superimpose the line y = x - 2.25.\n",
    "- Make the line colored red.\n",
    "- Restrict the x bounds to [4, 8]\n",
    "- Restrict the y bounds to [2, 5]\n",
    "\n",
    "Executing the cell below should generate the plot include WITHOUT any weird outputs about plot object"
   ]
  },
  {
   "cell_type": "code",
   "execution_count": 164,
   "metadata": {},
   "outputs": [
    {
     "data": {
      "text/plain": [
       "[<matplotlib.lines.Line2D at 0x122cfbef0>,\n",
       " <matplotlib.lines.Line2D at 0x122d050b8>,\n",
       " <matplotlib.lines.Line2D at 0x122d05240>]"
      ]
     },
     "execution_count": 164,
     "metadata": {},
     "output_type": "execute_result"
    },
    {
     "data": {
      "image/png": "[encoded data removed]",
      "text/plain": [
       "<Figure size 432x288 with 1 Axes>"
      ]
     },
     "metadata": {},
     "output_type": "display_data"
    }
   ],
   "source": [
    "df = df.to_numpy()\n",
    "plt.plot(df, )"
   ]
  },
  {
   "cell_type": "markdown",
   "metadata": {},
   "source": [
    "4. Create a 2x2 grid of scatter plots with the following contents:\n",
    "\n",
    "\n",
    "- (0,0): 2D Uniform random data\n",
    "- (0,1): 2D isotropic (symmetric blob) Gaussian random data\n",
    "- (1,0): 2D anisotropic (blob stretched out in a direction) Gaussian random data. Disregard RuntimeWarning messages if you are able to get the plot to look right.\n",
    "- (1,1): The iris scatter plot\n",
    "- Give your panels the titles: a, b, c, d.\n",
    "\n",
    "Make the figure large enough to be legible"
   ]
  },
  {
   "cell_type": "code",
   "execution_count": null,
   "metadata": {},
   "outputs": [],
   "source": []
  }
 ],
 "metadata": {
  "kernelspec": {
   "display_name": "Python 3",
   "language": "python",
   "name": "python3"
  },
  "language_info": {
   "codemirror_mode": {
    "name": "ipython",
    "version": 3
   },
   "file_extension": ".py",
   "mimetype": "text/x-python",
   "name": "python",
   "nbconvert_exporter": "python",
   "pygments_lexer": "ipython3",
   "version": "3.6.2"
  }
 },
 "nbformat": 4,
 "nbformat_minor": 2
}
