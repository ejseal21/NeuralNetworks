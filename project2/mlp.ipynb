{
 "cells": [
  {
   "cell_type": "markdown",
   "metadata": {},
   "source": [
    "**Cole Turner and Ethan Seal**\n",
    "\n",
    "Fall 2019\n",
    "\n",
    "CS 343: Neural Networks\n",
    "\n",
    "Project 2: Multi-layer Perceptrons\n",
    "\n",
    "**Draft due 11:59pm Thurs Sept 26**\n",
    "\n",
    "\n",
    "Summary of files in this project:\n",
    "- `softmax_layer.ipynb`\n",
    "- `single_layer_net.py`\n",
    "- `preprocess_data.py`\n",
    "- `mlp.ipynb`\n",
    "- `mlp.py`\n",
    "\n",
    "**REMINDER**: Submit rubric on Google Classroom"
   ]
  },
  {
   "cell_type": "code",
   "execution_count": 1,
   "metadata": {},
   "outputs": [],
   "source": [
    "import os\n",
    "import random\n",
    "import numpy as np\n",
    "import matplotlib.pyplot as plt\n",
    "\n",
    "# for obtaining the STL-dataset\n",
    "import load_stl10_dataset\n",
    "\n",
    "# for preprocessing dataset\n",
    "import preprocess_data\n",
    "\n",
    "# Set the color style so that Professor Layton can see your plots\n",
    "plt.style.use(['seaborn-colorblind', 'seaborn-darkgrid'])\n",
    "# Make the font size larger\n",
    "plt.rcParams.update({'font.size': 20})\n",
    "\n",
    "# Turn off scientific notation when printing\n",
    "np.set_printoptions(suppress=True, precision=3)\n",
    "\n",
    "# Automatically reload external modules\n",
    "%load_ext autoreload\n",
    "%autoreload 2"
   ]
  },
  {
   "cell_type": "markdown",
   "metadata": {},
   "source": [
    "## Data\n",
    "\n",
    "### a. STL-10\n",
    "\n",
    "**TODO**: Run the cell below, to preprocess STL-10 dataset like you did in the other notebook."
   ]
  },
  {
   "cell_type": "code",
   "execution_count": 2,
   "metadata": {},
   "outputs": [
    {
     "name": "stdout",
     "output_type": "stream",
     "text": [
      "Found cached numpy arrays the images and labels. Loading them...\n",
      "Images are: (5000, 32, 32, 3)\n",
      "Labels are: (5000,)\n",
      "stl_imgs dtype is float64 and it should be float64\n",
      "stl_imgs max is 0.668 and it should be 0.668\n",
      "stl_imgs shape is (5000, 3072) and it should be (5000, 3072)\n",
      "stl_labels span 0->9 and it should be 0->9\n",
      "Train data shape:  (3500, 3072)\n",
      "Train labels shape:  (3500,)\n",
      "Test data shape:  (500, 3072)\n",
      "Test labels shape:  (500,)\n",
      "Validation data shape:  (500, 3072)\n",
      "Validation labels shape:  (500,)\n",
      "dev data shape:  (500, 3072)\n",
      "dev labels shape:  (500,)\n"
     ]
    }
   ],
   "source": [
    "# Download the dataset from the internet, convert it to Numpy ndarray, resize to 32x32\n",
    "# cache it locally on your computer for faster loading next time.\n",
    "stl_imgs, stl_labels = load_stl10_dataset.load()\n",
    "\n",
    "# Load in the string names for each class\n",
    "classes = np.loadtxt(os.path.join('data', 'stl10_binary', 'class_names.txt'), dtype=str)\n",
    "\n",
    "# Preprocess image pixel values for the MLP net\n",
    "stl_imgs, stl_labels = preprocess_data.preprocess_stl(stl_imgs, stl_labels)\n",
    "print(f'stl_imgs dtype is {stl_imgs.dtype} and it should be float64')\n",
    "print(f'stl_imgs max is {np.max(stl_imgs[:, 1:]):.3f} and it should be 0.668')\n",
    "print(f'stl_imgs shape is {stl_imgs.shape} and it should be (5000, 3072)')\n",
    "print(f'stl_labels span {stl_labels.min()}->{stl_labels.max()} and it should be 0->9')\n",
    "    \n",
    "x_train, y_train, x_test, y_test, x_val, y_val, x_dev, y_dev = preprocess_data.create_splits(stl_imgs, stl_labels)  \n",
    "print ('Train data shape: ', x_train.shape)\n",
    "print ('Train labels shape: ', y_train.shape)\n",
    "print ('Test data shape: ', x_test.shape)\n",
    "print ('Test labels shape: ', y_test.shape)\n",
    "print ('Validation data shape: ', x_val.shape)\n",
    "print ('Validation labels shape: ', y_val.shape)\n",
    "print ('dev data shape: ', x_dev.shape)\n",
    "print ('dev labels shape: ', y_dev.shape)"
   ]
  },
  {
   "cell_type": "markdown",
   "metadata": {},
   "source": [
    "### Circle in a square\n",
    "\n",
    "**TODO** Run the code below from the other notebook to load in the CIS dataset"
   ]
  },
  {
   "cell_type": "code",
   "execution_count": 3,
   "metadata": {},
   "outputs": [
    {
     "name": "stdout",
     "output_type": "stream",
     "text": [
      "CIS Train data shape:  (80, 2)\n",
      "CIS Train labels shape:  (80,)\n",
      "CIS Validation data shape:  (20, 2)\n",
      "CIS Validation labels shape:  (20,)\n",
      "CIS Test data shape:  (10000, 2)\n",
      "CIS Test labels shape:  (10000,)\n"
     ]
    }
   ],
   "source": [
    "val_size = 20\n",
    "\n",
    "cis_train_path = os.path.join('data', 'cis', 'cis_train.dat')\n",
    "cis_test_path = os.path.join('data', 'cis', 'cis_test.dat')\n",
    "\n",
    "cis_train_all = np.loadtxt(cis_train_path, delimiter='\\t')\n",
    "\n",
    "# shuffle the data\n",
    "s_inds = np.arange(len(cis_train_all))\n",
    "cis_train_all = cis_train_all[s_inds]\n",
    "\n",
    "cis_train_x = cis_train_all[:, :2]\n",
    "cis_train_y = cis_train_all[:, 2].astype(int)\n",
    "\n",
    "cis_val_x = cis_train_x[:val_size]\n",
    "cis_train_x = cis_train_x[val_size:]\n",
    "cis_val_y = cis_train_y[:val_size]\n",
    "cis_train_y = cis_train_y[val_size:]\n",
    "\n",
    "cis_test_all = np.loadtxt(cis_test_path, delimiter='\\t')\n",
    "cis_test_x = cis_test_all[:, :2]\n",
    "cis_test_y = cis_test_all[:, 2].astype(int)\n",
    "\n",
    "print ('CIS Train data shape: ', cis_train_x.shape)\n",
    "print ('CIS Train labels shape: ', cis_train_y.shape)\n",
    "print ('CIS Validation data shape: ', cis_val_x.shape)\n",
    "print ('CIS Validation labels shape: ', cis_val_y.shape)\n",
    "print ('CIS Test data shape: ', cis_test_x.shape)\n",
    "print ('CIS Test labels shape: ', cis_test_y.shape)"
   ]
  },
  {
   "cell_type": "markdown",
   "metadata": {},
   "source": [
    "### b. Circle in a square dataset\n",
    "\n",
    "**Properties:**\n",
    "- 2 classes of features\n",
    "\n",
    "**TODO**:\n",
    "1. Download the circle in a square dataset. Folder structure is `<project folder>/data/cis/<cis dat files>`\n",
    "2. Create numpy arrays for the train/test data and separate variables for the associated labels by running the below code"
   ]
  },
  {
   "cell_type": "code",
   "execution_count": 4,
   "metadata": {},
   "outputs": [
    {
     "name": "stdout",
     "output_type": "stream",
     "text": [
      "CIS Train data shape:  (80, 2)\n",
      "CIS Train labels shape:  (80,)\n",
      "CIS Validation data shape:  (20, 2)\n",
      "CIS Validation labels shape:  (20,)\n",
      "CIS Test data shape:  (10000, 2)\n",
      "CIS Test labels shape:  (10000,)\n"
     ]
    }
   ],
   "source": [
    "val_size = 20\n",
    "\n",
    "cis_train_path = os.path.join('data', 'cis', 'cis_train.dat')\n",
    "cis_test_path = os.path.join('data', 'cis', 'cis_test.dat')\n",
    "\n",
    "cis_train_all = np.loadtxt(\n",
    "cis_train_path, delimiter='\\t')\n",
    "\n",
    "cis_train_x = cis_train_all[:, :2]\n",
    "cis_train_y = cis_train_all[:, 2].astype(int)\n",
    "\n",
    "cis_val_x = cis_train_x[:val_size]\n",
    "cis_train_x = cis_train_x[val_size:]\n",
    "cis_val_y = cis_train_y[:val_size]\n",
    "cis_train_y = cis_train_y[val_size:]\n",
    "\n",
    "cis_test_all = np.loadtxt(cis_test_path, delimiter='\\t')\n",
    "cis_test_x = cis_test_all[:, :2]\n",
    "cis_test_y = cis_test_all[:, 2].astype(int)\n",
    "\n",
    "print ('CIS Train data shape: ', cis_train_x.shape)\n",
    "print ('CIS Train labels shape: ', cis_train_y.shape)\n",
    "print ('CIS Validation data shape: ', cis_val_x.shape)\n",
    "print ('CIS Validation labels shape: ', cis_val_y.shape)\n",
    "print ('CIS Test data shape: ', cis_test_x.shape)\n",
    "print ('CIS Test labels shape: ', cis_test_y.shape)"
   ]
  },
  {
   "cell_type": "markdown",
   "metadata": {},
   "source": [
    "Below, you should see a...black circle in a white unit square :) "
   ]
  },
  {
   "cell_type": "code",
   "execution_count": 28,
   "metadata": {},
   "outputs": [
    {
     "data": {
      "image/png": "[encoded data removed]",
      "text/plain": [
       "<Figure size 432x288 with 1 Axes>"
      ]
     },
     "metadata": {
      "needs_background": "light"
     },
     "output_type": "display_data"
    }
   ],
   "source": [
    "plt.scatter(cis_test_x[:,0], cis_test_x[:,1], c=cis_test_y)\n",
    "plt.axis('equal')\n",
    "plt.show()"
   ]
  },
  {
   "cell_type": "markdown",
   "metadata": {},
   "source": [
    "## Task 3) Implement Multilayer Perceptron (MLP) with softmax activation and cross-entropy loss\n",
    "\n",
    "Now that we've tested the softmax activation function and cross-entropy loss functions in a single-layer net, let's implement the MLP version.\n",
    "\n",
    "Much of your work on the single layer net will carry over, so go ahead and copy-paste and modify as needed!\n",
    "\n",
    "The structure of our MLP will be:\n",
    "\n",
    "Input layer (X units) -> Hidden layer (Y units) with Rectified Linear activation (ReLu) -> Output layer (Z units) with softmax activation"
   ]
  },
  {
   "cell_type": "markdown",
   "metadata": {},
   "source": [
    "### a. Implement the following functions in `mlp.py`\n",
    "\n",
    "- `initialize_wts`\n",
    "- `accuracy`\n",
    "- `one_hot`\n",
    "- `predict`\n",
    "- `forward`\n",
    "- `backward`\n",
    "- `fit`"
   ]
  },
  {
   "cell_type": "markdown",
   "metadata": {},
   "source": [
    "### b. Test key functions with randomly generated data"
   ]
  },
  {
   "cell_type": "code",
   "execution_count": 6,
   "metadata": {},
   "outputs": [],
   "source": [
    "from mlp import MLP"
   ]
  },
  {
   "cell_type": "code",
   "execution_count": 7,
   "metadata": {},
   "outputs": [],
   "source": [
    "# Create a dummy net for debugging\n",
    "num_inputs = 3\n",
    "num_features = 6\n",
    "num_hidden_units = 7\n",
    "num_classes = 5\n",
    "\n",
    "net = MLP(num_features, num_hidden_units, num_classes)"
   ]
  },
  {
   "cell_type": "code",
   "execution_count": 8,
   "metadata": {},
   "outputs": [
    {
     "name": "stdout",
     "output_type": "stream",
     "text": [
      "Test input shape: (3, 6)\n",
      "Test class vector shape: (3,)\n"
     ]
    }
   ],
   "source": [
    "# Generate random data and classes\n",
    "np.random.seed(0)\n",
    "test_x = np.random.normal(loc=0, scale=100, size=(num_inputs, num_features))\n",
    "test_y = np.random.uniform(low=0, high=num_classes-1, size=(num_inputs,))\n",
    "test_y = test_y.astype(int)\n",
    "print(f'Test input shape: {test_x.shape}')\n",
    "print(f'Test class vector shape: {test_y.shape}')"
   ]
  },
  {
   "cell_type": "markdown",
   "metadata": {},
   "source": [
    "Test `initialize_wts`"
   ]
  },
  {
   "cell_type": "code",
   "execution_count": 9,
   "metadata": {},
   "outputs": [
    {
     "name": "stdout",
     "output_type": "stream",
     "text": [
      "y wt shape is (6, 7) and should be (6, 7)\n",
      "y bias shape is (7,) and should be (7,)\n",
      "z wt shape is (7, 5) and should be (7, 5)\n",
      "z bias shape is (5,) and should be (5,)\n",
      "1st few y wts are\n",
      "[ 0.018 -0.002  0.004  0.007  0.015  0.002]\n",
      "and should be\n",
      "[ 0.018 -0.002  0.004  0.007  0.015  0.002]\n",
      "y bias is\n",
      "[-0.017  0.02  -0.005 -0.004 -0.013  0.008 -0.016]\n",
      "and should be\n",
      "[-0.017  0.02  -0.005 -0.004 -0.013  0.008 -0.016]\n",
      "1st few z wts are\n",
      "[-0.002 -0.    -0.004  0.002  0.001  0.004  0.001]\n",
      "and should be\n",
      "[-0.002 -0.    -0.004  0.002  0.001  0.004  0.001]\n",
      "z bias is\n",
      "[ 0.015  0.019  0.012 -0.002 -0.011]\n",
      "and should be\n",
      "[ 0.015  0.019  0.012 -0.002 -0.011]\n"
     ]
    }
   ],
   "source": [
    "net.initialize_wts(M=num_features, H=num_hidden_units, C=num_classes, std=0.01)\n",
    "print(f'y wt shape is {net.y_wts.shape} and should be (6, 7)')\n",
    "print(f'y bias shape is {net.y_b.shape} and should be (7,)')\n",
    "print(f'z wt shape is {net.z_wts.shape} and should be (7, 5)')\n",
    "print(f'z bias shape is {net.z_b.shape} and should be (5,)')\n",
    "\n",
    "print(f'1st few y wts are\\n{net.y_wts[:,0]}\\nand should be\\n[ 0.018 -0.002  0.004  0.007  0.015  0.002]')\n",
    "print(f'y bias is\\n{net.y_b}\\nand should be\\n[-0.017  0.02  -0.005 -0.004 -0.013  0.008 -0.016]')\n",
    "print(f'1st few z wts are\\n{net.z_wts[:,0]}\\nand should be\\n[-0.002 -0.    -0.004  0.002  0.001  0.004  0.001]')\n",
    "print(f'z bias is\\n{net.z_b}\\nand should be\\n[ 0.015  0.019  0.012 -0.002 -0.011]')"
   ]
  },
  {
   "cell_type": "markdown",
   "metadata": {},
   "source": [
    "Test the `predict` method"
   ]
  },
  {
   "cell_type": "code",
   "execution_count": 10,
   "metadata": {},
   "outputs": [
    {
     "name": "stdout",
     "output_type": "stream",
     "text": [
      "Predicted classes are [3 0 0] and should be [3 0 0]\n"
     ]
    }
   ],
   "source": [
    "test_y_pred = net.predict(test_x)\n",
    "print(f'Predicted classes are {test_y_pred} and should be [3 0 0]')"
   ]
  },
  {
   "cell_type": "markdown",
   "metadata": {},
   "source": [
    "Test the `forward` method focusing on`ReLU`(net act of hidden layer `y`)"
   ]
  },
  {
   "cell_type": "code",
   "execution_count": 11,
   "metadata": {},
   "outputs": [
    {
     "name": "stdout",
     "output_type": "stream",
     "text": [
      "Your y activation is\n",
      "[[7.643 4.49  0.799 9.977 0.    0.    0.   ]\n",
      " [2.353 2.737 2.175 2.547 0.345 0.    0.   ]\n",
      " [3.98  2.691 1.19  3.029 0.    0.    0.   ]]\n",
      "The correct y activation (ReLU) is\n",
      "[[7.66  4.47  0.804 9.981 0.    0.    0.   ]\n",
      " [2.37  2.717 2.18  2.552 0.357 0.    0.   ]\n",
      " [3.997 2.671 1.195 3.034 0.    0.    0.   ]]\n"
     ]
    }
   ],
   "source": [
    "_,y_net_act_test,_,_,_ = net.forward(test_x, test_y)\n",
    "\n",
    "correct_y_act = np.array([[7.66 , 4.47 , 0.804, 9.981, 0.   , 0.   , 0.   ],\n",
    "       [2.37 , 2.717, 2.18 , 2.552, 0.357, 0.   , 0.   ],\n",
    "       [3.997, 2.671, 1.195, 3.034, 0.   , 0.   , 0.   ]])\n",
    "\n",
    "print(f'Your y activation is\\n{y_net_act_test}')\n",
    "print(f'The correct y activation (ReLU) is\\n{correct_y_act}')"
   ]
  },
  {
   "cell_type": "markdown",
   "metadata": {},
   "source": [
    "Test the `forward` method"
   ]
  },
  {
   "cell_type": "code",
   "execution_count": 12,
   "metadata": {},
   "outputs": [
    {
     "name": "stdout",
     "output_type": "stream",
     "text": [
      "Your z activation (class probabilities) is\n",
      "[[0.219 0.2   0.191 0.219 0.171]\n",
      " [0.208 0.204 0.201 0.205 0.183]\n",
      " [0.208 0.202 0.202 0.205 0.183]]\n",
      "The correct z activation (class probabilities) is\n",
      "[[0.219 0.2   0.191 0.219 0.171]\n",
      " [0.208 0.204 0.201 0.205 0.183]\n",
      " [0.208 0.202 0.202 0.205 0.183]]\n",
      "The sums across rows (for each data sample) are [1. 1. 1.].\n",
      "  You should know what should be :)\n"
     ]
    }
   ],
   "source": [
    "_,_,_,probs,_ = net.forward(test_x, test_y)\n",
    "\n",
    "correct_probs = np.array([[0.219, 0.2  , 0.191, 0.219, 0.171],\n",
    "       [0.208, 0.204, 0.201, 0.205, 0.183],\n",
    "       [0.208, 0.202, 0.202, 0.205, 0.183]])\n",
    "\n",
    "print(f'Your z activation (class probabilities) is\\n{probs}')\n",
    "print(f'The correct z activation (class probabilities) is\\n{correct_probs}')\n",
    "print(f'The sums across rows (for each data sample) are {np.sum(probs, axis=1)}.')\n",
    "print(f'  You should know what should be :)')"
   ]
  },
  {
   "cell_type": "markdown",
   "metadata": {},
   "source": [
    "Test the `forward` method, focusing on loss"
   ]
  },
  {
   "cell_type": "code",
   "execution_count": 13,
   "metadata": {},
   "outputs": [
    {
     "name": "stdout",
     "output_type": "stream",
     "text": [
      "Your average loss is\n",
      "1.5644026905363646\n",
      "The correct average loss is approx\n",
      "1.564402690536365\n"
     ]
    }
   ],
   "source": [
    "y_in, y_act ,z_in, z_act, loss = net.forward(test_x, test_y)\n",
    "correct_loss = 1.564402690536365\n",
    "\n",
    "print(f'Your average loss is\\n{loss}')\n",
    "print(f'The correct average loss is approx\\n{correct_loss}')"
   ]
  },
  {
   "cell_type": "markdown",
   "metadata": {},
   "source": [
    "Test the `forward` method, focusing on regularization"
   ]
  },
  {
   "cell_type": "code",
   "execution_count": 14,
   "metadata": {},
   "outputs": [
    {
     "name": "stdout",
     "output_type": "stream",
     "text": [
      "Your regularized average loss is\n",
      "5.257207314928797\n",
      "The correct regularized average loss is approx\n",
      "5.257207314928798\n"
     ]
    }
   ],
   "source": [
    "y_in, y_act ,z_in, z_act, loss = net.forward(test_x, test_y, reg=1000)\n",
    "correct_loss = 5.257207314928798\n",
    "\n",
    "print(f'Your regularized average loss is\\n{loss}')\n",
    "print(f'The correct regularized average loss is approx\\n{correct_loss}')"
   ]
  },
  {
   "cell_type": "markdown",
   "metadata": {},
   "source": [
    "Test the `backward` method"
   ]
  },
  {
   "cell_type": "code",
   "execution_count": 15,
   "metadata": {},
   "outputs": [
    {
     "name": "stdout",
     "output_type": "stream",
     "text": [
      "Your gradient for y_wts is\n",
      " [[-0.476  0.057 -0.458 -0.115  0.03  -0.005  0.005]\n",
      " [-0.002  0.014 -0.046 -0.162  0.004  0.004  0.001]\n",
      " [-0.088  0.038 -0.166 -0.325 -0.001 -0.004 -0.013]\n",
      " [-0.331  0.067 -0.398 -0.332  0.001  0.    -0.001]\n",
      " [-0.318  0.089 -0.465 -0.615 -0.001 -0.01  -0.002]\n",
      " [-0.315 -0.036 -0.036  0.806  0.029 -0.005 -0.007]]\n",
      "Your gradient for y_b is\n",
      " [-0.005  0.    -0.004 -0.     0.     0.     0.   ]\n",
      "Your gradient for z_wts is\n",
      " [[-2.879  0.933  0.131  0.987  0.816]\n",
      " [-1.69   0.669 -0.261  0.699  0.584]\n",
      " [-0.374  0.278 -0.45   0.284  0.242]\n",
      " [-3.221  1.041  0.154  1.111  0.904]\n",
      " [ 0.024  0.027 -0.091  0.029  0.015]\n",
      " [ 0.002 -0.003 -0.004 -0.003 -0.002]\n",
      " [ 0.    -0.006  0.005  0.002 -0.008]]\n",
      "Your gradient for z_b is\n",
      " [-0.455  0.202 -0.135  0.209  0.179]\n"
     ]
    }
   ],
   "source": [
    "y_in, y_act ,z_in, z_act, loss = net.forward(test_x, test_y, reg=0.5)\n",
    "grads = net.backward(test_x, test_y, y_in, y_act ,z_in, z_act, reg=0.5)\n",
    "\n",
    "print('Your gradient for y_wts is\\n', grads[0])\n",
    "print('Your gradient for y_b is\\n', grads[1])\n",
    "print('Your gradient for z_wts is\\n', grads[2])\n",
    "print('Your gradient for z_b is\\n', grads[3])"
   ]
  },
  {
   "cell_type": "markdown",
   "metadata": {},
   "source": [
    "The correct gradients are:\n",
    "\n",
    "`\n",
    "Your gradient for y_wts is\n",
    " [[-0.476  0.057 -0.458 -0.115  0.03  -0.005  0.005]\n",
    " [-0.002  0.014 -0.046 -0.162  0.004  0.004  0.001]\n",
    " [-0.088  0.038 -0.166 -0.325 -0.001 -0.004 -0.013]\n",
    " [-0.331  0.067 -0.398 -0.332  0.001  0.    -0.001]\n",
    " [-0.318  0.089 -0.465 -0.615 -0.001 -0.01  -0.002]\n",
    " [-0.315 -0.036 -0.036  0.806  0.029 -0.005 -0.007]]\n",
    "Your gradient for y_b is\n",
    " [-0.005  0.    -0.004 -0.     0.     0.     0.   ]\n",
    "Your gradient for z_wts is\n",
    " [[-2.879  0.933  0.131  0.987  0.816]\n",
    " [-1.69   0.669 -0.261  0.699  0.584]\n",
    " [-0.374  0.278 -0.45   0.284  0.242]\n",
    " [-3.221  1.041  0.154  1.111  0.904]\n",
    " [ 0.024  0.027 -0.091  0.029  0.015]\n",
    " [ 0.002 -0.003 -0.004 -0.003 -0.002]\n",
    " [ 0.    -0.006  0.005  0.002 -0.008]]\n",
    "Your gradient for z_b is\n",
    " [-0.455  0.202 -0.135  0.209  0.179]\n",
    "`"
   ]
  },
  {
   "cell_type": "markdown",
   "metadata": {},
   "source": [
    "Test loss over epoch. \n",
    "\n",
    "The below code should generate a curve that rapidly drops to 0 (there might be fluctuations and it might not be monotonic and that's ok)"
   ]
  },
  {
   "cell_type": "code",
   "execution_count": 35,
   "metadata": {},
   "outputs": [
    {
     "name": "stdout",
     "output_type": "stream",
     "text": [
      "Starting to train network...There will be 30 epochs and 30 iterations total, 1 iter/epoch.\n",
      "  Completed iter 0/30. Training loss: 3.78.\n",
      "Finished training!\n"
     ]
    },
    {
     "data": {
      "image/png": "[encoded data removed]",
      "text/plain": [
       "<Figure size 432x288 with 1 Axes>"
      ]
     },
     "metadata": {
      "needs_background": "light"
     },
     "output_type": "display_data"
    }
   ],
   "source": [
    "net = MLP(num_features, num_hidden_units, num_classes)\n",
    "loss, acc_t, acc_v = net.fit(test_x, test_y, test_x, test_y, reg=0, lr=0.001, mini_batch_sz=3, n_epochs=30)\n",
    "\n",
    "plt.plot(loss)\n",
    "plt.xlabel('Iteration')\n",
    "plt.ylabel('Avg cross-entropy Loss')\n",
    "plt.show()"
   ]
  },
  {
   "cell_type": "markdown",
   "metadata": {},
   "source": [
    "### c. Test MLP with Circle in Square dataset"
   ]
  },
  {
   "cell_type": "markdown",
   "metadata": {},
   "source": [
    "First test case where training data = test data.\n",
    "\n",
    "You should see a nice drop and plateau in loss (after a bunch of print outs)."
   ]
  },
  {
   "cell_type": "code",
   "execution_count": 46,
   "metadata": {},
   "outputs": [
    {
     "name": "stdout",
     "output_type": "stream",
     "text": [
      "Starting to train network...There will be 700 epochs and 70000 iterations total, 100 iter/epoch.\n",
      "  Completed iter 0/70000. Training loss: 0.70.\n",
      "  Completed iter 100/70000. Training loss: 0.69.\n",
      "  Completed iter 200/70000. Training loss: 0.69.\n",
      "  Completed iter 300/70000. Training loss: 0.69.\n",
      "  Completed iter 400/70000. Training loss: 0.69.\n",
      "  Completed iter 500/70000. Training loss: 0.69.\n",
      "  Completed iter 600/70000. Training loss: 0.69.\n",
      "  Completed iter 700/70000. Training loss: 0.69.\n",
      "  Completed iter 800/70000. Training loss: 0.69.\n",
      "  Completed iter 900/70000. Training loss: 0.69.\n",
      "  Completed iter 1000/70000. Training loss: 0.69.\n",
      "  Completed iter 1100/70000. Training loss: 0.69.\n",
      "  Completed iter 1200/70000. Training loss: 0.69.\n",
      "  Completed iter 1300/70000. Training loss: 0.69.\n",
      "  Completed iter 1400/70000. Training loss: 0.69.\n",
      "  Completed iter 1500/70000. Training loss: 0.69.\n",
      "  Completed iter 1600/70000. Training loss: 0.69.\n",
      "  Completed iter 1700/70000. Training loss: 0.68.\n",
      "  Completed iter 1800/70000. Training loss: 0.69.\n",
      "  Completed iter 1900/70000. Training loss: 0.69.\n",
      "  Completed iter 2000/70000. Training loss: 0.69.\n",
      "  Completed iter 2100/70000. Training loss: 0.68.\n",
      "  Completed iter 2200/70000. Training loss: 0.69.\n",
      "  Completed iter 2300/70000. Training loss: 0.68.\n",
      "  Completed iter 2400/70000. Training loss: 0.68.\n",
      "  Completed iter 2500/70000. Training loss: 0.68.\n",
      "  Completed iter 2600/70000. Training loss: 0.69.\n",
      "  Completed iter 2700/70000. Training loss: 0.68.\n",
      "  Completed iter 2800/70000. Training loss: 0.68.\n",
      "  Completed iter 2900/70000. Training loss: 0.68.\n",
      "  Completed iter 3000/70000. Training loss: 0.67.\n",
      "  Completed iter 3100/70000. Training loss: 0.69.\n",
      "  Completed iter 3200/70000. Training loss: 0.67.\n",
      "  Completed iter 3300/70000. Training loss: 0.68.\n",
      "  Completed iter 3400/70000. Training loss: 0.68.\n",
      "  Completed iter 3500/70000. Training loss: 0.69.\n",
      "  Completed iter 3600/70000. Training loss: 0.68.\n",
      "  Completed iter 3700/70000. Training loss: 0.68.\n",
      "  Completed iter 3800/70000. Training loss: 0.67.\n",
      "  Completed iter 3900/70000. Training loss: 0.68.\n",
      "  Completed iter 4000/70000. Training loss: 0.67.\n",
      "  Completed iter 4100/70000. Training loss: 0.67.\n",
      "  Completed iter 4200/70000. Training loss: 0.66.\n",
      "  Completed iter 4300/70000. Training loss: 0.67.\n",
      "  Completed iter 4400/70000. Training loss: 0.66.\n",
      "  Completed iter 4500/70000. Training loss: 0.66.\n",
      "  Completed iter 4600/70000. Training loss: 0.66.\n",
      "  Completed iter 4700/70000. Training loss: 0.67.\n",
      "  Completed iter 4800/70000. Training loss: 0.66.\n",
      "  Completed iter 4900/70000. Training loss: 0.66.\n",
      "  Completed iter 5000/70000. Training loss: 0.65.\n",
      "  Completed iter 5100/70000. Training loss: 0.67.\n",
      "  Completed iter 5200/70000. Training loss: 0.66.\n",
      "  Completed iter 5300/70000. Training loss: 0.65.\n",
      "  Completed iter 5400/70000. Training loss: 0.66.\n",
      "  Completed iter 5500/70000. Training loss: 0.64.\n",
      "  Completed iter 5600/70000. Training loss: 0.65.\n",
      "  Completed iter 5700/70000. Training loss: 0.64.\n",
      "  Completed iter 5800/70000. Training loss: 0.65.\n",
      "  Completed iter 5900/70000. Training loss: 0.65.\n",
      "  Completed iter 6000/70000. Training loss: 0.64.\n",
      "  Completed iter 6100/70000. Training loss: 0.63.\n",
      "  Completed iter 6200/70000. Training loss: 0.65.\n",
      "  Completed iter 6300/70000. Training loss: 0.63.\n",
      "  Completed iter 6400/70000. Training loss: 0.63.\n",
      "  Completed iter 6500/70000. Training loss: 0.63.\n",
      "  Completed iter 6600/70000. Training loss: 0.62.\n",
      "  Completed iter 6700/70000. Training loss: 0.62.\n",
      "  Completed iter 6800/70000. Training loss: 0.62.\n",
      "  Completed iter 6900/70000. Training loss: 0.63.\n",
      "  Completed iter 7000/70000. Training loss: 0.60.\n",
      "  Completed iter 7100/70000. Training loss: 0.61.\n",
      "  Completed iter 7200/70000. Training loss: 0.62.\n",
      "  Completed iter 7300/70000. Training loss: 0.60.\n",
      "  Completed iter 7400/70000. Training loss: 0.61.\n",
      "  Completed iter 7500/70000. Training loss: 0.60.\n",
      "  Completed iter 7600/70000. Training loss: 0.59.\n",
      "  Completed iter 7700/70000. Training loss: 0.58.\n",
      "  Completed iter 7800/70000. Training loss: 0.61.\n",
      "  Completed iter 7900/70000. Training loss: 0.58.\n",
      "  Completed iter 8000/70000. Training loss: 0.60.\n",
      "  Completed iter 8100/70000. Training loss: 0.57.\n",
      "  Completed iter 8200/70000. Training loss: 0.58.\n",
      "  Completed iter 8300/70000. Training loss: 0.55.\n",
      "  Completed iter 8400/70000. Training loss: 0.60.\n",
      "  Completed iter 8500/70000. Training loss: 0.58.\n",
      "  Completed iter 8600/70000. Training loss: 0.57.\n",
      "  Completed iter 8700/70000. Training loss: 0.54.\n",
      "  Completed iter 8800/70000. Training loss: 0.58.\n",
      "  Completed iter 8900/70000. Training loss: 0.57.\n",
      "  Completed iter 9000/70000. Training loss: 0.54.\n",
      "  Completed iter 9100/70000. Training loss: 0.55.\n",
      "  Completed iter 9200/70000. Training loss: 0.53.\n",
      "  Completed iter 9300/70000. Training loss: 0.54.\n",
      "  Completed iter 9400/70000. Training loss: 0.57.\n",
      "  Completed iter 9500/70000. Training loss: 0.53.\n",
      "  Completed iter 9600/70000. Training loss: 0.54.\n",
      "  Completed iter 9700/70000. Training loss: 0.51.\n",
      "  Completed iter 9800/70000. Training loss: 0.53.\n",
      "  Completed iter 9900/70000. Training loss: 0.53.\n",
      "  Completed iter 10000/70000. Training loss: 0.52.\n",
      "  Completed iter 10100/70000. Training loss: 0.52.\n",
      "  Completed iter 10200/70000. Training loss: 0.50.\n",
      "  Completed iter 10300/70000. Training loss: 0.49.\n",
      "  Completed iter 10400/70000. Training loss: 0.52.\n",
      "  Completed iter 10500/70000. Training loss: 0.54.\n",
      "  Completed iter 10600/70000. Training loss: 0.50.\n",
      "  Completed iter 10700/70000. Training loss: 0.50.\n",
      "  Completed iter 10800/70000. Training loss: 0.49.\n",
      "  Completed iter 10900/70000. Training loss: 0.44.\n",
      "  Completed iter 11000/70000. Training loss: 0.46.\n",
      "  Completed iter 11100/70000. Training loss: 0.47.\n",
      "  Completed iter 11200/70000. Training loss: 0.47.\n",
      "  Completed iter 11300/70000. Training loss: 0.46.\n",
      "  Completed iter 11400/70000. Training loss: 0.44.\n",
      "  Completed iter 11500/70000. Training loss: 0.47.\n",
      "  Completed iter 11600/70000. Training loss: 0.43.\n",
      "  Completed iter 11700/70000. Training loss: 0.44.\n",
      "  Completed iter 11800/70000. Training loss: 0.42.\n",
      "  Completed iter 11900/70000. Training loss: 0.43.\n",
      "  Completed iter 12000/70000. Training loss: 0.42.\n",
      "  Completed iter 12100/70000. Training loss: 0.46.\n",
      "  Completed iter 12200/70000. Training loss: 0.41.\n",
      "  Completed iter 12300/70000. Training loss: 0.42.\n",
      "  Completed iter 12400/70000. Training loss: 0.42.\n",
      "  Completed iter 12500/70000. Training loss: 0.43.\n",
      "  Completed iter 12600/70000. Training loss: 0.37.\n",
      "  Completed iter 12700/70000. Training loss: 0.41.\n",
      "  Completed iter 12800/70000. Training loss: 0.41.\n",
      "  Completed iter 12900/70000. Training loss: 0.40.\n",
      "  Completed iter 13000/70000. Training loss: 0.37.\n",
      "  Completed iter 13100/70000. Training loss: 0.38.\n",
      "  Completed iter 13200/70000. Training loss: 0.33.\n",
      "  Completed iter 13300/70000. Training loss: 0.39.\n",
      "  Completed iter 13400/70000. Training loss: 0.35.\n",
      "  Completed iter 13500/70000. Training loss: 0.37.\n",
      "  Completed iter 13600/70000. Training loss: 0.36.\n",
      "  Completed iter 13700/70000. Training loss: 0.33.\n",
      "  Completed iter 13800/70000. Training loss: 0.35.\n",
      "  Completed iter 13900/70000. Training loss: 0.34.\n",
      "  Completed iter 14000/70000. Training loss: 0.32.\n",
      "  Completed iter 14100/70000. Training loss: 0.34.\n",
      "  Completed iter 14200/70000. Training loss: 0.36.\n",
      "  Completed iter 14300/70000. Training loss: 0.35.\n",
      "  Completed iter 14400/70000. Training loss: 0.34.\n",
      "  Completed iter 14500/70000. Training loss: 0.32.\n",
      "  Completed iter 14600/70000. Training loss: 0.32.\n",
      "  Completed iter 14700/70000. Training loss: 0.32.\n",
      "  Completed iter 14800/70000. Training loss: 0.31.\n",
      "  Completed iter 14900/70000. Training loss: 0.33.\n",
      "  Completed iter 15000/70000. Training loss: 0.32.\n",
      "  Completed iter 15100/70000. Training loss: 0.31.\n",
      "  Completed iter 15200/70000. Training loss: 0.33.\n",
      "  Completed iter 15300/70000. Training loss: 0.30.\n",
      "  Completed iter 15400/70000. Training loss: 0.30.\n",
      "  Completed iter 15500/70000. Training loss: 0.32.\n",
      "  Completed iter 15600/70000. Training loss: 0.29.\n",
      "  Completed iter 15700/70000. Training loss: 0.32.\n",
      "  Completed iter 15800/70000. Training loss: 0.33.\n",
      "  Completed iter 15900/70000. Training loss: 0.29.\n",
      "  Completed iter 16000/70000. Training loss: 0.30.\n"
     ]
    },
    {
     "name": "stdout",
     "output_type": "stream",
     "text": [
      "  Completed iter 16100/70000. Training loss: 0.29.\n",
      "  Completed iter 16200/70000. Training loss: 0.27.\n",
      "  Completed iter 16300/70000. Training loss: 0.29.\n",
      "  Completed iter 16400/70000. Training loss: 0.32.\n",
      "  Completed iter 16500/70000. Training loss: 0.30.\n",
      "  Completed iter 16600/70000. Training loss: 0.27.\n",
      "  Completed iter 16700/70000. Training loss: 0.28.\n",
      "  Completed iter 16800/70000. Training loss: 0.24.\n",
      "  Completed iter 16900/70000. Training loss: 0.29.\n",
      "  Completed iter 17000/70000. Training loss: 0.26.\n",
      "  Completed iter 17100/70000. Training loss: 0.26.\n",
      "  Completed iter 17200/70000. Training loss: 0.30.\n",
      "  Completed iter 17300/70000. Training loss: 0.26.\n",
      "  Completed iter 17400/70000. Training loss: 0.27.\n",
      "  Completed iter 17500/70000. Training loss: 0.26.\n",
      "  Completed iter 17600/70000. Training loss: 0.29.\n",
      "  Completed iter 17700/70000. Training loss: 0.26.\n",
      "  Completed iter 17800/70000. Training loss: 0.25.\n",
      "  Completed iter 17900/70000. Training loss: 0.25.\n",
      "  Completed iter 18000/70000. Training loss: 0.24.\n",
      "  Completed iter 18100/70000. Training loss: 0.22.\n",
      "  Completed iter 18200/70000. Training loss: 0.25.\n",
      "  Completed iter 18300/70000. Training loss: 0.25.\n",
      "  Completed iter 18400/70000. Training loss: 0.28.\n",
      "  Completed iter 18500/70000. Training loss: 0.25.\n",
      "  Completed iter 18600/70000. Training loss: 0.27.\n",
      "  Completed iter 18700/70000. Training loss: 0.30.\n",
      "  Completed iter 18800/70000. Training loss: 0.23.\n",
      "  Completed iter 18900/70000. Training loss: 0.25.\n",
      "  Completed iter 19000/70000. Training loss: 0.23.\n",
      "  Completed iter 19100/70000. Training loss: 0.23.\n",
      "  Completed iter 19200/70000. Training loss: 0.23.\n",
      "  Completed iter 19300/70000. Training loss: 0.22.\n",
      "  Completed iter 19400/70000. Training loss: 0.24.\n",
      "  Completed iter 19500/70000. Training loss: 0.22.\n",
      "  Completed iter 19600/70000. Training loss: 0.19.\n",
      "  Completed iter 19700/70000. Training loss: 0.22.\n",
      "  Completed iter 19800/70000. Training loss: 0.22.\n",
      "  Completed iter 19900/70000. Training loss: 0.23.\n",
      "  Completed iter 20000/70000. Training loss: 0.23.\n",
      "  Completed iter 20100/70000. Training loss: 0.24.\n",
      "  Completed iter 20200/70000. Training loss: 0.20.\n",
      "  Completed iter 20300/70000. Training loss: 0.22.\n",
      "  Completed iter 20400/70000. Training loss: 0.22.\n",
      "  Completed iter 20500/70000. Training loss: 0.18.\n",
      "  Completed iter 20600/70000. Training loss: 0.18.\n",
      "  Completed iter 20700/70000. Training loss: 0.21.\n",
      "  Completed iter 20800/70000. Training loss: 0.22.\n",
      "  Completed iter 20900/70000. Training loss: 0.18.\n",
      "  Completed iter 21000/70000. Training loss: 0.23.\n",
      "  Completed iter 21100/70000. Training loss: 0.23.\n",
      "  Completed iter 21200/70000. Training loss: 0.22.\n",
      "  Completed iter 21300/70000. Training loss: 0.20.\n",
      "  Completed iter 21400/70000. Training loss: 0.23.\n",
      "  Completed iter 21500/70000. Training loss: 0.21.\n",
      "  Completed iter 21600/70000. Training loss: 0.23.\n",
      "  Completed iter 21700/70000. Training loss: 0.24.\n",
      "  Completed iter 21800/70000. Training loss: 0.22.\n",
      "  Completed iter 21900/70000. Training loss: 0.22.\n",
      "  Completed iter 22000/70000. Training loss: 0.19.\n",
      "  Completed iter 22100/70000. Training loss: 0.23.\n",
      "  Completed iter 22200/70000. Training loss: 0.22.\n",
      "  Completed iter 22300/70000. Training loss: 0.20.\n",
      "  Completed iter 22400/70000. Training loss: 0.19.\n",
      "  Completed iter 22500/70000. Training loss: 0.20.\n",
      "  Completed iter 22600/70000. Training loss: 0.21.\n",
      "  Completed iter 22700/70000. Training loss: 0.21.\n",
      "  Completed iter 22800/70000. Training loss: 0.17.\n",
      "  Completed iter 22900/70000. Training loss: 0.20.\n",
      "  Completed iter 23000/70000. Training loss: 0.19.\n",
      "  Completed iter 23100/70000. Training loss: 0.21.\n",
      "  Completed iter 23200/70000. Training loss: 0.21.\n",
      "  Completed iter 23300/70000. Training loss: 0.17.\n",
      "  Completed iter 23400/70000. Training loss: 0.21.\n",
      "  Completed iter 23500/70000. Training loss: 0.16.\n",
      "  Completed iter 23600/70000. Training loss: 0.20.\n",
      "  Completed iter 23700/70000. Training loss: 0.21.\n",
      "  Completed iter 23800/70000. Training loss: 0.17.\n",
      "  Completed iter 23900/70000. Training loss: 0.16.\n",
      "  Completed iter 24000/70000. Training loss: 0.16.\n",
      "  Completed iter 24100/70000. Training loss: 0.17.\n",
      "  Completed iter 24200/70000. Training loss: 0.21.\n",
      "  Completed iter 24300/70000. Training loss: 0.18.\n",
      "  Completed iter 24400/70000. Training loss: 0.14.\n",
      "  Completed iter 24500/70000. Training loss: 0.15.\n",
      "  Completed iter 24600/70000. Training loss: 0.17.\n",
      "  Completed iter 24700/70000. Training loss: 0.17.\n",
      "  Completed iter 24800/70000. Training loss: 0.19.\n",
      "  Completed iter 24900/70000. Training loss: 0.15.\n",
      "  Completed iter 25000/70000. Training loss: 0.18.\n",
      "  Completed iter 25100/70000. Training loss: 0.16.\n",
      "  Completed iter 25200/70000. Training loss: 0.18.\n",
      "  Completed iter 25300/70000. Training loss: 0.17.\n",
      "  Completed iter 25400/70000. Training loss: 0.15.\n",
      "  Completed iter 25500/70000. Training loss: 0.16.\n",
      "  Completed iter 25600/70000. Training loss: 0.18.\n",
      "  Completed iter 25700/70000. Training loss: 0.17.\n",
      "  Completed iter 25800/70000. Training loss: 0.16.\n",
      "  Completed iter 25900/70000. Training loss: 0.20.\n",
      "  Completed iter 26000/70000. Training loss: 0.17.\n",
      "  Completed iter 26100/70000. Training loss: 0.16.\n",
      "  Completed iter 26200/70000. Training loss: 0.14.\n",
      "  Completed iter 26300/70000. Training loss: 0.17.\n",
      "  Completed iter 26400/70000. Training loss: 0.17.\n",
      "  Completed iter 26500/70000. Training loss: 0.17.\n",
      "  Completed iter 26600/70000. Training loss: 0.18.\n",
      "  Completed iter 26700/70000. Training loss: 0.17.\n",
      "  Completed iter 26800/70000. Training loss: 0.18.\n",
      "  Completed iter 26900/70000. Training loss: 0.16.\n",
      "  Completed iter 27000/70000. Training loss: 0.17.\n",
      "  Completed iter 27100/70000. Training loss: 0.18.\n",
      "  Completed iter 27200/70000. Training loss: 0.18.\n",
      "  Completed iter 27300/70000. Training loss: 0.12.\n",
      "  Completed iter 27400/70000. Training loss: 0.14.\n",
      "  Completed iter 27500/70000. Training loss: 0.17.\n",
      "  Completed iter 27600/70000. Training loss: 0.17.\n",
      "  Completed iter 27700/70000. Training loss: 0.12.\n",
      "  Completed iter 27800/70000. Training loss: 0.19.\n",
      "  Completed iter 27900/70000. Training loss: 0.14.\n",
      "  Completed iter 28000/70000. Training loss: 0.17.\n",
      "  Completed iter 28100/70000. Training loss: 0.18.\n",
      "  Completed iter 28200/70000. Training loss: 0.15.\n",
      "  Completed iter 28300/70000. Training loss: 0.15.\n",
      "  Completed iter 28400/70000. Training loss: 0.14.\n",
      "  Completed iter 28500/70000. Training loss: 0.17.\n",
      "  Completed iter 28600/70000. Training loss: 0.13.\n",
      "  Completed iter 28700/70000. Training loss: 0.15.\n",
      "  Completed iter 28800/70000. Training loss: 0.13.\n",
      "  Completed iter 28900/70000. Training loss: 0.13.\n",
      "  Completed iter 29000/70000. Training loss: 0.14.\n",
      "  Completed iter 29100/70000. Training loss: 0.15.\n",
      "  Completed iter 29200/70000. Training loss: 0.17.\n",
      "  Completed iter 29300/70000. Training loss: 0.14.\n",
      "  Completed iter 29400/70000. Training loss: 0.13.\n",
      "  Completed iter 29500/70000. Training loss: 0.13.\n",
      "  Completed iter 29600/70000. Training loss: 0.18.\n",
      "  Completed iter 29700/70000. Training loss: 0.18.\n",
      "  Completed iter 29800/70000. Training loss: 0.14.\n",
      "  Completed iter 29900/70000. Training loss: 0.18.\n",
      "  Completed iter 30000/70000. Training loss: 0.14.\n",
      "  Completed iter 30100/70000. Training loss: 0.17.\n",
      "  Completed iter 30200/70000. Training loss: 0.12.\n",
      "  Completed iter 30300/70000. Training loss: 0.12.\n",
      "  Completed iter 30400/70000. Training loss: 0.14.\n",
      "  Completed iter 30500/70000. Training loss: 0.17.\n",
      "  Completed iter 30600/70000. Training loss: 0.15.\n",
      "  Completed iter 30700/70000. Training loss: 0.13.\n",
      "  Completed iter 30800/70000. Training loss: 0.13.\n",
      "  Completed iter 30900/70000. Training loss: 0.15.\n",
      "  Completed iter 31000/70000. Training loss: 0.14.\n",
      "  Completed iter 31100/70000. Training loss: 0.13.\n",
      "  Completed iter 31200/70000. Training loss: 0.11.\n",
      "  Completed iter 31300/70000. Training loss: 0.16.\n",
      "  Completed iter 31400/70000. Training loss: 0.18.\n",
      "  Completed iter 31500/70000. Training loss: 0.16.\n",
      "  Completed iter 31600/70000. Training loss: 0.13.\n",
      "  Completed iter 31700/70000. Training loss: 0.17.\n",
      "  Completed iter 31800/70000. Training loss: 0.13.\n",
      "  Completed iter 31900/70000. Training loss: 0.15.\n",
      "  Completed iter 32000/70000. Training loss: 0.15.\n",
      "  Completed iter 32100/70000. Training loss: 0.11.\n",
      "  Completed iter 32200/70000. Training loss: 0.15.\n"
     ]
    },
    {
     "name": "stdout",
     "output_type": "stream",
     "text": [
      "  Completed iter 32300/70000. Training loss: 0.16.\n",
      "  Completed iter 32400/70000. Training loss: 0.11.\n",
      "  Completed iter 32500/70000. Training loss: 0.14.\n",
      "  Completed iter 32600/70000. Training loss: 0.14.\n",
      "  Completed iter 32700/70000. Training loss: 0.13.\n",
      "  Completed iter 32800/70000. Training loss: 0.12.\n",
      "  Completed iter 32900/70000. Training loss: 0.13.\n",
      "  Completed iter 33000/70000. Training loss: 0.15.\n",
      "  Completed iter 33100/70000. Training loss: 0.11.\n",
      "  Completed iter 33200/70000. Training loss: 0.10.\n",
      "  Completed iter 33300/70000. Training loss: 0.09.\n",
      "  Completed iter 33400/70000. Training loss: 0.13.\n",
      "  Completed iter 33500/70000. Training loss: 0.13.\n",
      "  Completed iter 33600/70000. Training loss: 0.12.\n",
      "  Completed iter 33700/70000. Training loss: 0.15.\n",
      "  Completed iter 33800/70000. Training loss: 0.16.\n",
      "  Completed iter 33900/70000. Training loss: 0.10.\n",
      "  Completed iter 34000/70000. Training loss: 0.12.\n",
      "  Completed iter 34100/70000. Training loss: 0.14.\n",
      "  Completed iter 34200/70000. Training loss: 0.10.\n",
      "  Completed iter 34300/70000. Training loss: 0.13.\n",
      "  Completed iter 34400/70000. Training loss: 0.12.\n",
      "  Completed iter 34500/70000. Training loss: 0.14.\n",
      "  Completed iter 34600/70000. Training loss: 0.11.\n",
      "  Completed iter 34700/70000. Training loss: 0.12.\n",
      "  Completed iter 34800/70000. Training loss: 0.13.\n",
      "  Completed iter 34900/70000. Training loss: 0.12.\n",
      "  Completed iter 35000/70000. Training loss: 0.12.\n",
      "  Completed iter 35100/70000. Training loss: 0.16.\n",
      "  Completed iter 35200/70000. Training loss: 0.16.\n",
      "  Completed iter 35300/70000. Training loss: 0.12.\n",
      "  Completed iter 35400/70000. Training loss: 0.14.\n",
      "  Completed iter 35500/70000. Training loss: 0.13.\n",
      "  Completed iter 35600/70000. Training loss: 0.12.\n",
      "  Completed iter 35700/70000. Training loss: 0.13.\n",
      "  Completed iter 35800/70000. Training loss: 0.13.\n",
      "  Completed iter 35900/70000. Training loss: 0.13.\n",
      "  Completed iter 36000/70000. Training loss: 0.09.\n",
      "  Completed iter 36100/70000. Training loss: 0.12.\n",
      "  Completed iter 36200/70000. Training loss: 0.14.\n",
      "  Completed iter 36300/70000. Training loss: 0.09.\n",
      "  Completed iter 36400/70000. Training loss: 0.16.\n",
      "  Completed iter 36500/70000. Training loss: 0.12.\n",
      "  Completed iter 36600/70000. Training loss: 0.13.\n",
      "  Completed iter 36700/70000. Training loss: 0.12.\n",
      "  Completed iter 36800/70000. Training loss: 0.15.\n",
      "  Completed iter 36900/70000. Training loss: 0.11.\n",
      "  Completed iter 37000/70000. Training loss: 0.11.\n",
      "  Completed iter 37100/70000. Training loss: 0.10.\n",
      "  Completed iter 37200/70000. Training loss: 0.10.\n",
      "  Completed iter 37300/70000. Training loss: 0.10.\n",
      "  Completed iter 37400/70000. Training loss: 0.12.\n",
      "  Completed iter 37500/70000. Training loss: 0.11.\n",
      "  Completed iter 37600/70000. Training loss: 0.11.\n",
      "  Completed iter 37700/70000. Training loss: 0.11.\n",
      "  Completed iter 37800/70000. Training loss: 0.10.\n",
      "  Completed iter 37900/70000. Training loss: 0.12.\n",
      "  Completed iter 38000/70000. Training loss: 0.14.\n",
      "  Completed iter 38100/70000. Training loss: 0.13.\n",
      "  Completed iter 38200/70000. Training loss: 0.11.\n",
      "  Completed iter 38300/70000. Training loss: 0.11.\n",
      "  Completed iter 38400/70000. Training loss: 0.14.\n",
      "  Completed iter 38500/70000. Training loss: 0.12.\n",
      "  Completed iter 38600/70000. Training loss: 0.13.\n",
      "  Completed iter 38700/70000. Training loss: 0.12.\n",
      "  Completed iter 38800/70000. Training loss: 0.11.\n",
      "  Completed iter 38900/70000. Training loss: 0.14.\n",
      "  Completed iter 39000/70000. Training loss: 0.12.\n",
      "  Completed iter 39100/70000. Training loss: 0.12.\n",
      "  Completed iter 39200/70000. Training loss: 0.11.\n",
      "  Completed iter 39300/70000. Training loss: 0.13.\n",
      "  Completed iter 39400/70000. Training loss: 0.11.\n",
      "  Completed iter 39500/70000. Training loss: 0.11.\n",
      "  Completed iter 39600/70000. Training loss: 0.11.\n",
      "  Completed iter 39700/70000. Training loss: 0.11.\n",
      "  Completed iter 39800/70000. Training loss: 0.12.\n",
      "  Completed iter 39900/70000. Training loss: 0.10.\n",
      "  Completed iter 40000/70000. Training loss: 0.13.\n",
      "  Completed iter 40100/70000. Training loss: 0.12.\n",
      "  Completed iter 40200/70000. Training loss: 0.12.\n",
      "  Completed iter 40300/70000. Training loss: 0.12.\n",
      "  Completed iter 40400/70000. Training loss: 0.12.\n",
      "  Completed iter 40500/70000. Training loss: 0.09.\n",
      "  Completed iter 40600/70000. Training loss: 0.15.\n",
      "  Completed iter 40700/70000. Training loss: 0.11.\n",
      "  Completed iter 40800/70000. Training loss: 0.12.\n",
      "  Completed iter 40900/70000. Training loss: 0.14.\n",
      "  Completed iter 41000/70000. Training loss: 0.14.\n",
      "  Completed iter 41100/70000. Training loss: 0.13.\n",
      "  Completed iter 41200/70000. Training loss: 0.10.\n",
      "  Completed iter 41300/70000. Training loss: 0.16.\n",
      "  Completed iter 41400/70000. Training loss: 0.15.\n",
      "  Completed iter 41500/70000. Training loss: 0.15.\n",
      "  Completed iter 41600/70000. Training loss: 0.12.\n",
      "  Completed iter 41700/70000. Training loss: 0.12.\n",
      "  Completed iter 41800/70000. Training loss: 0.08.\n",
      "  Completed iter 41900/70000. Training loss: 0.10.\n",
      "  Completed iter 42000/70000. Training loss: 0.10.\n",
      "  Completed iter 42100/70000. Training loss: 0.14.\n",
      "  Completed iter 42200/70000. Training loss: 0.13.\n",
      "  Completed iter 42300/70000. Training loss: 0.12.\n",
      "  Completed iter 42400/70000. Training loss: 0.13.\n",
      "  Completed iter 42500/70000. Training loss: 0.11.\n",
      "  Completed iter 42600/70000. Training loss: 0.12.\n",
      "  Completed iter 42700/70000. Training loss: 0.10.\n",
      "  Completed iter 42800/70000. Training loss: 0.10.\n",
      "  Completed iter 42900/70000. Training loss: 0.08.\n",
      "  Completed iter 43000/70000. Training loss: 0.10.\n",
      "  Completed iter 43100/70000. Training loss: 0.10.\n",
      "  Completed iter 43200/70000. Training loss: 0.14.\n",
      "  Completed iter 43300/70000. Training loss: 0.10.\n",
      "  Completed iter 43400/70000. Training loss: 0.12.\n",
      "  Completed iter 43500/70000. Training loss: 0.09.\n",
      "  Completed iter 43600/70000. Training loss: 0.12.\n",
      "  Completed iter 43700/70000. Training loss: 0.10.\n",
      "  Completed iter 43800/70000. Training loss: 0.08.\n",
      "  Completed iter 43900/70000. Training loss: 0.09.\n",
      "  Completed iter 44000/70000. Training loss: 0.11.\n",
      "  Completed iter 44100/70000. Training loss: 0.13.\n",
      "  Completed iter 44200/70000. Training loss: 0.13.\n",
      "  Completed iter 44300/70000. Training loss: 0.13.\n",
      "  Completed iter 44400/70000. Training loss: 0.11.\n",
      "  Completed iter 44500/70000. Training loss: 0.09.\n",
      "  Completed iter 44600/70000. Training loss: 0.11.\n",
      "  Completed iter 44700/70000. Training loss: 0.08.\n",
      "  Completed iter 44800/70000. Training loss: 0.13.\n",
      "  Completed iter 44900/70000. Training loss: 0.14.\n",
      "  Completed iter 45000/70000. Training loss: 0.11.\n",
      "  Completed iter 45100/70000. Training loss: 0.14.\n",
      "  Completed iter 45200/70000. Training loss: 0.11.\n",
      "  Completed iter 45300/70000. Training loss: 0.10.\n",
      "  Completed iter 45400/70000. Training loss: 0.10.\n",
      "  Completed iter 45500/70000. Training loss: 0.10.\n",
      "  Completed iter 45600/70000. Training loss: 0.09.\n",
      "  Completed iter 45700/70000. Training loss: 0.06.\n",
      "  Completed iter 45800/70000. Training loss: 0.11.\n",
      "  Completed iter 45900/70000. Training loss: 0.09.\n",
      "  Completed iter 46000/70000. Training loss: 0.10.\n",
      "  Completed iter 46100/70000. Training loss: 0.11.\n",
      "  Completed iter 46200/70000. Training loss: 0.11.\n",
      "  Completed iter 46300/70000. Training loss: 0.11.\n",
      "  Completed iter 46400/70000. Training loss: 0.08.\n",
      "  Completed iter 46500/70000. Training loss: 0.13.\n",
      "  Completed iter 46600/70000. Training loss: 0.11.\n",
      "  Completed iter 46700/70000. Training loss: 0.07.\n",
      "  Completed iter 46800/70000. Training loss: 0.10.\n",
      "  Completed iter 46900/70000. Training loss: 0.13.\n",
      "  Completed iter 47000/70000. Training loss: 0.09.\n",
      "  Completed iter 47100/70000. Training loss: 0.06.\n",
      "  Completed iter 47200/70000. Training loss: 0.09.\n",
      "  Completed iter 47300/70000. Training loss: 0.14.\n",
      "  Completed iter 47400/70000. Training loss: 0.09.\n",
      "  Completed iter 47500/70000. Training loss: 0.13.\n",
      "  Completed iter 47600/70000. Training loss: 0.11.\n",
      "  Completed iter 47700/70000. Training loss: 0.11.\n",
      "  Completed iter 47800/70000. Training loss: 0.08.\n",
      "  Completed iter 47900/70000. Training loss: 0.08.\n",
      "  Completed iter 48000/70000. Training loss: 0.10.\n",
      "  Completed iter 48100/70000. Training loss: 0.12.\n",
      "  Completed iter 48200/70000. Training loss: 0.12.\n",
      "  Completed iter 48300/70000. Training loss: 0.11.\n",
      "  Completed iter 48400/70000. Training loss: 0.14.\n"
     ]
    },
    {
     "name": "stdout",
     "output_type": "stream",
     "text": [
      "  Completed iter 48500/70000. Training loss: 0.08.\n",
      "  Completed iter 48600/70000. Training loss: 0.07.\n",
      "  Completed iter 48700/70000. Training loss: 0.09.\n",
      "  Completed iter 48800/70000. Training loss: 0.10.\n",
      "  Completed iter 48900/70000. Training loss: 0.12.\n",
      "  Completed iter 49000/70000. Training loss: 0.14.\n",
      "  Completed iter 49100/70000. Training loss: 0.11.\n",
      "  Completed iter 49200/70000. Training loss: 0.08.\n",
      "  Completed iter 49300/70000. Training loss: 0.11.\n",
      "  Completed iter 49400/70000. Training loss: 0.10.\n",
      "  Completed iter 49500/70000. Training loss: 0.09.\n",
      "  Completed iter 49600/70000. Training loss: 0.07.\n",
      "  Completed iter 49700/70000. Training loss: 0.09.\n",
      "  Completed iter 49800/70000. Training loss: 0.10.\n",
      "  Completed iter 49900/70000. Training loss: 0.11.\n",
      "  Completed iter 50000/70000. Training loss: 0.09.\n",
      "  Completed iter 50100/70000. Training loss: 0.10.\n",
      "  Completed iter 50200/70000. Training loss: 0.08.\n",
      "  Completed iter 50300/70000. Training loss: 0.11.\n",
      "  Completed iter 50400/70000. Training loss: 0.11.\n",
      "  Completed iter 50500/70000. Training loss: 0.09.\n",
      "  Completed iter 50600/70000. Training loss: 0.11.\n",
      "  Completed iter 50700/70000. Training loss: 0.07.\n",
      "  Completed iter 50800/70000. Training loss: 0.10.\n",
      "  Completed iter 50900/70000. Training loss: 0.09.\n",
      "  Completed iter 51000/70000. Training loss: 0.10.\n",
      "  Completed iter 51100/70000. Training loss: 0.07.\n",
      "  Completed iter 51200/70000. Training loss: 0.10.\n",
      "  Completed iter 51300/70000. Training loss: 0.07.\n",
      "  Completed iter 51400/70000. Training loss: 0.07.\n",
      "  Completed iter 51500/70000. Training loss: 0.09.\n",
      "  Completed iter 51600/70000. Training loss: 0.07.\n",
      "  Completed iter 51700/70000. Training loss: 0.07.\n",
      "  Completed iter 51800/70000. Training loss: 0.09.\n",
      "  Completed iter 51900/70000. Training loss: 0.12.\n",
      "  Completed iter 52000/70000. Training loss: 0.08.\n",
      "  Completed iter 52100/70000. Training loss: 0.11.\n",
      "  Completed iter 52200/70000. Training loss: 0.13.\n",
      "  Completed iter 52300/70000. Training loss: 0.08.\n",
      "  Completed iter 52400/70000. Training loss: 0.12.\n",
      "  Completed iter 52500/70000. Training loss: 0.10.\n",
      "  Completed iter 52600/70000. Training loss: 0.09.\n",
      "  Completed iter 52700/70000. Training loss: 0.08.\n",
      "  Completed iter 52800/70000. Training loss: 0.12.\n",
      "  Completed iter 52900/70000. Training loss: 0.08.\n",
      "  Completed iter 53000/70000. Training loss: 0.07.\n",
      "  Completed iter 53100/70000. Training loss: 0.07.\n",
      "  Completed iter 53200/70000. Training loss: 0.08.\n",
      "  Completed iter 53300/70000. Training loss: 0.10.\n",
      "  Completed iter 53400/70000. Training loss: 0.10.\n",
      "  Completed iter 53500/70000. Training loss: 0.09.\n",
      "  Completed iter 53600/70000. Training loss: 0.11.\n",
      "  Completed iter 53700/70000. Training loss: 0.10.\n",
      "  Completed iter 53800/70000. Training loss: 0.08.\n",
      "  Completed iter 53900/70000. Training loss: 0.10.\n",
      "  Completed iter 54000/70000. Training loss: 0.09.\n",
      "  Completed iter 54100/70000. Training loss: 0.08.\n",
      "  Completed iter 54200/70000. Training loss: 0.10.\n",
      "  Completed iter 54300/70000. Training loss: 0.07.\n",
      "  Completed iter 54400/70000. Training loss: 0.08.\n",
      "  Completed iter 54500/70000. Training loss: 0.10.\n",
      "  Completed iter 54600/70000. Training loss: 0.08.\n",
      "  Completed iter 54700/70000. Training loss: 0.08.\n",
      "  Completed iter 54800/70000. Training loss: 0.10.\n",
      "  Completed iter 54900/70000. Training loss: 0.11.\n",
      "  Completed iter 55000/70000. Training loss: 0.08.\n",
      "  Completed iter 55100/70000. Training loss: 0.09.\n",
      "  Completed iter 55200/70000. Training loss: 0.07.\n",
      "  Completed iter 55300/70000. Training loss: 0.08.\n",
      "  Completed iter 55400/70000. Training loss: 0.11.\n",
      "  Completed iter 55500/70000. Training loss: 0.11.\n",
      "  Completed iter 55600/70000. Training loss: 0.07.\n",
      "  Completed iter 55700/70000. Training loss: 0.09.\n",
      "  Completed iter 55800/70000. Training loss: 0.12.\n",
      "  Completed iter 55900/70000. Training loss: 0.08.\n",
      "  Completed iter 56000/70000. Training loss: 0.08.\n",
      "  Completed iter 56100/70000. Training loss: 0.08.\n",
      "  Completed iter 56200/70000. Training loss: 0.09.\n",
      "  Completed iter 56300/70000. Training loss: 0.13.\n",
      "  Completed iter 56400/70000. Training loss: 0.12.\n",
      "  Completed iter 56500/70000. Training loss: 0.07.\n",
      "  Completed iter 56600/70000. Training loss: 0.09.\n",
      "  Completed iter 56700/70000. Training loss: 0.09.\n",
      "  Completed iter 56800/70000. Training loss: 0.09.\n",
      "  Completed iter 56900/70000. Training loss: 0.12.\n",
      "  Completed iter 57000/70000. Training loss: 0.06.\n",
      "  Completed iter 57100/70000. Training loss: 0.07.\n",
      "  Completed iter 57200/70000. Training loss: 0.08.\n",
      "  Completed iter 57300/70000. Training loss: 0.09.\n",
      "  Completed iter 57400/70000. Training loss: 0.10.\n",
      "  Completed iter 57500/70000. Training loss: 0.07.\n",
      "  Completed iter 57600/70000. Training loss: 0.09.\n",
      "  Completed iter 57700/70000. Training loss: 0.06.\n",
      "  Completed iter 57800/70000. Training loss: 0.07.\n",
      "  Completed iter 57900/70000. Training loss: 0.07.\n",
      "  Completed iter 58000/70000. Training loss: 0.05.\n",
      "  Completed iter 58100/70000. Training loss: 0.10.\n",
      "  Completed iter 58200/70000. Training loss: 0.09.\n",
      "  Completed iter 58300/70000. Training loss: 0.07.\n",
      "  Completed iter 58400/70000. Training loss: 0.10.\n",
      "  Completed iter 58500/70000. Training loss: 0.12.\n",
      "  Completed iter 58600/70000. Training loss: 0.09.\n",
      "  Completed iter 58700/70000. Training loss: 0.08.\n",
      "  Completed iter 58800/70000. Training loss: 0.12.\n",
      "  Completed iter 58900/70000. Training loss: 0.11.\n",
      "  Completed iter 59000/70000. Training loss: 0.09.\n",
      "  Completed iter 59100/70000. Training loss: 0.10.\n",
      "  Completed iter 59200/70000. Training loss: 0.09.\n",
      "  Completed iter 59300/70000. Training loss: 0.10.\n",
      "  Completed iter 59400/70000. Training loss: 0.09.\n",
      "  Completed iter 59500/70000. Training loss: 0.07.\n",
      "  Completed iter 59600/70000. Training loss: 0.08.\n",
      "  Completed iter 59700/70000. Training loss: 0.09.\n",
      "  Completed iter 59800/70000. Training loss: 0.10.\n",
      "  Completed iter 59900/70000. Training loss: 0.06.\n",
      "  Completed iter 60000/70000. Training loss: 0.08.\n",
      "  Completed iter 60100/70000. Training loss: 0.08.\n",
      "  Completed iter 60200/70000. Training loss: 0.07.\n",
      "  Completed iter 60300/70000. Training loss: 0.06.\n",
      "  Completed iter 60400/70000. Training loss: 0.09.\n",
      "  Completed iter 60500/70000. Training loss: 0.07.\n",
      "  Completed iter 60600/70000. Training loss: 0.09.\n",
      "  Completed iter 60700/70000. Training loss: 0.09.\n",
      "  Completed iter 60800/70000. Training loss: 0.05.\n",
      "  Completed iter 60900/70000. Training loss: 0.12.\n",
      "  Completed iter 61000/70000. Training loss: 0.06.\n",
      "  Completed iter 61100/70000. Training loss: 0.06.\n",
      "  Completed iter 61200/70000. Training loss: 0.09.\n",
      "  Completed iter 61300/70000. Training loss: 0.07.\n",
      "  Completed iter 61400/70000. Training loss: 0.10.\n",
      "  Completed iter 61500/70000. Training loss: 0.09.\n",
      "  Completed iter 61600/70000. Training loss: 0.05.\n",
      "  Completed iter 61700/70000. Training loss: 0.08.\n",
      "  Completed iter 61800/70000. Training loss: 0.08.\n",
      "  Completed iter 61900/70000. Training loss: 0.10.\n",
      "  Completed iter 62000/70000. Training loss: 0.09.\n",
      "  Completed iter 62100/70000. Training loss: 0.08.\n",
      "  Completed iter 62200/70000. Training loss: 0.08.\n",
      "  Completed iter 62300/70000. Training loss: 0.10.\n",
      "  Completed iter 62400/70000. Training loss: 0.07.\n",
      "  Completed iter 62500/70000. Training loss: 0.07.\n",
      "  Completed iter 62600/70000. Training loss: 0.09.\n",
      "  Completed iter 62700/70000. Training loss: 0.08.\n",
      "  Completed iter 62800/70000. Training loss: 0.09.\n",
      "  Completed iter 62900/70000. Training loss: 0.09.\n",
      "  Completed iter 63000/70000. Training loss: 0.07.\n",
      "  Completed iter 63100/70000. Training loss: 0.08.\n",
      "  Completed iter 63200/70000. Training loss: 0.09.\n",
      "  Completed iter 63300/70000. Training loss: 0.08.\n",
      "  Completed iter 63400/70000. Training loss: 0.07.\n",
      "  Completed iter 63500/70000. Training loss: 0.09.\n",
      "  Completed iter 63600/70000. Training loss: 0.12.\n",
      "  Completed iter 63700/70000. Training loss: 0.11.\n",
      "  Completed iter 63800/70000. Training loss: 0.08.\n",
      "  Completed iter 63900/70000. Training loss: 0.06.\n",
      "  Completed iter 64000/70000. Training loss: 0.06.\n",
      "  Completed iter 64100/70000. Training loss: 0.08.\n",
      "  Completed iter 64200/70000. Training loss: 0.08.\n",
      "  Completed iter 64300/70000. Training loss: 0.10.\n",
      "  Completed iter 64400/70000. Training loss: 0.08.\n",
      "  Completed iter 64500/70000. Training loss: 0.07.\n",
      "  Completed iter 64600/70000. Training loss: 0.10.\n"
     ]
    },
    {
     "name": "stdout",
     "output_type": "stream",
     "text": [
      "  Completed iter 64700/70000. Training loss: 0.07.\n",
      "  Completed iter 64800/70000. Training loss: 0.07.\n",
      "  Completed iter 64900/70000. Training loss: 0.09.\n",
      "  Completed iter 65000/70000. Training loss: 0.09.\n",
      "  Completed iter 65100/70000. Training loss: 0.08.\n",
      "  Completed iter 65200/70000. Training loss: 0.05.\n",
      "  Completed iter 65300/70000. Training loss: 0.08.\n",
      "  Completed iter 65400/70000. Training loss: 0.07.\n",
      "  Completed iter 65500/70000. Training loss: 0.06.\n",
      "  Completed iter 65600/70000. Training loss: 0.09.\n",
      "  Completed iter 65700/70000. Training loss: 0.08.\n",
      "  Completed iter 65800/70000. Training loss: 0.07.\n",
      "  Completed iter 65900/70000. Training loss: 0.09.\n",
      "  Completed iter 66000/70000. Training loss: 0.08.\n",
      "  Completed iter 66100/70000. Training loss: 0.07.\n",
      "  Completed iter 66200/70000. Training loss: 0.04.\n",
      "  Completed iter 66300/70000. Training loss: 0.07.\n",
      "  Completed iter 66400/70000. Training loss: 0.08.\n",
      "  Completed iter 66500/70000. Training loss: 0.07.\n",
      "  Completed iter 66600/70000. Training loss: 0.09.\n",
      "  Completed iter 66700/70000. Training loss: 0.06.\n",
      "  Completed iter 66800/70000. Training loss: 0.10.\n",
      "  Completed iter 66900/70000. Training loss: 0.09.\n",
      "  Completed iter 67000/70000. Training loss: 0.07.\n",
      "  Completed iter 67100/70000. Training loss: 0.07.\n",
      "  Completed iter 67200/70000. Training loss: 0.09.\n",
      "  Completed iter 67300/70000. Training loss: 0.06.\n",
      "  Completed iter 67400/70000. Training loss: 0.07.\n",
      "  Completed iter 67500/70000. Training loss: 0.09.\n",
      "  Completed iter 67600/70000. Training loss: 0.08.\n",
      "  Completed iter 67700/70000. Training loss: 0.09.\n",
      "  Completed iter 67800/70000. Training loss: 0.07.\n",
      "  Completed iter 67900/70000. Training loss: 0.11.\n",
      "  Completed iter 68000/70000. Training loss: 0.11.\n",
      "  Completed iter 68100/70000. Training loss: 0.08.\n",
      "  Completed iter 68200/70000. Training loss: 0.09.\n",
      "  Completed iter 68300/70000. Training loss: 0.08.\n",
      "  Completed iter 68400/70000. Training loss: 0.08.\n",
      "  Completed iter 68500/70000. Training loss: 0.09.\n",
      "  Completed iter 68600/70000. Training loss: 0.09.\n",
      "  Completed iter 68700/70000. Training loss: 0.08.\n",
      "  Completed iter 68800/70000. Training loss: 0.07.\n",
      "  Completed iter 68900/70000. Training loss: 0.06.\n",
      "  Completed iter 69000/70000. Training loss: 0.05.\n",
      "  Completed iter 69100/70000. Training loss: 0.09.\n",
      "  Completed iter 69200/70000. Training loss: 0.06.\n",
      "  Completed iter 69300/70000. Training loss: 0.06.\n",
      "  Completed iter 69400/70000. Training loss: 0.12.\n",
      "  Completed iter 69500/70000. Training loss: 0.07.\n",
      "  Completed iter 69600/70000. Training loss: 0.08.\n",
      "  Completed iter 69700/70000. Training loss: 0.08.\n",
      "  Completed iter 69800/70000. Training loss: 0.09.\n",
      "  Completed iter 69900/70000. Training loss: 0.07.\n",
      "Finished training!\n"
     ]
    },
    {
     "data": {
      "image/png": "[encoded data removed]",
      "text/plain": [
       "<Figure size 432x288 with 1 Axes>"
      ]
     },
     "metadata": {
      "needs_background": "light"
     },
     "output_type": "display_data"
    }
   ],
   "source": [
    "# train = test\n",
    "hidden_size = 50\n",
    "net = MLP(cis_train_x.shape[1], hidden_size, 2)\n",
    "loss, acc_t, acc_v = net.fit(cis_test_x, cis_test_y, cis_val_x, cis_val_y, reg=0, lr=0.01, mini_batch_sz=100, n_epochs=700)\n",
    "\n",
    "plt.plot(loss)\n",
    "plt.xlabel('Iteration')\n",
    "plt.ylabel('Avg cross-entropy Loss')\n",
    "plt.show()"
   ]
  },
  {
   "cell_type": "code",
   "execution_count": 45,
   "metadata": {},
   "outputs": [
    {
     "data": {
      "text/plain": [
       "array([1, 1, 1, ..., 0, 0, 0])"
      ]
     },
     "execution_count": 45,
     "metadata": {},
     "output_type": "execute_result"
    }
   ],
   "source": [
    "cis_test_y_pred"
   ]
  },
  {
   "cell_type": "markdown",
   "metadata": {},
   "source": [
    "**TODO**: Run the below cell after training and generate the CIS plot. You should see a well-defined circle inside a square region."
   ]
  },
  {
   "cell_type": "code",
   "execution_count": 48,
   "metadata": {},
   "outputs": [
    {
     "data": {
      "image/png": "[encoded data removed]",
      "text/plain": [
       "<Figure size 432x288 with 1 Axes>"
      ]
     },
     "metadata": {
      "needs_background": "light"
     },
     "output_type": "display_data"
    }
   ],
   "source": [
    "cis_test_y_pred = net.predict(cis_test_x)\n",
    "plt.scatter(cis_test_x[:,0], cis_test_x[:,1], c=cis_test_y_pred)\n",
    "plt.axis('equal')\n",
    "plt.show()"
   ]
  },
  {
   "cell_type": "markdown",
   "metadata": {},
   "source": [
    "**Second test case where training data != test data:** You should see a jagged polygon approximation to a circle inside a square region. "
   ]
  },
  {
   "cell_type": "code",
   "execution_count": 49,
   "metadata": {},
   "outputs": [
    {
     "name": "stdout",
     "output_type": "stream",
     "text": [
      "Starting to train network...There will be 10000 epochs and 10000 iterations total, 1 iter/epoch.\n",
      "  Completed iter 0/10000. Training loss: 0.70.\n",
      "  Completed iter 100/10000. Training loss: 0.70.\n",
      "  Completed iter 200/10000. Training loss: 0.70.\n",
      "  Completed iter 300/10000. Training loss: 0.67.\n",
      "  Completed iter 400/10000. Training loss: 0.69.\n",
      "  Completed iter 500/10000. Training loss: 0.68.\n",
      "  Completed iter 600/10000. Training loss: 0.67.\n",
      "  Completed iter 700/10000. Training loss: 0.68.\n",
      "  Completed iter 800/10000. Training loss: 0.69.\n",
      "  Completed iter 900/10000. Training loss: 0.69.\n",
      "  Completed iter 1000/10000. Training loss: 0.68.\n",
      "  Completed iter 1100/10000. Training loss: 0.68.\n",
      "  Completed iter 1200/10000. Training loss: 0.70.\n",
      "  Completed iter 1300/10000. Training loss: 0.68.\n",
      "  Completed iter 1400/10000. Training loss: 0.68.\n",
      "  Completed iter 1500/10000. Training loss: 0.67.\n",
      "  Completed iter 1600/10000. Training loss: 0.68.\n",
      "  Completed iter 1700/10000. Training loss: 0.69.\n",
      "  Completed iter 1800/10000. Training loss: 0.69.\n",
      "  Completed iter 1900/10000. Training loss: 0.70.\n",
      "  Completed iter 2000/10000. Training loss: 0.66.\n",
      "  Completed iter 2100/10000. Training loss: 0.66.\n",
      "  Completed iter 2200/10000. Training loss: 0.67.\n",
      "  Completed iter 2300/10000. Training loss: 0.67.\n",
      "  Completed iter 2400/10000. Training loss: 0.67.\n",
      "  Completed iter 2500/10000. Training loss: 0.69.\n",
      "  Completed iter 2600/10000. Training loss: 0.68.\n",
      "  Completed iter 2700/10000. Training loss: 0.67.\n",
      "  Completed iter 2800/10000. Training loss: 0.68.\n",
      "  Completed iter 2900/10000. Training loss: 0.67.\n",
      "  Completed iter 3000/10000. Training loss: 0.68.\n",
      "  Completed iter 3100/10000. Training loss: 0.69.\n",
      "  Completed iter 3200/10000. Training loss: 0.68.\n",
      "  Completed iter 3300/10000. Training loss: 0.66.\n",
      "  Completed iter 3400/10000. Training loss: 0.67.\n",
      "  Completed iter 3500/10000. Training loss: 0.67.\n",
      "  Completed iter 3600/10000. Training loss: 0.67.\n",
      "  Completed iter 3700/10000. Training loss: 0.68.\n",
      "  Completed iter 3800/10000. Training loss: 0.67.\n",
      "  Completed iter 3900/10000. Training loss: 0.66.\n",
      "  Completed iter 4000/10000. Training loss: 0.66.\n",
      "  Completed iter 4100/10000. Training loss: 0.67.\n",
      "  Completed iter 4200/10000. Training loss: 0.70.\n",
      "  Completed iter 4300/10000. Training loss: 0.64.\n",
      "  Completed iter 4400/10000. Training loss: 0.67.\n",
      "  Completed iter 4500/10000. Training loss: 0.65.\n",
      "  Completed iter 4600/10000. Training loss: 0.66.\n",
      "  Completed iter 4700/10000. Training loss: 0.66.\n",
      "  Completed iter 4800/10000. Training loss: 0.66.\n",
      "  Completed iter 4900/10000. Training loss: 0.63.\n",
      "  Completed iter 5000/10000. Training loss: 0.61.\n",
      "  Completed iter 5100/10000. Training loss: 0.65.\n",
      "  Completed iter 5200/10000. Training loss: 0.69.\n",
      "  Completed iter 5300/10000. Training loss: 0.69.\n",
      "  Completed iter 5400/10000. Training loss: 0.64.\n",
      "  Completed iter 5500/10000. Training loss: 0.64.\n",
      "  Completed iter 5600/10000. Training loss: 0.66.\n",
      "  Completed iter 5700/10000. Training loss: 0.65.\n",
      "  Completed iter 5800/10000. Training loss: 0.62.\n",
      "  Completed iter 5900/10000. Training loss: 0.61.\n",
      "  Completed iter 6000/10000. Training loss: 0.66.\n",
      "  Completed iter 6100/10000. Training loss: 0.64.\n",
      "  Completed iter 6200/10000. Training loss: 0.63.\n",
      "  Completed iter 6300/10000. Training loss: 0.63.\n",
      "  Completed iter 6400/10000. Training loss: 0.62.\n",
      "  Completed iter 6500/10000. Training loss: 0.62.\n",
      "  Completed iter 6600/10000. Training loss: 0.64.\n",
      "  Completed iter 6700/10000. Training loss: 0.59.\n",
      "  Completed iter 6800/10000. Training loss: 0.64.\n",
      "  Completed iter 6900/10000. Training loss: 0.62.\n",
      "  Completed iter 7000/10000. Training loss: 0.63.\n",
      "  Completed iter 7100/10000. Training loss: 0.57.\n",
      "  Completed iter 7200/10000. Training loss: 0.58.\n",
      "  Completed iter 7300/10000. Training loss: 0.59.\n",
      "  Completed iter 7400/10000. Training loss: 0.58.\n",
      "  Completed iter 7500/10000. Training loss: 0.61.\n",
      "  Completed iter 7600/10000. Training loss: 0.60.\n",
      "  Completed iter 7700/10000. Training loss: 0.60.\n",
      "  Completed iter 7800/10000. Training loss: 0.57.\n",
      "  Completed iter 7900/10000. Training loss: 0.60.\n",
      "  Completed iter 8000/10000. Training loss: 0.61.\n",
      "  Completed iter 8100/10000. Training loss: 0.59.\n",
      "  Completed iter 8200/10000. Training loss: 0.55.\n",
      "  Completed iter 8300/10000. Training loss: 0.59.\n",
      "  Completed iter 8400/10000. Training loss: 0.56.\n",
      "  Completed iter 8500/10000. Training loss: 0.56.\n",
      "  Completed iter 8600/10000. Training loss: 0.59.\n",
      "  Completed iter 8700/10000. Training loss: 0.56.\n",
      "  Completed iter 8800/10000. Training loss: 0.52.\n",
      "  Completed iter 8900/10000. Training loss: 0.54.\n",
      "  Completed iter 9000/10000. Training loss: 0.53.\n",
      "  Completed iter 9100/10000. Training loss: 0.56.\n",
      "  Completed iter 9200/10000. Training loss: 0.53.\n",
      "  Completed iter 9300/10000. Training loss: 0.51.\n",
      "  Completed iter 9400/10000. Training loss: 0.54.\n",
      "  Completed iter 9500/10000. Training loss: 0.54.\n",
      "  Completed iter 9600/10000. Training loss: 0.52.\n",
      "  Completed iter 9700/10000. Training loss: 0.54.\n",
      "  Completed iter 9800/10000. Training loss: 0.52.\n",
      "  Completed iter 9900/10000. Training loss: 0.52.\n",
      "Finished training!\n"
     ]
    },
    {
     "data": {
      "image/png": "[encoded data removed]",
      "text/plain": [
       "<Figure size 432x288 with 1 Axes>"
      ]
     },
     "metadata": {
      "needs_background": "light"
     },
     "output_type": "display_data"
    }
   ],
   "source": [
    "# train != test\n",
    "net = MLP(cis_train_x.shape[1], hidden_size, 2)\n",
    "loss, acc_t, acc_v = net.fit(cis_train_x, cis_train_y, cis_val_x, cis_val_y, reg=0, lr=0.01, mini_batch_sz=len(cis_train_x), n_epochs=10000)\n",
    "\n",
    "plt.plot(loss)\n",
    "plt.xlabel('Iteration')\n",
    "plt.ylabel('Avg cross-entropy Loss')\n",
    "plt.show()"
   ]
  },
  {
   "cell_type": "markdown",
   "metadata": {},
   "source": [
    "**TODO**: Run the below cell after training and generate the CIS plot."
   ]
  },
  {
   "cell_type": "code",
   "execution_count": 50,
   "metadata": {},
   "outputs": [
    {
     "data": {
      "image/png": "[encoded data removed]",
      "text/plain": [
       "<Figure size 432x288 with 1 Axes>"
      ]
     },
     "metadata": {
      "needs_background": "light"
     },
     "output_type": "display_data"
    }
   ],
   "source": [
    "cis_test_y_pred = net.predict(cis_test_x)\n",
    "plt.scatter(cis_test_x[:,0], cis_test_x[:,1], c=cis_test_y_pred)\n",
    "plt.axis('equal')\n",
    "plt.show()"
   ]
  },
  {
   "cell_type": "markdown",
   "metadata": {},
   "source": [
    "**Question 5**: How do you interpret the circle-in-square results? Do you think the single-layer net (with softmax) can handle the CIS dataset? Why or why not? (You're invited to try it, maybe as an extension :)\n",
    "\n",
    "**Question 6**: Play with # hidden units, epochs, regularization strength on CIS training...how does each parameter affect the results?"
   ]
  },
  {
   "cell_type": "markdown",
   "metadata": {},
   "source": [
    "### d. Train on STL-10 dataset, plot performance"
   ]
  },
  {
   "cell_type": "markdown",
   "metadata": {},
   "source": [
    "Try training the MLP on the below set of hyperparameters"
   ]
  },
  {
   "cell_type": "code",
   "execution_count": 21,
   "metadata": {},
   "outputs": [
    {
     "name": "stdout",
     "output_type": "stream",
     "text": [
      "Starting to train network...There will be 50 epochs and 350 iterations total, 7 iter/epoch.\n"
     ]
    },
    {
     "data": {
      "image/png": "[encoded data removed]",
      "text/plain": [
       "<Figure size 432x288 with 1 Axes>"
      ]
     },
     "metadata": {
      "needs_background": "light"
     },
     "output_type": "display_data"
    }
   ],
   "source": [
    "net = MLP(x_train.shape[1], 100, 10)\n",
    "loss, acc_t, acc_v = net.fit(x_train, y_train, x_val, y_val,\n",
    "                             lr=0.05, reg=0.01, mini_batch_sz=500, n_epochs=50, verbose=0)\n",
    "plt.plot(loss)\n",
    "plt.xlabel('Training iteration')\n",
    "plt.ylabel('Avg loss (cross entropy)')\n",
    "plt.title('STL-10 loss')\n",
    "plt.show()"
   ]
  },
  {
   "cell_type": "code",
   "execution_count": 22,
   "metadata": {},
   "outputs": [
    {
     "data": {
      "image/png": "[encoded data removed]",
      "text/plain": [
       "<Figure size 432x288 with 1 Axes>"
      ]
     },
     "metadata": {
      "needs_background": "light"
     },
     "output_type": "display_data"
    }
   ],
   "source": [
    "plt.plot(acc_t, label='Training accuracy')\n",
    "plt.plot(acc_v, label='Validation accuracy')\n",
    "plt.xlabel('Training iteration')\n",
    "plt.ylabel('Avg loss (cross entropy)')\n",
    "plt.title('STL-10 accuracy')\n",
    "plt.legend()\n",
    "plt.show()"
   ]
  },
  {
   "cell_type": "markdown",
   "metadata": {},
   "source": [
    "**Question 7**: What do the above loss and training and validation accuracy curves suggest about the quality of the hyperparameters used during training?"
   ]
  },
  {
   "cell_type": "markdown",
   "metadata": {},
   "source": [
    "### e. Optimize on STL-10 dataset, plot performance\n",
    "\n",
    "**TODO** Write code in the cell below to perform a grid search to find the combinations of\n",
    "\n",
    "- learning rate\n",
    "- regularization strength\n",
    "- number hidden units\n",
    "- mini-batch size\n",
    "\n",
    "that yields the highest STL-10 validation set accuracy.\n",
    "\n",
    "You should be able to achieve higher accuracy than in the single layer version of the softmax network."
   ]
  },
  {
   "cell_type": "code",
   "execution_count": 58,
   "metadata": {
    "scrolled": true
   },
   "outputs": [
    {
     "name": "stdout",
     "output_type": "stream",
     "text": [
      "Starting to train network...There will be 7 epochs and 24500 iterations total, 3500 iter/epoch.\n",
      "Starting to train network...There will be 7 epochs and 24500 iterations total, 3500 iter/epoch.\n",
      "Starting to train network...There will be 7 epochs and 24500 iterations total, 3500 iter/epoch.\n",
      "1\n",
      "Best learning rate:  0.0001\n",
      "Best regulization value:  0.0\n",
      "Best batch size:  1\n",
      "Best hidden val:  200\n",
      "[[0.088, 0.134, 0.174, 0.208, 0.208, 0.226, 0.222], [0.106, 0.164, 0.204, 0.232, 0.236, 0.266, 0.27], [0.122, 0.188, 0.212, 0.248, 0.26, 0.272, 0.28]]\n"
     ]
    }
   ],
   "source": [
    "best_val_acc = 0\n",
    "best_lr = None\n",
    "best_reg = None\n",
    "best_hidden = None\n",
    "best_mini_batch_sz = None\n",
    "\n",
    "def gridSearch(lower_bound=.0001, upper_bound=.099):\n",
    "    best_val_acc = 0\n",
    "    accuracy_vals = []\n",
    "    loss_vals = []\n",
    "    learning_rates = np.linspace(.0001, .099, num=1)\n",
    "    reg_vals = np.linspace(0, 5, num=1)\n",
    "    batch_sizes = np.linspace(1, 500, num=1, dtype=int)\n",
    "    hidden_vals = np.linspace(50, 200, num = 3, dtype = int)\n",
    "    \n",
    "    \n",
    "#     accuracy_vals.append(0)\n",
    "    \n",
    "    count = 0\n",
    "    for rate in learning_rates:\n",
    "        count +=1\n",
    "        for reg_val in reg_vals:\n",
    "            for hidden in hidden_vals:\n",
    "                for batch_size in batch_sizes:\n",
    "                    net = MLP(x_train.shape[1], hidden, 10)\n",
    "                    loss, acc_t, acc_v = net.fit(x_train, y_train, x_val, y_val, lr=rate, reg=reg_val, \n",
    "                                                 mini_batch_sz=batch_size, n_epochs=7, verbose=0)\n",
    "                    accuracy_vals.append(acc_v)\n",
    "                    if max(accuracy_vals) <= accuracy_vals[-1]:\n",
    "                        best_lr = rate\n",
    "                        best_reg = reg_val\n",
    "                        best_hidden = hidden\n",
    "                        best_mini_batch_sz = batch_size \n",
    "                        best_val_acc = accuracy_vals[-1]\n",
    "        print(count)\n",
    "\n",
    "        print(\"Best learning rate: \", str(best_lr))\n",
    "        print(\"Best regulization value: \", str(best_reg))\n",
    "        print(\"Best batch size: \", str(best_mini_batch_sz))\n",
    "        print(\"Best hidden val: \", str(best_hidden))\n",
    "        print(accuracy_vals)\n",
    "    \n",
    "\n",
    "gridSearch()"
   ]
  },
  {
   "cell_type": "markdown",
   "metadata": {},
   "source": [
    "**TODO**: Set the parameters below to the best ones found by your grid search.\n",
    "- Generate and include the Test STL-10 loss curve\n",
    "- Generate and include the training and validation accuracy curves in the second cell down.\n",
    "\n",
    "Adjust the number of training epochs as needed."
   ]
  },
  {
   "cell_type": "code",
   "execution_count": 56,
   "metadata": {},
   "outputs": [
    {
     "ename": "NameError",
     "evalue": "name 'accuracy_vals' is not defined",
     "output_type": "error",
     "traceback": [
      "\u001b[0;31m---------------------------------------------------------------------------\u001b[0m",
      "\u001b[0;31mNameError\u001b[0m                                 Traceback (most recent call last)",
      "\u001b[0;32m<ipython-input-56-b8b89b4d9472>\u001b[0m in \u001b[0;36m<module>\u001b[0;34m\u001b[0m\n\u001b[0;32m----> 1\u001b[0;31m \u001b[0mprint\u001b[0m\u001b[0;34m(\u001b[0m\u001b[0maccuracy_vals\u001b[0m\u001b[0;34m)\u001b[0m\u001b[0;34m\u001b[0m\u001b[0m\n\u001b[0m",
      "\u001b[0;31mNameError\u001b[0m: name 'accuracy_vals' is not defined"
     ]
    }
   ],
   "source": [
    "print(accuracy_vals)"
   ]
  },
  {
   "cell_type": "code",
   "execution_count": 60,
   "metadata": {},
   "outputs": [
    {
     "name": "stdout",
     "output_type": "stream",
     "text": [
      "Starting to train network...There will be 5000 epochs and 5000 iterations total, 1 iter/epoch.\n",
      "  Completed iter 0/5000. Training loss: 1541.98.\n",
      "  Completed iter 100/5000. Training loss: 3.42.\n",
      "  Completed iter 200/5000. Training loss: 2.30.\n",
      "  Completed iter 300/5000. Training loss: 2.29.\n",
      "  Completed iter 400/5000. Training loss: 2.28.\n",
      "  Completed iter 500/5000. Training loss: 2.29.\n",
      "  Completed iter 600/5000. Training loss: 2.27.\n",
      "  Completed iter 700/5000. Training loss: 2.28.\n",
      "  Completed iter 800/5000. Training loss: 2.27.\n",
      "  Completed iter 900/5000. Training loss: 2.27.\n",
      "  Completed iter 1000/5000. Training loss: 2.28.\n",
      "  Completed iter 1100/5000. Training loss: 2.28.\n",
      "  Completed iter 1200/5000. Training loss: 2.27.\n",
      "  Completed iter 1300/5000. Training loss: 2.26.\n",
      "  Completed iter 1400/5000. Training loss: 2.28.\n",
      "  Completed iter 1500/5000. Training loss: 2.29.\n",
      "  Completed iter 1600/5000. Training loss: 2.30.\n",
      "  Completed iter 1700/5000. Training loss: 2.27.\n",
      "  Completed iter 1800/5000. Training loss: 2.26.\n",
      "  Completed iter 1900/5000. Training loss: 2.26.\n",
      "  Completed iter 2000/5000. Training loss: 2.28.\n",
      "  Completed iter 2100/5000. Training loss: 2.27.\n",
      "  Completed iter 2200/5000. Training loss: 2.26.\n",
      "  Completed iter 2300/5000. Training loss: 2.29.\n",
      "  Completed iter 2400/5000. Training loss: 2.26.\n",
      "  Completed iter 2500/5000. Training loss: 2.27.\n",
      "  Completed iter 2600/5000. Training loss: 2.27.\n",
      "  Completed iter 2700/5000. Training loss: 2.27.\n",
      "  Completed iter 2800/5000. Training loss: 2.27.\n",
      "  Completed iter 2900/5000. Training loss: 2.27.\n",
      "  Completed iter 3000/5000. Training loss: 2.27.\n",
      "  Completed iter 3100/5000. Training loss: 2.28.\n",
      "  Completed iter 3200/5000. Training loss: 2.27.\n",
      "  Completed iter 3300/5000. Training loss: 2.27.\n",
      "  Completed iter 3400/5000. Training loss: 2.27.\n",
      "  Completed iter 3500/5000. Training loss: 2.27.\n",
      "  Completed iter 3600/5000. Training loss: 2.27.\n",
      "  Completed iter 3700/5000. Training loss: 2.27.\n",
      "  Completed iter 3800/5000. Training loss: 2.26.\n",
      "  Completed iter 3900/5000. Training loss: 2.28.\n",
      "  Completed iter 4000/5000. Training loss: 2.26.\n",
      "  Completed iter 4100/5000. Training loss: 2.26.\n",
      "  Completed iter 4200/5000. Training loss: 2.28.\n",
      "  Completed iter 4300/5000. Training loss: 2.27.\n",
      "  Completed iter 4400/5000. Training loss: 2.27.\n",
      "  Completed iter 4500/5000. Training loss: 2.26.\n",
      "  Completed iter 4600/5000. Training loss: 2.27.\n",
      "  Completed iter 4700/5000. Training loss: 2.27.\n",
      "  Completed iter 4800/5000. Training loss: 2.30.\n",
      "  Completed iter 4900/5000. Training loss: 2.25.\n",
      "Finished training!\n"
     ]
    },
    {
     "data": {
      "image/png": "[encoded data removed]",
      "text/plain": [
       "<Figure size 432x288 with 1 Axes>"
      ]
     },
     "metadata": {
      "needs_background": "light"
     },
     "output_type": "display_data"
    }
   ],
   "source": [
    "# Train the net with the bestparam settings\n",
    "best_lr = .071\n",
    "best_reg = .5\n",
    "best_hidden = 200\n",
    "best_mini_batch_sz = 500\n",
    "\n",
    "bestNet = MLP(x_train.shape[1], best_hidden, 10)\n",
    "loss, acc_t, acc_v = bestNet.fit(x_test, y_test, x_val, y_val,\n",
    "                                 lr=best_lr, reg=best_reg, mini_batch_sz=best_mini_batch_sz, n_epochs=5000, verbose=1)\n",
    "plt.plot(loss)\n",
    "plt.xlabel('Training iteration')\n",
    "plt.ylabel('Avg loss (cross entropy)')\n",
    "plt.title('Test STL-10 data loss')\n",
    "plt.show()"
   ]
  },
  {
   "cell_type": "code",
   "execution_count": 61,
   "metadata": {},
   "outputs": [
    {
     "data": {
      "image/png": "[encoded data removed]",
      "text/plain": [
       "<Figure size 432x288 with 1 Axes>"
      ]
     },
     "metadata": {
      "needs_background": "light"
     },
     "output_type": "display_data"
    }
   ],
   "source": [
    "plt.plot(acc_t, label='Training accuracy')\n",
    "plt.plot(acc_v, label='Validation accuracy')\n",
    "plt.xlabel('Training iteration')\n",
    "plt.ylabel('Avg loss (cross entropy)')\n",
    "plt.title('Test STL-10 data accuracy')\n",
    "plt.legend()\n",
    "plt.show()"
   ]
  },
  {
   "cell_type": "markdown",
   "metadata": {},
   "source": [
    "### e. Visualize learned weights"
   ]
  },
  {
   "cell_type": "markdown",
   "metadata": {},
   "source": [
    "**TODO**: \n",
    "\n",
    "- In the cell below, get the weights of your best net's hidden layer (Y), reshape/transpose them so that they are `(N, 32, 32, 3)`.\n",
    "- Run the `plot_weights` function to generate a grid visualization of them."
   ]
  },
  {
   "cell_type": "code",
   "execution_count": 69,
   "metadata": {},
   "outputs": [
    {
     "name": "stdout",
     "output_type": "stream",
     "text": [
      "(200, 3072)\n"
     ]
    }
   ],
   "source": [
    "best_y_wts = bestNet.get_y_wts()\n",
    "best_y_wts = best_y_wts.T.reshape()\n",
    "print(best_y_wts.T.shape)\n"
   ]
  },
  {
   "cell_type": "code",
   "execution_count": 66,
   "metadata": {},
   "outputs": [],
   "source": [
    "def plot_weights(wts):\n",
    "    grid_sz = int(np.sqrt(len(wts)))\n",
    "    plt.figure(figsize=(20,20))\n",
    "    for x in range(grid_sz):\n",
    "        for y in range(grid_sz):\n",
    "            lin_ind = np.ravel_multi_index((x, y), dims=(grid_sz, grid_sz))\n",
    "            plt.subplot(grid_sz, grid_sz, lin_ind+1)\n",
    "            currImg = wts[lin_ind]\n",
    "            low, high = np.min(currImg), np.max(currImg)\n",
    "            currImg = 255*(currImg - low) / (high - low)\n",
    "            currImg = currImg.astype('uint8')\n",
    "            plt.imshow(currImg)\n",
    "            plt.gca().axis('off')\n",
    "    plt.show()"
   ]
  },
  {
   "cell_type": "code",
   "execution_count": 67,
   "metadata": {},
   "outputs": [
    {
     "ename": "TypeError",
     "evalue": "Invalid dimensions for image data",
     "output_type": "error",
     "traceback": [
      "\u001b[0;31m---------------------------------------------------------------------------\u001b[0m",
      "\u001b[0;31mTypeError\u001b[0m                                 Traceback (most recent call last)",
      "\u001b[0;32m<ipython-input-67-c9015f1a4047>\u001b[0m in \u001b[0;36m<module>\u001b[0;34m\u001b[0m\n\u001b[0;32m----> 1\u001b[0;31m \u001b[0mplot_weights\u001b[0m\u001b[0;34m(\u001b[0m\u001b[0mbest_y_wts\u001b[0m\u001b[0;34m)\u001b[0m\u001b[0;34m\u001b[0m\u001b[0m\n\u001b[0m",
      "\u001b[0;32m<ipython-input-66-59986b9d9a7a>\u001b[0m in \u001b[0;36mplot_weights\u001b[0;34m(wts)\u001b[0m\n\u001b[1;32m     10\u001b[0m             \u001b[0mcurrImg\u001b[0m \u001b[0;34m=\u001b[0m \u001b[0;36m255\u001b[0m\u001b[0;34m*\u001b[0m\u001b[0;34m(\u001b[0m\u001b[0mcurrImg\u001b[0m \u001b[0;34m-\u001b[0m \u001b[0mlow\u001b[0m\u001b[0;34m)\u001b[0m \u001b[0;34m/\u001b[0m \u001b[0;34m(\u001b[0m\u001b[0mhigh\u001b[0m \u001b[0;34m-\u001b[0m \u001b[0mlow\u001b[0m\u001b[0;34m)\u001b[0m\u001b[0;34m\u001b[0m\u001b[0m\n\u001b[1;32m     11\u001b[0m             \u001b[0mcurrImg\u001b[0m \u001b[0;34m=\u001b[0m \u001b[0mcurrImg\u001b[0m\u001b[0;34m.\u001b[0m\u001b[0mastype\u001b[0m\u001b[0;34m(\u001b[0m\u001b[0;34m'uint8'\u001b[0m\u001b[0;34m)\u001b[0m\u001b[0;34m\u001b[0m\u001b[0m\n\u001b[0;32m---> 12\u001b[0;31m             \u001b[0mplt\u001b[0m\u001b[0;34m.\u001b[0m\u001b[0mimshow\u001b[0m\u001b[0;34m(\u001b[0m\u001b[0mcurrImg\u001b[0m\u001b[0;34m)\u001b[0m\u001b[0;34m\u001b[0m\u001b[0m\n\u001b[0m\u001b[1;32m     13\u001b[0m             \u001b[0mplt\u001b[0m\u001b[0;34m.\u001b[0m\u001b[0mgca\u001b[0m\u001b[0;34m(\u001b[0m\u001b[0;34m)\u001b[0m\u001b[0;34m.\u001b[0m\u001b[0maxis\u001b[0m\u001b[0;34m(\u001b[0m\u001b[0;34m'off'\u001b[0m\u001b[0;34m)\u001b[0m\u001b[0;34m\u001b[0m\u001b[0m\n\u001b[1;32m     14\u001b[0m     \u001b[0mplt\u001b[0m\u001b[0;34m.\u001b[0m\u001b[0mshow\u001b[0m\u001b[0;34m(\u001b[0m\u001b[0;34m)\u001b[0m\u001b[0;34m\u001b[0m\u001b[0m\n",
      "\u001b[0;32m/Library/Frameworks/Python.framework/Versions/3.6/lib/python3.6/site-packages/matplotlib/pyplot.py\u001b[0m in \u001b[0;36mimshow\u001b[0;34m(X, cmap, norm, aspect, interpolation, alpha, vmin, vmax, origin, extent, shape, filternorm, filterrad, imlim, resample, url, data, **kwargs)\u001b[0m\n\u001b[1;32m   2697\u001b[0m         \u001b[0mfilternorm\u001b[0m\u001b[0;34m=\u001b[0m\u001b[0mfilternorm\u001b[0m\u001b[0;34m,\u001b[0m \u001b[0mfilterrad\u001b[0m\u001b[0;34m=\u001b[0m\u001b[0mfilterrad\u001b[0m\u001b[0;34m,\u001b[0m \u001b[0mimlim\u001b[0m\u001b[0;34m=\u001b[0m\u001b[0mimlim\u001b[0m\u001b[0;34m,\u001b[0m\u001b[0;34m\u001b[0m\u001b[0m\n\u001b[1;32m   2698\u001b[0m         resample=resample, url=url, **({\"data\": data} if data is not\n\u001b[0;32m-> 2699\u001b[0;31m         None else {}), **kwargs)\n\u001b[0m\u001b[1;32m   2700\u001b[0m     \u001b[0msci\u001b[0m\u001b[0;34m(\u001b[0m\u001b[0m__ret\u001b[0m\u001b[0;34m)\u001b[0m\u001b[0;34m\u001b[0m\u001b[0m\n\u001b[1;32m   2701\u001b[0m     \u001b[0;32mreturn\u001b[0m \u001b[0m__ret\u001b[0m\u001b[0;34m\u001b[0m\u001b[0m\n",
      "\u001b[0;32m/Library/Frameworks/Python.framework/Versions/3.6/lib/python3.6/site-packages/matplotlib/__init__.py\u001b[0m in \u001b[0;36minner\u001b[0;34m(ax, data, *args, **kwargs)\u001b[0m\n\u001b[1;32m   1808\u001b[0m                         \u001b[0;34m\"the Matplotlib list!)\"\u001b[0m \u001b[0;34m%\u001b[0m \u001b[0;34m(\u001b[0m\u001b[0mlabel_namer\u001b[0m\u001b[0;34m,\u001b[0m \u001b[0mfunc\u001b[0m\u001b[0;34m.\u001b[0m\u001b[0m__name__\u001b[0m\u001b[0;34m)\u001b[0m\u001b[0;34m,\u001b[0m\u001b[0;34m\u001b[0m\u001b[0m\n\u001b[1;32m   1809\u001b[0m                         RuntimeWarning, stacklevel=2)\n\u001b[0;32m-> 1810\u001b[0;31m             \u001b[0;32mreturn\u001b[0m \u001b[0mfunc\u001b[0m\u001b[0;34m(\u001b[0m\u001b[0max\u001b[0m\u001b[0;34m,\u001b[0m \u001b[0;34m*\u001b[0m\u001b[0margs\u001b[0m\u001b[0;34m,\u001b[0m \u001b[0;34m**\u001b[0m\u001b[0mkwargs\u001b[0m\u001b[0;34m)\u001b[0m\u001b[0;34m\u001b[0m\u001b[0m\n\u001b[0m\u001b[1;32m   1811\u001b[0m \u001b[0;34m\u001b[0m\u001b[0m\n\u001b[1;32m   1812\u001b[0m         inner.__doc__ = _add_data_doc(inner.__doc__,\n",
      "\u001b[0;32m/Library/Frameworks/Python.framework/Versions/3.6/lib/python3.6/site-packages/matplotlib/axes/_axes.py\u001b[0m in \u001b[0;36mimshow\u001b[0;34m(self, X, cmap, norm, aspect, interpolation, alpha, vmin, vmax, origin, extent, shape, filternorm, filterrad, imlim, resample, url, **kwargs)\u001b[0m\n\u001b[1;32m   5492\u001b[0m                               resample=resample, **kwargs)\n\u001b[1;32m   5493\u001b[0m \u001b[0;34m\u001b[0m\u001b[0m\n\u001b[0;32m-> 5494\u001b[0;31m         \u001b[0mim\u001b[0m\u001b[0;34m.\u001b[0m\u001b[0mset_data\u001b[0m\u001b[0;34m(\u001b[0m\u001b[0mX\u001b[0m\u001b[0;34m)\u001b[0m\u001b[0;34m\u001b[0m\u001b[0m\n\u001b[0m\u001b[1;32m   5495\u001b[0m         \u001b[0mim\u001b[0m\u001b[0;34m.\u001b[0m\u001b[0mset_alpha\u001b[0m\u001b[0;34m(\u001b[0m\u001b[0malpha\u001b[0m\u001b[0;34m)\u001b[0m\u001b[0;34m\u001b[0m\u001b[0m\n\u001b[1;32m   5496\u001b[0m         \u001b[0;32mif\u001b[0m \u001b[0mim\u001b[0m\u001b[0;34m.\u001b[0m\u001b[0mget_clip_path\u001b[0m\u001b[0;34m(\u001b[0m\u001b[0;34m)\u001b[0m \u001b[0;32mis\u001b[0m \u001b[0;32mNone\u001b[0m\u001b[0;34m:\u001b[0m\u001b[0;34m\u001b[0m\u001b[0m\n",
      "\u001b[0;32m/Library/Frameworks/Python.framework/Versions/3.6/lib/python3.6/site-packages/matplotlib/image.py\u001b[0m in \u001b[0;36mset_data\u001b[0;34m(self, A)\u001b[0m\n\u001b[1;32m    636\u001b[0m         if not (self._A.ndim == 2\n\u001b[1;32m    637\u001b[0m                 or self._A.ndim == 3 and self._A.shape[-1] in [3, 4]):\n\u001b[0;32m--> 638\u001b[0;31m             \u001b[0;32mraise\u001b[0m \u001b[0mTypeError\u001b[0m\u001b[0;34m(\u001b[0m\u001b[0;34m\"Invalid dimensions for image data\"\u001b[0m\u001b[0;34m)\u001b[0m\u001b[0;34m\u001b[0m\u001b[0m\n\u001b[0m\u001b[1;32m    639\u001b[0m \u001b[0;34m\u001b[0m\u001b[0m\n\u001b[1;32m    640\u001b[0m         \u001b[0;32mif\u001b[0m \u001b[0mself\u001b[0m\u001b[0;34m.\u001b[0m\u001b[0m_A\u001b[0m\u001b[0;34m.\u001b[0m\u001b[0mndim\u001b[0m \u001b[0;34m==\u001b[0m \u001b[0;36m3\u001b[0m\u001b[0;34m:\u001b[0m\u001b[0;34m\u001b[0m\u001b[0m\n",
      "\u001b[0;31mTypeError\u001b[0m: Invalid dimensions for image data"
     ]
    },
    {
     "data": {
      "image/png": "[encoded data removed]",
      "text/plain": [
       "<Figure size 1440x1440 with 1 Axes>"
      ]
     },
     "metadata": {
      "needs_background": "light"
     },
     "output_type": "display_data"
    }
   ],
   "source": [
    "plot_weights(best_y_wts)"
   ]
  },
  {
   "cell_type": "markdown",
   "metadata": {},
   "source": [
    "## Extensions\n",
    "\n",
    "**Reminder**: Please do not integrate extensions into your base project so that it changes the expected behavior of core functions. It is better to duplicate the base project and add features from there.\n",
    "\n",
    "1) Instead of computing the loss over a mini-batch, compute it over epochs instead. Compare and contrast the approaches. Be sure to include analysis figures.\n",
    "\n",
    "2) Investigate how the single layer softmax network does with the CIS dataset. Explain and provide plots showing your results.\n",
    "\n",
    "3) If you have time to spare (or want to throw more computing power at the STL-10 dataset), process through the SLP and MLP and tune hyperparameters with the dataset at its original resolution (96x96 images). Show images of your learned weights. Can you find a training sweet spot where the learned weight visualizations look particularly cool?\n",
    "\n",
    "4) Implement the sigmoid classifer (same network structure, except use sigmoid for netact) with the cross-entropy loss by creating another subclass of `SingleLayerNet` and/or `MLP`. Compare and contrast results achieved by the softmax/cross-entropy network.\n",
    "\n",
    "5) Explore the effects of batch gradient descent, stochastic gradient descent, and mini-batch gradient descent.\n",
    "\n",
    "6) Obtain, preprocess, train, and evaluate the performance of `SingleLayerNet` and/or `MLP` on another dataset with comparable types of image features. "
   ]
  }
 ],
 "metadata": {
  "kernelspec": {
   "display_name": "Python 3",
   "language": "python",
   "name": "python3"
  },
  "language_info": {
   "codemirror_mode": {
    "name": "ipython",
    "version": 3
   },
   "file_extension": ".py",
   "mimetype": "text/x-python",
   "name": "python",
   "nbconvert_exporter": "python",
   "pygments_lexer": "ipython3",
   "version": "3.6.2"
  }
 },
 "nbformat": 4,
 "nbformat_minor": 2
}
