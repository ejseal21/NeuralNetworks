{
 "cells": [
  {
   "cell_type": "markdown",
   "metadata": {},
   "source": [
    "**Cole Turner and Ethan Seal**\n",
    "\n",
    "Fall 2019\n",
    "\n",
    "CS343: Neural Networks\n",
    "\n",
    "Project 4: Transfer Learning"
   ]
  },
  {
   "cell_type": "code",
   "execution_count": 1,
   "metadata": {},
   "outputs": [],
   "source": [
    "import os\n",
    "import random\n",
    "import numpy as np\n",
    "import matplotlib.pyplot as plt\n",
    "import tensorflow as tf\n",
    "\n",
    "plt.style.use(['seaborn-colorblind', 'seaborn-darkgrid'])\n",
    "plt.rcParams.update({'font.size': 20})\n",
    "\n",
    "np.set_printoptions(suppress=True, precision=3)\n",
    "rgen = np.random.RandomState(1)\n",
    "\n",
    "# Automatically reload external modules\n",
    "%load_ext autoreload\n",
    "%autoreload 2"
   ]
  },
  {
   "cell_type": "markdown",
   "metadata": {},
   "source": [
    "*Sanity check that Tensorflow is installed correctly:*\n",
    "\n",
    "Executing the following cell should return 3 "
   ]
  },
  {
   "cell_type": "code",
   "execution_count": 2,
   "metadata": {},
   "outputs": [
    {
     "name": "stdout",
     "output_type": "stream",
     "text": [
      "3\r\n"
     ]
    }
   ],
   "source": [
    "tf.print(tf.reduce_sum([tf.Variable(1), tf.Variable(2)]))"
   ]
  },
  {
   "cell_type": "markdown",
   "metadata": {},
   "source": [
    "## Task 1) Implement ConvNet4 in Tensorflow, train/test on STL-10\n",
    "\n",
    "### 1a) Use the high level `Keras::Sequential` API in Tensorflow 2.0 to implement the architecture of ConvNet4 from the last project. Train and test your network on the STL-10 dataset. \n",
    "\n",
    "Recall the `Keras::Sequential` common worflow:\n",
    "\n",
    "- Build structure of network with `keras::Sequential`.\n",
    "- Compile network with your choice of optimizer, loss, and metrics.\n",
    "- Fit the model (remembering to pass in the appropriate training and validation sets). This results a history object that can be used to examine training/validation accuracy and loss.\n",
    "- Evaluate the model on the test set. This returns test loss and accuracy.\n",
    "\n",
    "**Notes**:\n",
    "- You should use the usual STL-10 data acquistion and preprocessing code from your last project.\n",
    "- You don't need to do a hyperparameter search. Values that worked on the CNN project should get you in the ballpark here. The goal is to show that you know how to put together a `keras::Sequential` model and have it work successfully.\n",
    "- Tensorflow needs the RGB color channel AFTER the spatial dimensions. For example: (64, 64, 3), not (3, 64, 64). You may therefore need to slightly modify the preprocesssing pipeline for this project."
   ]
  },
  {
   "cell_type": "markdown",
   "metadata": {},
   "source": [
    "These documentation pages should be helpful:\n",
    "- https://www.tensorflow.org/api_docs/python/tf/keras/Sequential\n",
    "- https://www.tensorflow.org/api_docs/python/tf/keras/Model#compile\n",
    "- https://www.tensorflow.org/api_docs/python/tf/keras/Model#evaluate\n",
    "- https://www.tensorflow.org/api_docs/python/tf/keras/Model#fit\n",
    "- https://www.tensorflow.org/api_docs/python/tf/keras/Model#summary"
   ]
  },
  {
   "cell_type": "code",
   "execution_count": 3,
   "metadata": {},
   "outputs": [],
   "source": [
    "import load_stl10_dataset\n",
    "from preprocess_data import preprocess_stl, create_splits"
   ]
  },
  {
   "cell_type": "code",
   "execution_count": 4,
   "metadata": {},
   "outputs": [
    {
     "name": "stdout",
     "output_type": "stream",
     "text": [
      "Found cached numpy arrays the images and labels. Loading them...\n",
      "Images are: (5000, 32, 32, 3)\n",
      "Labels are: (5000,)\n"
     ]
    }
   ],
   "source": [
    "stl_imgs, stl_labels = load_stl10_dataset.load()"
   ]
  },
  {
   "cell_type": "code",
   "execution_count": 5,
   "metadata": {},
   "outputs": [],
   "source": [
    "classes = np.loadtxt(os.path.join('data', 'stl10_binary', 'class_names.txt'), dtype=str)"
   ]
  },
  {
   "cell_type": "code",
   "execution_count": 6,
   "metadata": {},
   "outputs": [
    {
     "name": "stdout",
     "output_type": "stream",
     "text": [
      "imgs.shape (5000, 32, 32, 3)\n",
      "stl_imgs dtype is float64 and it should be float64\n",
      "stl_imgs max is 0.668 and it should be 0.668\n",
      "stl_imgs shape is (5000, 32, 32, 3) and it should be (5000, 32, 32, 3)\n",
      "stl_labels span 0->9 and it should be 0->9\n"
     ]
    }
   ],
   "source": [
    "# Preprocess image pixel values for the MLP net\n",
    "stl_imgs, stl_labels = preprocess_stl(stl_imgs, stl_labels)\n",
    "print(f'stl_imgs dtype is {stl_imgs.dtype} and it should be float64')\n",
    "print(f'stl_imgs max is {np.max(stl_imgs[:, 1:]):.3f} and it should be 0.668')\n",
    "print(f'stl_imgs shape is {stl_imgs.shape} and it should be (5000, 32, 32, 3)')\n",
    "print(f'stl_labels span {stl_labels.min()}->{stl_labels.max()} and it should be 0->9')"
   ]
  },
  {
   "cell_type": "code",
   "execution_count": 7,
   "metadata": {},
   "outputs": [
    {
     "name": "stdout",
     "output_type": "stream",
     "text": [
      "data.shape (5000, 32, 32, 3)\n",
      "Train data shape:  (3500, 32, 32, 3)\n",
      "Train labels shape:  (3500,)\n",
      "Test data shape:  (500, 32, 32, 3)\n",
      "Test labels shape:  (500,)\n",
      "Validation data shape:  (500, 32, 32, 3)\n",
      "Validation labels shape:  (500,)\n",
      "dev data shape:  (500, 32, 32, 3)\n",
      "dev labels shape:  (500,)\n"
     ]
    }
   ],
   "source": [
    "x_train, y_train, x_test, y_test, x_val, y_val, x_dev, y_dev = create_splits(stl_imgs, stl_labels)  \n",
    "print ('Train data shape: ', x_train.shape)\n",
    "print ('Train labels shape: ', y_train.shape)\n",
    "print ('Test data shape: ', x_test.shape)\n",
    "print ('Test labels shape: ', y_test.shape)\n",
    "print ('Validation data shape: ', x_val.shape)\n",
    "print ('Validation labels shape: ', y_val.shape)\n",
    "print ('dev data shape: ', x_dev.shape)\n",
    "print ('dev labels shape: ', y_dev.shape)"
   ]
  },
  {
   "cell_type": "markdown",
   "metadata": {},
   "source": [
    "### 1b) Make 2 \"high quality\" plots showing the following\n",
    "\n",
    "- Plot the training and validation accuracy (y axis) over training epochs (x axis).\n",
    "- Plot the training and validation loss (y axis) over epochs (x axis).\n",
    "\n",
    "A high quality plot consists of:\n",
    "- A useful title\n",
    "- X and Y axis labels\n",
    "- A legend"
   ]
  },
  {
   "cell_type": "code",
   "execution_count": 21,
   "metadata": {},
   "outputs": [
    {
     "name": "stdout",
     "output_type": "stream",
     "text": [
      "Model: \"sequential_2\"\n",
      "_________________________________________________________________\n",
      "Layer (type)                 Output Shape              Param #   \n",
      "=================================================================\n",
      "conv2d_1 (Conv2D)            (None, 32, 32, 32)        4736      \n",
      "_________________________________________________________________\n",
      "max_pooling2d_1 (MaxPooling2 (None, 16, 16, 32)        0         \n",
      "_________________________________________________________________\n",
      "flatten_2 (Flatten)          (None, 8192)              0         \n",
      "_________________________________________________________________\n",
      "dense_3 (Dense)              (None, 100)               819300    \n",
      "_________________________________________________________________\n",
      "dense_4 (Dense)              (None, 10)                1010      \n",
      "=================================================================\n",
      "Total params: 825,046\n",
      "Trainable params: 825,046\n",
      "Non-trainable params: 0\n",
      "_________________________________________________________________\n",
      "Train on 3500 samples, validate on 500 samples\n",
      "Epoch 1/20\n",
      "3500/3500 - 18s - loss: 1.8040 - accuracy: 0.3240 - val_loss: 1.4844 - val_accuracy: 0.4120\n",
      "Epoch 2/20\n",
      "3500/3500 - 17s - loss: 1.4458 - accuracy: 0.4726 - val_loss: 1.3991 - val_accuracy: 0.4680\n",
      "Epoch 3/20\n",
      "3500/3500 - 16s - loss: 1.2068 - accuracy: 0.5557 - val_loss: 1.3242 - val_accuracy: 0.5000\n",
      "Epoch 4/20\n",
      "3500/3500 - 17s - loss: 1.0194 - accuracy: 0.6331 - val_loss: 1.3689 - val_accuracy: 0.4880\n",
      "Epoch 5/20\n",
      "3500/3500 - 16s - loss: 0.7936 - accuracy: 0.7129 - val_loss: 1.4729 - val_accuracy: 0.4880\n",
      "Epoch 6/20\n",
      "3500/3500 - 17s - loss: 0.6020 - accuracy: 0.7911 - val_loss: 1.6022 - val_accuracy: 0.5040\n",
      "Epoch 7/20\n",
      "3500/3500 - 18s - loss: 0.4411 - accuracy: 0.8497 - val_loss: 1.7868 - val_accuracy: 0.5140\n",
      "Epoch 8/20\n",
      "3500/3500 - 17s - loss: 0.2995 - accuracy: 0.9020 - val_loss: 1.9399 - val_accuracy: 0.5140\n",
      "Epoch 9/20\n",
      "3500/3500 - 17s - loss: 0.2506 - accuracy: 0.9169 - val_loss: 2.1738 - val_accuracy: 0.5180\n",
      "Epoch 10/20\n",
      "3500/3500 - 17s - loss: 0.1732 - accuracy: 0.9491 - val_loss: 2.2004 - val_accuracy: 0.4980\n",
      "Epoch 11/20\n",
      "3500/3500 - 18s - loss: 0.1658 - accuracy: 0.9517 - val_loss: 2.6643 - val_accuracy: 0.4980\n",
      "Epoch 12/20\n",
      "3500/3500 - 17s - loss: 0.1259 - accuracy: 0.9620 - val_loss: 2.7594 - val_accuracy: 0.5020\n",
      "Epoch 13/20\n",
      "3500/3500 - 17s - loss: 0.1340 - accuracy: 0.9580 - val_loss: 2.6441 - val_accuracy: 0.5200\n",
      "Epoch 14/20\n",
      "3500/3500 - 17s - loss: 0.1198 - accuracy: 0.9591 - val_loss: 2.7692 - val_accuracy: 0.5100\n",
      "Epoch 15/20\n",
      "3500/3500 - 17s - loss: 0.0788 - accuracy: 0.9809 - val_loss: 3.2368 - val_accuracy: 0.4840\n",
      "Epoch 16/20\n",
      "3500/3500 - 17s - loss: 0.0747 - accuracy: 0.9817 - val_loss: 3.3448 - val_accuracy: 0.4780\n",
      "Epoch 17/20\n",
      "3500/3500 - 16s - loss: 0.0417 - accuracy: 0.9900 - val_loss: 3.2956 - val_accuracy: 0.5260\n",
      "Epoch 18/20\n",
      "3500/3500 - 17s - loss: 0.1161 - accuracy: 0.9654 - val_loss: 3.4718 - val_accuracy: 0.4880\n",
      "Epoch 19/20\n",
      "3500/3500 - 17s - loss: 0.0752 - accuracy: 0.9783 - val_loss: 3.6915 - val_accuracy: 0.4820\n",
      "Epoch 20/20\n",
      "3500/3500 - 17s - loss: 0.0542 - accuracy: 0.9817 - val_loss: 4.0087 - val_accuracy: 0.5000\n"
     ]
    }
   ],
   "source": [
    "model = tf.keras.Sequential([ \n",
    "    tf.keras.layers.Conv2D(input_shape=stl_imgs.shape[1:],filters=32, kernel_size=(7,7),padding=\"same\", activation='relu',),\n",
    "    tf.keras.layers.MaxPool2D(pool_size=2, strides=2, padding='valid', data_format=\"channels_last\" ),\n",
    "    tf.keras.layers.Flatten(input_shape=(16,16,32)),\n",
    "    tf.keras.layers.Dense(units=100, activation=\"relu\"),\n",
    "    tf.keras.layers.Dense(units=10, activation=\"softmax\") \n",
    "]) \n",
    "model.summary()\n",
    "model.compile(optimizer=\"adam\", loss=\"sparse_categorical_crossentropy\", metrics=['accuracy']) \n",
    "hist = model.fit(x_train, y_train, batch_size=4, epochs=20, validation_data=(x_val, y_val), verbose=2)"
   ]
  },
  {
   "cell_type": "code",
   "execution_count": 22,
   "metadata": {},
   "outputs": [
    {
     "data": {
      "image/png": "[encoded data removed]",
      "text/plain": [
       "<Figure size 432x288 with 1 Axes>"
      ]
     },
     "metadata": {
      "needs_background": "light"
     },
     "output_type": "display_data"
    }
   ],
   "source": [
    "plt.plot(hist.history[\"accuracy\"], label=\"Training Accuracy\", color=\"green\")\n",
    "plt.plot(hist.history[\"val_accuracy\"], label=\"Validation Accuracy\", color=\"blue\")\n",
    "plt.title(\"Accuracy Over Epochs\")\n",
    "plt.ylabel(\"Accuracy\")\n",
    "plt.xlabel(\"Training Epochs\")\n",
    "plt.legend()\n",
    "plt.show()\n"
   ]
  },
  {
   "cell_type": "code",
   "execution_count": 23,
   "metadata": {},
   "outputs": [
    {
     "data": {
      "image/png": "[encoded data removed]",
      "text/plain": [
       "<Figure size 432x288 with 1 Axes>"
      ]
     },
     "metadata": {
      "needs_background": "light"
     },
     "output_type": "display_data"
    }
   ],
   "source": [
    "plt.plot(hist.history[\"loss\"], label=\"Training Loss\", color=\"green\")\n",
    "plt.plot(hist.history[\"val_loss\"], label=\"Validation Loss\", color=\"blue\")\n",
    "plt.title(\"Loss Over Epochs\")\n",
    "plt.ylabel(\"Loss\")\n",
    "plt.xlabel(\"Training Epochs\")\n",
    "plt.legend()\n",
    "plt.show()"
   ]
  },
  {
   "cell_type": "code",
   "execution_count": 24,
   "metadata": {},
   "outputs": [
    {
     "name": "stdout",
     "output_type": "stream",
     "text": [
      "500/1 - 1s - loss: 4.6282 - accuracy: 0.4940\n",
      "Accuracy: 0.49399998784065247, Loss: 4.0347803039550785\n"
     ]
    }
   ],
   "source": [
    "loss, acc = model.evaluate(x_test, y_test, verbose=2)\n",
    "print(f'Accuracy: {acc}, Loss: {loss}')"
   ]
  },
  {
   "cell_type": "markdown",
   "metadata": {},
   "source": [
    "**Question 1:** What accuracy do you get on the STL-10 test set? Briefly summarize the hyperparameters that you used to obtain this result.\n",
    "\n",
    "**Answer 1**\n",
    "\n",
    "We used 20 epochs, a batch size of 4, a the default learning rate of .001. We get an accuracy of up to 53% but closer to 49% generally.\n",
    "\n",
    "\n",
    "\n",
    "**Question 2:** How do the loss and accurary results compare to the CNN project?\n",
    "\n",
    "**Answer 2**\n",
    "The loss is similar and the accuracy is a bit higher in this project. It might be because the layers are slightly different or the default hyper parameters are a bit different, but we get slightly higher accuracy here. However, the difference is not drastic. The loss both heads to 0, though the loss falls faster here than it does on the other model we built in the CNN project."
   ]
  },
  {
   "cell_type": "markdown",
   "metadata": {},
   "source": [
    "## Task 2) Transfer learning\n",
    "\n",
    "Use Tensorflow 2.0 to download the pre-trained MobileNetV2 network (you may also use InceptionV3, but MobileNetV2 likely will run noticeably faster on your machine). We will use transfer learning to accelerate training to solve a novel problem: **the binary classification task of discriminating whether an image is of a hotdog or not.**\n",
    "\n",
    "### Overview of the task\n",
    "\n",
    "- Run some hotdog-or-not dataset images through the network. How does the net seem to classify things correctly?\n",
    "- Remove the output layer.\n",
    "- Add a new Dense output layer.\n",
    "- Freeze (disable) training on all non-output layers.\n",
    "- Train the last layer on a food dataset. Assess performance. Plot some example images and their classification below"
   ]
  },
  {
   "cell_type": "markdown",
   "metadata": {},
   "source": [
    "**TODO:**\n",
    "- Get the **food dataset** on filer: `Courses/CS343/Course_Materials/hot-dog-not-hot-dog`. Copy it into a `data` subfolder in your project directory.\n",
    "- Run the below code to load in the hot-dog-or-not dataset. Check the shapes to ensure everything is loaded in correctly. "
   ]
  },
  {
   "cell_type": "markdown",
   "metadata": {},
   "source": [
    "### 2a) Load in hotdot image dataset"
   ]
  },
  {
   "cell_type": "code",
   "execution_count": 11,
   "metadata": {},
   "outputs": [
    {
     "name": "stdout",
     "output_type": "stream",
     "text": [
      "Training hotdog split shape: (16000, 96, 96, 3). Should be (16000, 96, 96, 3)\n",
      "Test hotdog split shape: (4000, 96, 96, 3). Should be (4000, 96, 96, 3)\n"
     ]
    }
   ],
   "source": [
    "ds_base_dir = 'data/hot-dog-not-hot-dog/numpy/'\n",
    "hotdog_train_x = np.load(os.path.join(ds_base_dir, 'train_x.npy'))\n",
    "hotdog_train_y = np.load(os.path.join(ds_base_dir, 'train_y.npy'))\n",
    "hotdog_test_x = np.load(os.path.join(ds_base_dir, 'test_x.npy'))\n",
    "hotdog_test_y = np.load(os.path.join(ds_base_dir, 'test_y.npy'))\n",
    "\n",
    "print(f'Training hotdog split shape: {hotdog_train_x.shape}. Should be (16000, 96, 96, 3)')\n",
    "print(f'Test hotdog split shape: {hotdog_test_x.shape}. Should be (4000, 96, 96, 3)')"
   ]
  },
  {
   "cell_type": "markdown",
   "metadata": {},
   "source": [
    "### 2b) Preprocess hotdog dataset"
   ]
  },
  {
   "cell_type": "code",
   "execution_count": 12,
   "metadata": {},
   "outputs": [],
   "source": [
    "hotdog_train_x = 2*(hotdog_train_x - 0.5)\n",
    "hotdog_test_x = 2*(hotdog_test_x - 0.5)"
   ]
  },
  {
   "cell_type": "markdown",
   "metadata": {},
   "source": [
    "### 2c) Create hotdog validation set"
   ]
  },
  {
   "cell_type": "code",
   "execution_count": 13,
   "metadata": {},
   "outputs": [
    {
     "name": "stdout",
     "output_type": "stream",
     "text": [
      "Validation hotdog split shape: (12800, 96, 96, 3). Should be (12800, 96, 96, 3)\n"
     ]
    }
   ],
   "source": [
    "VAL_PROP = 0.2  # proportion of trainng set to reserve for validation\n",
    "VAL_SZ = int(VAL_PROP*len(hotdog_train_x))\n",
    "hotdog_val_x = hotdog_train_x[-VAL_SZ:]\n",
    "hotdog_val_y = hotdog_train_y[-VAL_SZ:]\n",
    "hotdog_train_x = hotdog_train_x[:len(hotdog_train_x)-VAL_SZ]\n",
    "hotdog_train_y = hotdog_train_y[:len(hotdog_train_y)-VAL_SZ]\n",
    "\n",
    "print(f'Validation hotdog split shape: {hotdog_train_x.shape}. Should be (12800, 96, 96, 3)')"
   ]
  },
  {
   "cell_type": "markdown",
   "metadata": {},
   "source": [
    "### 2d) Load in pre-trained MobileNetV2 network.\n",
    "\n",
    "**TODO:**\n",
    "- Load in pre-trained MobileNetV2 network (look up constructor in `tf.keras.applications` or look at the tutorial from class) and set it to a variable called `model`. https://www.tensorflow.org/api_docs/python/tf/keras/applications\n",
    "- Set the `trainable` field of the model object to be `False` (use dot notation).\n",
    "- If you call the `summary()` method on the network object, you should see a table with many rows. The top and bottom rows should be:\n",
    "\n",
    "\n",
    "    input_3 (InputLayer)            [(None, 96, 96, 3)]  0                                           \n",
    "    __________________________________________________________________________________________________\n",
    "    out_relu (ReLU)                 (None, 3, 3, 1280)   0           Conv_1_bn[0][0]  \n",
    "\n",
    "and you should see the following at the bottom:\n",
    "\n",
    "    Total params: 2,257,984\n",
    "    Trainable params: 0\n",
    "    Non-trainable params: 2,257,984"
   ]
  },
  {
   "cell_type": "code",
   "execution_count": 14,
   "metadata": {},
   "outputs": [
    {
     "name": "stdout",
     "output_type": "stream",
     "text": [
      "Model: \"mobilenetv2_1.00_96\"\n",
      "__________________________________________________________________________________________________\n",
      "Layer (type)                    Output Shape         Param #     Connected to                     \n",
      "==================================================================================================\n",
      "input_1 (InputLayer)            [(None, 96, 96, 3)]  0                                            \n",
      "__________________________________________________________________________________________________\n",
      "Conv1_pad (ZeroPadding2D)       (None, 97, 97, 3)    0           input_1[0][0]                    \n",
      "__________________________________________________________________________________________________\n",
      "Conv1 (Conv2D)                  (None, 48, 48, 32)   864         Conv1_pad[0][0]                  \n",
      "__________________________________________________________________________________________________\n",
      "bn_Conv1 (BatchNormalization)   (None, 48, 48, 32)   128         Conv1[0][0]                      \n",
      "__________________________________________________________________________________________________\n",
      "Conv1_relu (ReLU)               (None, 48, 48, 32)   0           bn_Conv1[0][0]                   \n",
      "__________________________________________________________________________________________________\n",
      "expanded_conv_depthwise (Depthw (None, 48, 48, 32)   288         Conv1_relu[0][0]                 \n",
      "__________________________________________________________________________________________________\n",
      "expanded_conv_depthwise_BN (Bat (None, 48, 48, 32)   128         expanded_conv_depthwise[0][0]    \n",
      "__________________________________________________________________________________________________\n",
      "expanded_conv_depthwise_relu (R (None, 48, 48, 32)   0           expanded_conv_depthwise_BN[0][0] \n",
      "__________________________________________________________________________________________________\n",
      "expanded_conv_project (Conv2D)  (None, 48, 48, 16)   512         expanded_conv_depthwise_relu[0][0\n",
      "__________________________________________________________________________________________________\n",
      "expanded_conv_project_BN (Batch (None, 48, 48, 16)   64          expanded_conv_project[0][0]      \n",
      "__________________________________________________________________________________________________\n",
      "block_1_expand (Conv2D)         (None, 48, 48, 96)   1536        expanded_conv_project_BN[0][0]   \n",
      "__________________________________________________________________________________________________\n",
      "block_1_expand_BN (BatchNormali (None, 48, 48, 96)   384         block_1_expand[0][0]             \n",
      "__________________________________________________________________________________________________\n",
      "block_1_expand_relu (ReLU)      (None, 48, 48, 96)   0           block_1_expand_BN[0][0]          \n",
      "__________________________________________________________________________________________________\n",
      "block_1_pad (ZeroPadding2D)     (None, 49, 49, 96)   0           block_1_expand_relu[0][0]        \n",
      "__________________________________________________________________________________________________\n",
      "block_1_depthwise (DepthwiseCon (None, 24, 24, 96)   864         block_1_pad[0][0]                \n",
      "__________________________________________________________________________________________________\n",
      "block_1_depthwise_BN (BatchNorm (None, 24, 24, 96)   384         block_1_depthwise[0][0]          \n",
      "__________________________________________________________________________________________________\n",
      "block_1_depthwise_relu (ReLU)   (None, 24, 24, 96)   0           block_1_depthwise_BN[0][0]       \n",
      "__________________________________________________________________________________________________\n",
      "block_1_project (Conv2D)        (None, 24, 24, 24)   2304        block_1_depthwise_relu[0][0]     \n",
      "__________________________________________________________________________________________________\n",
      "block_1_project_BN (BatchNormal (None, 24, 24, 24)   96          block_1_project[0][0]            \n",
      "__________________________________________________________________________________________________\n",
      "block_2_expand (Conv2D)         (None, 24, 24, 144)  3456        block_1_project_BN[0][0]         \n",
      "__________________________________________________________________________________________________\n",
      "block_2_expand_BN (BatchNormali (None, 24, 24, 144)  576         block_2_expand[0][0]             \n",
      "__________________________________________________________________________________________________\n",
      "block_2_expand_relu (ReLU)      (None, 24, 24, 144)  0           block_2_expand_BN[0][0]          \n",
      "__________________________________________________________________________________________________\n",
      "block_2_depthwise (DepthwiseCon (None, 24, 24, 144)  1296        block_2_expand_relu[0][0]        \n",
      "__________________________________________________________________________________________________\n",
      "block_2_depthwise_BN (BatchNorm (None, 24, 24, 144)  576         block_2_depthwise[0][0]          \n",
      "__________________________________________________________________________________________________\n",
      "block_2_depthwise_relu (ReLU)   (None, 24, 24, 144)  0           block_2_depthwise_BN[0][0]       \n",
      "__________________________________________________________________________________________________\n",
      "block_2_project (Conv2D)        (None, 24, 24, 24)   3456        block_2_depthwise_relu[0][0]     \n",
      "__________________________________________________________________________________________________\n",
      "block_2_project_BN (BatchNormal (None, 24, 24, 24)   96          block_2_project[0][0]            \n",
      "__________________________________________________________________________________________________\n",
      "block_2_add (Add)               (None, 24, 24, 24)   0           block_1_project_BN[0][0]         \n",
      "                                                                 block_2_project_BN[0][0]         \n",
      "__________________________________________________________________________________________________\n",
      "block_3_expand (Conv2D)         (None, 24, 24, 144)  3456        block_2_add[0][0]                \n",
      "__________________________________________________________________________________________________\n",
      "block_3_expand_BN (BatchNormali (None, 24, 24, 144)  576         block_3_expand[0][0]             \n",
      "__________________________________________________________________________________________________\n",
      "block_3_expand_relu (ReLU)      (None, 24, 24, 144)  0           block_3_expand_BN[0][0]          \n",
      "__________________________________________________________________________________________________\n",
      "block_3_pad (ZeroPadding2D)     (None, 25, 25, 144)  0           block_3_expand_relu[0][0]        \n",
      "__________________________________________________________________________________________________\n",
      "block_3_depthwise (DepthwiseCon (None, 12, 12, 144)  1296        block_3_pad[0][0]                \n",
      "__________________________________________________________________________________________________\n",
      "block_3_depthwise_BN (BatchNorm (None, 12, 12, 144)  576         block_3_depthwise[0][0]          \n",
      "__________________________________________________________________________________________________\n",
      "block_3_depthwise_relu (ReLU)   (None, 12, 12, 144)  0           block_3_depthwise_BN[0][0]       \n",
      "__________________________________________________________________________________________________\n",
      "block_3_project (Conv2D)        (None, 12, 12, 32)   4608        block_3_depthwise_relu[0][0]     \n",
      "__________________________________________________________________________________________________\n",
      "block_3_project_BN (BatchNormal (None, 12, 12, 32)   128         block_3_project[0][0]            \n",
      "__________________________________________________________________________________________________\n",
      "block_4_expand (Conv2D)         (None, 12, 12, 192)  6144        block_3_project_BN[0][0]         \n",
      "__________________________________________________________________________________________________\n",
      "block_4_expand_BN (BatchNormali (None, 12, 12, 192)  768         block_4_expand[0][0]             \n",
      "__________________________________________________________________________________________________\n",
      "block_4_expand_relu (ReLU)      (None, 12, 12, 192)  0           block_4_expand_BN[0][0]          \n",
      "__________________________________________________________________________________________________\n",
      "block_4_depthwise (DepthwiseCon (None, 12, 12, 192)  1728        block_4_expand_relu[0][0]        \n",
      "__________________________________________________________________________________________________\n",
      "block_4_depthwise_BN (BatchNorm (None, 12, 12, 192)  768         block_4_depthwise[0][0]          \n",
      "__________________________________________________________________________________________________\n",
      "block_4_depthwise_relu (ReLU)   (None, 12, 12, 192)  0           block_4_depthwise_BN[0][0]       \n",
      "__________________________________________________________________________________________________\n",
      "block_4_project (Conv2D)        (None, 12, 12, 32)   6144        block_4_depthwise_relu[0][0]     \n",
      "__________________________________________________________________________________________________\n",
      "block_4_project_BN (BatchNormal (None, 12, 12, 32)   128         block_4_project[0][0]            \n",
      "__________________________________________________________________________________________________\n",
      "block_4_add (Add)               (None, 12, 12, 32)   0           block_3_project_BN[0][0]         \n",
      "                                                                 block_4_project_BN[0][0]         \n",
      "__________________________________________________________________________________________________\n",
      "block_5_expand (Conv2D)         (None, 12, 12, 192)  6144        block_4_add[0][0]                \n",
      "__________________________________________________________________________________________________\n",
      "block_5_expand_BN (BatchNormali (None, 12, 12, 192)  768         block_5_expand[0][0]             \n",
      "__________________________________________________________________________________________________\n",
      "block_5_expand_relu (ReLU)      (None, 12, 12, 192)  0           block_5_expand_BN[0][0]          \n",
      "__________________________________________________________________________________________________\n",
      "block_5_depthwise (DepthwiseCon (None, 12, 12, 192)  1728        block_5_expand_relu[0][0]        \n",
      "__________________________________________________________________________________________________\n",
      "block_5_depthwise_BN (BatchNorm (None, 12, 12, 192)  768         block_5_depthwise[0][0]          \n",
      "__________________________________________________________________________________________________\n",
      "block_5_depthwise_relu (ReLU)   (None, 12, 12, 192)  0           block_5_depthwise_BN[0][0]       \n",
      "__________________________________________________________________________________________________\n",
      "block_5_project (Conv2D)        (None, 12, 12, 32)   6144        block_5_depthwise_relu[0][0]     \n",
      "__________________________________________________________________________________________________\n",
      "block_5_project_BN (BatchNormal (None, 12, 12, 32)   128         block_5_project[0][0]            \n",
      "__________________________________________________________________________________________________\n",
      "block_5_add (Add)               (None, 12, 12, 32)   0           block_4_add[0][0]                \n",
      "                                                                 block_5_project_BN[0][0]         \n",
      "__________________________________________________________________________________________________\n",
      "block_6_expand (Conv2D)         (None, 12, 12, 192)  6144        block_5_add[0][0]                \n",
      "__________________________________________________________________________________________________\n",
      "block_6_expand_BN (BatchNormali (None, 12, 12, 192)  768         block_6_expand[0][0]             \n",
      "__________________________________________________________________________________________________\n",
      "block_6_expand_relu (ReLU)      (None, 12, 12, 192)  0           block_6_expand_BN[0][0]          \n",
      "__________________________________________________________________________________________________\n",
      "block_6_pad (ZeroPadding2D)     (None, 13, 13, 192)  0           block_6_expand_relu[0][0]        \n",
      "__________________________________________________________________________________________________\n",
      "block_6_depthwise (DepthwiseCon (None, 6, 6, 192)    1728        block_6_pad[0][0]                \n",
      "__________________________________________________________________________________________________\n",
      "block_6_depthwise_BN (BatchNorm (None, 6, 6, 192)    768         block_6_depthwise[0][0]          \n",
      "__________________________________________________________________________________________________\n",
      "block_6_depthwise_relu (ReLU)   (None, 6, 6, 192)    0           block_6_depthwise_BN[0][0]       \n",
      "__________________________________________________________________________________________________\n",
      "block_6_project (Conv2D)        (None, 6, 6, 64)     12288       block_6_depthwise_relu[0][0]     \n",
      "__________________________________________________________________________________________________\n",
      "block_6_project_BN (BatchNormal (None, 6, 6, 64)     256         block_6_project[0][0]            \n",
      "__________________________________________________________________________________________________\n",
      "block_7_expand (Conv2D)         (None, 6, 6, 384)    24576       block_6_project_BN[0][0]         \n",
      "__________________________________________________________________________________________________\n",
      "block_7_expand_BN (BatchNormali (None, 6, 6, 384)    1536        block_7_expand[0][0]             \n",
      "__________________________________________________________________________________________________\n",
      "block_7_expand_relu (ReLU)      (None, 6, 6, 384)    0           block_7_expand_BN[0][0]          \n",
      "__________________________________________________________________________________________________\n",
      "block_7_depthwise (DepthwiseCon (None, 6, 6, 384)    3456        block_7_expand_relu[0][0]        \n",
      "__________________________________________________________________________________________________\n",
      "block_7_depthwise_BN (BatchNorm (None, 6, 6, 384)    1536        block_7_depthwise[0][0]          \n",
      "__________________________________________________________________________________________________\n",
      "block_7_depthwise_relu (ReLU)   (None, 6, 6, 384)    0           block_7_depthwise_BN[0][0]       \n",
      "__________________________________________________________________________________________________\n",
      "block_7_project (Conv2D)        (None, 6, 6, 64)     24576       block_7_depthwise_relu[0][0]     \n",
      "__________________________________________________________________________________________________\n",
      "block_7_project_BN (BatchNormal (None, 6, 6, 64)     256         block_7_project[0][0]            \n",
      "__________________________________________________________________________________________________\n",
      "block_7_add (Add)               (None, 6, 6, 64)     0           block_6_project_BN[0][0]         \n",
      "                                                                 block_7_project_BN[0][0]         \n",
      "__________________________________________________________________________________________________\n",
      "block_8_expand (Conv2D)         (None, 6, 6, 384)    24576       block_7_add[0][0]                \n",
      "__________________________________________________________________________________________________\n",
      "block_8_expand_BN (BatchNormali (None, 6, 6, 384)    1536        block_8_expand[0][0]             \n",
      "__________________________________________________________________________________________________\n",
      "block_8_expand_relu (ReLU)      (None, 6, 6, 384)    0           block_8_expand_BN[0][0]          \n",
      "__________________________________________________________________________________________________\n",
      "block_8_depthwise (DepthwiseCon (None, 6, 6, 384)    3456        block_8_expand_relu[0][0]        \n",
      "__________________________________________________________________________________________________\n",
      "block_8_depthwise_BN (BatchNorm (None, 6, 6, 384)    1536        block_8_depthwise[0][0]          \n",
      "__________________________________________________________________________________________________\n",
      "block_8_depthwise_relu (ReLU)   (None, 6, 6, 384)    0           block_8_depthwise_BN[0][0]       \n",
      "__________________________________________________________________________________________________\n",
      "block_8_project (Conv2D)        (None, 6, 6, 64)     24576       block_8_depthwise_relu[0][0]     \n",
      "__________________________________________________________________________________________________\n",
      "block_8_project_BN (BatchNormal (None, 6, 6, 64)     256         block_8_project[0][0]            \n",
      "__________________________________________________________________________________________________\n",
      "block_8_add (Add)               (None, 6, 6, 64)     0           block_7_add[0][0]                \n",
      "                                                                 block_8_project_BN[0][0]         \n",
      "__________________________________________________________________________________________________\n",
      "block_9_expand (Conv2D)         (None, 6, 6, 384)    24576       block_8_add[0][0]                \n",
      "__________________________________________________________________________________________________\n",
      "block_9_expand_BN (BatchNormali (None, 6, 6, 384)    1536        block_9_expand[0][0]             \n",
      "__________________________________________________________________________________________________\n",
      "block_9_expand_relu (ReLU)      (None, 6, 6, 384)    0           block_9_expand_BN[0][0]          \n",
      "__________________________________________________________________________________________________\n",
      "block_9_depthwise (DepthwiseCon (None, 6, 6, 384)    3456        block_9_expand_relu[0][0]        \n",
      "__________________________________________________________________________________________________\n",
      "block_9_depthwise_BN (BatchNorm (None, 6, 6, 384)    1536        block_9_depthwise[0][0]          \n",
      "__________________________________________________________________________________________________\n",
      "block_9_depthwise_relu (ReLU)   (None, 6, 6, 384)    0           block_9_depthwise_BN[0][0]       \n",
      "__________________________________________________________________________________________________\n",
      "block_9_project (Conv2D)        (None, 6, 6, 64)     24576       block_9_depthwise_relu[0][0]     \n",
      "__________________________________________________________________________________________________\n",
      "block_9_project_BN (BatchNormal (None, 6, 6, 64)     256         block_9_project[0][0]            \n",
      "__________________________________________________________________________________________________\n",
      "block_9_add (Add)               (None, 6, 6, 64)     0           block_8_add[0][0]                \n",
      "                                                                 block_9_project_BN[0][0]         \n",
      "__________________________________________________________________________________________________\n",
      "block_10_expand (Conv2D)        (None, 6, 6, 384)    24576       block_9_add[0][0]                \n",
      "__________________________________________________________________________________________________\n",
      "block_10_expand_BN (BatchNormal (None, 6, 6, 384)    1536        block_10_expand[0][0]            \n",
      "__________________________________________________________________________________________________\n",
      "block_10_expand_relu (ReLU)     (None, 6, 6, 384)    0           block_10_expand_BN[0][0]         \n",
      "__________________________________________________________________________________________________\n",
      "block_10_depthwise (DepthwiseCo (None, 6, 6, 384)    3456        block_10_expand_relu[0][0]       \n",
      "__________________________________________________________________________________________________\n",
      "block_10_depthwise_BN (BatchNor (None, 6, 6, 384)    1536        block_10_depthwise[0][0]         \n",
      "__________________________________________________________________________________________________\n",
      "block_10_depthwise_relu (ReLU)  (None, 6, 6, 384)    0           block_10_depthwise_BN[0][0]      \n",
      "__________________________________________________________________________________________________\n",
      "block_10_project (Conv2D)       (None, 6, 6, 96)     36864       block_10_depthwise_relu[0][0]    \n",
      "__________________________________________________________________________________________________\n",
      "block_10_project_BN (BatchNorma (None, 6, 6, 96)     384         block_10_project[0][0]           \n",
      "__________________________________________________________________________________________________\n",
      "block_11_expand (Conv2D)        (None, 6, 6, 576)    55296       block_10_project_BN[0][0]        \n",
      "__________________________________________________________________________________________________\n",
      "block_11_expand_BN (BatchNormal (None, 6, 6, 576)    2304        block_11_expand[0][0]            \n",
      "__________________________________________________________________________________________________\n",
      "block_11_expand_relu (ReLU)     (None, 6, 6, 576)    0           block_11_expand_BN[0][0]         \n",
      "__________________________________________________________________________________________________\n",
      "block_11_depthwise (DepthwiseCo (None, 6, 6, 576)    5184        block_11_expand_relu[0][0]       \n",
      "__________________________________________________________________________________________________\n",
      "block_11_depthwise_BN (BatchNor (None, 6, 6, 576)    2304        block_11_depthwise[0][0]         \n",
      "__________________________________________________________________________________________________\n",
      "block_11_depthwise_relu (ReLU)  (None, 6, 6, 576)    0           block_11_depthwise_BN[0][0]      \n",
      "__________________________________________________________________________________________________\n",
      "block_11_project (Conv2D)       (None, 6, 6, 96)     55296       block_11_depthwise_relu[0][0]    \n",
      "__________________________________________________________________________________________________\n",
      "block_11_project_BN (BatchNorma (None, 6, 6, 96)     384         block_11_project[0][0]           \n",
      "__________________________________________________________________________________________________\n",
      "block_11_add (Add)              (None, 6, 6, 96)     0           block_10_project_BN[0][0]        \n",
      "                                                                 block_11_project_BN[0][0]        \n",
      "__________________________________________________________________________________________________\n",
      "block_12_expand (Conv2D)        (None, 6, 6, 576)    55296       block_11_add[0][0]               \n",
      "__________________________________________________________________________________________________\n",
      "block_12_expand_BN (BatchNormal (None, 6, 6, 576)    2304        block_12_expand[0][0]            \n",
      "__________________________________________________________________________________________________\n",
      "block_12_expand_relu (ReLU)     (None, 6, 6, 576)    0           block_12_expand_BN[0][0]         \n",
      "__________________________________________________________________________________________________\n",
      "block_12_depthwise (DepthwiseCo (None, 6, 6, 576)    5184        block_12_expand_relu[0][0]       \n",
      "__________________________________________________________________________________________________\n",
      "block_12_depthwise_BN (BatchNor (None, 6, 6, 576)    2304        block_12_depthwise[0][0]         \n",
      "__________________________________________________________________________________________________\n",
      "block_12_depthwise_relu (ReLU)  (None, 6, 6, 576)    0           block_12_depthwise_BN[0][0]      \n",
      "__________________________________________________________________________________________________\n",
      "block_12_project (Conv2D)       (None, 6, 6, 96)     55296       block_12_depthwise_relu[0][0]    \n",
      "__________________________________________________________________________________________________\n",
      "block_12_project_BN (BatchNorma (None, 6, 6, 96)     384         block_12_project[0][0]           \n",
      "__________________________________________________________________________________________________\n",
      "block_12_add (Add)              (None, 6, 6, 96)     0           block_11_add[0][0]               \n",
      "                                                                 block_12_project_BN[0][0]        \n",
      "__________________________________________________________________________________________________\n",
      "block_13_expand (Conv2D)        (None, 6, 6, 576)    55296       block_12_add[0][0]               \n",
      "__________________________________________________________________________________________________\n",
      "block_13_expand_BN (BatchNormal (None, 6, 6, 576)    2304        block_13_expand[0][0]            \n",
      "__________________________________________________________________________________________________\n",
      "block_13_expand_relu (ReLU)     (None, 6, 6, 576)    0           block_13_expand_BN[0][0]         \n",
      "__________________________________________________________________________________________________\n",
      "block_13_pad (ZeroPadding2D)    (None, 7, 7, 576)    0           block_13_expand_relu[0][0]       \n",
      "__________________________________________________________________________________________________\n",
      "block_13_depthwise (DepthwiseCo (None, 3, 3, 576)    5184        block_13_pad[0][0]               \n",
      "__________________________________________________________________________________________________\n",
      "block_13_depthwise_BN (BatchNor (None, 3, 3, 576)    2304        block_13_depthwise[0][0]         \n",
      "__________________________________________________________________________________________________\n",
      "block_13_depthwise_relu (ReLU)  (None, 3, 3, 576)    0           block_13_depthwise_BN[0][0]      \n",
      "__________________________________________________________________________________________________\n",
      "block_13_project (Conv2D)       (None, 3, 3, 160)    92160       block_13_depthwise_relu[0][0]    \n",
      "__________________________________________________________________________________________________\n",
      "block_13_project_BN (BatchNorma (None, 3, 3, 160)    640         block_13_project[0][0]           \n",
      "__________________________________________________________________________________________________\n",
      "block_14_expand (Conv2D)        (None, 3, 3, 960)    153600      block_13_project_BN[0][0]        \n",
      "__________________________________________________________________________________________________\n",
      "block_14_expand_BN (BatchNormal (None, 3, 3, 960)    3840        block_14_expand[0][0]            \n",
      "__________________________________________________________________________________________________\n",
      "block_14_expand_relu (ReLU)     (None, 3, 3, 960)    0           block_14_expand_BN[0][0]         \n",
      "__________________________________________________________________________________________________\n",
      "block_14_depthwise (DepthwiseCo (None, 3, 3, 960)    8640        block_14_expand_relu[0][0]       \n",
      "__________________________________________________________________________________________________\n",
      "block_14_depthwise_BN (BatchNor (None, 3, 3, 960)    3840        block_14_depthwise[0][0]         \n",
      "__________________________________________________________________________________________________\n",
      "block_14_depthwise_relu (ReLU)  (None, 3, 3, 960)    0           block_14_depthwise_BN[0][0]      \n",
      "__________________________________________________________________________________________________\n",
      "block_14_project (Conv2D)       (None, 3, 3, 160)    153600      block_14_depthwise_relu[0][0]    \n",
      "__________________________________________________________________________________________________\n",
      "block_14_project_BN (BatchNorma (None, 3, 3, 160)    640         block_14_project[0][0]           \n",
      "__________________________________________________________________________________________________\n",
      "block_14_add (Add)              (None, 3, 3, 160)    0           block_13_project_BN[0][0]        \n",
      "                                                                 block_14_project_BN[0][0]        \n",
      "__________________________________________________________________________________________________\n",
      "block_15_expand (Conv2D)        (None, 3, 3, 960)    153600      block_14_add[0][0]               \n",
      "__________________________________________________________________________________________________\n",
      "block_15_expand_BN (BatchNormal (None, 3, 3, 960)    3840        block_15_expand[0][0]            \n",
      "__________________________________________________________________________________________________\n",
      "block_15_expand_relu (ReLU)     (None, 3, 3, 960)    0           block_15_expand_BN[0][0]         \n",
      "__________________________________________________________________________________________________\n",
      "block_15_depthwise (DepthwiseCo (None, 3, 3, 960)    8640        block_15_expand_relu[0][0]       \n",
      "__________________________________________________________________________________________________\n",
      "block_15_depthwise_BN (BatchNor (None, 3, 3, 960)    3840        block_15_depthwise[0][0]         \n",
      "__________________________________________________________________________________________________\n",
      "block_15_depthwise_relu (ReLU)  (None, 3, 3, 960)    0           block_15_depthwise_BN[0][0]      \n",
      "__________________________________________________________________________________________________\n",
      "block_15_project (Conv2D)       (None, 3, 3, 160)    153600      block_15_depthwise_relu[0][0]    \n",
      "__________________________________________________________________________________________________\n",
      "block_15_project_BN (BatchNorma (None, 3, 3, 160)    640         block_15_project[0][0]           \n",
      "__________________________________________________________________________________________________\n",
      "block_15_add (Add)              (None, 3, 3, 160)    0           block_14_add[0][0]               \n",
      "                                                                 block_15_project_BN[0][0]        \n",
      "__________________________________________________________________________________________________\n",
      "block_16_expand (Conv2D)        (None, 3, 3, 960)    153600      block_15_add[0][0]               \n",
      "__________________________________________________________________________________________________\n",
      "block_16_expand_BN (BatchNormal (None, 3, 3, 960)    3840        block_16_expand[0][0]            \n",
      "__________________________________________________________________________________________________\n",
      "block_16_expand_relu (ReLU)     (None, 3, 3, 960)    0           block_16_expand_BN[0][0]         \n",
      "__________________________________________________________________________________________________\n",
      "block_16_depthwise (DepthwiseCo (None, 3, 3, 960)    8640        block_16_expand_relu[0][0]       \n",
      "__________________________________________________________________________________________________\n",
      "block_16_depthwise_BN (BatchNor (None, 3, 3, 960)    3840        block_16_depthwise[0][0]         \n",
      "__________________________________________________________________________________________________\n",
      "block_16_depthwise_relu (ReLU)  (None, 3, 3, 960)    0           block_16_depthwise_BN[0][0]      \n",
      "__________________________________________________________________________________________________\n",
      "block_16_project (Conv2D)       (None, 3, 3, 320)    307200      block_16_depthwise_relu[0][0]    \n",
      "__________________________________________________________________________________________________\n",
      "block_16_project_BN (BatchNorma (None, 3, 3, 320)    1280        block_16_project[0][0]           \n",
      "__________________________________________________________________________________________________\n",
      "Conv_1 (Conv2D)                 (None, 3, 3, 1280)   409600      block_16_project_BN[0][0]        \n",
      "__________________________________________________________________________________________________\n",
      "Conv_1_bn (BatchNormalization)  (None, 3, 3, 1280)   5120        Conv_1[0][0]                     \n",
      "__________________________________________________________________________________________________\n",
      "out_relu (ReLU)                 (None, 3, 3, 1280)   0           Conv_1_bn[0][0]                  \n",
      "==================================================================================================\n",
      "Total params: 2,257,984\n",
      "Trainable params: 0\n",
      "Non-trainable params: 2,257,984\n",
      "__________________________________________________________________________________________________\n"
     ]
    }
   ],
   "source": [
    "model = tf.keras.applications.MobileNetV2(input_shape=(96,96,3),include_top=False,\n",
    "                                               weights='imagenet')\n",
    "model.trainable=False\n",
    "model.summary()\n",
    "\n"
   ]
  },
  {
   "cell_type": "markdown",
   "metadata": {},
   "source": [
    "### 2e) Replace output layer\n",
    "\n",
    "**TODO:**\n",
    "- Create a Dense layer object with the correct number of units to deal with the hot-dog or not problem, which will be the new output layer. https://www.tensorflow.org/api_docs/python/tf/keras/layers/Dense\n",
    "- Create a new `keras/Sequential` model object composed of a Python list of the following:\n",
    "    - the original model object\n",
    "    - \"Flatten layer\"\n",
    "    - the dense output layer\n",
    "- Compile the augmented model with the Adam optimizer (learning rate of 0.0001), binary_crossentropy loss, and accuracy metric. https://www.tensorflow.org/api_docs/python/tf/keras/optimizers/Adam https://www.tensorflow.org/api_docs/python/tf/losses\n",
    "\n",
    "A summary on the augmented model should yield:\n",
    "\n",
    "    Layer (type)                 Output Shape              Param #   \n",
    "    =================================================================\n",
    "    mobilenetv2_1.00_96 (Model)  (None, 3, 3, 1280)        2257984   \n",
    "    _________________________________________________________________\n",
    "    flatten_4 (Flatten)          (None, 11520)             0         \n",
    "    _________________________________________________________________\n",
    "    dense_4 (Dense)              (None, 1)                 11521     \n",
    "    =================================================================\n",
    "    Total params: 2,269,505\n",
    "    Trainable params: 11,521\n",
    "    Non-trainable params: 2,257,984"
   ]
  },
  {
   "cell_type": "markdown",
   "metadata": {},
   "source": [
    "**Question 3:** What is the accuracy and loss for the network with the untrained output layer?\n",
    "**Answer:** Our accuracy is 50.2% and our loss is 7.64.\n",
    "\n",
    "**Question 4:** Briefly defend your choice of number of units in the output layer.\n",
    "\n",
    "**Answer:** Two different classes exist, hot dog or not hot dog. If we only have one output, that it is a hot dog, then everything else will be 0 if it is not a hot dog. Thus, we only need one output node."
   ]
  },
  {
   "cell_type": "code",
   "execution_count": 15,
   "metadata": {},
   "outputs": [
    {
     "name": "stdout",
     "output_type": "stream",
     "text": [
      "Model: \"sequential_1\"\n",
      "_________________________________________________________________\n",
      "Layer (type)                 Output Shape              Param #   \n",
      "=================================================================\n",
      "mobilenetv2_1.00_96 (Model)  (None, 3, 3, 1280)        2257984   \n",
      "_________________________________________________________________\n",
      "flatten_1 (Flatten)          (None, 11520)             0         \n",
      "_________________________________________________________________\n",
      "dense_2 (Dense)              (None, 1)                 11521     \n",
      "=================================================================\n",
      "Total params: 2,269,505\n",
      "Trainable params: 11,521\n",
      "Non-trainable params: 2,257,984\n",
      "_________________________________________________________________\n",
      "4000/1 - 41s - loss: 1.0322 - accuracy: 0.4803\n",
      "Accuracy: 0.4802500009536743, Loss: 1.0659682302474975\n"
     ]
    }
   ],
   "source": [
    "mn_model = tf.keras.Sequential([\n",
    "    model,\n",
    "    tf.keras.layers.Flatten(),\n",
    "    tf.keras.layers.Dense(units=1, activation='sigmoid')\n",
    "])\n",
    "mn_model.summary()\n",
    "mn_model.compile(optimizer='adam', learning_rate=.0001,\n",
    "                 loss='binary_crossentropy',\n",
    "                 metrics=['accuracy'])\n",
    "\n",
    "loss, acc = mn_model.evaluate(hotdog_test_x, hotdog_test_y, verbose=2)\n",
    "print(f'Accuracy: {acc}, Loss: {loss}')"
   ]
  },
  {
   "cell_type": "markdown",
   "metadata": {},
   "source": [
    "### 2f) Fit the augmented model on the hotdog training data\n",
    "\n",
    "**Notes**\n",
    "- Remember to also pass in the hotdog validation data. Train for 10 epochs with a batch size of 32.\n",
    "- Setting the verbose optional parameter to 2 will give you helpful printouts of performance on the validation set as it completes every epoch of training.\n",
    "\n",
    "\n",
    "**NOTE:**\n",
    "- If training time is taking much more 2.5 minutes per epoch on your computer, you could try reducing the number of data samples in train and validation. For example, by default train `N = 12800`. Try `N = 6400` instead. You could do the same for the validation set."
   ]
  },
  {
   "cell_type": "code",
   "execution_count": 16,
   "metadata": {},
   "outputs": [
    {
     "name": "stdout",
     "output_type": "stream",
     "text": [
      "Train on 12800 samples, validate on 3200 samples\n",
      "Epoch 1/10\n",
      "12800/12800 - 563s - loss: 0.5160 - accuracy: 0.7849 - val_loss: 0.6345 - val_accuracy: 0.7841\n",
      "Epoch 2/10\n",
      "12800/12800 - 494s - loss: 0.3766 - accuracy: 0.8490 - val_loss: 1.2810 - val_accuracy: 0.6931\n",
      "Epoch 3/10\n",
      "12800/12800 - 570s - loss: 0.3383 - accuracy: 0.8681 - val_loss: 0.5551 - val_accuracy: 0.8169\n",
      "Epoch 4/10\n",
      "12800/12800 - 533s - loss: 0.3052 - accuracy: 0.8809 - val_loss: 0.6893 - val_accuracy: 0.7956\n",
      "Epoch 5/10\n",
      "12800/12800 - 492s - loss: 0.3085 - accuracy: 0.8827 - val_loss: 0.9803 - val_accuracy: 0.7572\n",
      "Epoch 6/10\n",
      "12800/12800 - 477s - loss: 0.2788 - accuracy: 0.8943 - val_loss: 0.6616 - val_accuracy: 0.8194\n",
      "Epoch 7/10\n",
      "12800/12800 - 443s - loss: 0.2805 - accuracy: 0.8942 - val_loss: 0.7367 - val_accuracy: 0.8031\n",
      "Epoch 8/10\n",
      "12800/12800 - 495s - loss: 0.2822 - accuracy: 0.8977 - val_loss: 0.6866 - val_accuracy: 0.8163\n",
      "Epoch 9/10\n",
      "12800/12800 - 455s - loss: 0.3082 - accuracy: 0.8938 - val_loss: 0.7898 - val_accuracy: 0.8022\n",
      "Epoch 10/10\n",
      "12800/12800 - 1238s - loss: 0.2749 - accuracy: 0.9021 - val_loss: 0.7281 - val_accuracy: 0.8138\n"
     ]
    }
   ],
   "source": [
    "hist = mn_model.fit(hotdog_train_x, hotdog_train_y, \n",
    "                    validation_data=(hotdog_val_x,hotdog_val_y),\n",
    "                     epochs=10,\n",
    "                     verbose=2,\n",
    "                     batch_size=32)"
   ]
  },
  {
   "cell_type": "markdown",
   "metadata": {},
   "source": [
    "### 2g) Plot hotdog results\n",
    "\n",
    "Produce 2 high quality plots showing the following:\n",
    "\n",
    "- Training and validation loss over epoch.\n",
    "- Training and validation accuracy over epoch."
   ]
  },
  {
   "cell_type": "code",
   "execution_count": 17,
   "metadata": {},
   "outputs": [
    {
     "data": {
      "image/png": "[encoded data removed]",
      "text/plain": [
       "<Figure size 432x288 with 1 Axes>"
      ]
     },
     "metadata": {
      "needs_background": "light"
     },
     "output_type": "display_data"
    }
   ],
   "source": [
    "plt.plot(hist.history[\"accuracy\"], label=\"Training Accuracy\", color=\"green\")\n",
    "plt.plot(hist.history[\"val_accuracy\"], label=\"Validation Accuracy\", color=\"blue\")\n",
    "plt.title(\"Accuracy Over Epochs\")\n",
    "plt.ylabel(\"Accuracy\")\n",
    "plt.xlabel(\"Training Epochs\")\n",
    "plt.legend()\n",
    "plt.show()"
   ]
  },
  {
   "cell_type": "code",
   "execution_count": 18,
   "metadata": {},
   "outputs": [
    {
     "data": {
      "image/png": "[encoded data removed]",
      "text/plain": [
       "<Figure size 432x288 with 1 Axes>"
      ]
     },
     "metadata": {
      "needs_background": "light"
     },
     "output_type": "display_data"
    }
   ],
   "source": [
    "plt.plot(hist.history[\"loss\"], label=\"Training Loss\", color=\"green\")\n",
    "plt.plot(hist.history[\"val_loss\"], label=\"Validation Loss\", color=\"blue\")\n",
    "plt.title(\"Loss Over Epochs\")\n",
    "plt.ylabel(\"Loss\")\n",
    "plt.xlabel(\"Training Epochs\")\n",
    "plt.legend()\n",
    "plt.show()"
   ]
  },
  {
   "cell_type": "code",
   "execution_count": 19,
   "metadata": {},
   "outputs": [
    {
     "name": "stdout",
     "output_type": "stream",
     "text": [
      "4000/1 - 47s - loss: 0.5166 - accuracy: 0.8095\n",
      "Accuracy: 0.809499979019165, Loss: 0.7606305013895035\n"
     ]
    }
   ],
   "source": [
    "loss, acc = mn_model.evaluate(hotdog_test_x, hotdog_test_y, verbose=2)\n",
    "print(f'Accuracy: {acc}, Loss: {loss}')"
   ]
  },
  {
   "cell_type": "markdown",
   "metadata": {},
   "source": [
    "**Question 5:** What accuracy do you achieve on the test set? Briefly summarize the hyperparameters that were used in your model."
   ]
  },
  {
   "cell_type": "markdown",
   "metadata": {},
   "source": [
    "**Answer:** We achieve about 80.95% accuracy with a learning rate of .0001. We had a batch size of 32 and only ran for 10 epochs."
   ]
  }
 ],
 "metadata": {
  "kernelspec": {
   "display_name": "Python 3",
   "language": "python",
   "name": "python3"
  },
  "language_info": {
   "codemirror_mode": {
    "name": "ipython",
    "version": 3
   },
   "file_extension": ".py",
   "mimetype": "text/x-python",
   "name": "python",
   "nbconvert_exporter": "python",
   "pygments_lexer": "ipython3",
   "version": "3.7.3"
  },
  "varInspector": {
   "cols": {
    "lenName": 16,
    "lenType": 16,
    "lenVar": 40
   },
   "kernels_config": {
    "python": {
     "delete_cmd_postfix": "",
     "delete_cmd_prefix": "del ",
     "library": "var_list.py",
     "varRefreshCmd": "print(var_dic_list())"
    },
    "r": {
     "delete_cmd_postfix": ") ",
     "delete_cmd_prefix": "rm(",
     "library": "var_list.r",
     "varRefreshCmd": "cat(var_dic_list()) "
    }
   },
   "types_to_exclude": [
    "module",
    "function",
    "builtin_function_or_method",
    "instance",
    "_Feature"
   ],
   "window_display": false
  }
 },
 "nbformat": 4,
 "nbformat_minor": 2
}
