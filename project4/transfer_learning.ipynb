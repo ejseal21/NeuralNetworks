{
 "cells": [
  {
   "cell_type": "markdown",
   "metadata": {},
   "source": [
    "**Cole Turner and Ethan Seal**\n",
    "\n",
    "Fall 2019\n",
    "\n",
    "CS343: Neural Networks\n",
    "\n",
    "Project 4: Transfer Learning"
   ]
  },
  {
   "cell_type": "code",
   "execution_count": 104,
   "metadata": {},
   "outputs": [
    {
     "name": "stdout",
     "output_type": "stream",
     "text": [
      "The autoreload extension is already loaded. To reload it, use:\n",
      "  %reload_ext autoreload\n"
     ]
    }
   ],
   "source": [
    "import os\n",
    "import random\n",
    "import numpy as np\n",
    "import matplotlib.pyplot as plt\n",
    "import tensorflow as tf\n",
    "\n",
    "plt.style.use(['seaborn-colorblind', 'seaborn-darkgrid'])\n",
    "plt.rcParams.update({'font.size': 20})\n",
    "\n",
    "np.set_printoptions(suppress=True, precision=3)\n",
    "rgen = np.random.RandomState(1)\n",
    "\n",
    "# Automatically reload external modules\n",
    "%load_ext autoreload\n",
    "%autoreload 2"
   ]
  },
  {
   "cell_type": "markdown",
   "metadata": {},
   "source": [
    "*Sanity check that Tensorflow is installed correctly:*\n",
    "\n",
    "Executing the following cell should return 3 "
   ]
  },
  {
   "cell_type": "code",
   "execution_count": 2,
   "metadata": {},
   "outputs": [
    {
     "name": "stdout",
     "output_type": "stream",
     "text": [
      "3\r\n"
     ]
    }
   ],
   "source": [
    "tf.print(tf.reduce_sum([tf.Variable(1), tf.Variable(2)]))"
   ]
  },
  {
   "cell_type": "markdown",
   "metadata": {},
   "source": [
    "## Task 1) Implement ConvNet4 in Tensorflow, train/test on STL-10\n",
    "\n",
    "### 1a) Use the high level `Keras::Sequential` API in Tensorflow 2.0 to implement the architecture of ConvNet4 from the last project. Train and test your network on the STL-10 dataset. \n",
    "\n",
    "Recall the `Keras::Sequential` common worflow:\n",
    "\n",
    "- Build structure of network with `keras::Sequential`.\n",
    "- Compile network with your choice of optimizer, loss, and metrics.\n",
    "- Fit the model (remembering to pass in the appropriate training and validation sets). This results a history object that can be used to examine training/validation accuracy and loss.\n",
    "- Evaluate the model on the test set. This returns test loss and accuracy.\n",
    "\n",
    "**Notes**:\n",
    "- You should use the usual STL-10 data acquistion and preprocessing code from your last project.\n",
    "- You don't need to do a hyperparameter search. Values that worked on the CNN project should get you in the ballpark here. The goal is to show that you know how to put together a `keras::Sequential` model and have it work successfully.\n",
    "- Tensorflow needs the RGB color channel AFTER the spatial dimensions. For example: (64, 64, 3), not (3, 64, 64). You may therefore need to slightly modify the preprocesssing pipeline for this project."
   ]
  },
  {
   "cell_type": "markdown",
   "metadata": {},
   "source": [
    "These documentation pages should be helpful:\n",
    "- https://www.tensorflow.org/api_docs/python/tf/keras/Sequential\n",
    "- https://www.tensorflow.org/api_docs/python/tf/keras/Model#compile\n",
    "- https://www.tensorflow.org/api_docs/python/tf/keras/Model#evaluate\n",
    "- https://www.tensorflow.org/api_docs/python/tf/keras/Model#fit\n",
    "- https://www.tensorflow.org/api_docs/python/tf/keras/Model#summary"
   ]
  },
  {
   "cell_type": "code",
   "execution_count": 3,
   "metadata": {},
   "outputs": [],
   "source": [
    "import load_stl10_dataset\n",
    "from preprocess_data import preprocess_stl, create_splits"
   ]
  },
  {
   "cell_type": "code",
   "execution_count": 93,
   "metadata": {},
   "outputs": [
    {
     "name": "stdout",
     "output_type": "stream",
     "text": [
      "Found cached numpy arrays the images and labels. Loading them...\n",
      "Images are: (5000, 32, 32, 3)\n",
      "Labels are: (5000,)\n"
     ]
    }
   ],
   "source": [
    "\n",
    "stl_imgs, stl_labels = load_stl10_dataset.load()"
   ]
  },
  {
   "cell_type": "code",
   "execution_count": 5,
   "metadata": {},
   "outputs": [],
   "source": [
    "classes = np.loadtxt(os.path.join('data', 'stl10_binary', 'class_names.txt'), dtype=str)"
   ]
  },
  {
   "cell_type": "code",
   "execution_count": 6,
   "metadata": {},
   "outputs": [
    {
     "name": "stdout",
     "output_type": "stream",
     "text": [
      "imgs.shape (5000, 32, 32, 3)\n",
      "stl_imgs dtype is float64 and it should be float64\n",
      "stl_imgs max is 0.668 and it should be 0.668\n",
      "stl_imgs shape is (5000, 32, 32, 3) and it should be (5000, 32, 32, 3)\n",
      "stl_labels span 0->9 and it should be 0->9\n"
     ]
    }
   ],
   "source": [
    "# Preprocess image pixel values for the MLP net\n",
    "stl_imgs, stl_labels = preprocess_stl(stl_imgs, stl_labels)\n",
    "print(f'stl_imgs dtype is {stl_imgs.dtype} and it should be float64')\n",
    "print(f'stl_imgs max is {np.max(stl_imgs[:, 1:]):.3f} and it should be 0.668')\n",
    "print(f'stl_imgs shape is {stl_imgs.shape} and it should be (5000, 32, 32, 3)')\n",
    "print(f'stl_labels span {stl_labels.min()}->{stl_labels.max()} and it should be 0->9')"
   ]
  },
  {
   "cell_type": "code",
   "execution_count": 7,
   "metadata": {},
   "outputs": [
    {
     "name": "stdout",
     "output_type": "stream",
     "text": [
      "data.shape (5000, 32, 32, 3)\n",
      "Train data shape:  (3500, 32, 32, 3)\n",
      "Train labels shape:  (3500,)\n",
      "Test data shape:  (500, 32, 32, 3)\n",
      "Test labels shape:  (500,)\n",
      "Validation data shape:  (500, 32, 32, 3)\n",
      "Validation labels shape:  (500,)\n",
      "dev data shape:  (500, 32, 32, 3)\n",
      "dev labels shape:  (500,)\n"
     ]
    }
   ],
   "source": [
    "x_train, y_train, x_test, y_test, x_val, y_val, x_dev, y_dev = create_splits(stl_imgs, stl_labels)  \n",
    "print ('Train data shape: ', x_train.shape)\n",
    "print ('Train labels shape: ', y_train.shape)\n",
    "print ('Test data shape: ', x_test.shape)\n",
    "print ('Test labels shape: ', y_test.shape)\n",
    "print ('Validation data shape: ', x_val.shape)\n",
    "print ('Validation labels shape: ', y_val.shape)\n",
    "print ('dev data shape: ', x_dev.shape)\n",
    "print ('dev labels shape: ', y_dev.shape)"
   ]
  },
  {
   "cell_type": "markdown",
   "metadata": {},
   "source": [
    "### 1b) Make 2 \"high quality\" plots showing the following\n",
    "\n",
    "- Plot the training and validation accuracy (y axis) over training epochs (x axis).\n",
    "- Plot the training and validation loss (y axis) over epochs (x axis).\n",
    "\n",
    "A high quality plot consists of:\n",
    "- A useful title\n",
    "- X and Y axis labels\n",
    "- A legend"
   ]
  },
  {
   "cell_type": "code",
   "execution_count": 21,
   "metadata": {},
   "outputs": [
    {
     "name": "stdout",
     "output_type": "stream",
     "text": [
      "Model: \"sequential_2\"\n",
      "_________________________________________________________________\n",
      "Layer (type)                 Output Shape              Param #   \n",
      "=================================================================\n",
      "conv2d_1 (Conv2D)            (None, 32, 32, 32)        4736      \n",
      "_________________________________________________________________\n",
      "max_pooling2d_1 (MaxPooling2 (None, 16, 16, 32)        0         \n",
      "_________________________________________________________________\n",
      "flatten_2 (Flatten)          (None, 8192)              0         \n",
      "_________________________________________________________________\n",
      "dense_3 (Dense)              (None, 100)               819300    \n",
      "_________________________________________________________________\n",
      "dense_4 (Dense)              (None, 10)                1010      \n",
      "=================================================================\n",
      "Total params: 825,046\n",
      "Trainable params: 825,046\n",
      "Non-trainable params: 0\n",
      "_________________________________________________________________\n",
      "Train on 3500 samples, validate on 500 samples\n",
      "Epoch 1/20\n",
      "3500/3500 - 18s - loss: 1.8040 - accuracy: 0.3240 - val_loss: 1.4844 - val_accuracy: 0.4120\n",
      "Epoch 2/20\n",
      "3500/3500 - 17s - loss: 1.4458 - accuracy: 0.4726 - val_loss: 1.3991 - val_accuracy: 0.4680\n",
      "Epoch 3/20\n",
      "3500/3500 - 16s - loss: 1.2068 - accuracy: 0.5557 - val_loss: 1.3242 - val_accuracy: 0.5000\n",
      "Epoch 4/20\n",
      "3500/3500 - 17s - loss: 1.0194 - accuracy: 0.6331 - val_loss: 1.3689 - val_accuracy: 0.4880\n",
      "Epoch 5/20\n",
      "3500/3500 - 16s - loss: 0.7936 - accuracy: 0.7129 - val_loss: 1.4729 - val_accuracy: 0.4880\n",
      "Epoch 6/20\n",
      "3500/3500 - 17s - loss: 0.6020 - accuracy: 0.7911 - val_loss: 1.6022 - val_accuracy: 0.5040\n",
      "Epoch 7/20\n",
      "3500/3500 - 18s - loss: 0.4411 - accuracy: 0.8497 - val_loss: 1.7868 - val_accuracy: 0.5140\n",
      "Epoch 8/20\n",
      "3500/3500 - 17s - loss: 0.2995 - accuracy: 0.9020 - val_loss: 1.9399 - val_accuracy: 0.5140\n",
      "Epoch 9/20\n",
      "3500/3500 - 17s - loss: 0.2506 - accuracy: 0.9169 - val_loss: 2.1738 - val_accuracy: 0.5180\n",
      "Epoch 10/20\n",
      "3500/3500 - 17s - loss: 0.1732 - accuracy: 0.9491 - val_loss: 2.2004 - val_accuracy: 0.4980\n",
      "Epoch 11/20\n",
      "3500/3500 - 18s - loss: 0.1658 - accuracy: 0.9517 - val_loss: 2.6643 - val_accuracy: 0.4980\n",
      "Epoch 12/20\n",
      "3500/3500 - 17s - loss: 0.1259 - accuracy: 0.9620 - val_loss: 2.7594 - val_accuracy: 0.5020\n",
      "Epoch 13/20\n",
      "3500/3500 - 17s - loss: 0.1340 - accuracy: 0.9580 - val_loss: 2.6441 - val_accuracy: 0.5200\n",
      "Epoch 14/20\n",
      "3500/3500 - 17s - loss: 0.1198 - accuracy: 0.9591 - val_loss: 2.7692 - val_accuracy: 0.5100\n",
      "Epoch 15/20\n",
      "3500/3500 - 17s - loss: 0.0788 - accuracy: 0.9809 - val_loss: 3.2368 - val_accuracy: 0.4840\n",
      "Epoch 16/20\n",
      "3500/3500 - 17s - loss: 0.0747 - accuracy: 0.9817 - val_loss: 3.3448 - val_accuracy: 0.4780\n",
      "Epoch 17/20\n",
      "3500/3500 - 16s - loss: 0.0417 - accuracy: 0.9900 - val_loss: 3.2956 - val_accuracy: 0.5260\n",
      "Epoch 18/20\n",
      "3500/3500 - 17s - loss: 0.1161 - accuracy: 0.9654 - val_loss: 3.4718 - val_accuracy: 0.4880\n",
      "Epoch 19/20\n",
      "3500/3500 - 17s - loss: 0.0752 - accuracy: 0.9783 - val_loss: 3.6915 - val_accuracy: 0.4820\n",
      "Epoch 20/20\n",
      "3500/3500 - 17s - loss: 0.0542 - accuracy: 0.9817 - val_loss: 4.0087 - val_accuracy: 0.5000\n"
     ]
    }
   ],
   "source": [
    "model = tf.keras.Sequential([ \n",
    "    tf.keras.layers.Conv2D(input_shape=stl_imgs.shape[1:],filters=32, kernel_size=(7,7),padding=\"same\", activation='relu',),\n",
    "    tf.keras.layers.MaxPool2D(pool_size=2, strides=2, padding='valid', data_format=\"channels_last\" ),\n",
    "    tf.keras.layers.Flatten(input_shape=(16,16,32)),\n",
    "    tf.keras.layers.Dense(units=100, activation=\"relu\"),\n",
    "    tf.keras.layers.Dense(units=10, activation=\"softmax\") \n",
    "]) \n",
    "model.summary()\n",
    "model.compile(optimizer=\"adam\", loss=\"sparse_categorical_crossentropy\", metrics=['accuracy']) \n",
    "hist = model.fit(x_train, y_train, batch_size=4, epochs=20, validation_data=(x_val, y_val), verbose=2)"
   ]
  },
  {
   "cell_type": "code",
   "execution_count": 22,
   "metadata": {},
   "outputs": [
    {
     "data": {
      "image/png": "[encoded data removed]",
      "text/plain": [
       "<Figure size 432x288 with 1 Axes>"
      ]
     },
     "metadata": {
      "needs_background": "light"
     },
     "output_type": "display_data"
    }
   ],
   "source": [
    "plt.plot(hist.history[\"accuracy\"], label=\"Training Accuracy\", color=\"green\")\n",
    "plt.plot(hist.history[\"val_accuracy\"], label=\"Validation Accuracy\", color=\"blue\")\n",
    "plt.title(\"Accuracy Over Epochs\")\n",
    "plt.ylabel(\"Accuracy\")\n",
    "plt.xlabel(\"Training Epochs\")\n",
    "plt.legend()\n",
    "plt.show()\n"
   ]
  },
  {
   "cell_type": "code",
   "execution_count": 23,
   "metadata": {},
   "outputs": [
    {
     "data": {
      "image/png": "[encoded data removed]",
      "text/plain": [
       "<Figure size 432x288 with 1 Axes>"
      ]
     },
     "metadata": {
      "needs_background": "light"
     },
     "output_type": "display_data"
    }
   ],
   "source": [
    "plt.plot(hist.history[\"loss\"], label=\"Training Loss\", color=\"green\")\n",
    "plt.plot(hist.history[\"val_loss\"], label=\"Validation Loss\", color=\"blue\")\n",
    "plt.title(\"Loss Over Epochs\")\n",
    "plt.ylabel(\"Loss\")\n",
    "plt.xlabel(\"Training Epochs\")\n",
    "plt.legend()\n",
    "plt.show()"
   ]
  },
  {
   "cell_type": "code",
   "execution_count": 24,
   "metadata": {},
   "outputs": [
    {
     "name": "stdout",
     "output_type": "stream",
     "text": [
      "500/1 - 1s - loss: 4.6282 - accuracy: 0.4940\n",
      "Accuracy: 0.49399998784065247, Loss: 4.0347803039550785\n"
     ]
    }
   ],
   "source": [
    "loss, acc = model.evaluate(x_test, y_test, verbose=2)\n",
    "print(f'Accuracy: {acc}, Loss: {loss}')"
   ]
  },
  {
   "cell_type": "markdown",
   "metadata": {},
   "source": [
    "**Question 1:** What accuracy do you get on the STL-10 test set? Briefly summarize the hyperparameters that you used to obtain this result.\n",
    "\n",
    "**Answer 1**\n",
    "\n",
    "We used 20 epochs, a batch size of 4, a the default learning rate of .001. We get an accuracy of up to 53% but closer to 49% generally in validation. Our test accuracy puts us at 49.4%. We have an epsilon of 1e-07, beta_1=0.9,\n",
    "and beta_2=0.999. These are standard Adam values. \n",
    "\n",
    "\n",
    "\n",
    "**Question 2:** How do the loss and accurary results compare to the CNN project?\n",
    "\n",
    "**Answer 2**\n",
    "The loss is similar and the accuracy is a bit higher in this project. It might be because the layers are slightly different or the default hyper parameters are a bit different, but we get slightly higher accuracy here. However, the difference is not drastic. The loss both heads to 0, though the loss falls faster here than it does on the other model we built in the CNN project. We see about a 3% increase from our best models."
   ]
  },
  {
   "cell_type": "markdown",
   "metadata": {},
   "source": [
    "## Task 2) Transfer learning\n",
    "\n",
    "Use Tensorflow 2.0 to download the pre-trained MobileNetV2 network (you may also use InceptionV3, but MobileNetV2 likely will run noticeably faster on your machine). We will use transfer learning to accelerate training to solve a novel problem: **the binary classification task of discriminating whether an image is of a hotdog or not.**\n",
    "\n",
    "### Overview of the task\n",
    "\n",
    "- Run some hotdog-or-not dataset images through the network. How does the net seem to classify things correctly?\n",
    "- Remove the output layer.\n",
    "- Add a new Dense output layer.\n",
    "- Freeze (disable) training on all non-output layers.\n",
    "- Train the last layer on a food dataset. Assess performance. Plot some example images and their classification below"
   ]
  },
  {
   "cell_type": "markdown",
   "metadata": {},
   "source": [
    "**TODO:**\n",
    "- Get the **food dataset** on filer: `Courses/CS343/Course_Materials/hot-dog-not-hot-dog`. Copy it into a `data` subfolder in your project directory.\n",
    "- Run the below code to load in the hot-dog-or-not dataset. Check the shapes to ensure everything is loaded in correctly. "
   ]
  },
  {
   "cell_type": "markdown",
   "metadata": {},
   "source": [
    "### 2a) Load in hotdot image dataset"
   ]
  },
  {
   "cell_type": "code",
   "execution_count": 11,
   "metadata": {},
   "outputs": [
    {
     "name": "stdout",
     "output_type": "stream",
     "text": [
      "Training hotdog split shape: (16000, 96, 96, 3). Should be (16000, 96, 96, 3)\n",
      "Test hotdog split shape: (4000, 96, 96, 3). Should be (4000, 96, 96, 3)\n"
     ]
    }
   ],
   "source": [
    "ds_base_dir = 'data/hot-dog-not-hot-dog/numpy/'\n",
    "hotdog_train_x = np.load(os.path.join(ds_base_dir, 'train_x.npy'))\n",
    "hotdog_train_y = np.load(os.path.join(ds_base_dir, 'train_y.npy'))\n",
    "hotdog_test_x = np.load(os.path.join(ds_base_dir, 'test_x.npy'))\n",
    "hotdog_test_y = np.load(os.path.join(ds_base_dir, 'test_y.npy'))\n",
    "\n",
    "print(f'Training hotdog split shape: {hotdog_train_x.shape}. Should be (16000, 96, 96, 3)')\n",
    "print(f'Test hotdog split shape: {hotdog_test_x.shape}. Should be (4000, 96, 96, 3)')"
   ]
  },
  {
   "cell_type": "markdown",
   "metadata": {},
   "source": [
    "### 2b) Preprocess hotdog dataset"
   ]
  },
  {
   "cell_type": "code",
   "execution_count": 12,
   "metadata": {},
   "outputs": [],
   "source": [
    "hotdog_train_x = 2*(hotdog_train_x - 0.5)\n",
    "hotdog_test_x = 2*(hotdog_test_x - 0.5)"
   ]
  },
  {
   "cell_type": "markdown",
   "metadata": {},
   "source": [
    "### 2c) Create hotdog validation set"
   ]
  },
  {
   "cell_type": "code",
   "execution_count": 13,
   "metadata": {},
   "outputs": [
    {
     "name": "stdout",
     "output_type": "stream",
     "text": [
      "Validation hotdog split shape: (12800, 96, 96, 3). Should be (12800, 96, 96, 3)\n"
     ]
    }
   ],
   "source": [
    "VAL_PROP = 0.2  # proportion of trainng set to reserve for validation\n",
    "VAL_SZ = int(VAL_PROP*len(hotdog_train_x))\n",
    "hotdog_val_x = hotdog_train_x[-VAL_SZ:]\n",
    "hotdog_val_y = hotdog_train_y[-VAL_SZ:]\n",
    "hotdog_train_x = hotdog_train_x[:len(hotdog_train_x)-VAL_SZ]\n",
    "hotdog_train_y = hotdog_train_y[:len(hotdog_train_y)-VAL_SZ]\n",
    "\n",
    "print(f'Validation hotdog split shape: {hotdog_train_x.shape}. Should be (12800, 96, 96, 3)')"
   ]
  },
  {
   "cell_type": "markdown",
   "metadata": {},
   "source": [
    "### 2d) Load in pre-trained MobileNetV2 network.\n",
    "\n",
    "**TODO:**\n",
    "- Load in pre-trained MobileNetV2 network (look up constructor in `tf.keras.applications` or look at the tutorial from class) and set it to a variable called `model`. https://www.tensorflow.org/api_docs/python/tf/keras/applications\n",
    "- Set the `trainable` field of the model object to be `False` (use dot notation).\n",
    "- If you call the `summary()` method on the network object, you should see a table with many rows. The top and bottom rows should be:\n",
    "\n",
    "\n",
    "    input_3 (InputLayer)            [(None, 96, 96, 3)]  0                                           \n",
    "    __________________________________________________________________________________________________\n",
    "    out_relu (ReLU)                 (None, 3, 3, 1280)   0           Conv_1_bn[0][0]  \n",
    "\n",
    "and you should see the following at the bottom:\n",
    "\n",
    "    Total params: 2,257,984\n",
    "    Trainable params: 0\n",
    "    Non-trainable params: 2,257,984"
   ]
  },
  {
   "cell_type": "code",
   "execution_count": 14,
   "metadata": {},
   "outputs": [
    {
     "name": "stdout",
     "output_type": "stream",
     "text": [
      "Model: \"mobilenetv2_1.00_96\"\n",
      "__________________________________________________________________________________________________\n",
      "Layer (type)                    Output Shape         Param #     Connected to                     \n",
      "==================================================================================================\n",
      "input_1 (InputLayer)            [(None, 96, 96, 3)]  0                                            \n",
      "__________________________________________________________________________________________________\n",
      "Conv1_pad (ZeroPadding2D)       (None, 97, 97, 3)    0           input_1[0][0]                    \n",
      "__________________________________________________________________________________________________\n",
      "Conv1 (Conv2D)                  (None, 48, 48, 32)   864         Conv1_pad[0][0]                  \n",
      "__________________________________________________________________________________________________\n",
      "bn_Conv1 (BatchNormalization)   (None, 48, 48, 32)   128         Conv1[0][0]                      \n",
      "__________________________________________________________________________________________________\n",
      "Conv1_relu (ReLU)               (None, 48, 48, 32)   0           bn_Conv1[0][0]                   \n",
      "__________________________________________________________________________________________________\n",
      "expanded_conv_depthwise (Depthw (None, 48, 48, 32)   288         Conv1_relu[0][0]                 \n",
      "__________________________________________________________________________________________________\n",
      "expanded_conv_depthwise_BN (Bat (None, 48, 48, 32)   128         expanded_conv_depthwise[0][0]    \n",
      "__________________________________________________________________________________________________\n",
      "expanded_conv_depthwise_relu (R (None, 48, 48, 32)   0           expanded_conv_depthwise_BN[0][0] \n",
      "__________________________________________________________________________________________________\n",
      "expanded_conv_project (Conv2D)  (None, 48, 48, 16)   512         expanded_conv_depthwise_relu[0][0\n",
      "__________________________________________________________________________________________________\n",
      "expanded_conv_project_BN (Batch (None, 48, 48, 16)   64          expanded_conv_project[0][0]      \n",
      "__________________________________________________________________________________________________\n",
      "block_1_expand (Conv2D)         (None, 48, 48, 96)   1536        expanded_conv_project_BN[0][0]   \n",
      "__________________________________________________________________________________________________\n",
      "block_1_expand_BN (BatchNormali (None, 48, 48, 96)   384         block_1_expand[0][0]             \n",
      "__________________________________________________________________________________________________\n",
      "block_1_expand_relu (ReLU)      (None, 48, 48, 96)   0           block_1_expand_BN[0][0]          \n",
      "__________________________________________________________________________________________________\n",
      "block_1_pad (ZeroPadding2D)     (None, 49, 49, 96)   0           block_1_expand_relu[0][0]        \n",
      "__________________________________________________________________________________________________\n",
      "block_1_depthwise (DepthwiseCon (None, 24, 24, 96)   864         block_1_pad[0][0]                \n",
      "__________________________________________________________________________________________________\n",
      "block_1_depthwise_BN (BatchNorm (None, 24, 24, 96)   384         block_1_depthwise[0][0]          \n",
      "__________________________________________________________________________________________________\n",
      "block_1_depthwise_relu (ReLU)   (None, 24, 24, 96)   0           block_1_depthwise_BN[0][0]       \n",
      "__________________________________________________________________________________________________\n",
      "block_1_project (Conv2D)        (None, 24, 24, 24)   2304        block_1_depthwise_relu[0][0]     \n",
      "__________________________________________________________________________________________________\n",
      "block_1_project_BN (BatchNormal (None, 24, 24, 24)   96          block_1_project[0][0]            \n",
      "__________________________________________________________________________________________________\n",
      "block_2_expand (Conv2D)         (None, 24, 24, 144)  3456        block_1_project_BN[0][0]         \n",
      "__________________________________________________________________________________________________\n",
      "block_2_expand_BN (BatchNormali (None, 24, 24, 144)  576         block_2_expand[0][0]             \n",
      "__________________________________________________________________________________________________\n",
      "block_2_expand_relu (ReLU)      (None, 24, 24, 144)  0           block_2_expand_BN[0][0]          \n",
      "__________________________________________________________________________________________________\n",
      "block_2_depthwise (DepthwiseCon (None, 24, 24, 144)  1296        block_2_expand_relu[0][0]        \n",
      "__________________________________________________________________________________________________\n",
      "block_2_depthwise_BN (BatchNorm (None, 24, 24, 144)  576         block_2_depthwise[0][0]          \n",
      "__________________________________________________________________________________________________\n",
      "block_2_depthwise_relu (ReLU)   (None, 24, 24, 144)  0           block_2_depthwise_BN[0][0]       \n",
      "__________________________________________________________________________________________________\n",
      "block_2_project (Conv2D)        (None, 24, 24, 24)   3456        block_2_depthwise_relu[0][0]     \n",
      "__________________________________________________________________________________________________\n",
      "block_2_project_BN (BatchNormal (None, 24, 24, 24)   96          block_2_project[0][0]            \n",
      "__________________________________________________________________________________________________\n",
      "block_2_add (Add)               (None, 24, 24, 24)   0           block_1_project_BN[0][0]         \n",
      "                                                                 block_2_project_BN[0][0]         \n",
      "__________________________________________________________________________________________________\n",
      "block_3_expand (Conv2D)         (None, 24, 24, 144)  3456        block_2_add[0][0]                \n",
      "__________________________________________________________________________________________________\n",
      "block_3_expand_BN (BatchNormali (None, 24, 24, 144)  576         block_3_expand[0][0]             \n",
      "__________________________________________________________________________________________________\n",
      "block_3_expand_relu (ReLU)      (None, 24, 24, 144)  0           block_3_expand_BN[0][0]          \n",
      "__________________________________________________________________________________________________\n",
      "block_3_pad (ZeroPadding2D)     (None, 25, 25, 144)  0           block_3_expand_relu[0][0]        \n",
      "__________________________________________________________________________________________________\n",
      "block_3_depthwise (DepthwiseCon (None, 12, 12, 144)  1296        block_3_pad[0][0]                \n",
      "__________________________________________________________________________________________________\n",
      "block_3_depthwise_BN (BatchNorm (None, 12, 12, 144)  576         block_3_depthwise[0][0]          \n",
      "__________________________________________________________________________________________________\n",
      "block_3_depthwise_relu (ReLU)   (None, 12, 12, 144)  0           block_3_depthwise_BN[0][0]       \n",
      "__________________________________________________________________________________________________\n",
      "block_3_project (Conv2D)        (None, 12, 12, 32)   4608        block_3_depthwise_relu[0][0]     \n",
      "__________________________________________________________________________________________________\n",
      "block_3_project_BN (BatchNormal (None, 12, 12, 32)   128         block_3_project[0][0]            \n",
      "__________________________________________________________________________________________________\n",
      "block_4_expand (Conv2D)         (None, 12, 12, 192)  6144        block_3_project_BN[0][0]         \n",
      "__________________________________________________________________________________________________\n",
      "block_4_expand_BN (BatchNormali (None, 12, 12, 192)  768         block_4_expand[0][0]             \n",
      "__________________________________________________________________________________________________\n",
      "block_4_expand_relu (ReLU)      (None, 12, 12, 192)  0           block_4_expand_BN[0][0]          \n",
      "__________________________________________________________________________________________________\n",
      "block_4_depthwise (DepthwiseCon (None, 12, 12, 192)  1728        block_4_expand_relu[0][0]        \n",
      "__________________________________________________________________________________________________\n",
      "block_4_depthwise_BN (BatchNorm (None, 12, 12, 192)  768         block_4_depthwise[0][0]          \n",
      "__________________________________________________________________________________________________\n",
      "block_4_depthwise_relu (ReLU)   (None, 12, 12, 192)  0           block_4_depthwise_BN[0][0]       \n",
      "__________________________________________________________________________________________________\n",
      "block_4_project (Conv2D)        (None, 12, 12, 32)   6144        block_4_depthwise_relu[0][0]     \n",
      "__________________________________________________________________________________________________\n",
      "block_4_project_BN (BatchNormal (None, 12, 12, 32)   128         block_4_project[0][0]            \n",
      "__________________________________________________________________________________________________\n",
      "block_4_add (Add)               (None, 12, 12, 32)   0           block_3_project_BN[0][0]         \n",
      "                                                                 block_4_project_BN[0][0]         \n",
      "__________________________________________________________________________________________________\n",
      "block_5_expand (Conv2D)         (None, 12, 12, 192)  6144        block_4_add[0][0]                \n",
      "__________________________________________________________________________________________________\n",
      "block_5_expand_BN (BatchNormali (None, 12, 12, 192)  768         block_5_expand[0][0]             \n",
      "__________________________________________________________________________________________________\n",
      "block_5_expand_relu (ReLU)      (None, 12, 12, 192)  0           block_5_expand_BN[0][0]          \n",
      "__________________________________________________________________________________________________\n",
      "block_5_depthwise (DepthwiseCon (None, 12, 12, 192)  1728        block_5_expand_relu[0][0]        \n",
      "__________________________________________________________________________________________________\n",
      "block_5_depthwise_BN (BatchNorm (None, 12, 12, 192)  768         block_5_depthwise[0][0]          \n",
      "__________________________________________________________________________________________________\n",
      "block_5_depthwise_relu (ReLU)   (None, 12, 12, 192)  0           block_5_depthwise_BN[0][0]       \n",
      "__________________________________________________________________________________________________\n",
      "block_5_project (Conv2D)        (None, 12, 12, 32)   6144        block_5_depthwise_relu[0][0]     \n",
      "__________________________________________________________________________________________________\n",
      "block_5_project_BN (BatchNormal (None, 12, 12, 32)   128         block_5_project[0][0]            \n",
      "__________________________________________________________________________________________________\n",
      "block_5_add (Add)               (None, 12, 12, 32)   0           block_4_add[0][0]                \n",
      "                                                                 block_5_project_BN[0][0]         \n",
      "__________________________________________________________________________________________________\n",
      "block_6_expand (Conv2D)         (None, 12, 12, 192)  6144        block_5_add[0][0]                \n",
      "__________________________________________________________________________________________________\n",
      "block_6_expand_BN (BatchNormali (None, 12, 12, 192)  768         block_6_expand[0][0]             \n",
      "__________________________________________________________________________________________________\n",
      "block_6_expand_relu (ReLU)      (None, 12, 12, 192)  0           block_6_expand_BN[0][0]          \n",
      "__________________________________________________________________________________________________\n",
      "block_6_pad (ZeroPadding2D)     (None, 13, 13, 192)  0           block_6_expand_relu[0][0]        \n",
      "__________________________________________________________________________________________________\n",
      "block_6_depthwise (DepthwiseCon (None, 6, 6, 192)    1728        block_6_pad[0][0]                \n",
      "__________________________________________________________________________________________________\n",
      "block_6_depthwise_BN (BatchNorm (None, 6, 6, 192)    768         block_6_depthwise[0][0]          \n",
      "__________________________________________________________________________________________________\n",
      "block_6_depthwise_relu (ReLU)   (None, 6, 6, 192)    0           block_6_depthwise_BN[0][0]       \n",
      "__________________________________________________________________________________________________\n",
      "block_6_project (Conv2D)        (None, 6, 6, 64)     12288       block_6_depthwise_relu[0][0]     \n",
      "__________________________________________________________________________________________________\n",
      "block_6_project_BN (BatchNormal (None, 6, 6, 64)     256         block_6_project[0][0]            \n",
      "__________________________________________________________________________________________________\n",
      "block_7_expand (Conv2D)         (None, 6, 6, 384)    24576       block_6_project_BN[0][0]         \n",
      "__________________________________________________________________________________________________\n",
      "block_7_expand_BN (BatchNormali (None, 6, 6, 384)    1536        block_7_expand[0][0]             \n",
      "__________________________________________________________________________________________________\n",
      "block_7_expand_relu (ReLU)      (None, 6, 6, 384)    0           block_7_expand_BN[0][0]          \n",
      "__________________________________________________________________________________________________\n",
      "block_7_depthwise (DepthwiseCon (None, 6, 6, 384)    3456        block_7_expand_relu[0][0]        \n",
      "__________________________________________________________________________________________________\n",
      "block_7_depthwise_BN (BatchNorm (None, 6, 6, 384)    1536        block_7_depthwise[0][0]          \n",
      "__________________________________________________________________________________________________\n",
      "block_7_depthwise_relu (ReLU)   (None, 6, 6, 384)    0           block_7_depthwise_BN[0][0]       \n",
      "__________________________________________________________________________________________________\n",
      "block_7_project (Conv2D)        (None, 6, 6, 64)     24576       block_7_depthwise_relu[0][0]     \n",
      "__________________________________________________________________________________________________\n",
      "block_7_project_BN (BatchNormal (None, 6, 6, 64)     256         block_7_project[0][0]            \n",
      "__________________________________________________________________________________________________\n",
      "block_7_add (Add)               (None, 6, 6, 64)     0           block_6_project_BN[0][0]         \n",
      "                                                                 block_7_project_BN[0][0]         \n",
      "__________________________________________________________________________________________________\n",
      "block_8_expand (Conv2D)         (None, 6, 6, 384)    24576       block_7_add[0][0]                \n",
      "__________________________________________________________________________________________________\n",
      "block_8_expand_BN (BatchNormali (None, 6, 6, 384)    1536        block_8_expand[0][0]             \n",
      "__________________________________________________________________________________________________\n",
      "block_8_expand_relu (ReLU)      (None, 6, 6, 384)    0           block_8_expand_BN[0][0]          \n",
      "__________________________________________________________________________________________________\n",
      "block_8_depthwise (DepthwiseCon (None, 6, 6, 384)    3456        block_8_expand_relu[0][0]        \n",
      "__________________________________________________________________________________________________\n",
      "block_8_depthwise_BN (BatchNorm (None, 6, 6, 384)    1536        block_8_depthwise[0][0]          \n",
      "__________________________________________________________________________________________________\n",
      "block_8_depthwise_relu (ReLU)   (None, 6, 6, 384)    0           block_8_depthwise_BN[0][0]       \n",
      "__________________________________________________________________________________________________\n",
      "block_8_project (Conv2D)        (None, 6, 6, 64)     24576       block_8_depthwise_relu[0][0]     \n",
      "__________________________________________________________________________________________________\n",
      "block_8_project_BN (BatchNormal (None, 6, 6, 64)     256         block_8_project[0][0]            \n",
      "__________________________________________________________________________________________________\n",
      "block_8_add (Add)               (None, 6, 6, 64)     0           block_7_add[0][0]                \n",
      "                                                                 block_8_project_BN[0][0]         \n",
      "__________________________________________________________________________________________________\n",
      "block_9_expand (Conv2D)         (None, 6, 6, 384)    24576       block_8_add[0][0]                \n",
      "__________________________________________________________________________________________________\n",
      "block_9_expand_BN (BatchNormali (None, 6, 6, 384)    1536        block_9_expand[0][0]             \n",
      "__________________________________________________________________________________________________\n",
      "block_9_expand_relu (ReLU)      (None, 6, 6, 384)    0           block_9_expand_BN[0][0]          \n",
      "__________________________________________________________________________________________________\n",
      "block_9_depthwise (DepthwiseCon (None, 6, 6, 384)    3456        block_9_expand_relu[0][0]        \n",
      "__________________________________________________________________________________________________\n",
      "block_9_depthwise_BN (BatchNorm (None, 6, 6, 384)    1536        block_9_depthwise[0][0]          \n",
      "__________________________________________________________________________________________________\n",
      "block_9_depthwise_relu (ReLU)   (None, 6, 6, 384)    0           block_9_depthwise_BN[0][0]       \n",
      "__________________________________________________________________________________________________\n",
      "block_9_project (Conv2D)        (None, 6, 6, 64)     24576       block_9_depthwise_relu[0][0]     \n",
      "__________________________________________________________________________________________________\n",
      "block_9_project_BN (BatchNormal (None, 6, 6, 64)     256         block_9_project[0][0]            \n",
      "__________________________________________________________________________________________________\n",
      "block_9_add (Add)               (None, 6, 6, 64)     0           block_8_add[0][0]                \n",
      "                                                                 block_9_project_BN[0][0]         \n",
      "__________________________________________________________________________________________________\n",
      "block_10_expand (Conv2D)        (None, 6, 6, 384)    24576       block_9_add[0][0]                \n",
      "__________________________________________________________________________________________________\n",
      "block_10_expand_BN (BatchNormal (None, 6, 6, 384)    1536        block_10_expand[0][0]            \n",
      "__________________________________________________________________________________________________\n",
      "block_10_expand_relu (ReLU)     (None, 6, 6, 384)    0           block_10_expand_BN[0][0]         \n",
      "__________________________________________________________________________________________________\n",
      "block_10_depthwise (DepthwiseCo (None, 6, 6, 384)    3456        block_10_expand_relu[0][0]       \n",
      "__________________________________________________________________________________________________\n",
      "block_10_depthwise_BN (BatchNor (None, 6, 6, 384)    1536        block_10_depthwise[0][0]         \n",
      "__________________________________________________________________________________________________\n",
      "block_10_depthwise_relu (ReLU)  (None, 6, 6, 384)    0           block_10_depthwise_BN[0][0]      \n",
      "__________________________________________________________________________________________________\n",
      "block_10_project (Conv2D)       (None, 6, 6, 96)     36864       block_10_depthwise_relu[0][0]    \n",
      "__________________________________________________________________________________________________\n",
      "block_10_project_BN (BatchNorma (None, 6, 6, 96)     384         block_10_project[0][0]           \n",
      "__________________________________________________________________________________________________\n",
      "block_11_expand (Conv2D)        (None, 6, 6, 576)    55296       block_10_project_BN[0][0]        \n",
      "__________________________________________________________________________________________________\n",
      "block_11_expand_BN (BatchNormal (None, 6, 6, 576)    2304        block_11_expand[0][0]            \n",
      "__________________________________________________________________________________________________\n",
      "block_11_expand_relu (ReLU)     (None, 6, 6, 576)    0           block_11_expand_BN[0][0]         \n",
      "__________________________________________________________________________________________________\n",
      "block_11_depthwise (DepthwiseCo (None, 6, 6, 576)    5184        block_11_expand_relu[0][0]       \n",
      "__________________________________________________________________________________________________\n",
      "block_11_depthwise_BN (BatchNor (None, 6, 6, 576)    2304        block_11_depthwise[0][0]         \n",
      "__________________________________________________________________________________________________\n",
      "block_11_depthwise_relu (ReLU)  (None, 6, 6, 576)    0           block_11_depthwise_BN[0][0]      \n",
      "__________________________________________________________________________________________________\n",
      "block_11_project (Conv2D)       (None, 6, 6, 96)     55296       block_11_depthwise_relu[0][0]    \n",
      "__________________________________________________________________________________________________\n",
      "block_11_project_BN (BatchNorma (None, 6, 6, 96)     384         block_11_project[0][0]           \n",
      "__________________________________________________________________________________________________\n",
      "block_11_add (Add)              (None, 6, 6, 96)     0           block_10_project_BN[0][0]        \n",
      "                                                                 block_11_project_BN[0][0]        \n",
      "__________________________________________________________________________________________________\n",
      "block_12_expand (Conv2D)        (None, 6, 6, 576)    55296       block_11_add[0][0]               \n",
      "__________________________________________________________________________________________________\n",
      "block_12_expand_BN (BatchNormal (None, 6, 6, 576)    2304        block_12_expand[0][0]            \n",
      "__________________________________________________________________________________________________\n",
      "block_12_expand_relu (ReLU)     (None, 6, 6, 576)    0           block_12_expand_BN[0][0]         \n",
      "__________________________________________________________________________________________________\n",
      "block_12_depthwise (DepthwiseCo (None, 6, 6, 576)    5184        block_12_expand_relu[0][0]       \n",
      "__________________________________________________________________________________________________\n",
      "block_12_depthwise_BN (BatchNor (None, 6, 6, 576)    2304        block_12_depthwise[0][0]         \n",
      "__________________________________________________________________________________________________\n",
      "block_12_depthwise_relu (ReLU)  (None, 6, 6, 576)    0           block_12_depthwise_BN[0][0]      \n",
      "__________________________________________________________________________________________________\n",
      "block_12_project (Conv2D)       (None, 6, 6, 96)     55296       block_12_depthwise_relu[0][0]    \n",
      "__________________________________________________________________________________________________\n",
      "block_12_project_BN (BatchNorma (None, 6, 6, 96)     384         block_12_project[0][0]           \n",
      "__________________________________________________________________________________________________\n",
      "block_12_add (Add)              (None, 6, 6, 96)     0           block_11_add[0][0]               \n",
      "                                                                 block_12_project_BN[0][0]        \n",
      "__________________________________________________________________________________________________\n",
      "block_13_expand (Conv2D)        (None, 6, 6, 576)    55296       block_12_add[0][0]               \n",
      "__________________________________________________________________________________________________\n",
      "block_13_expand_BN (BatchNormal (None, 6, 6, 576)    2304        block_13_expand[0][0]            \n",
      "__________________________________________________________________________________________________\n",
      "block_13_expand_relu (ReLU)     (None, 6, 6, 576)    0           block_13_expand_BN[0][0]         \n",
      "__________________________________________________________________________________________________\n",
      "block_13_pad (ZeroPadding2D)    (None, 7, 7, 576)    0           block_13_expand_relu[0][0]       \n",
      "__________________________________________________________________________________________________\n",
      "block_13_depthwise (DepthwiseCo (None, 3, 3, 576)    5184        block_13_pad[0][0]               \n",
      "__________________________________________________________________________________________________\n",
      "block_13_depthwise_BN (BatchNor (None, 3, 3, 576)    2304        block_13_depthwise[0][0]         \n",
      "__________________________________________________________________________________________________\n",
      "block_13_depthwise_relu (ReLU)  (None, 3, 3, 576)    0           block_13_depthwise_BN[0][0]      \n",
      "__________________________________________________________________________________________________\n",
      "block_13_project (Conv2D)       (None, 3, 3, 160)    92160       block_13_depthwise_relu[0][0]    \n",
      "__________________________________________________________________________________________________\n",
      "block_13_project_BN (BatchNorma (None, 3, 3, 160)    640         block_13_project[0][0]           \n",
      "__________________________________________________________________________________________________\n",
      "block_14_expand (Conv2D)        (None, 3, 3, 960)    153600      block_13_project_BN[0][0]        \n",
      "__________________________________________________________________________________________________\n",
      "block_14_expand_BN (BatchNormal (None, 3, 3, 960)    3840        block_14_expand[0][0]            \n",
      "__________________________________________________________________________________________________\n",
      "block_14_expand_relu (ReLU)     (None, 3, 3, 960)    0           block_14_expand_BN[0][0]         \n",
      "__________________________________________________________________________________________________\n",
      "block_14_depthwise (DepthwiseCo (None, 3, 3, 960)    8640        block_14_expand_relu[0][0]       \n",
      "__________________________________________________________________________________________________\n",
      "block_14_depthwise_BN (BatchNor (None, 3, 3, 960)    3840        block_14_depthwise[0][0]         \n",
      "__________________________________________________________________________________________________\n",
      "block_14_depthwise_relu (ReLU)  (None, 3, 3, 960)    0           block_14_depthwise_BN[0][0]      \n",
      "__________________________________________________________________________________________________\n",
      "block_14_project (Conv2D)       (None, 3, 3, 160)    153600      block_14_depthwise_relu[0][0]    \n",
      "__________________________________________________________________________________________________\n",
      "block_14_project_BN (BatchNorma (None, 3, 3, 160)    640         block_14_project[0][0]           \n",
      "__________________________________________________________________________________________________\n",
      "block_14_add (Add)              (None, 3, 3, 160)    0           block_13_project_BN[0][0]        \n",
      "                                                                 block_14_project_BN[0][0]        \n",
      "__________________________________________________________________________________________________\n",
      "block_15_expand (Conv2D)        (None, 3, 3, 960)    153600      block_14_add[0][0]               \n",
      "__________________________________________________________________________________________________\n",
      "block_15_expand_BN (BatchNormal (None, 3, 3, 960)    3840        block_15_expand[0][0]            \n",
      "__________________________________________________________________________________________________\n",
      "block_15_expand_relu (ReLU)     (None, 3, 3, 960)    0           block_15_expand_BN[0][0]         \n",
      "__________________________________________________________________________________________________\n",
      "block_15_depthwise (DepthwiseCo (None, 3, 3, 960)    8640        block_15_expand_relu[0][0]       \n",
      "__________________________________________________________________________________________________\n",
      "block_15_depthwise_BN (BatchNor (None, 3, 3, 960)    3840        block_15_depthwise[0][0]         \n",
      "__________________________________________________________________________________________________\n",
      "block_15_depthwise_relu (ReLU)  (None, 3, 3, 960)    0           block_15_depthwise_BN[0][0]      \n",
      "__________________________________________________________________________________________________\n",
      "block_15_project (Conv2D)       (None, 3, 3, 160)    153600      block_15_depthwise_relu[0][0]    \n",
      "__________________________________________________________________________________________________\n",
      "block_15_project_BN (BatchNorma (None, 3, 3, 160)    640         block_15_project[0][0]           \n",
      "__________________________________________________________________________________________________\n",
      "block_15_add (Add)              (None, 3, 3, 160)    0           block_14_add[0][0]               \n",
      "                                                                 block_15_project_BN[0][0]        \n",
      "__________________________________________________________________________________________________\n",
      "block_16_expand (Conv2D)        (None, 3, 3, 960)    153600      block_15_add[0][0]               \n",
      "__________________________________________________________________________________________________\n",
      "block_16_expand_BN (BatchNormal (None, 3, 3, 960)    3840        block_16_expand[0][0]            \n",
      "__________________________________________________________________________________________________\n",
      "block_16_expand_relu (ReLU)     (None, 3, 3, 960)    0           block_16_expand_BN[0][0]         \n",
      "__________________________________________________________________________________________________\n",
      "block_16_depthwise (DepthwiseCo (None, 3, 3, 960)    8640        block_16_expand_relu[0][0]       \n",
      "__________________________________________________________________________________________________\n",
      "block_16_depthwise_BN (BatchNor (None, 3, 3, 960)    3840        block_16_depthwise[0][0]         \n",
      "__________________________________________________________________________________________________\n",
      "block_16_depthwise_relu (ReLU)  (None, 3, 3, 960)    0           block_16_depthwise_BN[0][0]      \n",
      "__________________________________________________________________________________________________\n",
      "block_16_project (Conv2D)       (None, 3, 3, 320)    307200      block_16_depthwise_relu[0][0]    \n",
      "__________________________________________________________________________________________________\n",
      "block_16_project_BN (BatchNorma (None, 3, 3, 320)    1280        block_16_project[0][0]           \n",
      "__________________________________________________________________________________________________\n",
      "Conv_1 (Conv2D)                 (None, 3, 3, 1280)   409600      block_16_project_BN[0][0]        \n",
      "__________________________________________________________________________________________________\n",
      "Conv_1_bn (BatchNormalization)  (None, 3, 3, 1280)   5120        Conv_1[0][0]                     \n",
      "__________________________________________________________________________________________________\n",
      "out_relu (ReLU)                 (None, 3, 3, 1280)   0           Conv_1_bn[0][0]                  \n",
      "==================================================================================================\n",
      "Total params: 2,257,984\n",
      "Trainable params: 0\n",
      "Non-trainable params: 2,257,984\n",
      "__________________________________________________________________________________________________\n"
     ]
    }
   ],
   "source": [
    "model = tf.keras.applications.MobileNetV2(input_shape=(96,96,3),include_top=False,\n",
    "                                               weights='imagenet')\n",
    "model.trainable=False\n",
    "model.summary()\n",
    "\n"
   ]
  },
  {
   "cell_type": "markdown",
   "metadata": {},
   "source": [
    "### 2e) Replace output layer\n",
    "\n",
    "**TODO:**\n",
    "- Create a Dense layer object with the correct number of units to deal with the hot-dog or not problem, which will be the new output layer. https://www.tensorflow.org/api_docs/python/tf/keras/layers/Dense\n",
    "- Create a new `keras/Sequential` model object composed of a Python list of the following:\n",
    "    - the original model object\n",
    "    - \"Flatten layer\"\n",
    "    - the dense output layer\n",
    "- Compile the augmented model with the Adam optimizer (learning rate of 0.0001), binary_crossentropy loss, and accuracy metric. https://www.tensorflow.org/api_docs/python/tf/keras/optimizers/Adam https://www.tensorflow.org/api_docs/python/tf/losses\n",
    "\n",
    "A summary on the augmented model should yield:\n",
    "\n",
    "    Layer (type)                 Output Shape              Param #   \n",
    "    =================================================================\n",
    "    mobilenetv2_1.00_96 (Model)  (None, 3, 3, 1280)        2257984   \n",
    "    _________________________________________________________________\n",
    "    flatten_4 (Flatten)          (None, 11520)             0         \n",
    "    _________________________________________________________________\n",
    "    dense_4 (Dense)              (None, 1)                 11521     \n",
    "    =================================================================\n",
    "    Total params: 2,269,505\n",
    "    Trainable params: 11,521\n",
    "    Non-trainable params: 2,257,984"
   ]
  },
  {
   "cell_type": "markdown",
   "metadata": {},
   "source": [
    "**Question 3:** What is the accuracy and loss for the network with the untrained output layer?\n",
    "\n",
    "**Answer:** Our accuracy is 50.2% and our loss is 7.64. It may have been re-run but around 50% makes sense because it is randomly guessing.\n",
    "\n",
    "**Question 4:** Briefly defend your choice of number of units in the output layer.\n",
    "\n",
    "**Answer:** Two different classes exist, hot dog or not hot dog. If we only have one output, that it is a hot dog, then everything else will be 0 if it is not a hot dog. Thus, we only need one output node."
   ]
  },
  {
   "cell_type": "code",
   "execution_count": 15,
   "metadata": {},
   "outputs": [
    {
     "name": "stdout",
     "output_type": "stream",
     "text": [
      "Model: \"sequential_1\"\n",
      "_________________________________________________________________\n",
      "Layer (type)                 Output Shape              Param #   \n",
      "=================================================================\n",
      "mobilenetv2_1.00_96 (Model)  (None, 3, 3, 1280)        2257984   \n",
      "_________________________________________________________________\n",
      "flatten_1 (Flatten)          (None, 11520)             0         \n",
      "_________________________________________________________________\n",
      "dense_2 (Dense)              (None, 1)                 11521     \n",
      "=================================================================\n",
      "Total params: 2,269,505\n",
      "Trainable params: 11,521\n",
      "Non-trainable params: 2,257,984\n",
      "_________________________________________________________________\n",
      "4000/1 - 41s - loss: 1.0322 - accuracy: 0.4803\n",
      "Accuracy: 0.4802500009536743, Loss: 1.0659682302474975\n"
     ]
    }
   ],
   "source": [
    "mn_model = tf.keras.Sequential([\n",
    "    model,\n",
    "    tf.keras.layers.Flatten(),\n",
    "    tf.keras.layers.Dense(units=1, activation='sigmoid')\n",
    "])\n",
    "mn_model.summary()\n",
    "mn_model.compile(optimizer='adam', learning_rate=.0001,\n",
    "                 loss='binary_crossentropy',\n",
    "                 metrics=['accuracy'])\n",
    "\n",
    "loss, acc = mn_model.evaluate(hotdog_test_x, hotdog_test_y, verbose=2)\n",
    "print(f'Accuracy: {acc}, Loss: {loss}')"
   ]
  },
  {
   "cell_type": "markdown",
   "metadata": {},
   "source": [
    "### 2f) Fit the augmented model on the hotdog training data\n",
    "\n",
    "**Notes**\n",
    "- Remember to also pass in the hotdog validation data. Train for 10 epochs with a batch size of 32.\n",
    "- Setting the verbose optional parameter to 2 will give you helpful printouts of performance on the validation set as it completes every epoch of training.\n",
    "\n",
    "\n",
    "**NOTE:**\n",
    "- If training time is taking much more 2.5 minutes per epoch on your computer, you could try reducing the number of data samples in train and validation. For example, by default train `N = 12800`. Try `N = 6400` instead. You could do the same for the validation set."
   ]
  },
  {
   "cell_type": "code",
   "execution_count": 16,
   "metadata": {},
   "outputs": [
    {
     "name": "stdout",
     "output_type": "stream",
     "text": [
      "Train on 12800 samples, validate on 3200 samples\n",
      "Epoch 1/10\n",
      "12800/12800 - 563s - loss: 0.5160 - accuracy: 0.7849 - val_loss: 0.6345 - val_accuracy: 0.7841\n",
      "Epoch 2/10\n",
      "12800/12800 - 494s - loss: 0.3766 - accuracy: 0.8490 - val_loss: 1.2810 - val_accuracy: 0.6931\n",
      "Epoch 3/10\n",
      "12800/12800 - 570s - loss: 0.3383 - accuracy: 0.8681 - val_loss: 0.5551 - val_accuracy: 0.8169\n",
      "Epoch 4/10\n",
      "12800/12800 - 533s - loss: 0.3052 - accuracy: 0.8809 - val_loss: 0.6893 - val_accuracy: 0.7956\n",
      "Epoch 5/10\n",
      "12800/12800 - 492s - loss: 0.3085 - accuracy: 0.8827 - val_loss: 0.9803 - val_accuracy: 0.7572\n",
      "Epoch 6/10\n",
      "12800/12800 - 477s - loss: 0.2788 - accuracy: 0.8943 - val_loss: 0.6616 - val_accuracy: 0.8194\n",
      "Epoch 7/10\n",
      "12800/12800 - 443s - loss: 0.2805 - accuracy: 0.8942 - val_loss: 0.7367 - val_accuracy: 0.8031\n",
      "Epoch 8/10\n",
      "12800/12800 - 495s - loss: 0.2822 - accuracy: 0.8977 - val_loss: 0.6866 - val_accuracy: 0.8163\n",
      "Epoch 9/10\n",
      "12800/12800 - 455s - loss: 0.3082 - accuracy: 0.8938 - val_loss: 0.7898 - val_accuracy: 0.8022\n",
      "Epoch 10/10\n",
      "12800/12800 - 1238s - loss: 0.2749 - accuracy: 0.9021 - val_loss: 0.7281 - val_accuracy: 0.8138\n"
     ]
    }
   ],
   "source": [
    "hist = mn_model.fit(hotdog_train_x, hotdog_train_y, \n",
    "                    validation_data=(hotdog_val_x,hotdog_val_y),\n",
    "                     epochs=10,\n",
    "                     verbose=2,\n",
    "                     batch_size=32)"
   ]
  },
  {
   "cell_type": "markdown",
   "metadata": {},
   "source": [
    "### 2g) Plot hotdog results\n",
    "\n",
    "Produce 2 high quality plots showing the following:\n",
    "\n",
    "- Training and validation loss over epoch.\n",
    "- Training and validation accuracy over epoch."
   ]
  },
  {
   "cell_type": "code",
   "execution_count": 17,
   "metadata": {},
   "outputs": [
    {
     "data": {
      "image/png": "[encoded data removed]",
      "text/plain": [
       "<Figure size 432x288 with 1 Axes>"
      ]
     },
     "metadata": {
      "needs_background": "light"
     },
     "output_type": "display_data"
    }
   ],
   "source": [
    "plt.plot(hist.history[\"accuracy\"], label=\"Training Accuracy\", color=\"green\")\n",
    "plt.plot(hist.history[\"val_accuracy\"], label=\"Validation Accuracy\", color=\"blue\")\n",
    "plt.title(\"Accuracy Over Epochs\")\n",
    "plt.ylabel(\"Accuracy\")\n",
    "plt.xlabel(\"Training Epochs\")\n",
    "plt.legend()\n",
    "plt.show()"
   ]
  },
  {
   "cell_type": "code",
   "execution_count": 18,
   "metadata": {},
   "outputs": [
    {
     "data": {
      "image/png": "[encoded data removed]",
      "text/plain": [
       "<Figure size 432x288 with 1 Axes>"
      ]
     },
     "metadata": {
      "needs_background": "light"
     },
     "output_type": "display_data"
    }
   ],
   "source": [
    "plt.plot(hist.history[\"loss\"], label=\"Training Loss\", color=\"green\")\n",
    "plt.plot(hist.history[\"val_loss\"], label=\"Validation Loss\", color=\"blue\")\n",
    "plt.title(\"Loss Over Epochs\")\n",
    "plt.ylabel(\"Loss\")\n",
    "plt.xlabel(\"Training Epochs\")\n",
    "plt.legend()\n",
    "plt.show()"
   ]
  },
  {
   "cell_type": "code",
   "execution_count": 19,
   "metadata": {},
   "outputs": [
    {
     "name": "stdout",
     "output_type": "stream",
     "text": [
      "4000/1 - 47s - loss: 0.5166 - accuracy: 0.8095\n",
      "Accuracy: 0.809499979019165, Loss: 0.7606305013895035\n"
     ]
    }
   ],
   "source": [
    "loss, acc = mn_model.evaluate(hotdog_test_x, hotdog_test_y, verbose=2)\n",
    "print(f'Accuracy: {acc}, Loss: {loss}')"
   ]
  },
  {
   "cell_type": "markdown",
   "metadata": {},
   "source": [
    "**Question 5:** What accuracy do you achieve on the test set? Briefly summarize the hyperparameters that were used in your model."
   ]
  },
  {
   "cell_type": "markdown",
   "metadata": {},
   "source": [
    "**Answer:** We achieve about 80.95% accuracy with a learning rate of .0001. We had a batch size of 32 and only ran for 10 epochs. We used the standard Adam optimizer values. "
   ]
  },
  {
   "cell_type": "markdown",
   "metadata": {},
   "source": [
    "\n",
    "\n",
    "\n",
    "\n",
    "\n",
    "\n",
    "\n",
    "**--------------------------------------------------EXTENSION 1----------------------------------------------------**\n",
    "\n",
    "It is our goal in this extension to expand upon Conv4 to see what sort of accuracies we can achieve. All work is done with the STL10 dataset, though models 10 and 11 use a larger image variation on it."
   ]
  },
  {
   "cell_type": "code",
   "execution_count": 59,
   "metadata": {},
   "outputs": [
    {
     "name": "stdout",
     "output_type": "stream",
     "text": [
      "Model: \"sequential_17\"\n",
      "_________________________________________________________________\n",
      "Layer (type)                 Output Shape              Param #   \n",
      "=================================================================\n",
      "conv2d_6 (Conv2D)            (None, 32, 32, 32)        4736      \n",
      "_________________________________________________________________\n",
      "conv2d_7 (Conv2D)            (None, 32, 32, 32)        25632     \n",
      "_________________________________________________________________\n",
      "conv2d_8 (Conv2D)            (None, 32, 32, 64)        18496     \n",
      "_________________________________________________________________\n",
      "max_pooling2d_4 (MaxPooling2 (None, 16, 16, 64)        0         \n",
      "_________________________________________________________________\n",
      "flatten_17 (Flatten)         (None, 16384)             0         \n",
      "_________________________________________________________________\n",
      "dense_21 (Dense)             (None, 100)               1638500   \n",
      "_________________________________________________________________\n",
      "dense_22 (Dense)             (None, 10)                1010      \n",
      "=================================================================\n",
      "Total params: 1,688,374\n",
      "Trainable params: 1,688,374\n",
      "Non-trainable params: 0\n",
      "_________________________________________________________________\n",
      "Train on 3500 samples, validate on 500 samples\n",
      "Epoch 1/20\n",
      "3500/3500 - 30s - loss: 1.8382 - accuracy: 0.3043 - val_loss: 1.5994 - val_accuracy: 0.3840\n",
      "Epoch 2/20\n",
      "3500/3500 - 29s - loss: 1.5075 - accuracy: 0.4340 - val_loss: 1.5843 - val_accuracy: 0.4300\n",
      "Epoch 3/20\n",
      "3500/3500 - 30s - loss: 1.2852 - accuracy: 0.5197 - val_loss: 1.5607 - val_accuracy: 0.4260\n",
      "Epoch 4/20\n",
      "3500/3500 - 31s - loss: 0.9571 - accuracy: 0.6503 - val_loss: 1.5856 - val_accuracy: 0.4420\n",
      "Epoch 5/20\n",
      "3500/3500 - 30s - loss: 0.5922 - accuracy: 0.7837 - val_loss: 1.9341 - val_accuracy: 0.4280\n",
      "Epoch 6/20\n",
      "3500/3500 - 30s - loss: 0.3074 - accuracy: 0.8991 - val_loss: 2.4459 - val_accuracy: 0.4440\n",
      "Epoch 7/20\n",
      "3500/3500 - 31s - loss: 0.2096 - accuracy: 0.9306 - val_loss: 3.0267 - val_accuracy: 0.4280\n",
      "Epoch 8/20\n",
      "3500/3500 - 30s - loss: 0.1133 - accuracy: 0.9640 - val_loss: 3.8473 - val_accuracy: 0.3780\n",
      "Epoch 9/20\n",
      "3500/3500 - 29s - loss: 0.1839 - accuracy: 0.9406 - val_loss: 3.9204 - val_accuracy: 0.4040\n",
      "Epoch 10/20\n",
      "3500/3500 - 29s - loss: 0.1030 - accuracy: 0.9697 - val_loss: 4.7663 - val_accuracy: 0.4060\n",
      "Epoch 11/20\n",
      "3500/3500 - 29s - loss: 0.1371 - accuracy: 0.9546 - val_loss: 4.3466 - val_accuracy: 0.4380\n",
      "Epoch 12/20\n",
      "3500/3500 - 30s - loss: 0.0827 - accuracy: 0.9774 - val_loss: 4.4520 - val_accuracy: 0.4320\n",
      "Epoch 13/20\n",
      "3500/3500 - 30s - loss: 0.1020 - accuracy: 0.9723 - val_loss: 4.9902 - val_accuracy: 0.4020\n",
      "Epoch 14/20\n",
      "3500/3500 - 30s - loss: 0.0923 - accuracy: 0.9746 - val_loss: 4.9290 - val_accuracy: 0.4260\n",
      "Epoch 15/20\n",
      "3500/3500 - 30s - loss: 0.0722 - accuracy: 0.9797 - val_loss: 5.5741 - val_accuracy: 0.4100\n",
      "Epoch 16/20\n",
      "3500/3500 - 29s - loss: 0.1066 - accuracy: 0.9700 - val_loss: 5.5726 - val_accuracy: 0.4360\n",
      "Epoch 17/20\n",
      "3500/3500 - 27s - loss: 0.1224 - accuracy: 0.9703 - val_loss: 5.8839 - val_accuracy: 0.4100\n",
      "Epoch 18/20\n",
      "3500/3500 - 29s - loss: 0.0932 - accuracy: 0.9711 - val_loss: 5.9645 - val_accuracy: 0.4120\n",
      "Epoch 19/20\n",
      "3500/3500 - 30s - loss: 0.0896 - accuracy: 0.9737 - val_loss: 6.5273 - val_accuracy: 0.4000\n",
      "Epoch 20/20\n",
      "3500/3500 - 30s - loss: 0.0856 - accuracy: 0.9786 - val_loss: 5.2106 - val_accuracy: 0.3920\n"
     ]
    }
   ],
   "source": [
    "model = tf.keras.Sequential([ \n",
    "    tf.keras.layers.Conv2D(input_shape=stl_imgs.shape[1:],filters=32, kernel_size=(7,7),padding=\"same\", activation='relu',),\n",
    "    tf.keras.layers.Conv2D(input_shape=stl_imgs.shape[1:],filters=32, kernel_size=(5,5),padding=\"same\", activation='relu',),\n",
    "    tf.keras.layers.Conv2D(input_shape=stl_imgs.shape[1:],filters=64, kernel_size=(3,3),padding=\"same\", activation='relu',),\n",
    "    tf.keras.layers.MaxPool2D(pool_size=2, strides=2, padding='valid', data_format=\"channels_last\" ),\n",
    "    tf.keras.layers.Flatten(input_shape=(16,16,64)),\n",
    "    tf.keras.layers.Dense(units=100, activation=\"relu\"),\n",
    "    tf.keras.layers.Dense(units=10, activation=\"softmax\") \n",
    "]) \n",
    "model.summary()\n",
    "model.compile(optimizer=\"adam\", loss=\"sparse_categorical_crossentropy\", metrics=['accuracy']) \n",
    "hist = model.fit(x_train, y_train, batch_size=4, epochs=20, validation_data=(x_val, y_val), verbose=2)"
   ]
  },
  {
   "cell_type": "code",
   "execution_count": 60,
   "metadata": {},
   "outputs": [
    {
     "data": {
      "image/png": "[encoded data removed]",
      "text/plain": [
       "<Figure size 432x288 with 1 Axes>"
      ]
     },
     "metadata": {
      "needs_background": "light"
     },
     "output_type": "display_data"
    }
   ],
   "source": [
    "plt.plot(hist.history[\"accuracy\"], label=\"Training Accuracy\", color=\"green\")\n",
    "plt.plot(hist.history[\"val_accuracy\"], label=\"Validation Accuracy\", color=\"blue\")\n",
    "plt.title(\"Accuracy Over Epochs\")\n",
    "plt.ylabel(\"Accuracy\")\n",
    "plt.xlabel(\"Training Epochs\")\n",
    "plt.legend()\n",
    "plt.show()\n"
   ]
  },
  {
   "cell_type": "code",
   "execution_count": 61,
   "metadata": {},
   "outputs": [
    {
     "name": "stdout",
     "output_type": "stream",
     "text": [
      "500/1 - 1s - loss: 7.5927 - accuracy: 0.3760\n",
      "Accuracy: 0.37599998712539673, Loss: 6.167707855224609\n"
     ]
    }
   ],
   "source": [
    "loss, acc = model.evaluate(x_test, y_test, verbose=2)\n",
    "print(f'Accuracy: {acc}, Loss: {loss}')"
   ]
  },
  {
   "cell_type": "markdown",
   "metadata": {},
   "source": [
    "It is clear from this more complicated model that we are overfitting. We receive a constant training accuracy of about 97% at epoch 12 and it never goes below that. We aren't really learning anything new. In the original Conv4, we did not recieve this bad of an overfit. Our overall test accuracy takes a major hit here because of the overfitting. This calls for a dropout layer in this more complicated model."
   ]
  },
  {
   "cell_type": "code",
   "execution_count": 63,
   "metadata": {},
   "outputs": [
    {
     "name": "stderr",
     "output_type": "stream",
     "text": [
      "WARNING: Logging before flag parsing goes to stderr.\n",
      "W1120 00:06:29.070163 140734928358848 nn_ops.py:4283] Large dropout rate: 0.7 (>0.5). In TensorFlow 2.x, dropout() uses dropout rate instead of keep_prob. Please ensure that this is intended.\n",
      "W1120 00:06:29.252650 140734928358848 nn_ops.py:4283] Large dropout rate: 0.7 (>0.5). In TensorFlow 2.x, dropout() uses dropout rate instead of keep_prob. Please ensure that this is intended.\n"
     ]
    },
    {
     "name": "stdout",
     "output_type": "stream",
     "text": [
      "Model: \"sequential_18\"\n",
      "_________________________________________________________________\n",
      "Layer (type)                 Output Shape              Param #   \n",
      "=================================================================\n",
      "conv2d_9 (Conv2D)            (None, 32, 32, 32)        4736      \n",
      "_________________________________________________________________\n",
      "conv2d_10 (Conv2D)           (None, 32, 32, 32)        25632     \n",
      "_________________________________________________________________\n",
      "conv2d_11 (Conv2D)           (None, 32, 32, 64)        18496     \n",
      "_________________________________________________________________\n",
      "max_pooling2d_5 (MaxPooling2 (None, 16, 16, 64)        0         \n",
      "_________________________________________________________________\n",
      "flatten_18 (Flatten)         (None, 16384)             0         \n",
      "_________________________________________________________________\n",
      "dense_23 (Dense)             (None, 100)               1638500   \n",
      "_________________________________________________________________\n",
      "dropout (Dropout)            (None, 100)               0         \n",
      "_________________________________________________________________\n",
      "dense_24 (Dense)             (None, 10)                1010      \n",
      "=================================================================\n",
      "Total params: 1,688,374\n",
      "Trainable params: 1,688,374\n",
      "Non-trainable params: 0\n",
      "_________________________________________________________________\n",
      "Train on 3500 samples, validate on 500 samples\n",
      "Epoch 1/20\n"
     ]
    },
    {
     "name": "stderr",
     "output_type": "stream",
     "text": [
      "W1120 00:06:29.448613 140734928358848 nn_ops.py:4283] Large dropout rate: 0.7 (>0.5). In TensorFlow 2.x, dropout() uses dropout rate instead of keep_prob. Please ensure that this is intended.\n"
     ]
    },
    {
     "name": "stdout",
     "output_type": "stream",
     "text": [
      "3500/3500 - 30s - loss: 2.2302 - accuracy: 0.1486 - val_loss: 2.0604 - val_accuracy: 0.2360\n",
      "Epoch 2/20\n",
      "3500/3500 - 32s - loss: 2.0240 - accuracy: 0.2237 - val_loss: 1.9407 - val_accuracy: 0.2640\n",
      "Epoch 3/20\n",
      "3500/3500 - 31s - loss: 1.9205 - accuracy: 0.2397 - val_loss: 1.7853 - val_accuracy: 0.3040\n",
      "Epoch 4/20\n",
      "3500/3500 - 31s - loss: 1.8398 - accuracy: 0.2660 - val_loss: 1.7876 - val_accuracy: 0.3060\n",
      "Epoch 5/20\n",
      "3500/3500 - 30s - loss: 1.8131 - accuracy: 0.2820 - val_loss: 1.7317 - val_accuracy: 0.3320\n",
      "Epoch 6/20\n",
      "3500/3500 - 29s - loss: 1.7706 - accuracy: 0.2909 - val_loss: 1.6632 - val_accuracy: 0.3600\n",
      "Epoch 7/20\n",
      "3500/3500 - 31s - loss: 1.7180 - accuracy: 0.3214 - val_loss: 1.6085 - val_accuracy: 0.3980\n",
      "Epoch 8/20\n",
      "3500/3500 - 31s - loss: 1.6665 - accuracy: 0.3477 - val_loss: 1.5944 - val_accuracy: 0.3820\n",
      "Epoch 9/20\n",
      "3500/3500 - 30s - loss: 1.6113 - accuracy: 0.3637 - val_loss: 1.5629 - val_accuracy: 0.4280\n",
      "Epoch 10/20\n",
      "3500/3500 - 29s - loss: 1.5638 - accuracy: 0.3794 - val_loss: 1.5663 - val_accuracy: 0.3940\n",
      "Epoch 11/20\n",
      "3500/3500 - 29s - loss: 1.5067 - accuracy: 0.4083 - val_loss: 1.5244 - val_accuracy: 0.4080\n",
      "Epoch 12/20\n",
      "3500/3500 - 30s - loss: 1.4515 - accuracy: 0.4414 - val_loss: 1.5221 - val_accuracy: 0.4000\n",
      "Epoch 13/20\n",
      "3500/3500 - 28s - loss: 1.3949 - accuracy: 0.4580 - val_loss: 1.5249 - val_accuracy: 0.4180\n",
      "Epoch 14/20\n",
      "3500/3500 - 29s - loss: 1.3291 - accuracy: 0.4920 - val_loss: 1.5933 - val_accuracy: 0.4260\n",
      "Epoch 15/20\n",
      "3500/3500 - 30s - loss: 1.2748 - accuracy: 0.5046 - val_loss: 1.6005 - val_accuracy: 0.3880\n",
      "Epoch 16/20\n",
      "3500/3500 - 31s - loss: 1.2200 - accuracy: 0.5220 - val_loss: 1.5424 - val_accuracy: 0.4260\n",
      "Epoch 17/20\n",
      "3500/3500 - 30s - loss: 1.1709 - accuracy: 0.5566 - val_loss: 1.6189 - val_accuracy: 0.4120\n",
      "Epoch 18/20\n",
      "3500/3500 - 30s - loss: 1.1342 - accuracy: 0.5663 - val_loss: 1.5592 - val_accuracy: 0.4340\n",
      "Epoch 19/20\n",
      "3500/3500 - 30s - loss: 1.0961 - accuracy: 0.5817 - val_loss: 1.6015 - val_accuracy: 0.4400\n",
      "Epoch 20/20\n",
      "3500/3500 - 30s - loss: 1.0533 - accuracy: 0.5960 - val_loss: 1.6668 - val_accuracy: 0.4240\n"
     ]
    }
   ],
   "source": [
    "model = tf.keras.Sequential([ \n",
    "    tf.keras.layers.Conv2D(input_shape=stl_imgs.shape[1:],filters=32, kernel_size=(7,7),padding=\"same\", activation='relu',),\n",
    "    tf.keras.layers.Conv2D(input_shape=stl_imgs.shape[1:],filters=32, kernel_size=(5,5),padding=\"same\", activation='relu',),\n",
    "    tf.keras.layers.Conv2D(input_shape=stl_imgs.shape[1:],filters=64, kernel_size=(3,3),padding=\"same\", activation='relu',),\n",
    "    tf.keras.layers.MaxPool2D(pool_size=2, strides=2, padding='valid', data_format=\"channels_last\" ),\n",
    "    tf.keras.layers.Flatten(input_shape=(16,16,64)),\n",
    "    tf.keras.layers.Dense(units=100, activation=\"relu\"),\n",
    "    tf.keras.layers.Dropout(.7),\n",
    "    tf.keras.layers.Dense(units=10, activation=\"softmax\") \n",
    "]) \n",
    "model.summary()\n",
    "model.compile(optimizer=\"adam\", loss=\"sparse_categorical_crossentropy\", metrics=['accuracy']) \n",
    "hist = model.fit(x_train, y_train, batch_size=4, epochs=20, validation_data=(x_val, y_val), verbose=2)"
   ]
  },
  {
   "cell_type": "code",
   "execution_count": 64,
   "metadata": {},
   "outputs": [
    {
     "data": {
      "image/png": "[encoded data removed]",
      "text/plain": [
       "<Figure size 432x288 with 1 Axes>"
      ]
     },
     "metadata": {
      "needs_background": "light"
     },
     "output_type": "display_data"
    }
   ],
   "source": [
    "plt.plot(hist.history[\"accuracy\"], label=\"Training Accuracy\", color=\"green\")\n",
    "plt.plot(hist.history[\"val_accuracy\"], label=\"Validation Accuracy\", color=\"blue\")\n",
    "plt.title(\"Accuracy Over Epochs\")\n",
    "plt.ylabel(\"Accuracy\")\n",
    "plt.xlabel(\"Training Epochs\")\n",
    "plt.legend()\n",
    "plt.show()\n"
   ]
  },
  {
   "cell_type": "code",
   "execution_count": 65,
   "metadata": {},
   "outputs": [
    {
     "name": "stdout",
     "output_type": "stream",
     "text": [
      "500/1 - 1s - loss: 1.8439 - accuracy: 0.4120\n",
      "Accuracy: 0.41200000047683716, Loss: 1.846271499633789\n"
     ]
    }
   ],
   "source": [
    "loss, acc = model.evaluate(x_test, y_test, verbose=2)\n",
    "print(f'Accuracy: {acc}, Loss: {loss}')"
   ]
  },
  {
   "cell_type": "markdown",
   "metadata": {},
   "source": [
    "Adding a dropout layer seems to have helped with the overfitting. It is clear that the training accuracy did not hit the maximum it could have, only achieving 60% rather than the 97% of before. This is because I was likely overzealous with my dropout rate. Additionally, batch size is something to mess with as well. Considering rumors of a batch size of 32 being a good number, I will try that next with a lower dropout rate."
   ]
  },
  {
   "cell_type": "code",
   "execution_count": 66,
   "metadata": {},
   "outputs": [
    {
     "name": "stdout",
     "output_type": "stream",
     "text": [
      "Model: \"sequential_19\"\n",
      "_________________________________________________________________\n",
      "Layer (type)                 Output Shape              Param #   \n",
      "=================================================================\n",
      "conv2d_12 (Conv2D)           (None, 32, 32, 32)        4736      \n",
      "_________________________________________________________________\n",
      "conv2d_13 (Conv2D)           (None, 32, 32, 32)        25632     \n",
      "_________________________________________________________________\n",
      "conv2d_14 (Conv2D)           (None, 32, 32, 64)        18496     \n",
      "_________________________________________________________________\n",
      "max_pooling2d_6 (MaxPooling2 (None, 16, 16, 64)        0         \n",
      "_________________________________________________________________\n",
      "flatten_19 (Flatten)         (None, 16384)             0         \n",
      "_________________________________________________________________\n",
      "dense_25 (Dense)             (None, 100)               1638500   \n",
      "_________________________________________________________________\n",
      "dropout_1 (Dropout)          (None, 100)               0         \n",
      "_________________________________________________________________\n",
      "dense_26 (Dense)             (None, 10)                1010      \n",
      "=================================================================\n",
      "Total params: 1,688,374\n",
      "Trainable params: 1,688,374\n",
      "Non-trainable params: 0\n",
      "_________________________________________________________________\n",
      "Train on 3500 samples, validate on 500 samples\n",
      "Epoch 1/20\n",
      "3500/3500 - 18s - loss: 2.0811 - accuracy: 0.2246 - val_loss: 1.8256 - val_accuracy: 0.3320\n",
      "Epoch 2/20\n",
      "3500/3500 - 16s - loss: 1.8134 - accuracy: 0.3271 - val_loss: 1.6315 - val_accuracy: 0.4200\n",
      "Epoch 3/20\n",
      "3500/3500 - 16s - loss: 1.6376 - accuracy: 0.3860 - val_loss: 1.4663 - val_accuracy: 0.4580\n",
      "Epoch 4/20\n",
      "3500/3500 - 16s - loss: 1.5115 - accuracy: 0.4351 - val_loss: 1.4044 - val_accuracy: 0.4720\n",
      "Epoch 5/20\n",
      "3500/3500 - 16s - loss: 1.4131 - accuracy: 0.4777 - val_loss: 1.4036 - val_accuracy: 0.4680\n",
      "Epoch 6/20\n",
      "3500/3500 - 16s - loss: 1.3098 - accuracy: 0.5043 - val_loss: 1.3806 - val_accuracy: 0.4760\n",
      "Epoch 7/20\n",
      "3500/3500 - 16s - loss: 1.2008 - accuracy: 0.5543 - val_loss: 1.4465 - val_accuracy: 0.4760\n",
      "Epoch 8/20\n",
      "3500/3500 - 16s - loss: 1.0848 - accuracy: 0.5934 - val_loss: 1.3911 - val_accuracy: 0.4800\n",
      "Epoch 9/20\n",
      "3500/3500 - 16s - loss: 0.9520 - accuracy: 0.6420 - val_loss: 1.4464 - val_accuracy: 0.4860\n",
      "Epoch 10/20\n",
      "3500/3500 - 16s - loss: 0.8644 - accuracy: 0.6723 - val_loss: 1.4787 - val_accuracy: 0.4860\n",
      "Epoch 11/20\n",
      "3500/3500 - 16s - loss: 0.7795 - accuracy: 0.7074 - val_loss: 1.4782 - val_accuracy: 0.4820\n",
      "Epoch 12/20\n",
      "3500/3500 - 16s - loss: 0.6538 - accuracy: 0.7477 - val_loss: 1.6289 - val_accuracy: 0.4660\n",
      "Epoch 13/20\n",
      "3500/3500 - 17s - loss: 0.5973 - accuracy: 0.7780 - val_loss: 1.6073 - val_accuracy: 0.4960\n",
      "Epoch 14/20\n",
      "3500/3500 - 18s - loss: 0.5076 - accuracy: 0.8029 - val_loss: 1.9353 - val_accuracy: 0.4700\n",
      "Epoch 15/20\n",
      "3500/3500 - 20s - loss: 0.4804 - accuracy: 0.8177 - val_loss: 1.9407 - val_accuracy: 0.4680\n",
      "Epoch 16/20\n",
      "3500/3500 - 18s - loss: 0.4115 - accuracy: 0.8400 - val_loss: 2.1023 - val_accuracy: 0.4740\n",
      "Epoch 17/20\n",
      "3500/3500 - 17s - loss: 0.3922 - accuracy: 0.8540 - val_loss: 2.0256 - val_accuracy: 0.4660\n",
      "Epoch 18/20\n",
      "3500/3500 - 17s - loss: 0.3640 - accuracy: 0.8600 - val_loss: 2.1614 - val_accuracy: 0.4840\n",
      "Epoch 19/20\n",
      "3500/3500 - 16s - loss: 0.3327 - accuracy: 0.8726 - val_loss: 2.4007 - val_accuracy: 0.4620\n",
      "Epoch 20/20\n",
      "3500/3500 - 16s - loss: 0.3163 - accuracy: 0.8786 - val_loss: 2.5830 - val_accuracy: 0.4380\n"
     ]
    }
   ],
   "source": [
    "model = tf.keras.Sequential([ \n",
    "    tf.keras.layers.Conv2D(input_shape=stl_imgs.shape[1:],filters=32, kernel_size=(7,7),padding=\"same\", activation='relu',),\n",
    "    tf.keras.layers.Conv2D(input_shape=stl_imgs.shape[1:],filters=32, kernel_size=(5,5),padding=\"same\", activation='relu',),\n",
    "    tf.keras.layers.Conv2D(input_shape=stl_imgs.shape[1:],filters=64, kernel_size=(3,3),padding=\"same\", activation='relu',),\n",
    "    tf.keras.layers.MaxPool2D(pool_size=2, strides=2, padding='valid', data_format=\"channels_last\" ),\n",
    "    tf.keras.layers.Flatten(input_shape=(16,16,64)),\n",
    "    tf.keras.layers.Dense(units=100, activation=\"relu\"),\n",
    "    tf.keras.layers.Dropout(.5),\n",
    "    tf.keras.layers.Dense(units=10, activation=\"softmax\") \n",
    "]) \n",
    "model.summary()\n",
    "model.compile(optimizer=\"adam\", loss=\"sparse_categorical_crossentropy\", metrics=['accuracy']) \n",
    "hist = model.fit(x_train, y_train, batch_size=32, epochs=20, validation_data=(x_val, y_val), verbose=2)"
   ]
  },
  {
   "cell_type": "code",
   "execution_count": 67,
   "metadata": {},
   "outputs": [
    {
     "data": {
      "image/png": "[encoded data removed]",
      "text/plain": [
       "<Figure size 432x288 with 1 Axes>"
      ]
     },
     "metadata": {
      "needs_background": "light"
     },
     "output_type": "display_data"
    }
   ],
   "source": [
    "plt.plot(hist.history[\"accuracy\"], label=\"Training Accuracy\", color=\"green\")\n",
    "plt.plot(hist.history[\"val_accuracy\"], label=\"Validation Accuracy\", color=\"blue\")\n",
    "plt.title(\"Accuracy Over Epochs\")\n",
    "plt.ylabel(\"Accuracy\")\n",
    "plt.xlabel(\"Training Epochs\")\n",
    "plt.legend()\n",
    "plt.show()\n"
   ]
  },
  {
   "cell_type": "code",
   "execution_count": 68,
   "metadata": {},
   "outputs": [
    {
     "name": "stdout",
     "output_type": "stream",
     "text": [
      "500/1 - 0s - loss: 3.3519 - accuracy: 0.4720\n",
      "Accuracy: 0.47200000286102295, Loss: 2.5658507766723635\n"
     ]
    }
   ],
   "source": [
    "loss, acc = model.evaluate(x_test, y_test, verbose=2)\n",
    "print(f'Accuracy: {acc}, Loss: {loss}')"
   ]
  },
  {
   "cell_type": "markdown",
   "metadata": {},
   "source": [
    "The decrease in batch size made a large difference, both in training time and the amount of time it took to increase our accuracy. In fact, we hit a much higher accuracy than before and did not overfit until the end. The dropoff in validation accuracy was somewhat dissapointing but worse dropoff in validation may have been prevented by the dropout layer. Out of curiousity, I am going to change my batch size on the original Conv4 below and see what sort of accuracy we can achieve."
   ]
  },
  {
   "cell_type": "code",
   "execution_count": 69,
   "metadata": {},
   "outputs": [
    {
     "name": "stdout",
     "output_type": "stream",
     "text": [
      "Model: \"sequential_20\"\n",
      "_________________________________________________________________\n",
      "Layer (type)                 Output Shape              Param #   \n",
      "=================================================================\n",
      "conv2d_15 (Conv2D)           (None, 32, 32, 32)        4736      \n",
      "_________________________________________________________________\n",
      "max_pooling2d_7 (MaxPooling2 (None, 16, 16, 32)        0         \n",
      "_________________________________________________________________\n",
      "flatten_20 (Flatten)         (None, 8192)              0         \n",
      "_________________________________________________________________\n",
      "dense_27 (Dense)             (None, 100)               819300    \n",
      "_________________________________________________________________\n",
      "dense_28 (Dense)             (None, 10)                1010      \n",
      "=================================================================\n",
      "Total params: 825,046\n",
      "Trainable params: 825,046\n",
      "Non-trainable params: 0\n",
      "_________________________________________________________________\n",
      "Train on 3500 samples, validate on 500 samples\n",
      "Epoch 1/20\n",
      "3500/3500 - 4s - loss: 1.8260 - accuracy: 0.3294 - val_loss: 1.5679 - val_accuracy: 0.3880\n",
      "Epoch 2/20\n",
      "3500/3500 - 4s - loss: 1.4275 - accuracy: 0.4757 - val_loss: 1.4320 - val_accuracy: 0.4640\n",
      "Epoch 3/20\n",
      "3500/3500 - 4s - loss: 1.2170 - accuracy: 0.5549 - val_loss: 1.3739 - val_accuracy: 0.4980\n",
      "Epoch 4/20\n",
      "3500/3500 - 4s - loss: 1.0277 - accuracy: 0.6346 - val_loss: 1.3913 - val_accuracy: 0.5080\n",
      "Epoch 5/20\n",
      "3500/3500 - 3s - loss: 0.8511 - accuracy: 0.7009 - val_loss: 1.3391 - val_accuracy: 0.5100\n",
      "Epoch 6/20\n",
      "3500/3500 - 3s - loss: 0.6949 - accuracy: 0.7626 - val_loss: 1.3565 - val_accuracy: 0.5540\n",
      "Epoch 7/20\n",
      "3500/3500 - 3s - loss: 0.5578 - accuracy: 0.8149 - val_loss: 1.4496 - val_accuracy: 0.5260\n",
      "Epoch 8/20\n",
      "3500/3500 - 3s - loss: 0.4135 - accuracy: 0.8746 - val_loss: 1.5123 - val_accuracy: 0.5340\n",
      "Epoch 9/20\n",
      "3500/3500 - 3s - loss: 0.3139 - accuracy: 0.9103 - val_loss: 1.5697 - val_accuracy: 0.5240\n",
      "Epoch 10/20\n",
      "3500/3500 - 3s - loss: 0.2013 - accuracy: 0.9543 - val_loss: 1.7015 - val_accuracy: 0.4960\n",
      "Epoch 11/20\n",
      "3500/3500 - 3s - loss: 0.1629 - accuracy: 0.9649 - val_loss: 1.6990 - val_accuracy: 0.5220\n",
      "Epoch 12/20\n",
      "3500/3500 - 3s - loss: 0.1006 - accuracy: 0.9840 - val_loss: 1.8890 - val_accuracy: 0.5300\n",
      "Epoch 13/20\n",
      "3500/3500 - 3s - loss: 0.0724 - accuracy: 0.9923 - val_loss: 1.9842 - val_accuracy: 0.5360\n",
      "Epoch 14/20\n",
      "3500/3500 - 3s - loss: 0.0437 - accuracy: 0.9977 - val_loss: 1.9984 - val_accuracy: 0.5200\n",
      "Epoch 15/20\n",
      "3500/3500 - 4s - loss: 0.0232 - accuracy: 1.0000 - val_loss: 2.0432 - val_accuracy: 0.5360\n",
      "Epoch 16/20\n",
      "3500/3500 - 3s - loss: 0.0155 - accuracy: 1.0000 - val_loss: 2.1374 - val_accuracy: 0.5260\n",
      "Epoch 17/20\n",
      "3500/3500 - 3s - loss: 0.0113 - accuracy: 1.0000 - val_loss: 2.1811 - val_accuracy: 0.5260\n",
      "Epoch 18/20\n",
      "3500/3500 - 3s - loss: 0.0089 - accuracy: 1.0000 - val_loss: 2.2406 - val_accuracy: 0.5240\n",
      "Epoch 19/20\n",
      "3500/3500 - 3s - loss: 0.0073 - accuracy: 1.0000 - val_loss: 2.3113 - val_accuracy: 0.5200\n",
      "Epoch 20/20\n",
      "3500/3500 - 3s - loss: 0.0060 - accuracy: 1.0000 - val_loss: 2.3518 - val_accuracy: 0.5180\n"
     ]
    }
   ],
   "source": [
    "model = tf.keras.Sequential([ \n",
    "    tf.keras.layers.Conv2D(input_shape=stl_imgs.shape[1:],filters=32, kernel_size=(7,7),padding=\"same\", activation='relu',),\n",
    "    tf.keras.layers.MaxPool2D(pool_size=2, strides=2, padding='valid', data_format=\"channels_last\" ),\n",
    "    tf.keras.layers.Flatten(input_shape=(16,16,32)),\n",
    "    tf.keras.layers.Dense(units=100, activation=\"relu\"),\n",
    "    tf.keras.layers.Dense(units=10, activation=\"softmax\") \n",
    "]) \n",
    "model.summary()\n",
    "model.compile(optimizer=\"adam\", loss=\"sparse_categorical_crossentropy\", metrics=['accuracy']) \n",
    "hist = model.fit(x_train, y_train, batch_size=32, epochs=20, validation_data=(x_val, y_val), verbose=2)"
   ]
  },
  {
   "cell_type": "code",
   "execution_count": 70,
   "metadata": {},
   "outputs": [
    {
     "data": {
      "image/png": "[encoded data removed]",
      "text/plain": [
       "<Figure size 432x288 with 1 Axes>"
      ]
     },
     "metadata": {
      "needs_background": "light"
     },
     "output_type": "display_data"
    }
   ],
   "source": [
    "plt.plot(hist.history[\"accuracy\"], label=\"Training Accuracy\", color=\"green\")\n",
    "plt.plot(hist.history[\"val_accuracy\"], label=\"Validation Accuracy\", color=\"blue\")\n",
    "plt.title(\"Accuracy Over Epochs\")\n",
    "plt.ylabel(\"Accuracy\")\n",
    "plt.xlabel(\"Training Epochs\")\n",
    "plt.legend()\n",
    "plt.show()\n"
   ]
  },
  {
   "cell_type": "code",
   "execution_count": 71,
   "metadata": {},
   "outputs": [
    {
     "name": "stdout",
     "output_type": "stream",
     "text": [
      "500/1 - 0s - loss: 3.6136 - accuracy: 0.5520\n",
      "Accuracy: 0.5519999861717224, Loss: 2.413445297241211\n"
     ]
    }
   ],
   "source": [
    "loss, acc = model.evaluate(x_test, y_test, verbose=2)\n",
    "print(f'Accuracy: {acc}, Loss: {loss}')"
   ]
  },
  {
   "cell_type": "markdown",
   "metadata": {},
   "source": [
    "Considering the drastic increase in accuracy, it seems we have a difference here in batch size rather than model complexity. This model, with half the weights of the other models, trains in 1/6th of the time and is more accurate by a significant amount. It looks like there is still some overfitting to battle, so I will add a dropout layer to it to see if there is a difference."
   ]
  },
  {
   "cell_type": "code",
   "execution_count": 72,
   "metadata": {},
   "outputs": [
    {
     "name": "stdout",
     "output_type": "stream",
     "text": [
      "Model: \"sequential_21\"\n",
      "_________________________________________________________________\n",
      "Layer (type)                 Output Shape              Param #   \n",
      "=================================================================\n",
      "conv2d_16 (Conv2D)           (None, 32, 32, 32)        4736      \n",
      "_________________________________________________________________\n",
      "max_pooling2d_8 (MaxPooling2 (None, 16, 16, 32)        0         \n",
      "_________________________________________________________________\n",
      "flatten_21 (Flatten)         (None, 8192)              0         \n",
      "_________________________________________________________________\n",
      "dense_29 (Dense)             (None, 100)               819300    \n",
      "_________________________________________________________________\n",
      "dropout_2 (Dropout)          (None, 100)               0         \n",
      "_________________________________________________________________\n",
      "dense_30 (Dense)             (None, 10)                1010      \n",
      "=================================================================\n",
      "Total params: 825,046\n",
      "Trainable params: 825,046\n",
      "Non-trainable params: 0\n",
      "_________________________________________________________________\n",
      "Train on 3500 samples, validate on 500 samples\n",
      "Epoch 1/20\n",
      "3500/3500 - 4s - loss: 1.9460 - accuracy: 0.2751 - val_loss: 1.6424 - val_accuracy: 0.3820\n",
      "Epoch 2/20\n",
      "3500/3500 - 4s - loss: 1.6586 - accuracy: 0.3820 - val_loss: 1.5279 - val_accuracy: 0.4280\n",
      "Epoch 3/20\n",
      "3500/3500 - 4s - loss: 1.5014 - accuracy: 0.4371 - val_loss: 1.4358 - val_accuracy: 0.4620\n",
      "Epoch 4/20\n",
      "3500/3500 - 3s - loss: 1.3883 - accuracy: 0.4903 - val_loss: 1.3453 - val_accuracy: 0.5160\n",
      "Epoch 5/20\n",
      "3500/3500 - 3s - loss: 1.2768 - accuracy: 0.5300 - val_loss: 1.3254 - val_accuracy: 0.5100\n",
      "Epoch 6/20\n",
      "3500/3500 - 4s - loss: 1.1424 - accuracy: 0.5849 - val_loss: 1.3129 - val_accuracy: 0.5180\n",
      "Epoch 7/20\n",
      "3500/3500 - 4s - loss: 1.0522 - accuracy: 0.6194 - val_loss: 1.3022 - val_accuracy: 0.5080\n",
      "Epoch 8/20\n",
      "3500/3500 - 3s - loss: 0.9788 - accuracy: 0.6474 - val_loss: 1.2731 - val_accuracy: 0.5240\n",
      "Epoch 9/20\n",
      "3500/3500 - 3s - loss: 0.8827 - accuracy: 0.6874 - val_loss: 1.3154 - val_accuracy: 0.5300\n",
      "Epoch 10/20\n",
      "3500/3500 - 3s - loss: 0.7949 - accuracy: 0.7174 - val_loss: 1.3235 - val_accuracy: 0.5240\n",
      "Epoch 11/20\n",
      "3500/3500 - 3s - loss: 0.7280 - accuracy: 0.7314 - val_loss: 1.2885 - val_accuracy: 0.5360\n",
      "Epoch 12/20\n",
      "3500/3500 - 3s - loss: 0.6425 - accuracy: 0.7786 - val_loss: 1.3554 - val_accuracy: 0.5300\n",
      "Epoch 13/20\n",
      "3500/3500 - 3s - loss: 0.5925 - accuracy: 0.7929 - val_loss: 1.3911 - val_accuracy: 0.5480\n",
      "Epoch 14/20\n",
      "3500/3500 - 3s - loss: 0.5478 - accuracy: 0.8109 - val_loss: 1.4062 - val_accuracy: 0.5320\n",
      "Epoch 15/20\n",
      "3500/3500 - 3s - loss: 0.4909 - accuracy: 0.8286 - val_loss: 1.3510 - val_accuracy: 0.5440\n",
      "Epoch 16/20\n",
      "3500/3500 - 3s - loss: 0.4721 - accuracy: 0.8349 - val_loss: 1.3797 - val_accuracy: 0.5340\n",
      "Epoch 17/20\n",
      "3500/3500 - 3s - loss: 0.4156 - accuracy: 0.8560 - val_loss: 1.5198 - val_accuracy: 0.5340\n",
      "Epoch 18/20\n",
      "3500/3500 - 3s - loss: 0.3856 - accuracy: 0.8700 - val_loss: 1.5670 - val_accuracy: 0.5300\n",
      "Epoch 19/20\n",
      "3500/3500 - 3s - loss: 0.3638 - accuracy: 0.8763 - val_loss: 1.5543 - val_accuracy: 0.5280\n",
      "Epoch 20/20\n",
      "3500/3500 - 3s - loss: 0.3594 - accuracy: 0.8714 - val_loss: 1.5638 - val_accuracy: 0.5220\n"
     ]
    }
   ],
   "source": [
    "model = tf.keras.Sequential([ \n",
    "    tf.keras.layers.Conv2D(input_shape=stl_imgs.shape[1:],filters=32, kernel_size=(7,7),padding=\"same\", activation='relu',),\n",
    "    tf.keras.layers.MaxPool2D(pool_size=2, strides=2, padding='valid', data_format=\"channels_last\" ),\n",
    "    tf.keras.layers.Flatten(input_shape=(16,16,32)),\n",
    "    tf.keras.layers.Dense(units=100, activation=\"relu\"),\n",
    "    tf.keras.layers.Dropout(.35),\n",
    "    tf.keras.layers.Dense(units=10, activation=\"softmax\") \n",
    "]) \n",
    "model.summary()\n",
    "model.compile(optimizer=\"adam\", loss=\"sparse_categorical_crossentropy\", metrics=['accuracy']) \n",
    "hist = model.fit(x_train, y_train, batch_size=32, epochs=20, validation_data=(x_val, y_val), verbose=2)"
   ]
  },
  {
   "cell_type": "code",
   "execution_count": 73,
   "metadata": {},
   "outputs": [
    {
     "data": {
      "image/png": "[encoded data removed]",
      "text/plain": [
       "<Figure size 432x288 with 1 Axes>"
      ]
     },
     "metadata": {
      "needs_background": "light"
     },
     "output_type": "display_data"
    }
   ],
   "source": [
    "plt.plot(hist.history[\"accuracy\"], label=\"Training Accuracy\", color=\"green\")\n",
    "plt.plot(hist.history[\"val_accuracy\"], label=\"Validation Accuracy\", color=\"blue\")\n",
    "plt.title(\"Accuracy Over Epochs\")\n",
    "plt.ylabel(\"Accuracy\")\n",
    "plt.xlabel(\"Training Epochs\")\n",
    "plt.legend()\n",
    "plt.show()"
   ]
  },
  {
   "cell_type": "code",
   "execution_count": 74,
   "metadata": {},
   "outputs": [
    {
     "name": "stdout",
     "output_type": "stream",
     "text": [
      "500/1 - 0s - loss: 2.3407 - accuracy: 0.5140\n",
      "Accuracy: 0.5139999985694885, Loss: 1.6189593925476073\n"
     ]
    }
   ],
   "source": [
    "loss, acc = model.evaluate(x_test, y_test, verbose=2)\n",
    "print(f'Accuracy: {acc}, Loss: {loss}')"
   ]
  },
  {
   "cell_type": "markdown",
   "metadata": {},
   "source": [
    "It appears that dropout was not useful in the long term here. We lost accuracy by nearly 4%. We look like we peaked at about 11 epochs, so maybe there is something to learn at 11 epochs that we lose with later epochs."
   ]
  },
  {
   "cell_type": "code",
   "execution_count": 75,
   "metadata": {},
   "outputs": [
    {
     "name": "stdout",
     "output_type": "stream",
     "text": [
      "Model: \"sequential_22\"\n",
      "_________________________________________________________________\n",
      "Layer (type)                 Output Shape              Param #   \n",
      "=================================================================\n",
      "conv2d_17 (Conv2D)           (None, 32, 32, 32)        4736      \n",
      "_________________________________________________________________\n",
      "max_pooling2d_9 (MaxPooling2 (None, 16, 16, 32)        0         \n",
      "_________________________________________________________________\n",
      "flatten_22 (Flatten)         (None, 8192)              0         \n",
      "_________________________________________________________________\n",
      "dense_31 (Dense)             (None, 100)               819300    \n",
      "_________________________________________________________________\n",
      "dropout_3 (Dropout)          (None, 100)               0         \n",
      "_________________________________________________________________\n",
      "dense_32 (Dense)             (None, 10)                1010      \n",
      "=================================================================\n",
      "Total params: 825,046\n",
      "Trainable params: 825,046\n",
      "Non-trainable params: 0\n",
      "_________________________________________________________________\n",
      "Train on 3500 samples, validate on 500 samples\n",
      "Epoch 1/11\n",
      "3500/3500 - 4s - loss: 1.9152 - accuracy: 0.2931 - val_loss: 1.6864 - val_accuracy: 0.3980\n",
      "Epoch 2/11\n",
      "3500/3500 - 4s - loss: 1.6353 - accuracy: 0.3846 - val_loss: 1.4822 - val_accuracy: 0.4280\n",
      "Epoch 3/11\n",
      "3500/3500 - 4s - loss: 1.4748 - accuracy: 0.4497 - val_loss: 1.4197 - val_accuracy: 0.4700\n",
      "Epoch 4/11\n",
      "3500/3500 - 4s - loss: 1.3498 - accuracy: 0.5023 - val_loss: 1.3539 - val_accuracy: 0.5140\n",
      "Epoch 5/11\n",
      "3500/3500 - 3s - loss: 1.2369 - accuracy: 0.5543 - val_loss: 1.3704 - val_accuracy: 0.5000\n",
      "Epoch 6/11\n",
      "3500/3500 - 3s - loss: 1.1261 - accuracy: 0.5911 - val_loss: 1.3148 - val_accuracy: 0.5220\n",
      "Epoch 7/11\n",
      "3500/3500 - 4s - loss: 1.0179 - accuracy: 0.6337 - val_loss: 1.2781 - val_accuracy: 0.5340\n",
      "Epoch 8/11\n",
      "3500/3500 - 4s - loss: 0.9134 - accuracy: 0.6729 - val_loss: 1.3033 - val_accuracy: 0.5100\n",
      "Epoch 9/11\n",
      "3500/3500 - 4s - loss: 0.8172 - accuracy: 0.7066 - val_loss: 1.3075 - val_accuracy: 0.5100\n",
      "Epoch 10/11\n",
      "3500/3500 - 3s - loss: 0.7037 - accuracy: 0.7623 - val_loss: 1.2860 - val_accuracy: 0.5640\n",
      "Epoch 11/11\n",
      "3500/3500 - 3s - loss: 0.6337 - accuracy: 0.7766 - val_loss: 1.4468 - val_accuracy: 0.5220\n"
     ]
    }
   ],
   "source": [
    "model = tf.keras.Sequential([ \n",
    "    tf.keras.layers.Conv2D(input_shape=stl_imgs.shape[1:],filters=32, kernel_size=(7,7),padding=\"same\", activation='relu',),\n",
    "    tf.keras.layers.MaxPool2D(pool_size=2, strides=2, padding='valid', data_format=\"channels_last\" ),\n",
    "    tf.keras.layers.Flatten(input_shape=(16,16,32)),\n",
    "    tf.keras.layers.Dense(units=100, activation=\"relu\"),\n",
    "    tf.keras.layers.Dropout(.35),\n",
    "    tf.keras.layers.Dense(units=10, activation=\"softmax\") \n",
    "]) \n",
    "model.summary()\n",
    "model.compile(optimizer=\"adam\", loss=\"sparse_categorical_crossentropy\", metrics=['accuracy']) \n",
    "hist = model.fit(x_train, y_train, batch_size=32, epochs=11, validation_data=(x_val, y_val), verbose=2)"
   ]
  },
  {
   "cell_type": "code",
   "execution_count": 76,
   "metadata": {},
   "outputs": [
    {
     "data": {
      "image/png": "[encoded data removed]",
      "text/plain": [
       "<Figure size 432x288 with 1 Axes>"
      ]
     },
     "metadata": {
      "needs_background": "light"
     },
     "output_type": "display_data"
    }
   ],
   "source": [
    "plt.plot(hist.history[\"accuracy\"], label=\"Training Accuracy\", color=\"green\")\n",
    "plt.plot(hist.history[\"val_accuracy\"], label=\"Validation Accuracy\", color=\"blue\")\n",
    "plt.title(\"Accuracy Over Epochs\")\n",
    "plt.ylabel(\"Accuracy\")\n",
    "plt.xlabel(\"Training Epochs\")\n",
    "plt.legend()\n",
    "plt.show()"
   ]
  },
  {
   "cell_type": "code",
   "execution_count": 77,
   "metadata": {},
   "outputs": [
    {
     "name": "stdout",
     "output_type": "stream",
     "text": [
      "500/1 - 0s - loss: 1.8477 - accuracy: 0.5200\n",
      "Accuracy: 0.5199999809265137, Loss: 1.450166109085083\n"
     ]
    }
   ],
   "source": [
    "loss, acc = model.evaluate(x_test, y_test, verbose=2)\n",
    "print(f'Accuracy: {acc}, Loss: {loss}')"
   ]
  },
  {
   "cell_type": "markdown",
   "metadata": {},
   "source": [
    "It actually appears that we increase accuracy by 1%, but do not achieve what we had without dropout. This forces us to ponder whether decreasing the length of time the original Conv4 algorithm trains is worth something. Let us explore that."
   ]
  },
  {
   "cell_type": "code",
   "execution_count": 78,
   "metadata": {},
   "outputs": [
    {
     "name": "stdout",
     "output_type": "stream",
     "text": [
      "Model: \"sequential_23\"\n",
      "_________________________________________________________________\n",
      "Layer (type)                 Output Shape              Param #   \n",
      "=================================================================\n",
      "conv2d_18 (Conv2D)           (None, 32, 32, 32)        4736      \n",
      "_________________________________________________________________\n",
      "max_pooling2d_10 (MaxPooling (None, 16, 16, 32)        0         \n",
      "_________________________________________________________________\n",
      "flatten_23 (Flatten)         (None, 8192)              0         \n",
      "_________________________________________________________________\n",
      "dense_33 (Dense)             (None, 100)               819300    \n",
      "_________________________________________________________________\n",
      "dense_34 (Dense)             (None, 10)                1010      \n",
      "=================================================================\n",
      "Total params: 825,046\n",
      "Trainable params: 825,046\n",
      "Non-trainable params: 0\n",
      "_________________________________________________________________\n",
      "Train on 3500 samples, validate on 500 samples\n",
      "Epoch 1/11\n",
      "3500/3500 - 4s - loss: 1.8093 - accuracy: 0.3320 - val_loss: 1.5540 - val_accuracy: 0.4180\n",
      "Epoch 2/11\n",
      "3500/3500 - 4s - loss: 1.4585 - accuracy: 0.4623 - val_loss: 1.4360 - val_accuracy: 0.4500\n",
      "Epoch 3/11\n",
      "3500/3500 - 4s - loss: 1.2418 - accuracy: 0.5534 - val_loss: 1.3848 - val_accuracy: 0.4660\n",
      "Epoch 4/11\n",
      "3500/3500 - 4s - loss: 1.0564 - accuracy: 0.6269 - val_loss: 1.3439 - val_accuracy: 0.5080\n",
      "Epoch 5/11\n",
      "3500/3500 - 4s - loss: 0.8994 - accuracy: 0.6800 - val_loss: 1.3547 - val_accuracy: 0.5280\n",
      "Epoch 6/11\n",
      "3500/3500 - 3s - loss: 0.7271 - accuracy: 0.7474 - val_loss: 1.4171 - val_accuracy: 0.4960\n",
      "Epoch 7/11\n",
      "3500/3500 - 3s - loss: 0.5990 - accuracy: 0.8074 - val_loss: 1.3968 - val_accuracy: 0.5060\n",
      "Epoch 8/11\n",
      "3500/3500 - 3s - loss: 0.4675 - accuracy: 0.8546 - val_loss: 1.4741 - val_accuracy: 0.5280\n",
      "Epoch 9/11\n",
      "3500/3500 - 3s - loss: 0.3598 - accuracy: 0.8960 - val_loss: 1.5299 - val_accuracy: 0.5200\n",
      "Epoch 10/11\n",
      "3500/3500 - 3s - loss: 0.2532 - accuracy: 0.9360 - val_loss: 1.5118 - val_accuracy: 0.5420\n",
      "Epoch 11/11\n",
      "3500/3500 - 3s - loss: 0.2052 - accuracy: 0.9494 - val_loss: 1.8003 - val_accuracy: 0.5000\n"
     ]
    }
   ],
   "source": [
    "model = tf.keras.Sequential([ \n",
    "    tf.keras.layers.Conv2D(input_shape=stl_imgs.shape[1:],filters=32, kernel_size=(7,7),padding=\"same\", activation='relu',),\n",
    "    tf.keras.layers.MaxPool2D(pool_size=2, strides=2, padding='valid', data_format=\"channels_last\" ),\n",
    "    tf.keras.layers.Flatten(input_shape=(16,16,32)),\n",
    "    tf.keras.layers.Dense(units=100, activation=\"relu\"),\n",
    "    tf.keras.layers.Dense(units=10, activation=\"softmax\") \n",
    "]) \n",
    "model.summary()\n",
    "model.compile(optimizer=\"adam\", loss=\"sparse_categorical_crossentropy\", metrics=['accuracy']) \n",
    "hist = model.fit(x_train, y_train, batch_size=32, epochs=11, validation_data=(x_val, y_val), verbose=2)"
   ]
  },
  {
   "cell_type": "code",
   "execution_count": 79,
   "metadata": {},
   "outputs": [
    {
     "data": {
      "image/png": "[encoded data removed]",
      "text/plain": [
       "<Figure size 432x288 with 1 Axes>"
      ]
     },
     "metadata": {
      "needs_background": "light"
     },
     "output_type": "display_data"
    }
   ],
   "source": [
    "plt.plot(hist.history[\"accuracy\"], label=\"Training Accuracy\", color=\"green\")\n",
    "plt.plot(hist.history[\"val_accuracy\"], label=\"Validation Accuracy\", color=\"blue\")\n",
    "plt.title(\"Accuracy Over Epochs\")\n",
    "plt.ylabel(\"Accuracy\")\n",
    "plt.xlabel(\"Training Epochs\")\n",
    "plt.legend()\n",
    "plt.show()"
   ]
  },
  {
   "cell_type": "code",
   "execution_count": 80,
   "metadata": {},
   "outputs": [
    {
     "name": "stdout",
     "output_type": "stream",
     "text": [
      "500/1 - 0s - loss: 2.6177 - accuracy: 0.5180\n",
      "Accuracy: 0.5180000066757202, Loss: 1.8679421348571776\n"
     ]
    }
   ],
   "source": [
    "loss, acc = model.evaluate(x_test, y_test, verbose=2)\n",
    "print(f'Accuracy: {acc}, Loss: {loss}')"
   ]
  },
  {
   "cell_type": "markdown",
   "metadata": {},
   "source": [
    "It seems that we do not achieve the accuracy we may have been looking for and that this is on par with that of the dropout model, proven to be worse. However, we did not peak in our training accuracy, so we will train for a bit longer."
   ]
  },
  {
   "cell_type": "code",
   "execution_count": 81,
   "metadata": {},
   "outputs": [
    {
     "name": "stdout",
     "output_type": "stream",
     "text": [
      "Model: \"sequential_24\"\n",
      "_________________________________________________________________\n",
      "Layer (type)                 Output Shape              Param #   \n",
      "=================================================================\n",
      "conv2d_19 (Conv2D)           (None, 32, 32, 32)        4736      \n",
      "_________________________________________________________________\n",
      "max_pooling2d_11 (MaxPooling (None, 16, 16, 32)        0         \n",
      "_________________________________________________________________\n",
      "flatten_24 (Flatten)         (None, 8192)              0         \n",
      "_________________________________________________________________\n",
      "dense_35 (Dense)             (None, 100)               819300    \n",
      "_________________________________________________________________\n",
      "dense_36 (Dense)             (None, 10)                1010      \n",
      "=================================================================\n",
      "Total params: 825,046\n",
      "Trainable params: 825,046\n",
      "Non-trainable params: 0\n",
      "_________________________________________________________________\n",
      "Train on 3500 samples, validate on 500 samples\n",
      "Epoch 1/15\n",
      "3500/3500 - 4s - loss: 1.8262 - accuracy: 0.3346 - val_loss: 1.6237 - val_accuracy: 0.4160\n",
      "Epoch 2/15\n",
      "3500/3500 - 4s - loss: 1.4208 - accuracy: 0.4811 - val_loss: 1.4058 - val_accuracy: 0.4900\n",
      "Epoch 3/15\n",
      "3500/3500 - 4s - loss: 1.2144 - accuracy: 0.5634 - val_loss: 1.3934 - val_accuracy: 0.4680\n",
      "Epoch 4/15\n",
      "3500/3500 - 4s - loss: 1.0364 - accuracy: 0.6277 - val_loss: 1.3030 - val_accuracy: 0.5200\n",
      "Epoch 5/15\n",
      "3500/3500 - 4s - loss: 0.8386 - accuracy: 0.7149 - val_loss: 1.3027 - val_accuracy: 0.5300\n",
      "Epoch 6/15\n",
      "3500/3500 - 4s - loss: 0.7060 - accuracy: 0.7603 - val_loss: 1.4995 - val_accuracy: 0.5040\n",
      "Epoch 7/15\n",
      "3500/3500 - 4s - loss: 0.5235 - accuracy: 0.8343 - val_loss: 1.3994 - val_accuracy: 0.5540\n",
      "Epoch 8/15\n",
      "3500/3500 - 4s - loss: 0.3909 - accuracy: 0.8780 - val_loss: 1.5687 - val_accuracy: 0.5140\n",
      "Epoch 9/15\n",
      "3500/3500 - 4s - loss: 0.2710 - accuracy: 0.9334 - val_loss: 1.6565 - val_accuracy: 0.5180\n",
      "Epoch 10/15\n",
      "3500/3500 - 4s - loss: 0.1982 - accuracy: 0.9549 - val_loss: 1.7948 - val_accuracy: 0.5160\n",
      "Epoch 11/15\n",
      "3500/3500 - 4s - loss: 0.1248 - accuracy: 0.9774 - val_loss: 1.8360 - val_accuracy: 0.5300\n",
      "Epoch 12/15\n",
      "3500/3500 - 4s - loss: 0.0857 - accuracy: 0.9869 - val_loss: 1.9052 - val_accuracy: 0.5440\n",
      "Epoch 13/15\n",
      "3500/3500 - 4s - loss: 0.0545 - accuracy: 0.9971 - val_loss: 2.0038 - val_accuracy: 0.5320\n",
      "Epoch 14/15\n",
      "3500/3500 - 4s - loss: 0.0590 - accuracy: 0.9891 - val_loss: 2.1175 - val_accuracy: 0.5420\n",
      "Epoch 15/15\n",
      "3500/3500 - 4s - loss: 0.0451 - accuracy: 0.9946 - val_loss: 2.2065 - val_accuracy: 0.5320\n"
     ]
    }
   ],
   "source": [
    "model = tf.keras.Sequential([ \n",
    "    tf.keras.layers.Conv2D(input_shape=stl_imgs.shape[1:],filters=32, kernel_size=(7,7),padding=\"same\", activation='relu',),\n",
    "    tf.keras.layers.MaxPool2D(pool_size=2, strides=2, padding='valid', data_format=\"channels_last\" ),\n",
    "    tf.keras.layers.Flatten(input_shape=(16,16,32)),\n",
    "    tf.keras.layers.Dense(units=100, activation=\"relu\"),\n",
    "    tf.keras.layers.Dense(units=10, activation=\"softmax\") \n",
    "]) \n",
    "model.summary()\n",
    "model.compile(optimizer=\"adam\", loss=\"sparse_categorical_crossentropy\", metrics=['accuracy']) \n",
    "hist = model.fit(x_train, y_train, batch_size=32, epochs=15, validation_data=(x_val, y_val), verbose=2)"
   ]
  },
  {
   "cell_type": "code",
   "execution_count": 82,
   "metadata": {},
   "outputs": [
    {
     "data": {
      "image/png": "[encoded data removed]",
      "text/plain": [
       "<Figure size 432x288 with 1 Axes>"
      ]
     },
     "metadata": {
      "needs_background": "light"
     },
     "output_type": "display_data"
    }
   ],
   "source": [
    "plt.plot(hist.history[\"accuracy\"], label=\"Training Accuracy\", color=\"green\")\n",
    "plt.plot(hist.history[\"val_accuracy\"], label=\"Validation Accuracy\", color=\"blue\")\n",
    "plt.title(\"Accuracy Over Epochs\")\n",
    "plt.ylabel(\"Accuracy\")\n",
    "plt.xlabel(\"Training Epochs\")\n",
    "plt.legend()\n",
    "plt.show()"
   ]
  },
  {
   "cell_type": "code",
   "execution_count": 83,
   "metadata": {},
   "outputs": [
    {
     "name": "stdout",
     "output_type": "stream",
     "text": [
      "500/1 - 0s - loss: 3.4668 - accuracy: 0.5280\n",
      "Accuracy: 0.527999997138977, Loss: 2.3529868621826173\n"
     ]
    }
   ],
   "source": [
    "loss, acc = model.evaluate(x_test, y_test, verbose=2)\n",
    "print(f'Accuracy: {acc}, Loss: {loss}')"
   ]
  },
  {
   "cell_type": "markdown",
   "metadata": {},
   "source": [
    "Success! We have increased our accuracy, and approached what seems to be the bounds of overfitting. We will try a bit more than 20 epochs to see if we can increase our accuracy by training for longer because our 20 is the best so far."
   ]
  },
  {
   "cell_type": "code",
   "execution_count": 84,
   "metadata": {},
   "outputs": [
    {
     "name": "stdout",
     "output_type": "stream",
     "text": [
      "Model: \"sequential_25\"\n",
      "_________________________________________________________________\n",
      "Layer (type)                 Output Shape              Param #   \n",
      "=================================================================\n",
      "conv2d_20 (Conv2D)           (None, 32, 32, 32)        4736      \n",
      "_________________________________________________________________\n",
      "max_pooling2d_12 (MaxPooling (None, 16, 16, 32)        0         \n",
      "_________________________________________________________________\n",
      "flatten_25 (Flatten)         (None, 8192)              0         \n",
      "_________________________________________________________________\n",
      "dense_37 (Dense)             (None, 100)               819300    \n",
      "_________________________________________________________________\n",
      "dense_38 (Dense)             (None, 10)                1010      \n",
      "=================================================================\n",
      "Total params: 825,046\n",
      "Trainable params: 825,046\n",
      "Non-trainable params: 0\n",
      "_________________________________________________________________\n",
      "Train on 3500 samples, validate on 500 samples\n",
      "Epoch 1/25\n",
      "3500/3500 - 4s - loss: 1.7966 - accuracy: 0.3217 - val_loss: 1.6132 - val_accuracy: 0.3980\n",
      "Epoch 2/25\n",
      "3500/3500 - 4s - loss: 1.4269 - accuracy: 0.4754 - val_loss: 1.4223 - val_accuracy: 0.4560\n",
      "Epoch 3/25\n",
      "3500/3500 - 4s - loss: 1.1890 - accuracy: 0.5600 - val_loss: 1.3395 - val_accuracy: 0.4880\n",
      "Epoch 4/25\n",
      "3500/3500 - 4s - loss: 1.0076 - accuracy: 0.6414 - val_loss: 1.3860 - val_accuracy: 0.4840\n",
      "Epoch 5/25\n",
      "3500/3500 - 4s - loss: 0.8253 - accuracy: 0.7114 - val_loss: 1.4232 - val_accuracy: 0.5200\n",
      "Epoch 6/25\n",
      "3500/3500 - 4s - loss: 0.6465 - accuracy: 0.7794 - val_loss: 1.4142 - val_accuracy: 0.5160\n",
      "Epoch 7/25\n",
      "3500/3500 - 4s - loss: 0.5195 - accuracy: 0.8257 - val_loss: 1.4411 - val_accuracy: 0.5060\n",
      "Epoch 8/25\n",
      "3500/3500 - 4s - loss: 0.3782 - accuracy: 0.8866 - val_loss: 1.6692 - val_accuracy: 0.5220\n",
      "Epoch 9/25\n",
      "3500/3500 - 4s - loss: 0.2845 - accuracy: 0.9220 - val_loss: 1.7106 - val_accuracy: 0.5160\n",
      "Epoch 10/25\n",
      "3500/3500 - 4s - loss: 0.1926 - accuracy: 0.9554 - val_loss: 1.8153 - val_accuracy: 0.5060\n",
      "Epoch 11/25\n",
      "3500/3500 - 4s - loss: 0.1225 - accuracy: 0.9789 - val_loss: 1.8942 - val_accuracy: 0.5180\n",
      "Epoch 12/25\n",
      "3500/3500 - 4s - loss: 0.0820 - accuracy: 0.9894 - val_loss: 1.9560 - val_accuracy: 0.5320\n",
      "Epoch 13/25\n",
      "3500/3500 - 4s - loss: 0.0471 - accuracy: 0.9977 - val_loss: 2.0419 - val_accuracy: 0.5280\n",
      "Epoch 14/25\n",
      "3500/3500 - 4s - loss: 0.0323 - accuracy: 0.9994 - val_loss: 2.0586 - val_accuracy: 0.5500\n",
      "Epoch 15/25\n",
      "3500/3500 - 4s - loss: 0.0268 - accuracy: 0.9989 - val_loss: 2.2138 - val_accuracy: 0.5360\n",
      "Epoch 16/25\n",
      "3500/3500 - 4s - loss: 0.0151 - accuracy: 0.9997 - val_loss: 2.2450 - val_accuracy: 0.5380\n",
      "Epoch 17/25\n",
      "3500/3500 - 3s - loss: 0.0103 - accuracy: 1.0000 - val_loss: 2.3049 - val_accuracy: 0.5320\n",
      "Epoch 18/25\n",
      "3500/3500 - 3s - loss: 0.0080 - accuracy: 1.0000 - val_loss: 2.3445 - val_accuracy: 0.5320\n",
      "Epoch 19/25\n",
      "3500/3500 - 4s - loss: 0.0064 - accuracy: 1.0000 - val_loss: 2.4068 - val_accuracy: 0.5380\n",
      "Epoch 20/25\n",
      "3500/3500 - 4s - loss: 0.0053 - accuracy: 1.0000 - val_loss: 2.4203 - val_accuracy: 0.5240\n",
      "Epoch 21/25\n",
      "3500/3500 - 3s - loss: 0.0045 - accuracy: 1.0000 - val_loss: 2.4824 - val_accuracy: 0.5320\n",
      "Epoch 22/25\n",
      "3500/3500 - 3s - loss: 0.0039 - accuracy: 1.0000 - val_loss: 2.5202 - val_accuracy: 0.5300\n",
      "Epoch 23/25\n",
      "3500/3500 - 3s - loss: 0.0034 - accuracy: 1.0000 - val_loss: 2.5432 - val_accuracy: 0.5320\n",
      "Epoch 24/25\n",
      "3500/3500 - 3s - loss: 0.0030 - accuracy: 1.0000 - val_loss: 2.5808 - val_accuracy: 0.5320\n",
      "Epoch 25/25\n",
      "3500/3500 - 3s - loss: 0.0026 - accuracy: 1.0000 - val_loss: 2.6239 - val_accuracy: 0.5340\n"
     ]
    }
   ],
   "source": [
    "model = tf.keras.Sequential([ \n",
    "    tf.keras.layers.Conv2D(input_shape=stl_imgs.shape[1:],filters=32, kernel_size=(7,7),padding=\"same\", activation='relu',),\n",
    "    tf.keras.layers.MaxPool2D(pool_size=2, strides=2, padding='valid', data_format=\"channels_last\" ),\n",
    "    tf.keras.layers.Flatten(input_shape=(16,16,32)),\n",
    "    tf.keras.layers.Dense(units=100, activation=\"relu\"),\n",
    "    tf.keras.layers.Dense(units=10, activation=\"softmax\") \n",
    "]) \n",
    "model.summary()\n",
    "model.compile(optimizer=\"adam\", loss=\"sparse_categorical_crossentropy\", metrics=['accuracy']) \n",
    "hist = model.fit(x_train, y_train, batch_size=32, epochs=25, validation_data=(x_val, y_val), verbose=2)"
   ]
  },
  {
   "cell_type": "code",
   "execution_count": 85,
   "metadata": {},
   "outputs": [
    {
     "data": {
      "image/png": "[encoded data removed]",
      "text/plain": [
       "<Figure size 432x288 with 1 Axes>"
      ]
     },
     "metadata": {
      "needs_background": "light"
     },
     "output_type": "display_data"
    }
   ],
   "source": [
    "plt.plot(hist.history[\"accuracy\"], label=\"Training Accuracy\", color=\"green\")\n",
    "plt.plot(hist.history[\"val_accuracy\"], label=\"Validation Accuracy\", color=\"blue\")\n",
    "plt.title(\"Accuracy Over Epochs\")\n",
    "plt.ylabel(\"Accuracy\")\n",
    "plt.xlabel(\"Training Epochs\")\n",
    "plt.legend()\n",
    "plt.show()"
   ]
  },
  {
   "cell_type": "code",
   "execution_count": 87,
   "metadata": {},
   "outputs": [
    {
     "name": "stdout",
     "output_type": "stream",
     "text": [
      "500/1 - 0s - loss: 3.9977 - accuracy: 0.5140\n",
      "Accuracy: 0.5139999985694885, Loss: 2.873208042144775\n"
     ]
    }
   ],
   "source": [
    "loss, acc = model.evaluate(x_test, y_test, verbose=2)\n",
    "print(f'Accuracy: {acc}, Loss: {loss}')"
   ]
  },
  {
   "cell_type": "markdown",
   "metadata": {},
   "source": [
    "It looks like our best success is about 20 epochs with a batch size of 32 on standard Conv4. This is interesting because we battle overfitting in our model when training for longer. It seems batch size has more importance than we first anticipated, and it would be interesting to extend messing around with batch size. One more thing that is interesting is using the MobileNet model to try to fit this work."
   ]
  },
  {
   "cell_type": "code",
   "execution_count": 110,
   "metadata": {},
   "outputs": [
    {
     "name": "stdout",
     "output_type": "stream",
     "text": [
      "Images are: (5000, 96, 96, 3)\n",
      "Labels are: (5000,)\n",
      "Saving Numpy arrays the images and labels to ./numpy...Done!\n",
      "imgs.shape (5000, 96, 96, 3)\n",
      "data.shape (5000, 96, 96, 3)\n",
      "Model: \"sequential_44\"\n",
      "_________________________________________________________________\n",
      "Layer (type)                 Output Shape              Param #   \n",
      "=================================================================\n",
      "mobilenetv2_1.00_96 (Model)  (None, 3, 3, 1280)        2257984   \n",
      "_________________________________________________________________\n",
      "flatten_44 (Flatten)         (None, 11520)             0         \n",
      "_________________________________________________________________\n",
      "dense_57 (Dense)             (None, 10)                115210    \n",
      "=================================================================\n",
      "Total params: 2,373,194\n",
      "Trainable params: 115,210\n",
      "Non-trainable params: 2,257,984\n",
      "_________________________________________________________________\n",
      "Train on 3500 samples, validate on 500 samples\n",
      "Epoch 1/10\n",
      "3500/3500 - 38s - loss: 0.7730 - accuracy: 0.8089 - val_loss: 0.9365 - val_accuracy: 0.8400\n",
      "Epoch 2/10\n",
      "3500/3500 - 29s - loss: 0.2492 - accuracy: 0.9337 - val_loss: 0.7480 - val_accuracy: 0.8740\n",
      "Epoch 3/10\n",
      "3500/3500 - 30s - loss: 0.1634 - accuracy: 0.9540 - val_loss: 0.9294 - val_accuracy: 0.8640\n",
      "Epoch 4/10\n",
      "3500/3500 - 29s - loss: 0.1604 - accuracy: 0.9563 - val_loss: 0.9385 - val_accuracy: 0.8640\n",
      "Epoch 5/10\n",
      "3500/3500 - 29s - loss: 0.1171 - accuracy: 0.9657 - val_loss: 1.0943 - val_accuracy: 0.8640\n",
      "Epoch 6/10\n",
      "3500/3500 - 28s - loss: 0.1300 - accuracy: 0.9669 - val_loss: 1.2337 - val_accuracy: 0.8560\n",
      "Epoch 7/10\n",
      "3500/3500 - 29s - loss: 0.0912 - accuracy: 0.9734 - val_loss: 0.9522 - val_accuracy: 0.8760\n",
      "Epoch 8/10\n",
      "3500/3500 - 29s - loss: 0.0933 - accuracy: 0.9754 - val_loss: 1.2367 - val_accuracy: 0.8680\n",
      "Epoch 9/10\n",
      "3500/3500 - 28s - loss: 0.0712 - accuracy: 0.9823 - val_loss: 1.5140 - val_accuracy: 0.8600\n",
      "Epoch 10/10\n",
      "3500/3500 - 27s - loss: 0.0714 - accuracy: 0.9820 - val_loss: 1.2463 - val_accuracy: 0.8880\n"
     ]
    }
   ],
   "source": [
    "#forcing it to load a 96x96x3 instead of 32x32x3\n",
    "load_stl10_dataset.purge_cached_dataset()\n",
    "\n",
    "stl_imgs, stl_labels = load_stl10_dataset.load()\n",
    "classes = np.loadtxt(os.path.join('data', 'stl10_binary', 'class_names.txt'), dtype=str)\n",
    "stl_imgs, stl_labels = preprocess_stl(stl_imgs, stl_labels)\n",
    "x_train, y_train, x_test, y_test, x_val, y_val, x_dev, y_dev = create_splits(stl_imgs, stl_labels)  \n",
    "\n",
    "model = tf.keras.applications.MobileNetV2(input_shape=(96,96,3),include_top=False,\n",
    "                                               weights='imagenet')\n",
    "model.trainable=False\n",
    "mn_model = tf.keras.Sequential([\n",
    "    model,\n",
    "    tf.keras.layers.Flatten(),\n",
    "    tf.keras.layers.Dense(units=10, activation='softmax')\n",
    "])\n",
    "mn_model.summary()\n",
    "mn_model.compile(optimizer='adam', learning_rate=.001,\n",
    "                 loss='sparse_categorical_crossentropy',\n",
    "                 metrics=['accuracy'])\n",
    "hist = mn_model.fit(x_train, y_train, \n",
    "                    validation_data=(x_val,y_val),\n",
    "                     epochs=10,\n",
    "                     verbose=2,\n",
    "                     batch_size=32)\n"
   ]
  },
  {
   "cell_type": "code",
   "execution_count": 111,
   "metadata": {},
   "outputs": [
    {
     "data": {
      "image/png": "[encoded data removed]",
      "text/plain": [
       "<Figure size 432x288 with 1 Axes>"
      ]
     },
     "metadata": {},
     "output_type": "display_data"
    }
   ],
   "source": [
    "plt.plot(hist.history[\"accuracy\"], label=\"Training Accuracy\", color=\"green\")\n",
    "plt.plot(hist.history[\"val_accuracy\"], label=\"Validation Accuracy\", color=\"blue\")\n",
    "plt.title(\"Accuracy Over Epochs\")\n",
    "plt.ylabel(\"Accuracy\")\n",
    "plt.xlabel(\"Training Epochs\")\n",
    "plt.legend()\n",
    "plt.show()"
   ]
  },
  {
   "cell_type": "code",
   "execution_count": 112,
   "metadata": {},
   "outputs": [
    {
     "name": "stdout",
     "output_type": "stream",
     "text": [
      "500/1 - 2s - loss: 1.0169 - accuracy: 0.9020\n",
      "Accuracy: 0.9020000100135803, Loss: 0.7970676336288453\n"
     ]
    }
   ],
   "source": [
    "loss, acc = mn_model.evaluate(x_test, y_test, verbose=2)\n",
    "print(f'Accuracy: {acc}, Loss: {loss}')"
   ]
  },
  {
   "cell_type": "markdown",
   "metadata": {},
   "source": [
    "In this section, to make it fit to mobile net, we had to resize the images back out to 96x96x3. This is likely the largest point of improvement because we now have more information to learn. Our other models were learning all there was to learn. This model had more total to learn with the larger images, therefore making it easier for it to make classifications. However, seeing a 90% accuracy with these larger images and MobileNet is cool because it proves there is something capable for classification. Furthermore, it puts in perspective how much is possible to learn with just 32x32 images. It is really incredible that we achieved 55% accuracy on the Conv4 with that size image. Overfitting was difficult, but simply because of the image size. Increase the image size and there is so much more capability in these models. It seems we could train even further on this, more than 10 epochs. 15 might do a better, seen below."
   ]
  },
  {
   "cell_type": "code",
   "execution_count": 114,
   "metadata": {},
   "outputs": [
    {
     "name": "stdout",
     "output_type": "stream",
     "text": [
      "Model: \"sequential_46\"\n",
      "_________________________________________________________________\n",
      "Layer (type)                 Output Shape              Param #   \n",
      "=================================================================\n",
      "mobilenetv2_1.00_96 (Model)  (None, 3, 3, 1280)        2257984   \n",
      "_________________________________________________________________\n",
      "flatten_46 (Flatten)         (None, 11520)             0         \n",
      "_________________________________________________________________\n",
      "dense_59 (Dense)             (None, 10)                115210    \n",
      "=================================================================\n",
      "Total params: 2,373,194\n",
      "Trainable params: 115,210\n",
      "Non-trainable params: 2,257,984\n",
      "_________________________________________________________________\n",
      "Train on 3500 samples, validate on 500 samples\n",
      "Epoch 1/15\n",
      "3500/3500 - 32s - loss: 0.7686 - accuracy: 0.8086 - val_loss: 0.9476 - val_accuracy: 0.8580\n",
      "Epoch 2/15\n",
      "3500/3500 - 31s - loss: 0.2693 - accuracy: 0.9249 - val_loss: 0.8069 - val_accuracy: 0.8720\n",
      "Epoch 3/15\n",
      "3500/3500 - 27s - loss: 0.1898 - accuracy: 0.9466 - val_loss: 1.0021 - val_accuracy: 0.8600\n",
      "Epoch 4/15\n",
      "3500/3500 - 29s - loss: 0.1668 - accuracy: 0.9566 - val_loss: 1.1035 - val_accuracy: 0.8620\n",
      "Epoch 5/15\n",
      "3500/3500 - 29s - loss: 0.0951 - accuracy: 0.9720 - val_loss: 0.9504 - val_accuracy: 0.8740\n",
      "Epoch 6/15\n",
      "3500/3500 - 31s - loss: 0.0889 - accuracy: 0.9731 - val_loss: 1.3198 - val_accuracy: 0.8540\n",
      "Epoch 7/15\n",
      "3500/3500 - 28s - loss: 0.0802 - accuracy: 0.9774 - val_loss: 1.5463 - val_accuracy: 0.8440\n",
      "Epoch 8/15\n",
      "3500/3500 - 30s - loss: 0.0827 - accuracy: 0.9806 - val_loss: 1.3258 - val_accuracy: 0.8640\n",
      "Epoch 9/15\n",
      "3500/3500 - 30s - loss: 0.1105 - accuracy: 0.9714 - val_loss: 1.2630 - val_accuracy: 0.8640\n",
      "Epoch 10/15\n",
      "3500/3500 - 40s - loss: 0.1090 - accuracy: 0.9700 - val_loss: 1.5135 - val_accuracy: 0.8580\n",
      "Epoch 11/15\n",
      "3500/3500 - 38s - loss: 0.0806 - accuracy: 0.9797 - val_loss: 1.9051 - val_accuracy: 0.8280\n",
      "Epoch 12/15\n",
      "3500/3500 - 31s - loss: 0.0579 - accuracy: 0.9886 - val_loss: 1.3141 - val_accuracy: 0.8720\n",
      "Epoch 13/15\n",
      "3500/3500 - 29s - loss: 0.0781 - accuracy: 0.9829 - val_loss: 1.2548 - val_accuracy: 0.8840\n",
      "Epoch 14/15\n",
      "3500/3500 - 27s - loss: 0.0672 - accuracy: 0.9831 - val_loss: 1.3656 - val_accuracy: 0.8680\n",
      "Epoch 15/15\n",
      "3500/3500 - 26s - loss: 0.0736 - accuracy: 0.9837 - val_loss: 1.6948 - val_accuracy: 0.8460\n"
     ]
    }
   ],
   "source": [
    "model = tf.keras.applications.MobileNetV2(input_shape=(96,96,3),include_top=False,\n",
    "                                               weights='imagenet')\n",
    "model.trainable=False\n",
    "mn_model = tf.keras.Sequential([\n",
    "    model,\n",
    "    tf.keras.layers.Flatten(),\n",
    "    tf.keras.layers.Dense(units=10, activation='softmax')\n",
    "])\n",
    "mn_model.summary()\n",
    "mn_model.compile(optimizer='adam', learning_rate=.001,\n",
    "                 loss='sparse_categorical_crossentropy',\n",
    "                 metrics=['accuracy'])\n",
    "hist = mn_model.fit(x_train, y_train, \n",
    "                    validation_data=(x_val,y_val),\n",
    "                     epochs=15,\n",
    "                     verbose=2,\n",
    "                     batch_size=32)"
   ]
  },
  {
   "cell_type": "code",
   "execution_count": 115,
   "metadata": {},
   "outputs": [
    {
     "data": {
      "image/png": "[encoded data removed]",
      "text/plain": [
       "<Figure size 432x288 with 1 Axes>"
      ]
     },
     "metadata": {},
     "output_type": "display_data"
    }
   ],
   "source": [
    "plt.plot(hist.history[\"accuracy\"], label=\"Training Accuracy\", color=\"green\")\n",
    "plt.plot(hist.history[\"val_accuracy\"], label=\"Validation Accuracy\", color=\"blue\")\n",
    "plt.title(\"Accuracy Over Epochs\")\n",
    "plt.ylabel(\"Accuracy\")\n",
    "plt.xlabel(\"Training Epochs\")\n",
    "plt.legend()\n",
    "plt.show()"
   ]
  },
  {
   "cell_type": "code",
   "execution_count": 116,
   "metadata": {},
   "outputs": [
    {
     "name": "stdout",
     "output_type": "stream",
     "text": [
      "500/1 - 2s - loss: 1.6004 - accuracy: 0.8700\n",
      "Accuracy: 0.8700000047683716, Loss: 1.32589005279541\n"
     ]
    }
   ],
   "source": [
    "loss, acc = mn_model.evaluate(x_test, y_test, verbose=2)\n",
    "print(f'Accuracy: {acc}, Loss: {loss}')"
   ]
  },
  {
   "cell_type": "markdown",
   "metadata": {},
   "source": [
    "It looks like we overfit. Somewhere between 10 and 15 epochs is some happy medium in which the model excels. It is interesting how drastically overfitting causes problems within the model, and we can see that throughout."
   ]
  }
 ],
 "metadata": {
  "kernelspec": {
   "display_name": "Python 3",
   "language": "python",
   "name": "python3"
  },
  "language_info": {
   "codemirror_mode": {
    "name": "ipython",
    "version": 3
   },
   "file_extension": ".py",
   "mimetype": "text/x-python",
   "name": "python",
   "nbconvert_exporter": "python",
   "pygments_lexer": "ipython3",
   "version": "3.6.2"
  },
  "varInspector": {
   "cols": {
    "lenName": 16,
    "lenType": 16,
    "lenVar": 40
   },
   "kernels_config": {
    "python": {
     "delete_cmd_postfix": "",
     "delete_cmd_prefix": "del ",
     "library": "var_list.py",
     "varRefreshCmd": "print(var_dic_list())"
    },
    "r": {
     "delete_cmd_postfix": ") ",
     "delete_cmd_prefix": "rm(",
     "library": "var_list.r",
     "varRefreshCmd": "cat(var_dic_list()) "
    }
   },
   "types_to_exclude": [
    "module",
    "function",
    "builtin_function_or_method",
    "instance",
    "_Feature"
   ],
   "window_display": false
  }
 },
 "nbformat": 4,
 "nbformat_minor": 2
}
