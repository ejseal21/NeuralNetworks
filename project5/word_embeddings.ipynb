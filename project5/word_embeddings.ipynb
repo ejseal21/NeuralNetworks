{
 "cells": [
  {
   "cell_type": "markdown",
   "metadata": {},
   "source": [
    "**Cole Turner and Ethan Seal**\n",
    "\n",
    "Fall 2019\n",
    "\n",
    "CS343: Neural Networks\n",
    "\n",
    "Project 5: Word embeddings and SOMs"
   ]
  },
  {
   "cell_type": "code",
   "execution_count": 2,
   "metadata": {},
   "outputs": [],
   "source": [
    "import os\n",
    "import random\n",
    "import numpy as np\n",
    "import matplotlib.pyplot as plt\n",
    "import pandas as pd\n",
    "import word2vec\n",
    "\n",
    "plt.style.use(['seaborn-colorblind', 'seaborn-darkgrid'])\n",
    "plt.rcParams.update({'font.size': 20})\n",
    "\n",
    "np.set_printoptions(suppress=True, precision=7)\n",
    "\n",
    "# Automatically reload external modules\n",
    "%load_ext autoreload\n",
    "%autoreload 2"
   ]
  },
  {
   "cell_type": "markdown",
   "metadata": {},
   "source": [
    "## Project 5: Word Embeddings and SOMs overview\n",
    "\n",
    "In this project, we will train a Skip-gram (word2vec) neural network commonly used in the field of natural language processing (NLP) on text from IMDb user movie reviews. The goal of the network is to predict context words (words surrounding each word in a sentence). After implementing and training the network, you will extract the weights to obtain $H$ dimensional **word embedding** vectors for English words that appeared in the movie reviews. Because the Skip-gram network is just a slight variant of a softmax classifier with a dense hidden layer, you will leverage the network infrastructure that you developed in the convolutional neural network project.\n",
    "\n",
    "In the second part of the project (`som.ipynb`), you will implement a self-organizing map (SOM), a cooperative biologically-inspired neural network. This network will learn the nonlinear structure of the IMDb word embeddings (in $H$ dimensions) (unsupervised learning) and allow us to visualize the words in 2D. Remarkably, words with similar meanings should appear nearby each other, even though the network knows nothing about the definitions of the words!"
   ]
  },
  {
   "cell_type": "markdown",
   "metadata": {},
   "source": [
    "## Task 1) Preprocess IMDb review dataset"
   ]
  },
  {
   "cell_type": "markdown",
   "metadata": {},
   "source": [
    "### a. Load in IMDb review data\n",
    "\n",
    "Load in the movie review text data in `imdb_train.csv`. The goal is to get a Python list of length 25,000 (there are 25,000 reviews in the training set), where element $i$ is a single string representing the $i^{th}$ review. You're welcome to do this however you like. I suggest using pandas."
   ]
  },
  {
   "cell_type": "code",
   "execution_count": 4,
   "metadata": {},
   "outputs": [],
   "source": [
    "imdb_train = pd.read_csv('imdb/imdb_train.csv', delimiter='\\t')\n",
    "all_reviews = imdb_train['review'].to_numpy(dtype=str)\n",
    "all_reviews = all_reviews.tolist()"
   ]
  },
  {
   "cell_type": "markdown",
   "metadata": {},
   "source": [
    "#### Extract a subset of reviews\n",
    "\n",
    "- Make a variable that represents the number of reviews that we will take out of the full training set (I'm calling $R$ in instructions, but call it what you want). \n",
    "\n",
    "Larger numbers will increase simulation time and memory usage, so pick a value on the small side for testing and scale it up based on your machine's performance. To give you a baseline, I started with 3 reviews during testing and increased it to 50 reviews for \"real\" simulations. **The test code below assumes $R=10$**, the 1st 10 non-shuffled reviews (you can change this later before doing neural network simulations).\n",
    "- Use the variable to select the first $R$ reviews from the dataset."
   ]
  },
  {
   "cell_type": "code",
   "execution_count": 5,
   "metadata": {},
   "outputs": [],
   "source": [
    "R = 10\n",
    "reviews = all_reviews[:R]\n"
   ]
  },
  {
   "cell_type": "markdown",
   "metadata": {},
   "source": [
    "### b. Make corpus\n",
    "\n",
    "In NLP, we usually define a **corpus**, which is the set of documents from which we're interested in learning. For the IMDb dataset and Skip-gram network, this represents a list of sentences across all the reviews (from the subset that we selected). The problem is that our reviews are chunked by review, not sentence.\n",
    "\n",
    "- In `word2vec.py` implement `make_corpus()`, which will build a list where elements are sentences, not reviews."
   ]
  },
  {
   "cell_type": "code",
   "execution_count": 6,
   "metadata": {},
   "outputs": [
    {
     "name": "stdout",
     "output_type": "stream",
     "text": [
      "There are 99 sentences in the corpus. There should be 99.\n"
     ]
    }
   ],
   "source": [
    "corpus = word2vec.make_corpus(reviews)\n",
    "print(f'There are {len(corpus)} sentences in the corpus. There should be 99.')"
   ]
  },
  {
   "cell_type": "markdown",
   "metadata": {},
   "source": [
    "#### Identify unique words and vocabulary size\n",
    "\n",
    "Now that we have a corpus of sentences, let's figure out the **vocabulary size**, defined as the number of unique words in the corpus (across all the sentences).\n",
    "- In `word2vec.py` implement `find_unique_words()` that returns a list of unique words in the corpus.\n",
    "- Define `vocab_sz` as the vocab size"
   ]
  },
  {
   "cell_type": "code",
   "execution_count": 7,
   "metadata": {},
   "outputs": [
    {
     "name": "stdout",
     "output_type": "stream",
     "text": [
      "There are 1016 words in the vocabulary. There should be 1016.\n"
     ]
    }
   ],
   "source": [
    "unique_words = word2vec.find_unique_words(corpus)\n",
    "vocab_sz = len(unique_words)\n",
    "print(f'There are {vocab_sz} words in the vocabulary. There should be 1016.')"
   ]
  },
  {
   "cell_type": "markdown",
   "metadata": {},
   "source": [
    "#### Make word <-> unique word index lookup tables\n",
    "\n",
    "It will be useful to assign an int code to each unique word in the range `[0, vocab_sz-1]`.\n",
    "- Write `word2vec.make_word2ind_mapping`. This makes a Python dictionary `word2ind` that allows you to use a word string to look up its int code.\n",
    "- Write `word2vec.make_ind2word_mapping`. This makes a Python dictionary `ind2word` that allows you to use a word int code to look up its word string."
   ]
  },
  {
   "cell_type": "code",
   "execution_count": 8,
   "metadata": {},
   "outputs": [
    {
     "name": "stdout",
     "output_type": "stream",
     "text": [
      "If you preserved the order of words, the int code for \"robot\" is 159 and should be 159.\n",
      "If you preserved the order of words, the int code for \"fans\" is 108 and should be 108.\n",
      "If you preserved the order of words, the string associated with the int code 100 is call and should be call.\n",
      "If you preserved the order of words, the string associated with the int code 200 is buddy and should be buddy.\n"
     ]
    }
   ],
   "source": [
    "# Make word -> index lookup table\n",
    "word2ind = word2vec.make_word2ind_mapping(unique_words)\n",
    "ind2word = word2vec.make_ind2word_mapping(unique_words)\n",
    "print(f'If you preserved the order of words, the int code for \"robot\" is {word2ind[\"robot\"]} and should be 159.')\n",
    "print(f'If you preserved the order of words, the int code for \"fans\" is {word2ind[\"fans\"]} and should be 108.')\n",
    "      \n",
    "print(f'If you preserved the order of words, the string associated with the int code 100 is {ind2word[100]} and should be call.')\n",
    "print(f'If you preserved the order of words, the string associated with the int code 200 is {ind2word[200]} and should be buddy.')"
   ]
  },
  {
   "cell_type": "markdown",
   "metadata": {},
   "source": [
    "### c. Make training target word and context word sets\n",
    "\n",
    "To train the Skip-gram network, we need to create specially-formatted training data and classes.\n",
    "\n",
    "Each training sample will be a single word in each sentence in the corpus (**target word**). Because the first (non-input) layer of the network is a dense layer with $M$ units, we one-hot code each target word in the vocabulary: the word becomes a vector of zeros with length `vocab_sz` with a 1 at the position represented by the word's int code. For example, if `tourists` has an int code of 2, then its one-hot vector looks like `[0,0,1,0,0,0,0,....]`.\n",
    "\n",
    "Recall that the goal of Skip-gram is to learn to predict **context words**, words that surround the target word (within a window of $W$ words) in a sentence. For example, if $W=2$, the sentence is `I want to see the new Star Wars movie, how about you?`, and the target word is `the`, then the context words are `[to, see, new, Star]`. Context words play the role of `y` of our classes. In our implementation, we will represent a target word's context words in terms of their int codes.\n",
    "\n",
    "- In `word2vec.py`, implement `make_target_context_word_lists()` that returns 1) a Python list of one-hot coded target vectors (ndarrays) and 2) the associated context words, also a Python list of ndarrays, each containing the int codes for context words."
   ]
  },
  {
   "cell_type": "code",
   "execution_count": null,
   "metadata": {},
   "outputs": [],
   "source": [
    "targets_onehot, contexts_int = word2vec.make_target_context_word_lists(corpus, word2ind, vocab_sz)\n",
    "print(f'Training size: {len(targets_onehot)}. It should be 2255.')\n",
    "print(f'Second target vector is {targets_onehot[1]} and should be [[0. 1. 0. ... 0. 0. 0.]]')\n",
    "print(f'Second target vector sums to {np.sum(targets_onehot[1])} and it should be 1.0')\n",
    "print(f'Second context list is {contexts_int[1]} and should be [0 2 3]')"
   ]
  },
  {
   "cell_type": "markdown",
   "metadata": {},
   "source": [
    "## Task 2) Implement Skip-gram network\n",
    "\n",
    "The network has the architecture: `Input -> Dense (linear act) -> Dense (softmax act)`.\n",
    "\n",
    "You only need to make a small number of modifications to get Skip-gram to work (*the following list may seem long, but most changes are ~1 line tweaks*).\n",
    "\n",
    "- Copy over your `layer.py`, `network.py`, and `optimizer.py` files from the CNN project. \n",
    "- In `word2vec.py`, implement the Skipgram class constructor. This involves building the network that implements the above layer architecture.\n",
    "- In `word2vec.py`, override in the Skipgram class the `fit` training method.\n",
    "- Add support for a `softmax_embedding` activation function type in `layer.py`. This is needed because the Skip-gram loss function is not *vanilla* cross-entropy (it's the multi-correct-class generalization).\n",
    "    - Add a function `layer::skipgram()`, which is the skipgram loss function. Signature should be `def skipgram(self, y):`, where `y` is the int-coded context word indicies (`shape=(context_sz,)`). Equation for the loss is below.\n",
    "    - Update `layer::loss`.  Make sure the skipgram loss function is called from `loss()` if the net activation function is 'softmax_embedding'.\n",
    "    - Update `layer::compute_net_act`: Make sure the regular softmax is computed in the forward pass even if the activation string is 'softmax_embedding'.\n",
    "    - Update `layer::compute_dlast_net_act`: if activation string is 'softmax_embedding', return a COPY of the net_act in the current layer (this method is only entered for the output layer, so `net_act` = `z_net_act`).\n",
    "    - Update `layer::backward_netAct_to_netIn`: This is the gradient of Skip-gram loss function. When you enter this function for the output `Dense` layer, `d_upstream` is equal to `z_net_act` (due to what you did on the last step). Use the short-cut approach from class to implement.\n",
    "- In `word2vec.py`, implement the `get_word_vector` method that allows us to get a word embedding vector from a trained network.\n",
    "- In `word2vec.py`, implement the `get_all_word_vectors` method that allows us to get all word embedding vector from a list passed in from a trained network.\n",
    "- Test your implementation using the simple toy data below.\n",
    "\n",
    "Equation for skip-gram loss: $$L = C \\times Log\\left ( \\sum_{j=1}^{vocabSz} exp \\left ( \\text{z_net_in}_j \\right ) \\right ) - \\sum_{i=1}^{C} \\text{z_net_in}_{\\vec{y_i}}$$\n",
    "\n",
    "**Left term:** $C$ is the number of words in the current context, $\\text{z_net_in}_j$ are the `net_in` values in the Output layer, and the sum over $j$ is a sum over ALL `net_in` values (before softmax) (summing over units coding each word in the vocab)\n",
    "\n",
    "**Right term:** This is the sum of the Output layer `net_in` values at the context word indices $\\vec{y_i}$."
   ]
  },
  {
   "cell_type": "markdown",
   "metadata": {},
   "source": [
    "### a. Simple corpus test code"
   ]
  },
  {
   "cell_type": "code",
   "execution_count": 9,
   "metadata": {},
   "outputs": [
    {
     "data": {
      "text/plain": [
       "['I',\n",
       " 'love',\n",
       " 'neural',\n",
       " 'networks',\n",
       " 'and',\n",
       " 'studying',\n",
       " 'computer',\n",
       " 'science',\n",
       " 'at',\n",
       " 'colby',\n",
       " 'college']"
      ]
     },
     "execution_count": 9,
     "metadata": {},
     "output_type": "execute_result"
    }
   ],
   "source": [
    "corpus = [\"I love neural networks and studying computer science at colby college\".split()]\n",
    "corpus[0]"
   ]
  },
  {
   "cell_type": "code",
   "execution_count": 10,
   "metadata": {},
   "outputs": [
    {
     "data": {
      "text/plain": [
       "{'I': 0,\n",
       " 'love': 1,\n",
       " 'neural': 2,\n",
       " 'networks': 3,\n",
       " 'and': 4,\n",
       " 'studying': 5,\n",
       " 'computer': 6,\n",
       " 'science': 7,\n",
       " 'at': 8,\n",
       " 'colby': 9,\n",
       " 'college': 10}"
      ]
     },
     "execution_count": 10,
     "metadata": {},
     "output_type": "execute_result"
    }
   ],
   "source": [
    "unique_words = word2vec.find_unique_words(corpus)\n",
    "# Make word -> index lookup table\n",
    "word2ind = word2vec.make_word2ind_mapping(unique_words)\n",
    "ind2word = word2vec.make_ind2word_mapping(unique_words)\n",
    "word2ind"
   ]
  },
  {
   "cell_type": "markdown",
   "metadata": {},
   "source": [
    "`word2ind` should look like:\n",
    "\n",
    "     {'I': 0,\n",
    "     'love': 1,\n",
    "     'neural': 2,\n",
    "     'networks': 3,\n",
    "     'and': 4,\n",
    "     'studying': 5,\n",
    "     'computer': 6,\n",
    "     'science': 7,\n",
    "     'at': 8,\n",
    "     'colby': 9,\n",
    "     'college': 10}"
   ]
  },
  {
   "cell_type": "code",
   "execution_count": 11,
   "metadata": {},
   "outputs": [
    {
     "name": "stdout",
     "output_type": "stream",
     "text": [
      "Training size: 11. It should be 11.\n"
     ]
    }
   ],
   "source": [
    "targets_onehot, contexts_int = word2vec.make_target_context_word_lists(corpus, word2ind, vocab_sz)\n",
    "print(f'Training size: {len(targets_onehot)}. It should be 11.')"
   ]
  },
  {
   "cell_type": "markdown",
   "metadata": {},
   "source": [
    "**Question 1:** How do you control the dimension of the word vector embedding?\n",
    "\n",
    "You control the dimension of the word vector embedding by changing the number of units in the hidden layer (for a 2-layer model). The y_wts are the word vectors, so changing the numbers of units in the y-layer changes the dimensions of the word vectors. "
   ]
  },
  {
   "cell_type": "markdown",
   "metadata": {},
   "source": [
    "#### Test Skipgram loss, forward pass, backward pass"
   ]
  },
  {
   "cell_type": "code",
   "execution_count": 52,
   "metadata": {},
   "outputs": [
    {
     "name": "stdout",
     "output_type": "stream",
     "text": [
      "self.net_act.shape (1, 1016)\n",
      "one hot shape (1016,)\n",
      "Your loss is 19.772769210415863 and it should be 19.772769210415863.\n",
      "Your forward softmax is\n",
      "[[0.0007281 0.0015607 0.0006291 ... 0.0001252 0.000447  0.0001193]] and it should be\n",
      "[[0.0007281 0.0015607 0.0006291 ... 0.0001252 0.000447  0.0001193]]\n",
      "Your skip-gram gradient is\n",
      "[[-0.9978156 -0.9953178  0.0018872 ...  0.0003757  0.0013411  0.0003578]] and it should be\n",
      "[[-0.9978156 -0.9953178  0.0018872 ...  0.0003757  0.0013411  0.0003578]]\n"
     ]
    }
   ],
   "source": [
    "np.random.seed(0)\n",
    "embedding_sz = 10\n",
    "\n",
    "# Create Skipgram object here\n",
    "net = word2vec.Skipgram(input_shape=(1, vocab_sz),\n",
    "                        dense_interior_units=(embedding_sz,),\n",
    "                        n_classes=vocab_sz,\n",
    "                        wt_scale=1e-1)\n",
    "\n",
    "y = np.array([0, 1, 10])\n",
    "net.layers[-1].net_in = np.random.randn(1, vocab_sz)\n",
    "test_loss = net.layers[-1].loss(y)\n",
    "net.layers[-1].softmax()\n",
    "skipgram_grad = net.layers[-1].backward_netAct_to_netIn(net.layers[-1].net_act, y)\n",
    "\n",
    "print(f'Your loss is {test_loss} and it should be 19.772769210415863.')\n",
    "print(f'Your forward softmax is\\n{net.layers[-1].net_act} and it should be\\n[[0.0007281 0.0015607 0.0006291 ... 0.0001252 0.000447  0.0001193]]')\n",
    "print(f'Your skip-gram gradient is\\n{skipgram_grad} and it should be\\n[[-0.9978156 -0.9953178  0.0018872 ...  0.0003757  0.0013411  0.0003578]]')"
   ]
  },
  {
   "cell_type": "markdown",
   "metadata": {},
   "source": [
    "#### Test entire training workflow\n",
    "\n",
    "- Create a `Skipgram` network with an embedding size of 10 and wt scale of 1e-1.\n",
    "- Compile the network with an optimizer of your choice and learning rate of 0.01.\n",
    "- Fit the model to `targets_onehot`, `contexts_int` with 500 epochs of training.\n",
    "    \n",
    "If your network works, you should see the loss drop to ~49 after about 100 epochs and remain stable for the rest of the simulation (no large jumps). This should take only seconds to finish."
   ]
  },
  {
   "cell_type": "code",
   "execution_count": 81,
   "metadata": {},
   "outputs": [
    {
     "name": "stdout",
     "output_type": "stream",
     "text": [
      "targets_train: (1, 1016)\n",
      "Starting to train (500 epochs)...\n",
      "Finished epoch 9.0/500. Epoch Loss: 0.436\n",
      "Finished epoch 19.0/500. Epoch Loss: 0.372\n",
      "Finished epoch 29.0/500. Epoch Loss: 0.256\n",
      "Finished epoch 39.0/500. Epoch Loss: 0.183\n",
      "Finished epoch 49.0/500. Epoch Loss: 0.149\n",
      "Finished epoch 59.0/500. Epoch Loss: 0.137\n",
      "Finished epoch 69.0/500. Epoch Loss: 0.133\n",
      "Finished epoch 79.0/500. Epoch Loss: 0.130\n",
      "Finished epoch 89.0/500. Epoch Loss: 0.129\n",
      "Finished epoch 99.0/500. Epoch Loss: 0.128\n",
      "Finished epoch 109.0/500. Epoch Loss: 0.128\n",
      "Finished epoch 119.0/500. Epoch Loss: 0.128\n",
      "Finished epoch 129.0/500. Epoch Loss: 0.127\n",
      "Finished epoch 139.0/500. Epoch Loss: 0.127\n",
      "Finished epoch 149.0/500. Epoch Loss: 0.127\n",
      "Finished epoch 159.0/500. Epoch Loss: 0.127\n",
      "Finished epoch 169.0/500. Epoch Loss: 0.128\n",
      "Finished epoch 179.0/500. Epoch Loss: 0.127\n",
      "Finished epoch 189.0/500. Epoch Loss: 0.127\n",
      "Finished epoch 199.0/500. Epoch Loss: 0.127\n",
      "Finished epoch 209.0/500. Epoch Loss: 0.127\n",
      "Finished epoch 219.0/500. Epoch Loss: 0.129\n",
      "Finished epoch 229.0/500. Epoch Loss: 0.127\n",
      "Finished epoch 239.0/500. Epoch Loss: 0.126\n",
      "Finished epoch 249.0/500. Epoch Loss: 0.127\n",
      "Finished epoch 259.0/500. Epoch Loss: 0.127\n",
      "Finished epoch 269.0/500. Epoch Loss: 0.127\n",
      "Finished epoch 279.0/500. Epoch Loss: 0.128\n",
      "Finished epoch 289.0/500. Epoch Loss: 0.127\n",
      "Finished epoch 299.0/500. Epoch Loss: 0.127\n",
      "Finished epoch 309.0/500. Epoch Loss: 0.126\n",
      "Finished epoch 319.0/500. Epoch Loss: 0.126\n",
      "Finished epoch 329.0/500. Epoch Loss: 0.127\n",
      "Finished epoch 339.0/500. Epoch Loss: 0.127\n",
      "Finished epoch 349.0/500. Epoch Loss: 0.127\n",
      "Finished epoch 359.0/500. Epoch Loss: 0.129\n",
      "Finished epoch 369.0/500. Epoch Loss: 0.127\n",
      "Finished epoch 379.0/500. Epoch Loss: 0.127\n",
      "Finished epoch 389.0/500. Epoch Loss: 0.128\n",
      "Finished epoch 399.0/500. Epoch Loss: 0.128\n",
      "Finished epoch 409.0/500. Epoch Loss: 0.127\n",
      "Finished epoch 419.0/500. Epoch Loss: 0.126\n",
      "Finished epoch 429.0/500. Epoch Loss: 0.127\n",
      "Finished epoch 439.0/500. Epoch Loss: 0.127\n",
      "Finished epoch 449.0/500. Epoch Loss: 0.128\n",
      "Finished epoch 459.0/500. Epoch Loss: 0.127\n",
      "Finished epoch 469.0/500. Epoch Loss: 0.127\n",
      "Finished epoch 479.0/500. Epoch Loss: 0.127\n",
      "Finished epoch 489.0/500. Epoch Loss: 0.126\n",
      "Finished epoch 499.0/500. Epoch Loss: 0.129\n",
      "loss [14.122656414376339, 22.909406090018106, 22.533967401102462, 21.440763567836918, 19.693555144923558, 17.742692102201598, 16.217584640045576, 15.091944183966666, 14.236427489512405, 13.56367892373268, 13.018366791366313, 12.56509754078086, 12.180302042834906, 11.847552988245045, 11.554963545988185, 11.293720109064374, 11.057203430184186, 10.840418099315032, 10.639598710453466, 10.451924820766196, 10.275302664842936, 10.108187821929455, 9.949437026586766, 9.798187083663583, 9.65376218172941, 9.515609066698199, 9.383256071171914, 9.25628975546987, 9.134342736435771, 9.017087553078925, 8.904233181041274, 8.795522365743912, 8.690729002370489, 8.589655350689286, 8.49212907545392, 8.398000118544386, 8.307137380424491, 8.219425204983324, 8.13475974317731, 8.05304537753473, 7.974191460728505, 7.898109617286305, 7.824711778950104, 7.753909004671036, 7.685611019182607, 7.619726321981308, 7.556162683279531, 7.494827849217272, 7.435630310529222, 7.37848003143422, 7.323289077046152, 7.269972111479566, 7.218446762781887, 7.168633865466706, 7.120457598719197, 7.073845540573325, 7.028728657523993, 6.98504124663777, 6.94272084425876, 6.901708112455163, 6.8619467117152535, 6.823383166196689, 6.78596672607474, 6.749649230182446, 6.714384971124467, 6.680130564307849, 6.646844821803669, 6.614488631580338, 6.5830248423891975, 6.552418154403787, 6.522635015591167, 6.493643523710434, 6.465413333777627, 6.43791557079973, 6.411122747557486, 6.3850086872035945, 6.359548450436728, 6.334718267010747, 6.310495471341188, 6.286858441976427, 6.2637865447082275, 6.241260079104878, 6.219260228259618, 6.197769011556882, 6.176769240269121, 6.156244475807085, 6.136178990456551, 6.11655773044423, 6.097366281185189, 6.078590834573141, 6.060218158183744, 6.042235566269323, 6.024630892431259, 6.007392463863702, 5.990509077069258, 5.9739699749538175, 5.9577648252138715, 5.941883699935366, 5.926317056328602, 5.9110557185285595, 5.89609086039502, 5.881413989250586, 5.8670169305001965, 5.852891813076303, 5.839031055664868, 5.825427353653261, 5.81207366678523, 5.798963207412523, 5.786089429475619, 5.77344601775292, 5.761026878421758, 5.748826128138538, 5.736838088876659, 5.725057269659868, 5.713478389349766, 5.702096321104187, 5.690906529054725, 5.679906377565312, 5.669108055804953, 5.658538492884662, 5.648188797166553, 5.6380342620365544, 5.628072310538206, 5.618355798592262, 5.608883871757625, 5.599852399754016, 5.590988431263181, 5.582439982379672, 5.573973089434697, 5.5655369195705005, 5.5570790938047745, 5.548642146769295, 5.5402349703959795, 5.531899067050587, 5.523643868248184, 5.515485603776003, 5.50743243132152, 5.499489209245506, 5.49167722812631, 5.4839748512578215, 5.476428422922601, 5.468965221688497, 5.461656178058396, 5.454399236255303, 5.447268346260298, 5.440184136266192, 5.433204054904286, 5.426280247577842, 5.419453209124712, 5.4126911710057515, 5.4060236927339425, 5.399426958726964, 5.392923716224874, 5.386495219845825, 5.380159963614456, 5.373903151150578, 5.367740689271411, 5.361661775487992, 5.355680658958939, 5.349791649835618, 5.344007521472432, 5.338328569935678, 5.332764885838977, 5.327317028771045, 5.3219869253942065, 5.31675532047117, 5.311609423864082, 5.306504624034471, 5.30143055357212, 5.2963551739847015, 5.291288563187887, 5.286224668616461, 5.281180058287495, 5.27615806168294, 5.271170495913078, 5.266220220857287, 5.261313925729298, 5.256452611766857, 5.2516399543383585, 5.246875863316123, 5.242162709768475, 5.237500028644162, 5.2328901837332245, 5.22833287574079, 5.223832042014873, 5.219388123121729, 5.215009452494015, 5.210697587983355, 5.206469120241216, 5.202324056500496, 5.1982836642964845, 5.1943339051831146, 5.190475260422048, 5.186671054152308, 5.182900354562514, 5.179127011034688, 5.175355623981972, 5.171561093084056, 5.167769837257506, 5.163974738290527, 5.16019683174936, 5.156437905971881, 5.152707026517652, 5.149008522795046, 5.145343592472725, 5.14171928018399, 5.138131883533048, 5.134591658356638, 5.131092016558252, 5.127645916824445, 5.124247008735709, 5.12091067020449, 5.1176345176314735, 5.11443688386324, 5.111311944775059, 5.108288360056322, 5.105320591302268, 5.102448490702396, 5.099578452584922, 5.096731161193253, 5.093851885866942, 5.0909440397622285, 5.087992252207807, 5.0850163916376285, 5.0820211338710894, 5.079024590026061, 5.076032887027875, 5.0730544504658885, 5.070092456339578, 5.067150480804917, 5.064229788117878, 5.0613320571498015, 5.058457805432853, 5.055608085482861, 5.052783187678528, 5.049984184975521, 5.047211375681521, 5.044466392701576, 5.041749610048991, 5.039063946287802, 5.036409576188441, 5.033791781531065, 5.031209248379462, 5.028670806775991, 5.026170158054926, 5.0237197820747115, 5.021302952934272, 5.018933545816344, 5.016582899937907, 5.014263935148692, 5.011945038544888, 5.0096393022396875, 5.007324160220548, 5.005013475454444, 5.002696875858062, 5.000386288641679, 4.998079586939921, 4.995785428448789, 4.993505132019247, 4.991245781594846, 4.9890076583707215, 4.986797993667727, 4.984610026310741, 4.98244890550328, 4.980298789556697, 4.978162424143638, 4.976026022179979, 4.973895482418617, 4.971765788929874, 4.969645682970484, 4.967536867258631, 4.965453095460413, 4.963399629901406, 4.961404447385421, 4.959465626295775, 4.957608482275996, 4.955812141558277, 4.954036257730772, 4.952260522994554, 4.950431473598368, 4.9485717416754795, 4.94667392297498, 4.944770374395771, 4.942858341221602, 4.9409575566565875, 4.939063520081162, 4.937188281033535, 4.935327737059233, 4.933490421067859, 4.931673446582544, 4.929883047289979, 4.928117142930959, 4.926379368327231, 4.924666372233129, 4.9229793699746365, 4.921310873190829, 4.919661747504517, 4.918020292295655, 4.916389488093977, 4.914757483146619, 4.913129552695969, 4.9114969788870875, 4.909865868429858, 4.908230815150437, 4.906597543470941, 4.904963065235943, 4.903332131072337, 4.901703198258992, 4.900079907472537, 4.898461382287834, 4.896850328038284, 4.8952461121438935, 4.893650803063185, 4.8920638526405975, 4.890486994136099, 4.88891972341573, 4.887363729691332, 4.885818544978867, 4.884286153397774, 4.882766079180618, 4.881261073102713, 4.8797704232915455, 4.878298251092318, 4.876842849836137, 4.875410056115466, 4.873995564653964, 4.872606025315091, 4.871233133166667, 4.869881874028939, 4.868541310878639, 4.867213395289996, 4.865887961424927, 4.86456718427457, 4.86324344656539, 4.8619237959361525, 4.860603135590485, 4.85929303035866, 4.857990888044699, 4.856707660052207, 4.855442112342803, 4.854196920293744, 4.852968806036558, 4.8517484509259035, 4.850532407817888, 4.849308330379077, 4.848078748930965, 4.846836928468139, 4.845589336084174, 4.844334142304964, 4.8430779538350075, 4.841820908544973, 4.84056913034803, 4.8393232071698495, 4.838089840578175, 4.836869273842304, 4.835670042644973, 4.834488811859932, 4.833336003988188, 4.83219660603032, 4.831081546341104, 4.829963372565659, 4.828853905012821, 4.827730405970119, 4.826604908254486, 4.825467987954742, 4.824328475916201, 4.823184397990466, 4.822040598264616, 4.820897396325361, 4.819757034278568, 4.818620405027921, 4.817488437363232, 4.816362228986034, 4.815242131271122, 4.8141293777327565, 4.813024155306584, 4.811927733122505, 4.810840437979002, 4.809763214705371, 4.808696826851385, 4.807641013429594, 4.80659726118342, 4.805562746260801, 4.804539909342292, 4.8035226231764545, 4.802514448815257, 4.801507358109903, 4.800505989041723, 4.799503211230152, 4.798504310476119, 4.797504782321952, 4.796510167410721, 4.795518765417207, 4.794536728471281, 4.793564941409059, 4.792611583974456, 4.791679241220884, 4.79077916206911, 4.789910019644395, 4.789079985483565, 4.78827107279626, 4.787477235871381, 4.786666458893542, 4.785836206661937, 4.784968513233782, 4.784075912713539, 4.783158313250192, 4.782227559629389, 4.7812869977625985, 4.7803426825154824, 4.779396543543379, 4.778451183179163, 4.777507467579998, 4.7765665110394355, 4.7756287021745605, 4.774694565409307, 4.7737643117456505, 4.772838242621024, 4.771916533597134, 4.770999442274308, 4.770087211405677, 4.769180206438633, 4.768278887358787, 4.7673839625356305, 4.766496422113008, 4.7656177262731845, 4.764750031966087, 4.763895882180542, 4.763059421497164, 4.76224267686988, 4.761450946576526, 4.760679579069886, 4.7599289837787575, 4.7591859094910305, 4.758440252290075, 4.757683402595951, 4.756911199909918, 4.7561246331323686, 4.755330578247683, 4.754530084166222, 4.753729623035086, 4.752929671280646, 4.752134256362055, 4.751345621173653, 4.750564432352311, 4.749795873470203, 4.74903364305165, 4.748283576172521, 4.747536988620818, 4.746796255351178, 4.746060695386661, 4.745328164552577, 4.74460333860695, 4.743882315838649, 4.74317197726234, 4.742465907399696, 4.741773348802167, 4.741084744981835, 4.740409035965514, 4.739732944482596, 4.739063523444618, 4.738391354819861, 4.737721484989881, 4.737054184096541, 4.736390636574469, 4.735732484520702, 4.735078579072913, 4.73442303765121, 4.733765161070759, 4.73309754056302, 4.732423462523737, 4.731739624513572, 4.731050732194193, 4.730355900420754, 4.729658874065323, 4.728959376066913, 4.728259936513749, 4.727560248161512, 4.726861991008645, 4.726164771779873, 4.725469769401466, 4.7247765352554, 4.72408597565203, 4.723397588010397, 4.7227121436521795, 4.722029063714343, 4.721349065251257, 4.720671469695037, 4.71999698647716, 4.719324846925207, 4.718655787833363, 4.717989053346889, 4.717325486833992, 4.716664657650755, 4.716007810633134, 4.715355581621446, 4.714710510919911, 4.714075661407017, 4.713456218200171, 4.7128582375689]\n"
     ]
    }
   ],
   "source": [
    "np.random.seed(0)\n",
    "embedding_sz = 10\n",
    "\n",
    "# Create Skipgram object here\n",
    "skip = word2vec.Skipgram(dense_interior_units=(embedding_sz,), wt_scale=1e-1)\n",
    "skip.compile('adam', lr=0.01)\n",
    "loss = skip.fit(targets_onehot, contexts_int, n_epochs=500, print_every=10)\n",
    "print(\"loss\", loss)"
   ]
  },
  {
   "cell_type": "markdown",
   "metadata": {},
   "source": [
    "### b. Train model on IMDb data\n",
    "\n",
    "- Load the IMDb data back into memory.\n",
    "- Train the Skip-gram model on the IMDb data. As a starting point, use an embedding size/dimension of 10, 0.01 learning rate, and 20 epochs. If all goes well, the loss should converge and remain stable around 16-17 (assuming 10 reviews are in the corpus).\n",
    "- When you get your self-organizing map (SOM) working to visualize the word vectors, you may want to increase the # reviews in the corpus, depending on the quality of the word vectors (determined by looking at your SOM), and how fast training is going."
   ]
  },
  {
   "cell_type": "code",
   "execution_count": 96,
   "metadata": {},
   "outputs": [
    {
     "name": "stdout",
     "output_type": "stream",
     "text": [
      "targets_train: (1, 1016)\n",
      "Starting to train (20 epochs)...\n",
      "Finished epoch 1.0/20. Epoch Loss: 0.002\n",
      "Finished epoch 2.0/20. Epoch Loss: 0.002\n",
      "Finished epoch 3.0/20. Epoch Loss: 0.002\n",
      "Finished epoch 4.0/20. Epoch Loss: 0.001\n",
      "Finished epoch 5.0/20. Epoch Loss: 0.001\n",
      "Finished epoch 6.0/20. Epoch Loss: 0.001\n",
      "Finished epoch 7.0/20. Epoch Loss: 0.001\n",
      "Finished epoch 8.0/20. Epoch Loss: 0.001\n",
      "Finished epoch 9.0/20. Epoch Loss: 0.001\n",
      "Finished epoch 10.0/20. Epoch Loss: 0.001\n",
      "Finished epoch 11.0/20. Epoch Loss: 0.001\n",
      "Finished epoch 12.0/20. Epoch Loss: 0.001\n",
      "Finished epoch 13.0/20. Epoch Loss: 0.001\n",
      "Finished epoch 14.0/20. Epoch Loss: 0.001\n",
      "Finished epoch 15.0/20. Epoch Loss: 0.001\n",
      "Finished epoch 16.0/20. Epoch Loss: 0.001\n",
      "Finished epoch 17.0/20. Epoch Loss: 0.001\n",
      "Finished epoch 18.0/20. Epoch Loss: 0.001\n",
      "Finished epoch 19.0/20. Epoch Loss: 0.001\n",
      "Finished epoch 20.0/20. Epoch Loss: 0.001\n"
     ]
    }
   ],
   "source": [
    "np.random.seed(0)\n",
    "embedding_sz = 10\n",
    "\n",
    "corpus = word2vec.make_corpus(all_reviews[:10])\n",
    "\n",
    "unique_words = word2vec.find_unique_words(corpus)\n",
    "vocab_sz = len(unique_words)\n",
    "               \n",
    "word2ind = word2vec.make_word2ind_mapping(unique_words)\n",
    "ind2word = word2vec.make_ind2word_mapping(unique_words)\n",
    "targets_onehot, contexts_int = word2vec.make_target_context_word_lists(corpus, word2ind, vocab_sz)\n",
    "\n",
    "# Create Skipgram object here\n",
    "skip = word2vec.Skipgram(dense_interior_units=(embedding_sz,), wt_scale=1e-1)\n",
    "skip.compile('adam', lr=0.01)\n",
    "loss_history = skip.fit(targets_onehot, contexts_int, n_epochs=20, print_every=1)\n"
   ]
  },
  {
   "cell_type": "markdown",
   "metadata": {},
   "source": [
    "**Question 2:** Plot the loss history below when there are 10 reviews in the training set."
   ]
  },
  {
   "cell_type": "code",
   "execution_count": 100,
   "metadata": {},
   "outputs": [
    {
     "data": {
      "image/png": "[encoded data removed]",
      "text/plain": [
       "<Figure size 432x288 with 1 Axes>"
      ]
     },
     "metadata": {},
     "output_type": "display_data"
    }
   ],
   "source": [
    "plt.plot(loss_history)\n",
    "plt.title(\"loss history\")\n",
    "plt.xlabel(\"epoch\")\n",
    "plt.ylabel(\"loss\")\n",
    "plt.show()"
   ]
  },
  {
   "cell_type": "markdown",
   "metadata": {},
   "source": [
    "### c. Get and export word embedding vectors\n",
    "\n",
    "- Implement in `word2vec.py` `get_word_vector()`\n",
    "- Implement in `word2vec.py` `get_all_word_vectors()`\n",
    "- Run the following code to save off the IMDb word embeddings"
   ]
  },
  {
   "cell_type": "markdown",
   "metadata": {},
   "source": [
    "#### Test `get_word_vector`"
   ]
  },
  {
   "cell_type": "code",
   "execution_count": 101,
   "metadata": {},
   "outputs": [
    {
     "name": "stdout",
     "output_type": "stream",
     "text": [
      "The shape of one of your word vectors are (10,) and should be (10,)\n",
      "The word vector for \"james\" looks like:\n",
      "[-0.0941815 -0.0702835 -0.1378837  0.292525   0.0571752 -0.0045876\n",
      " -0.1057064 -0.1824693  0.0241738 -0.0145152]\n"
     ]
    }
   ],
   "source": [
    "print(f'The shape of one of your word vectors are {net.get_word_vector(word2ind, \"james\").shape} and should be (10,)')\n",
    "print(f'The word vector for \"james\" looks like:\\n{net.get_word_vector(word2ind, \"james\")}')"
   ]
  },
  {
   "cell_type": "markdown",
   "metadata": {},
   "source": [
    "#### Test `get_all_word_vectors`"
   ]
  },
  {
   "cell_type": "code",
   "execution_count": 102,
   "metadata": {},
   "outputs": [
    {
     "name": "stdout",
     "output_type": "stream",
     "text": [
      "Shape of word vectors: (1016, 10) and should be (1016, 10)\n",
      "(for 10 reviews and embedding sz of 10)\n"
     ]
    }
   ],
   "source": [
    "word_vecs = net.get_all_word_vectors(word2ind, unique_words)\n",
    "print(f'Shape of word vectors: {word_vecs.shape} and should be (1016, 10)\\n(for 10 reviews and embedding sz of 10)')"
   ]
  },
  {
   "cell_type": "code",
   "execution_count": 104,
   "metadata": {},
   "outputs": [],
   "source": [
    "np.save('results/imdb_word_vectors', word_vecs)\n",
    "np.save('results/imdb_word_strings', unique_words)"
   ]
  }
 ],
 "metadata": {
  "kernelspec": {
   "display_name": "Python 3",
   "language": "python",
   "name": "python3"
  },
  "language_info": {
   "codemirror_mode": {
    "name": "ipython",
    "version": 3
   },
   "file_extension": ".py",
   "mimetype": "text/x-python",
   "name": "python",
   "nbconvert_exporter": "python",
   "pygments_lexer": "ipython3",
   "version": "3.7.3"
  }
 },
 "nbformat": 4,
 "nbformat_minor": 2
}
