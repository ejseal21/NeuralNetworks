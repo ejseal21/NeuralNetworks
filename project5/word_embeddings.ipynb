{
 "cells": [
  {
   "cell_type": "markdown",
   "metadata": {},
   "source": [
    "**Cole Turner and Ethan Seal**\n",
    "\n",
    "Fall 2019\n",
    "\n",
    "CS343: Neural Networks\n",
    "\n",
    "Project 5: Word embeddings and SOMs"
   ]
  },
  {
   "cell_type": "code",
   "execution_count": 21,
   "metadata": {},
   "outputs": [
    {
     "name": "stdout",
     "output_type": "stream",
     "text": [
      "The autoreload extension is already loaded. To reload it, use:\n",
      "  %reload_ext autoreload\n"
     ]
    }
   ],
   "source": [
    "import os\n",
    "import random\n",
    "import numpy as np\n",
    "import matplotlib.pyplot as plt\n",
    "import pandas as pd\n",
    "import word2vec\n",
    "\n",
    "plt.style.use(['seaborn-colorblind', 'seaborn-darkgrid'])\n",
    "plt.rcParams.update({'font.size': 20})\n",
    "\n",
    "np.set_printoptions(suppress=True, precision=7)\n",
    "\n",
    "# Automatically reload external modules\n",
    "%load_ext autoreload\n",
    "%autoreload 2"
   ]
  },
  {
   "cell_type": "markdown",
   "metadata": {},
   "source": [
    "## Project 5: Word Embeddings and SOMs overview\n",
    "\n",
    "In this project, we will train a Skip-gram (word2vec) neural network commonly used in the field of natural language processing (NLP) on text from IMDb user movie reviews. The goal of the network is to predict context words (words surrounding each word in a sentence). After implementing and training the network, you will extract the weights to obtain $H$ dimensional **word embedding** vectors for English words that appeared in the movie reviews. Because the Skip-gram network is just a slight variant of a softmax classifier with a dense hidden layer, you will leverage the network infrastructure that you developed in the convolutional neural network project.\n",
    "\n",
    "In the second part of the project (`som.ipynb`), you will implement a self-organizing map (SOM), a cooperative biologically-inspired neural network. This network will learn the nonlinear structure of the IMDb word embeddings (in $H$ dimensions) (unsupervised learning) and allow us to visualize the words in 2D. Remarkably, words with similar meanings should appear nearby each other, even though the network knows nothing about the definitions of the words!"
   ]
  },
  {
   "cell_type": "markdown",
   "metadata": {},
   "source": [
    "## Task 1) Preprocess IMDb review dataset"
   ]
  },
  {
   "cell_type": "markdown",
   "metadata": {},
   "source": [
    "### a. Load in IMDb review data\n",
    "\n",
    "Load in the movie review text data in `imdb_train.csv`. The goal is to get a Python list of length 25,000 (there are 25,000 reviews in the training set), where element $i$ is a single string representing the $i^{th}$ review. You're welcome to do this however you like. I suggest using pandas."
   ]
  },
  {
   "cell_type": "code",
   "execution_count": 22,
   "metadata": {},
   "outputs": [],
   "source": [
    "imdb_train = pd.read_csv('imdb/imdb_train.csv', delimiter='\\t')\n",
    "all_reviews = imdb_train['review'].to_numpy(dtype=str)\n",
    "all_reviews = all_reviews.tolist()"
   ]
  },
  {
   "cell_type": "markdown",
   "metadata": {},
   "source": [
    "#### Extract a subset of reviews\n",
    "\n",
    "- Make a variable that represents the number of reviews that we will take out of the full training set (I'm calling $R$ in instructions, but call it what you want). \n",
    "\n",
    "Larger numbers will increase simulation time and memory usage, so pick a value on the small side for testing and scale it up based on your machine's performance. To give you a baseline, I started with 3 reviews during testing and increased it to 50 reviews for \"real\" simulations. **The test code below assumes $R=10$**, the 1st 10 non-shuffled reviews (you can change this later before doing neural network simulations).\n",
    "- Use the variable to select the first $R$ reviews from the dataset."
   ]
  },
  {
   "cell_type": "code",
   "execution_count": 23,
   "metadata": {},
   "outputs": [],
   "source": [
    "R = 10\n",
    "reviews = all_reviews[:R]\n"
   ]
  },
  {
   "cell_type": "markdown",
   "metadata": {},
   "source": [
    "### b. Make corpus\n",
    "\n",
    "In NLP, we usually define a **corpus**, which is the set of documents from which we're interested in learning. For the IMDb dataset and Skip-gram network, this represents a list of sentences across all the reviews (from the subset that we selected). The problem is that our reviews are chunked by review, not sentence.\n",
    "\n",
    "- In `word2vec.py` implement `make_corpus()`, which will build a list where elements are sentences, not reviews."
   ]
  },
  {
   "cell_type": "code",
   "execution_count": 24,
   "metadata": {},
   "outputs": [
    {
     "name": "stdout",
     "output_type": "stream",
     "text": [
      "There are 99 sentences in the corpus. There should be 99.\n"
     ]
    }
   ],
   "source": [
    "corpus = word2vec.make_corpus(reviews)\n",
    "print(f'There are {len(corpus)} sentences in the corpus. There should be 99.')"
   ]
  },
  {
   "cell_type": "markdown",
   "metadata": {},
   "source": [
    "#### Identify unique words and vocabulary size\n",
    "\n",
    "Now that we have a corpus of sentences, let's figure out the **vocabulary size**, defined as the number of unique words in the corpus (across all the sentences).\n",
    "- In `word2vec.py` implement `find_unique_words()` that returns a list of unique words in the corpus.\n",
    "- Define `vocab_sz` as the vocab size"
   ]
  },
  {
   "cell_type": "code",
   "execution_count": 25,
   "metadata": {},
   "outputs": [
    {
     "name": "stdout",
     "output_type": "stream",
     "text": [
      "There are 1016 words in the vocabulary. There should be 1016.\n"
     ]
    }
   ],
   "source": [
    "unique_words = word2vec.find_unique_words(corpus)\n",
    "vocab_sz = len(unique_words)\n",
    "print(f'There are {vocab_sz} words in the vocabulary. There should be 1016.')"
   ]
  },
  {
   "cell_type": "markdown",
   "metadata": {},
   "source": [
    "#### Make word <-> unique word index lookup tables\n",
    "\n",
    "It will be useful to assign an int code to each unique word in the range `[0, vocab_sz-1]`.\n",
    "- Write `word2vec.make_word2ind_mapping`. This makes a Python dictionary `word2ind` that allows you to use a word string to look up its int code.\n",
    "- Write `word2vec.make_ind2word_mapping`. This makes a Python dictionary `ind2word` that allows you to use a word int code to look up its word string."
   ]
  },
  {
   "cell_type": "code",
   "execution_count": 26,
   "metadata": {},
   "outputs": [
    {
     "name": "stdout",
     "output_type": "stream",
     "text": [
      "If you preserved the order of words, the int code for \"robot\" is 159 and should be 159.\n",
      "If you preserved the order of words, the int code for \"fans\" is 108 and should be 108.\n",
      "If you preserved the order of words, the string associated with the int code 100 is call and should be call.\n",
      "If you preserved the order of words, the string associated with the int code 200 is buddy and should be buddy.\n"
     ]
    }
   ],
   "source": [
    "# Make word -> index lookup table\n",
    "word2ind = word2vec.make_word2ind_mapping(unique_words)\n",
    "ind2word = word2vec.make_ind2word_mapping(unique_words)\n",
    "print(f'If you preserved the order of words, the int code for \"robot\" is {word2ind[\"robot\"]} and should be 159.')\n",
    "print(f'If you preserved the order of words, the int code for \"fans\" is {word2ind[\"fans\"]} and should be 108.')\n",
    "      \n",
    "print(f'If you preserved the order of words, the string associated with the int code 100 is {ind2word[100]} and should be call.')\n",
    "print(f'If you preserved the order of words, the string associated with the int code 200 is {ind2word[200]} and should be buddy.')"
   ]
  },
  {
   "cell_type": "markdown",
   "metadata": {},
   "source": [
    "### c. Make training target word and context word sets\n",
    "\n",
    "To train the Skip-gram network, we need to create specially-formatted training data and classes.\n",
    "\n",
    "Each training sample will be a single word in each sentence in the corpus (**target word**). Because the first (non-input) layer of the network is a dense layer with $M$ units, we one-hot code each target word in the vocabulary: the word becomes a vector of zeros with length `vocab_sz` with a 1 at the position represented by the word's int code. For example, if `tourists` has an int code of 2, then its one-hot vector looks like `[0,0,1,0,0,0,0,....]`.\n",
    "\n",
    "Recall that the goal of Skip-gram is to learn to predict **context words**, words that surround the target word (within a window of $W$ words) in a sentence. For example, if $W=2$, the sentence is `I want to see the new Star Wars movie, how about you?`, and the target word is `the`, then the context words are `[to, see, new, Star]`. Context words play the role of `y` of our classes. In our implementation, we will represent a target word's context words in terms of their int codes.\n",
    "\n",
    "- In `word2vec.py`, implement `make_target_context_word_lists()` that returns 1) a Python list of one-hot coded target vectors (ndarrays) and 2) the associated context words, also a Python list of ndarrays, each containing the int codes for context words."
   ]
  },
  {
   "cell_type": "code",
   "execution_count": 27,
   "metadata": {},
   "outputs": [
    {
     "name": "stdout",
     "output_type": "stream",
     "text": [
      "Training size: 2255. It should be 2255.\n",
      "Second target vector is [[0. 1. 0. ... 0. 0. 0.]] and should be [[0. 1. 0. ... 0. 0. 0.]]\n",
      "Second target vector sums to 1.0 and it should be 1.0\n",
      "Second context list is [0 2 3] and should be [0 2 3]\n"
     ]
    }
   ],
   "source": [
    "targets_onehot, contexts_int = word2vec.make_target_context_word_lists(corpus, word2ind, vocab_sz)\n",
    "print(f'Training size: {len(targets_onehot)}. It should be 2255.')\n",
    "print(f'Second target vector is {targets_onehot[1]} and should be [[0. 1. 0. ... 0. 0. 0.]]')\n",
    "print(f'Second target vector sums to {np.sum(targets_onehot[1])} and it should be 1.0')\n",
    "print(f'Second context list is {contexts_int[1]} and should be [0 2 3]')"
   ]
  },
  {
   "cell_type": "markdown",
   "metadata": {},
   "source": [
    "## Task 2) Implement Skip-gram network\n",
    "\n",
    "The network has the architecture: `Input -> Dense (linear act) -> Dense (softmax act)`.\n",
    "\n",
    "You only need to make a small number of modifications to get Skip-gram to work (*the following list may seem long, but most changes are ~1 line tweaks*).\n",
    "\n",
    "- Copy over your `layer.py`, `network.py`, and `optimizer.py` files from the CNN project. \n",
    "- In `word2vec.py`, implement the Skipgram class constructor. This involves building the network that implements the above layer architecture.\n",
    "- In `word2vec.py`, override in the Skipgram class the `fit` training method.\n",
    "- Add support for a `softmax_embedding` activation function type in `layer.py`. This is needed because the Skip-gram loss function is not *vanilla* cross-entropy (it's the multi-correct-class generalization).\n",
    "    - Add a function `layer::skipgram()`, which is the skipgram loss function. Signature should be `def skipgram(self, y):`, where `y` is the int-coded context word indicies (`shape=(context_sz,)`). Equation for the loss is below.\n",
    "    - Update `layer::loss`.  Make sure the skipgram loss function is called from `loss()` if the net activation function is 'softmax_embedding'.\n",
    "    - Update `layer::compute_net_act`: Make sure the regular softmax is computed in the forward pass even if the activation string is 'softmax_embedding'.\n",
    "    - Update `layer::compute_dlast_net_act`: if activation string is 'softmax_embedding', return a COPY of the net_act in the current layer (this method is only entered for the output layer, so `net_act` = `z_net_act`).\n",
    "    - Update `layer::backward_netAct_to_netIn`: This is the gradient of Skip-gram loss function. When you enter this function for the output `Dense` layer, `d_upstream` is equal to `z_net_act` (due to what you did on the last step). Use the short-cut approach from class to implement.\n",
    "- In `word2vec.py`, implement the `get_word_vector` method that allows us to get a word embedding vector from a trained network.\n",
    "- In `word2vec.py`, implement the `get_all_word_vectors` method that allows us to get all word embedding vector from a list passed in from a trained network.\n",
    "- Test your implementation using the simple toy data below.\n",
    "\n",
    "Equation for skip-gram loss: $$L = C \\times Log\\left ( \\sum_{j=1}^{vocabSz} exp \\left ( \\text{z_net_in}_j \\right ) \\right ) - \\sum_{i=1}^{C} \\text{z_net_in}_{\\vec{y_i}}$$\n",
    "\n",
    "**Left term:** $C$ is the number of words in the current context, $\\text{z_net_in}_j$ are the `net_in` values in the Output layer, and the sum over $j$ is a sum over ALL `net_in` values (before softmax) (summing over units coding each word in the vocab)\n",
    "\n",
    "**Right term:** This is the sum of the Output layer `net_in` values at the context word indices $\\vec{y_i}$."
   ]
  },
  {
   "cell_type": "markdown",
   "metadata": {},
   "source": [
    "### a. Simple corpus test code"
   ]
  },
  {
   "cell_type": "code",
   "execution_count": 28,
   "metadata": {},
   "outputs": [
    {
     "data": {
      "text/plain": [
       "['I',\n",
       " 'love',\n",
       " 'neural',\n",
       " 'networks',\n",
       " 'and',\n",
       " 'studying',\n",
       " 'computer',\n",
       " 'science',\n",
       " 'at',\n",
       " 'colby',\n",
       " 'college']"
      ]
     },
     "execution_count": 28,
     "metadata": {},
     "output_type": "execute_result"
    }
   ],
   "source": [
    "corpus = [\"I love neural networks and studying computer science at colby college\".split()]\n",
    "corpus[0]"
   ]
  },
  {
   "cell_type": "code",
   "execution_count": 29,
   "metadata": {},
   "outputs": [
    {
     "data": {
      "text/plain": [
       "{'I': 0,\n",
       " 'love': 1,\n",
       " 'neural': 2,\n",
       " 'networks': 3,\n",
       " 'and': 4,\n",
       " 'studying': 5,\n",
       " 'computer': 6,\n",
       " 'science': 7,\n",
       " 'at': 8,\n",
       " 'colby': 9,\n",
       " 'college': 10}"
      ]
     },
     "execution_count": 29,
     "metadata": {},
     "output_type": "execute_result"
    }
   ],
   "source": [
    "unique_words = word2vec.find_unique_words(corpus)\n",
    "# Make word -> index lookup table\n",
    "word2ind = word2vec.make_word2ind_mapping(unique_words)\n",
    "ind2word = word2vec.make_ind2word_mapping(unique_words)\n",
    "word2ind"
   ]
  },
  {
   "cell_type": "markdown",
   "metadata": {},
   "source": [
    "`word2ind` should look like:\n",
    "\n",
    "     {'I': 0,\n",
    "     'love': 1,\n",
    "     'neural': 2,\n",
    "     'networks': 3,\n",
    "     'and': 4,\n",
    "     'studying': 5,\n",
    "     'computer': 6,\n",
    "     'science': 7,\n",
    "     'at': 8,\n",
    "     'colby': 9,\n",
    "     'college': 10}"
   ]
  },
  {
   "cell_type": "code",
   "execution_count": 30,
   "metadata": {},
   "outputs": [
    {
     "name": "stdout",
     "output_type": "stream",
     "text": [
      "Training size: 11. It should be 11.\n"
     ]
    }
   ],
   "source": [
    "targets_onehot, contexts_int = word2vec.make_target_context_word_lists(corpus, word2ind, vocab_sz)\n",
    "print(f'Training size: {len(targets_onehot)}. It should be 11.')"
   ]
  },
  {
   "cell_type": "markdown",
   "metadata": {},
   "source": [
    "**Question 1:** How do you control the dimension of the word vector embedding?\n",
    "\n",
    "You control the dimension of the word vector embedding by changing the number of units in the hidden layer (for a 2-layer model). The y_wts are the word vectors, so changing the numbers of units in the y-layer changes the dimensions of the word vectors. "
   ]
  },
  {
   "cell_type": "markdown",
   "metadata": {},
   "source": [
    "#### Test Skipgram loss, forward pass, backward pass"
   ]
  },
  {
   "cell_type": "code",
   "execution_count": 31,
   "metadata": {},
   "outputs": [
    {
     "name": "stdout",
     "output_type": "stream",
     "text": [
      "Your loss is 19.772769210415863 and it should be 19.772769210415863.\n",
      "Your forward softmax is\n",
      "[[0.0007281 0.0015607 0.0006291 ... 0.0001252 0.000447  0.0001193]] and it should be\n",
      "[[0.0007281 0.0015607 0.0006291 ... 0.0001252 0.000447  0.0001193]]\n",
      "Your skip-gram gradient is\n",
      "[[-0.9978156 -0.9953178  0.0018872 ...  0.0003757  0.0013411  0.0003578]] and it should be\n",
      "[[-0.9978156 -0.9953178  0.0018872 ...  0.0003757  0.0013411  0.0003578]]\n"
     ]
    }
   ],
   "source": [
    "np.random.seed(0)\n",
    "embedding_sz = 10\n",
    "\n",
    "# Create Skipgram object here\n",
    "net = word2vec.Skipgram(input_shape=(1, vocab_sz),\n",
    "                        dense_interior_units=(embedding_sz,),\n",
    "                        n_classes=vocab_sz,\n",
    "                        wt_scale=1e-1)\n",
    "\n",
    "y = np.array([0, 1, 10])\n",
    "net.layers[-1].net_in = np.random.randn(1, vocab_sz)\n",
    "test_loss = net.layers[-1].loss(y)\n",
    "net.layers[-1].softmax()\n",
    "skipgram_grad = net.layers[-1].backward_netAct_to_netIn(net.layers[-1].net_act, y)\n",
    "\n",
    "print(f'Your loss is {test_loss} and it should be 19.772769210415863.')\n",
    "print(f'Your forward softmax is\\n{net.layers[-1].net_act} and it should be\\n[[0.0007281 0.0015607 0.0006291 ... 0.0001252 0.000447  0.0001193]]')\n",
    "print(f'Your skip-gram gradient is\\n{skipgram_grad} and it should be\\n[[-0.9978156 -0.9953178  0.0018872 ...  0.0003757  0.0013411  0.0003578]]')"
   ]
  },
  {
   "cell_type": "markdown",
   "metadata": {},
   "source": [
    "#### Test entire training workflow\n",
    "\n",
    "- Create a `Skipgram` network with an embedding size of 10 and wt scale of 1e-1.\n",
    "- Compile the network with an optimizer of your choice and learning rate of 0.01.\n",
    "- Fit the model to `targets_onehot`, `contexts_int` with 500 epochs of training.\n",
    "    \n",
    "If your network works, you should see the loss drop to ~49 after about 100 epochs and remain stable for the rest of the simulation (no large jumps). This should take only seconds to finish."
   ]
  },
  {
   "cell_type": "code",
   "execution_count": 32,
   "metadata": {},
   "outputs": [
    {
     "name": "stdout",
     "output_type": "stream",
     "text": [
      "targets_train: (1, 1016)\n",
      "Starting to train (500 epochs)...\n",
      "Finished epoch 9.0/500. Epoch Loss: 7.690\n",
      "Finished epoch 19.0/500. Epoch Loss: 6.727\n",
      "Finished epoch 29.0/500. Epoch Loss: 5.512\n",
      "Finished epoch 39.0/500. Epoch Loss: 4.784\n",
      "Finished epoch 49.0/500. Epoch Loss: 4.490\n",
      "Finished epoch 59.0/500. Epoch Loss: 4.385\n",
      "Finished epoch 69.0/500. Epoch Loss: 4.337\n",
      "Finished epoch 79.0/500. Epoch Loss: 4.311\n",
      "Finished epoch 89.0/500. Epoch Loss: 4.296\n",
      "Finished epoch 99.0/500. Epoch Loss: 4.286\n",
      "Finished epoch 109.0/500. Epoch Loss: 4.279\n",
      "Finished epoch 119.0/500. Epoch Loss: 4.282\n",
      "Finished epoch 129.0/500. Epoch Loss: 4.345\n",
      "Finished epoch 139.0/500. Epoch Loss: 4.293\n",
      "Finished epoch 149.0/500. Epoch Loss: 4.284\n",
      "Finished epoch 159.0/500. Epoch Loss: 4.288\n",
      "Finished epoch 169.0/500. Epoch Loss: 4.312\n",
      "Finished epoch 179.0/500. Epoch Loss: 4.271\n",
      "Finished epoch 189.0/500. Epoch Loss: 4.295\n",
      "Finished epoch 199.0/500. Epoch Loss: 4.286\n",
      "Finished epoch 209.0/500. Epoch Loss: 4.283\n",
      "Finished epoch 219.0/500. Epoch Loss: 4.334\n",
      "Finished epoch 229.0/500. Epoch Loss: 4.269\n",
      "Finished epoch 239.0/500. Epoch Loss: 4.272\n",
      "Finished epoch 249.0/500. Epoch Loss: 4.309\n",
      "Finished epoch 259.0/500. Epoch Loss: 4.277\n",
      "Finished epoch 269.0/500. Epoch Loss: 4.273\n",
      "Finished epoch 279.0/500. Epoch Loss: 4.315\n",
      "Finished epoch 289.0/500. Epoch Loss: 4.280\n",
      "Finished epoch 299.0/500. Epoch Loss: 4.296\n",
      "Finished epoch 309.0/500. Epoch Loss: 4.272\n",
      "Finished epoch 319.0/500. Epoch Loss: 4.272\n",
      "Finished epoch 329.0/500. Epoch Loss: 4.302\n",
      "Finished epoch 339.0/500. Epoch Loss: 4.300\n",
      "Finished epoch 349.0/500. Epoch Loss: 4.278\n",
      "Finished epoch 359.0/500. Epoch Loss: 4.300\n",
      "Finished epoch 369.0/500. Epoch Loss: 4.273\n",
      "Finished epoch 379.0/500. Epoch Loss: 4.279\n",
      "Finished epoch 389.0/500. Epoch Loss: 4.284\n",
      "Finished epoch 399.0/500. Epoch Loss: 4.324\n",
      "Finished epoch 409.0/500. Epoch Loss: 4.268\n",
      "Finished epoch 419.0/500. Epoch Loss: 4.261\n",
      "Finished epoch 429.0/500. Epoch Loss: 4.286\n",
      "Finished epoch 439.0/500. Epoch Loss: 4.277\n",
      "Finished epoch 449.0/500. Epoch Loss: 4.289\n",
      "Finished epoch 459.0/500. Epoch Loss: 4.299\n",
      "Finished epoch 469.0/500. Epoch Loss: 4.290\n",
      "Finished epoch 479.0/500. Epoch Loss: 4.266\n",
      "Finished epoch 489.0/500. Epoch Loss: 4.264\n",
      "Finished epoch 499.0/500. Epoch Loss: 4.286\n",
      "loss [14.122656414376339, 23.708201515076443, 22.124397922285397, 19.154973734645335, 14.293092746827712, 9.761888745611758, 8.453401196342199, 8.235770496940559, 8.17003638338224, 8.120531436969458, 8.060983769853891, 7.991198739418523, 7.9125701565252395, 7.824314419113109, 7.7247017564438245, 7.612562588774299, 7.48795173071955, 7.3521450480568005, 7.207412791728476, 7.056733543696421, 6.903425142671593, 6.750698705213208, 6.601238433904484, 6.4569383445424045, 6.318859900703969, 6.18737493185534, 6.062399092512414, 5.943623154880147, 5.830687129875674, 5.723282856963879, 5.621196903582347, 5.52431510543229, 5.432608068396889, 5.346109983101656, 5.264895967665532, 5.189058405719399, 5.118681297308073, 5.053813054970303, 4.994440796190687, 4.940470904421925, 4.891720167394337, 4.847919348376208, 4.8087278764080414, 4.773755869106678, 4.742588735408467, 4.714810127196777, 4.690020429090349, 4.66784958834765, 4.647964397764681, 4.630071154956344, 4.613914952540956, 4.599276836280663, 4.5859698565913956, 4.573834759866808, 4.562735800487678, 4.552556940864924, 4.543198554988097, 4.5345746542014345, 4.526610599347898, 4.519241237682566, 4.512409395266124, 4.506064658217423, 4.5001623840792355, 4.494662894324514, 4.489530808739293, 4.484734491060885, 4.480245582440795, 4.476038605001881, 4.472090622110833, 4.468380945215304, 4.464890879446506, 4.461603501888056, 4.458503467645384, 4.455576839756939, 4.4528109396699, 4.450194215528907, 4.447716125942931, 4.445367037233943, 4.443138132451566, 4.441021330673774, 4.439009215314157, 4.437094970327585, 4.435272323353129, 4.433535494959606, 4.431879153267864, 4.430298373317831, 4.428788600629206, 4.427345618474475, 4.425965518443356, 4.424644673929962, 4.423379716219219, 4.4221675128882785, 4.42100514827298, 4.41988990577862, 4.418819251840969, 4.417790821364617, 4.416802404488046, 4.4158519345370815, 4.414937477053618, 4.414057219778802, 4.413209463526203, 4.4123926137940375, 4.411605173188019, 4.410845734255057, 4.410112973431487, 4.409405644263193, 4.4087225741084035, 4.408062653962497, 4.40742484677791, 4.406808150635898, 4.406211678658594, 4.405634437867557, 4.405075909056935, 4.404534533814245, 4.404012288825432, 4.403505807631119, 4.403063189544053, 4.40288879102163, 4.40472274422832, 4.410369198933946, 4.415634125282706, 4.418566906879531, 4.421770547283538, 4.432058021919226, 4.442975786839444, 4.479128828397066, 4.482186554591444, 4.5045582913409214, 4.4979079678822655, 4.484940252420373, 4.465250676774684, 4.451072036971934, 4.438130576730345, 4.430802016063807, 4.424951954910084, 4.421536504097298, 4.4195220433793985, 4.418488895809588, 4.4207256346945565, 4.420346627327458, 4.426788845387221, 4.423438576074232, 4.430416567702583, 4.4232537782341455, 4.426902814247797, 4.4194138780242955, 4.420457704577044, 4.414774940887119, 4.41525791665518, 4.41129479866145, 4.411963295845864, 4.409317154588492, 4.410342894545132, 4.408779361468842, 4.410289827830039, 4.409785230580329, 4.4119988741934, 4.412798596748915, 4.4161016260315895, 4.418792843885099, 4.4238052818747455, 4.429180055733782, 4.436505956806857, 4.444268924032585, 4.4526955201171425, 4.458296512645666, 4.462068674912141, 4.458643779607519, 4.4535995072267465, 4.443230005153873, 4.434570737544937, 4.424902237422031, 4.418093091095662, 4.411918100553802, 4.407868202656729, 4.404422336144315, 4.402266251501704, 4.4004194167444295, 4.3993620751824345, 4.3984345621745655, 4.398079756235262, 4.397793546165806, 4.398089178043375, 4.398488520390904, 4.399770303469809, 4.401303054156418, 4.404557325401203, 4.408298801317684, 4.415361246303399, 4.422675249268587, 4.434282229355708, 4.443520604632764, 4.453123325170685, 4.455917613428792, 4.454812542860629, 4.446755335406729, 4.439592295333896, 4.427488079738358, 4.420547779806398, 4.412200133831836, 4.40804998400806, 4.404311029951217, 4.402461085358024, 4.401574543217168, 4.401029561557676, 4.4020300903467655, 4.402389443121522, 4.404983433363468, 4.406348015037758, 4.410543890398688, 4.41356622654543, 4.419976275146018, 4.426068492672567, 4.436247831018549, 4.445415833620972, 4.460966358908325, 4.4669805120213235, 4.481813661075299, 4.476519268536746, 4.475762793137283, 4.4630288371027875, 4.450953547079327, 4.435378858357472, 4.424104812278599, 4.413806355771987, 4.407526355662978, 4.402627739435794, 4.3996570204968695, 4.3974505174737635, 4.396112606580763, 4.3951256452690926, 4.394590504403913, 4.3942443632068295, 4.394213991635139, 4.3943251903777725, 4.394763097680958, 4.395349118019254, 4.396400865527172, 4.397625141145142, 4.3996318198740765, 4.401773816068409, 4.405283082428402, 4.408583983102142, 4.414137171317159, 4.418285187133979, 4.4256052814497995, 4.428960101786476, 4.435843994158649, 4.435759672884061, 4.438949852442734, 4.43432897541542, 4.432995613547817, 4.426013045960395, 4.422510852144728, 4.416386578010282, 4.413287082297351, 4.409660952836817, 4.408272294856254, 4.407261649951275, 4.408127976606191, 4.409130277574852, 4.4120842922799515, 4.413351640014123, 4.416038788420228, 4.414622830519606, 4.413967740058347, 4.409685283450275, 4.406978220463592, 4.402944018936589, 4.4012645489484585, 4.4000737302507, 4.402645276141598, 4.406723784722699, 4.418533422808932, 4.429991212359496, 4.448582189581747, 4.461655140484051, 4.463730877355013, 4.460220570631773, 4.441789464240758, 4.429537468650732, 4.4151121578623, 4.409700173767504, 4.403491164908236, 4.402862726160305, 4.400984947517079, 4.4025746761828115, 4.403043020047526, 4.406013702816775, 4.408219615313391, 4.412294888166368, 4.415844342055347, 4.420528979132614, 4.424315785837976, 4.4285343443943885, 4.430621137225711, 4.433019749525328, 4.432000327271548, 4.43189238526823, 4.42827164474775, 4.426230354273982, 4.421576420421908, 4.418753338035184, 4.414296083557947, 4.4115677453404745, 4.407933092866345, 4.405748944430294, 4.403101672574625, 4.401582064141235, 4.399808486745473, 4.398888105450436, 4.397793347074852, 4.397364650864409, 4.3967910525722225, 4.396786931455145, 4.396654238062684, 4.397084252531315, 4.397399704502135, 4.3983787138651875, 4.399244289559797, 4.40102731551628, 4.402626970099331, 4.405597141304501, 4.408071336140652, 4.412487430363703, 4.415571740994518, 4.420879418423183, 4.423545484403274, 4.4278972942521895, 4.428714728202641, 4.4302084470272725, 4.428374291964631, 4.427269876856109, 4.423642187326027, 4.422360168160693, 4.4193825201069155, 4.420288677221558, 4.420352693980266, 4.4241431694922255, 4.427571936772147, 4.431963616385514, 4.43529831184268, 4.435496416818993, 4.434535115503846, 4.429338489100002, 4.424990950649529, 4.418295976023978, 4.413808953742521, 4.408667792394058, 4.405810167338415, 4.402997825478571, 4.402332963400242, 4.401890905885315, 4.403832676073693, 4.405898255467198, 4.411033177771876, 4.415044498553066, 4.422831600931591, 4.425327953439606, 4.431788808538772, 4.4284373350197095, 4.429344725303803, 4.422045115278145, 4.41907241722134, 4.412662562756896, 4.409442501884149, 4.405491948012953, 4.403305916811292, 4.401238357169185, 4.400000131781798, 4.399100881606946, 4.398557495276881, 4.398436538466393, 4.3984639542588395, 4.3989711485094825, 4.399570493152839, 4.400669739348666, 4.4019186190086605, 4.403552111158067, 4.405505273693879, 4.407391743532154, 4.4098765210696, 4.411318513931426, 4.41372322129732, 4.413809541100239, 4.415283841900952, 4.413685882848072, 4.413886495173352, 4.411337036533036, 4.410840008751198, 4.40859746415565, 4.4085199324933715, 4.407790458499367, 4.409488969582096, 4.411564281676774, 4.416902085883342, 4.423319095127471, 4.434265992588593, 4.444781464084819, 4.458650931822155, 4.465441373044044, 4.46987029892667, 4.461471183782242, 4.451999332080897, 4.435209180466665, 4.4233841570340875, 4.4114471124613495, 4.404256975617827, 4.398392812354232, 4.3949762148514555, 4.392339691319452, 4.3907674919991715, 4.389554563996669, 4.388806874823817, 4.388228385629827, 4.387877023070858, 4.38762447281346, 4.387509298674082, 4.387480078905639, 4.387571897394467, 4.3877795473705445, 4.388155665282976, 4.388741616645192, 4.389644330362027, 4.390986137850996, 4.392970808747955, 4.395901070148195, 4.399950423558136, 4.40581466781499, 4.412601726879998, 4.421726675246153, 4.428921426896337, 4.436354177366266, 4.43811026498503, 4.435502897257946, 4.429141830828315, 4.42093283124116, 4.4131100120505975, 4.408256406832721, 4.40384090429697, 4.40225441727261, 4.400878176440705, 4.401283966816183, 4.402697173791609, 4.404426767333255, 4.408485860824876, 4.409771813121501, 4.413685560182467, 4.413744481414488, 4.414880411164149, 4.415727402230477, 4.41562269550264, 4.4176409438617545, 4.417914477041898, 4.421324025960015, 4.4218460015905485, 4.426596227054719, 4.427018802562821, 4.431548587414256, 4.430021582444194, 4.431738410554553, 4.429132681193127, 4.428850596112446, 4.428700507655625, 4.429107811352842, 4.4302900995681735, 4.430953099900734, 4.428881140462862, 4.426476991038664, 4.420590450167648, 4.416219582278528, 4.410273592644071, 4.406519823191655, 4.402332136833102, 4.3999020419141255, 4.397333734093154, 4.395962563347097, 4.394444984465153, 4.393729851168076, 4.3928305968605565, 4.392500448109954, 4.3919611238582865, 4.391864028284986, 4.391532164049538, 4.391580205509479, 4.391356275625156, 4.391487992612187, 4.391298429775841, 4.391462342715209, 4.391259641977151, 4.391425068368099, 4.391228542749039, 4.391454004773717, 4.391476624117825, 4.3921225175806935, 4.393095156300579, 4.395341870868919, 4.399132589420128, 4.405536631378575, 4.415009521320515]\n"
     ]
    }
   ],
   "source": [
    "np.random.seed(0)\n",
    "embedding_sz = 10\n",
    "\n",
    "# Create Skipgram object here\n",
    "skip = word2vec.Skipgram(dense_interior_units=(embedding_sz,), wt_scale=1e-1)\n",
    "skip.compile('adam', lr=0.01)\n",
    "loss = skip.fit(targets_onehot, contexts_int, n_epochs=500, print_every=10)\n",
    "print(\"loss\", loss)"
   ]
  },
  {
   "cell_type": "markdown",
   "metadata": {},
   "source": [
    "### b. Train model on IMDb data\n",
    "\n",
    "- Load the IMDb data back into memory.\n",
    "- Train the Skip-gram model on the IMDb data. As a starting point, use an embedding size/dimension of 10, 0.01 learning rate, and 20 epochs. If all goes well, the loss should converge and remain stable around 16-17 (assuming 10 reviews are in the corpus).\n",
    "- When you get your self-organizing map (SOM) working to visualize the word vectors, you may want to increase the # reviews in the corpus, depending on the quality of the word vectors (determined by looking at your SOM), and how fast training is going."
   ]
  },
  {
   "cell_type": "code",
   "execution_count": 33,
   "metadata": {},
   "outputs": [
    {
     "name": "stdout",
     "output_type": "stream",
     "text": [
      "targets_train: (1, 1016)\n",
      "Starting to train (20 epochs)...\n",
      "Finished epoch 1.0/20. Epoch Loss: 15.072\n",
      "Finished epoch 2.0/20. Epoch Loss: 13.623\n",
      "Finished epoch 3.0/20. Epoch Loss: 12.785\n",
      "Finished epoch 4.0/20. Epoch Loss: 12.022\n",
      "Finished epoch 5.0/20. Epoch Loss: 11.482\n",
      "Finished epoch 6.0/20. Epoch Loss: 11.146\n",
      "Finished epoch 7.0/20. Epoch Loss: 10.979\n",
      "Finished epoch 8.0/20. Epoch Loss: 10.886\n",
      "Finished epoch 9.0/20. Epoch Loss: 10.798\n",
      "Finished epoch 10.0/20. Epoch Loss: 10.786\n",
      "Finished epoch 11.0/20. Epoch Loss: 10.745\n",
      "Finished epoch 12.0/20. Epoch Loss: 10.754\n",
      "Finished epoch 13.0/20. Epoch Loss: 10.729\n",
      "Finished epoch 14.0/20. Epoch Loss: 10.731\n",
      "Finished epoch 15.0/20. Epoch Loss: 10.705\n",
      "Finished epoch 16.0/20. Epoch Loss: 10.722\n",
      "Finished epoch 17.0/20. Epoch Loss: 10.685\n",
      "Finished epoch 18.0/20. Epoch Loss: 10.699\n",
      "Finished epoch 19.0/20. Epoch Loss: 10.694\n",
      "Finished epoch 20.0/20. Epoch Loss: 10.692\n"
     ]
    }
   ],
   "source": [
    "np.random.seed(0)\n",
    "embedding_sz = 10\n",
    "\n",
    "corpus = word2vec.make_corpus(all_reviews[:10])\n",
    "\n",
    "unique_words = word2vec.find_unique_words(corpus)\n",
    "vocab_sz = len(unique_words)\n",
    "               \n",
    "word2ind = word2vec.make_word2ind_mapping(unique_words)\n",
    "ind2word = word2vec.make_ind2word_mapping(unique_words)\n",
    "targets_onehot, contexts_int = word2vec.make_target_context_word_lists(corpus, word2ind, vocab_sz)\n",
    "\n",
    "# Create Skipgram object here\n",
    "skip = word2vec.Skipgram(dense_interior_units=(embedding_sz,), wt_scale=1e-1)\n",
    "skip.compile('adam', lr=0.01)\n",
    "loss_history = skip.fit(targets_onehot, contexts_int, n_epochs=20, print_every=1)\n"
   ]
  },
  {
   "cell_type": "markdown",
   "metadata": {},
   "source": [
    "**Question 2:** Plot the loss history below when there are 10 reviews in the training set."
   ]
  },
  {
   "cell_type": "code",
   "execution_count": 34,
   "metadata": {},
   "outputs": [
    {
     "data": {
      "image/png": "[encoded data removed]",
      "text/plain": [
       "<Figure size 432x288 with 1 Axes>"
      ]
     },
     "metadata": {},
     "output_type": "display_data"
    }
   ],
   "source": [
    "plt.plot(loss_history)\n",
    "plt.title(\"loss history\")\n",
    "plt.xlabel(\"epoch\")\n",
    "plt.ylabel(\"loss\")\n",
    "plt.show()"
   ]
  },
  {
   "cell_type": "markdown",
   "metadata": {},
   "source": [
    "### c. Get and export word embedding vectors\n",
    "\n",
    "- Implement in `word2vec.py` `get_word_vector()`\n",
    "- Implement in `word2vec.py` `get_all_word_vectors()`\n",
    "- Run the following code to save off the IMDb word embeddings"
   ]
  },
  {
   "cell_type": "markdown",
   "metadata": {},
   "source": [
    "#### Test `get_word_vector`"
   ]
  },
  {
   "cell_type": "code",
   "execution_count": 35,
   "metadata": {},
   "outputs": [
    {
     "name": "stdout",
     "output_type": "stream",
     "text": [
      "The shape of one of your word vectors are (10,) and should be (10,)\n",
      "The word vector for \"james\" looks like:\n",
      "[-0.0941815 -0.0702835 -0.1378837  0.292525   0.0571752 -0.0045876\n",
      " -0.1057064 -0.1824693  0.0241738 -0.0145152]\n"
     ]
    }
   ],
   "source": [
    "print(f'The shape of one of your word vectors are {net.get_word_vector(word2ind, \"james\").shape} and should be (10,)')\n",
    "print(f'The word vector for \"james\" looks like:\\n{net.get_word_vector(word2ind, \"james\")}')"
   ]
  },
  {
   "cell_type": "markdown",
   "metadata": {},
   "source": [
    "#### Test `get_all_word_vectors`"
   ]
  },
  {
   "cell_type": "code",
   "execution_count": 36,
   "metadata": {},
   "outputs": [
    {
     "name": "stdout",
     "output_type": "stream",
     "text": [
      "Shape of word vectors: (1016, 10) and should be (1016, 10)\n",
      "(for 10 reviews and embedding sz of 10)\n"
     ]
    }
   ],
   "source": [
    "word_vecs = net.get_all_word_vectors(word2ind, unique_words)\n",
    "print(f'Shape of word vectors: {word_vecs.shape} and should be (1016, 10)\\n(for 10 reviews and embedding sz of 10)')"
   ]
  },
  {
   "cell_type": "code",
   "execution_count": 37,
   "metadata": {},
   "outputs": [],
   "source": [
    "np.save('results/imdb_word_vectors', word_vecs)\n",
    "np.save('results/imdb_word_strings', unique_words)"
   ]
  },
  {
   "cell_type": "code",
   "execution_count": null,
   "metadata": {},
   "outputs": [],
   "source": []
  },
  {
   "cell_type": "markdown",
   "metadata": {},
   "source": [
    "### Extension 2:\n"
   ]
  },
  {
   "cell_type": "code",
   "execution_count": 72,
   "metadata": {
    "scrolled": true
   },
   "outputs": [
    {
     "name": "stdout",
     "output_type": "stream",
     "text": [
      "unique words before preprocessing: 1016\n",
      "unique words after preprocessing: 928\n",
      "targets_train: (1, 928)\n",
      "Starting to train (20 epochs)...\n",
      "Finished epoch 1.0/20. Epoch Loss: 15.059\n",
      "Finished epoch 2.0/20. Epoch Loss: 13.621\n",
      "Finished epoch 3.0/20. Epoch Loss: 12.939\n",
      "Finished epoch 4.0/20. Epoch Loss: 12.324\n",
      "Finished epoch 5.0/20. Epoch Loss: 11.859\n",
      "Finished epoch 6.0/20. Epoch Loss: 11.532\n",
      "Finished epoch 7.0/20. Epoch Loss: 11.338\n",
      "Finished epoch 8.0/20. Epoch Loss: 11.229\n",
      "Finished epoch 9.0/20. Epoch Loss: 11.149\n",
      "Finished epoch 10.0/20. Epoch Loss: 11.101\n",
      "Finished epoch 11.0/20. Epoch Loss: 11.083\n",
      "Finished epoch 12.0/20. Epoch Loss: 11.051\n",
      "Finished epoch 13.0/20. Epoch Loss: 11.033\n",
      "Finished epoch 14.0/20. Epoch Loss: 11.024\n",
      "Finished epoch 15.0/20. Epoch Loss: 11.008\n",
      "Finished epoch 16.0/20. Epoch Loss: 11.012\n",
      "Finished epoch 17.0/20. Epoch Loss: 11.001\n",
      "Finished epoch 18.0/20. Epoch Loss: 11.014\n",
      "Finished epoch 19.0/20. Epoch Loss: 10.994\n",
      "Finished epoch 20.0/20. Epoch Loss: 11.009\n"
     ]
    }
   ],
   "source": [
    "import preprocess_words\n",
    "np.random.seed(0)\n",
    "embedding_sz = 10\n",
    "\n",
    "corpus = word2vec.make_corpus(all_reviews[:10])\n",
    "unique_words = word2vec.find_unique_words(corpus)\n",
    "print(\"unique words before preprocessing:\", len(unique_words))\n",
    "corpus, unique_words = preprocess_words.stem(corpus, unique_words)\n",
    "print(\"unique words after preprocessing:\", len(unique_words))\n",
    "\n",
    "\n",
    "vocab_sz = len(unique_words)\n",
    "               \n",
    "word2ind = word2vec.make_word2ind_mapping(unique_words)\n",
    "ind2word = word2vec.make_ind2word_mapping(unique_words)\n",
    "targets_onehot, contexts_int = word2vec.make_target_context_word_lists(corpus, word2ind, vocab_sz)\n",
    "\n",
    "# Create Skipgram object here\n",
    "skip = word2vec.Skipgram(input_shape=(1, vocab_sz), dense_interior_units=(embedding_sz,), n_classes=vocab_sz, wt_scale=1e-1)\n",
    "skip.compile('adam', lr=0.01)\n",
    "loss_history = skip.fit(targets_onehot, contexts_int, n_epochs=20, print_every=1)\n",
    "word_vecs = net.get_all_word_vectors(word2ind, unique_words)"
   ]
  },
  {
   "cell_type": "code",
   "execution_count": 73,
   "metadata": {},
   "outputs": [
    {
     "data": {
      "image/png": "[encoded data removed]",
      "text/plain": [
       "<Figure size 432x288 with 1 Axes>"
      ]
     },
     "metadata": {},
     "output_type": "display_data"
    }
   ],
   "source": [
    "plt.plot(loss_history)\n",
    "plt.title(\"loss history\")\n",
    "plt.xlabel(\"epoch\")\n",
    "plt.ylabel(\"loss\")\n",
    "plt.show()"
   ]
  }
 ],
 "metadata": {
  "kernelspec": {
   "display_name": "Python 3",
   "language": "python",
   "name": "python3"
  },
  "language_info": {
   "codemirror_mode": {
    "name": "ipython",
    "version": 3
   },
   "file_extension": ".py",
   "mimetype": "text/x-python",
   "name": "python",
   "nbconvert_exporter": "python",
   "pygments_lexer": "ipython3",
   "version": "3.7.3"
  }
 },
 "nbformat": 4,
 "nbformat_minor": 2
}
