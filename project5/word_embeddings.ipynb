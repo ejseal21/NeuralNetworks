{
 "cells": [
  {
   "cell_type": "markdown",
   "metadata": {},
   "source": [
    "**Cole Turner and Ethan Seal**\n",
    "\n",
    "Fall 2019\n",
    "\n",
    "CS343: Neural Networks\n",
    "\n",
    "Project 5: Word embeddings and SOMs"
   ]
  },
  {
   "cell_type": "code",
   "execution_count": 165,
   "metadata": {},
   "outputs": [
    {
     "name": "stdout",
     "output_type": "stream",
     "text": [
      "The autoreload extension is already loaded. To reload it, use:\n",
      "  %reload_ext autoreload\n"
     ]
    }
   ],
   "source": [
    "import os\n",
    "import random\n",
    "import numpy as np\n",
    "import matplotlib.pyplot as plt\n",
    "import pandas as pd\n",
    "import word2vec\n",
    "\n",
    "plt.style.use(['seaborn-colorblind', 'seaborn-darkgrid'])\n",
    "plt.rcParams.update({'font.size': 20})\n",
    "\n",
    "np.set_printoptions(suppress=True, precision=7)\n",
    "\n",
    "# Automatically reload external modules\n",
    "%load_ext autoreload\n",
    "%autoreload 2"
   ]
  },
  {
   "cell_type": "markdown",
   "metadata": {},
   "source": [
    "## Project 5: Word Embeddings and SOMs overview\n",
    "\n",
    "In this project, we will train a Skip-gram (word2vec) neural network commonly used in the field of natural language processing (NLP) on text from IMDb user movie reviews. The goal of the network is to predict context words (words surrounding each word in a sentence). After implementing and training the network, you will extract the weights to obtain $H$ dimensional **word embedding** vectors for English words that appeared in the movie reviews. Because the Skip-gram network is just a slight variant of a softmax classifier with a dense hidden layer, you will leverage the network infrastructure that you developed in the convolutional neural network project.\n",
    "\n",
    "In the second part of the project (`som.ipynb`), you will implement a self-organizing map (SOM), a cooperative biologically-inspired neural network. This network will learn the nonlinear structure of the IMDb word embeddings (in $H$ dimensions) (unsupervised learning) and allow us to visualize the words in 2D. Remarkably, words with similar meanings should appear nearby each other, even though the network knows nothing about the definitions of the words!"
   ]
  },
  {
   "cell_type": "markdown",
   "metadata": {},
   "source": [
    "## Task 1) Preprocess IMDb review dataset"
   ]
  },
  {
   "cell_type": "markdown",
   "metadata": {},
   "source": [
    "### a. Load in IMDb review data\n",
    "\n",
    "Load in the movie review text data in `imdb_train.csv`. The goal is to get a Python list of length 25,000 (there are 25,000 reviews in the training set), where element $i$ is a single string representing the $i^{th}$ review. You're welcome to do this however you like. I suggest using pandas."
   ]
  },
  {
   "cell_type": "code",
   "execution_count": 167,
   "metadata": {},
   "outputs": [],
   "source": [
    "imdb_train = pd.read_csv('imdb/imdb_train.csv', delimiter='\\t')\n",
    "all_reviews = imdb_train['review'].to_numpy(dtype=str)\n",
    "all_reviews = all_reviews.tolist()"
   ]
  },
  {
   "cell_type": "markdown",
   "metadata": {},
   "source": [
    "#### Extract a subset of reviews\n",
    "\n",
    "- Make a variable that represents the number of reviews that we will take out of the full training set (I'm calling $R$ in instructions, but call it what you want). \n",
    "\n",
    "Larger numbers will increase simulation time and memory usage, so pick a value on the small side for testing and scale it up based on your machine's performance. To give you a baseline, I started with 3 reviews during testing and increased it to 50 reviews for \"real\" simulations. **The test code below assumes $R=10$**, the 1st 10 non-shuffled reviews (you can change this later before doing neural network simulations).\n",
    "- Use the variable to select the first $R$ reviews from the dataset."
   ]
  },
  {
   "cell_type": "code",
   "execution_count": 168,
   "metadata": {},
   "outputs": [],
   "source": [
    "R = 10\n",
    "reviews = all_reviews[:R]\n"
   ]
  },
  {
   "cell_type": "markdown",
   "metadata": {},
   "source": [
    "### b. Make corpus\n",
    "\n",
    "In NLP, we usually define a **corpus**, which is the set of documents from which we're interested in learning. For the IMDb dataset and Skip-gram network, this represents a list of sentences across all the reviews (from the subset that we selected). The problem is that our reviews are chunked by review, not sentence.\n",
    "\n",
    "- In `word2vec.py` implement `make_corpus()`, which will build a list where elements are sentences, not reviews."
   ]
  },
  {
   "cell_type": "code",
   "execution_count": 169,
   "metadata": {},
   "outputs": [
    {
     "name": "stdout",
     "output_type": "stream",
     "text": [
      "There are 99 sentences in the corpus. There should be 99.\n"
     ]
    }
   ],
   "source": [
    "corpus = word2vec.make_corpus(reviews)\n",
    "print(f'There are {len(corpus)} sentences in the corpus. There should be 99.')"
   ]
  },
  {
   "cell_type": "markdown",
   "metadata": {},
   "source": [
    "#### Identify unique words and vocabulary size\n",
    "\n",
    "Now that we have a corpus of sentences, let's figure out the **vocabulary size**, defined as the number of unique words in the corpus (across all the sentences).\n",
    "- In `word2vec.py` implement `find_unique_words()` that returns a list of unique words in the corpus.\n",
    "- Define `vocab_sz` as the vocab size"
   ]
  },
  {
   "cell_type": "code",
   "execution_count": 170,
   "metadata": {},
   "outputs": [
    {
     "name": "stdout",
     "output_type": "stream",
     "text": [
      "There are 1016 words in the vocabulary. There should be 1016.\n"
     ]
    }
   ],
   "source": [
    "unique_words = word2vec.find_unique_words(corpus)\n",
    "vocab_sz = len(unique_words)\n",
    "print(f'There are {vocab_sz} words in the vocabulary. There should be 1016.')"
   ]
  },
  {
   "cell_type": "markdown",
   "metadata": {},
   "source": [
    "#### Make word <-> unique word index lookup tables\n",
    "\n",
    "It will be useful to assign an int code to each unique word in the range `[0, vocab_sz-1]`.\n",
    "- Write `word2vec.make_word2ind_mapping`. This makes a Python dictionary `word2ind` that allows you to use a word string to look up its int code.\n",
    "- Write `word2vec.make_ind2word_mapping`. This makes a Python dictionary `ind2word` that allows you to use a word int code to look up its word string."
   ]
  },
  {
   "cell_type": "code",
   "execution_count": 171,
   "metadata": {},
   "outputs": [
    {
     "name": "stdout",
     "output_type": "stream",
     "text": [
      "If you preserved the order of words, the int code for \"robot\" is 159 and should be 159.\n",
      "If you preserved the order of words, the int code for \"fans\" is 108 and should be 108.\n",
      "If you preserved the order of words, the string associated with the int code 100 is call and should be call.\n",
      "If you preserved the order of words, the string associated with the int code 200 is buddy and should be buddy.\n"
     ]
    }
   ],
   "source": [
    "# Make word -> index lookup table\n",
    "word2ind = word2vec.make_word2ind_mapping(unique_words)\n",
    "ind2word = word2vec.make_ind2word_mapping(unique_words)\n",
    "print(f'If you preserved the order of words, the int code for \"robot\" is {word2ind[\"robot\"]} and should be 159.')\n",
    "print(f'If you preserved the order of words, the int code for \"fans\" is {word2ind[\"fans\"]} and should be 108.')\n",
    "      \n",
    "print(f'If you preserved the order of words, the string associated with the int code 100 is {ind2word[100]} and should be call.')\n",
    "print(f'If you preserved the order of words, the string associated with the int code 200 is {ind2word[200]} and should be buddy.')"
   ]
  },
  {
   "cell_type": "markdown",
   "metadata": {},
   "source": [
    "### c. Make training target word and context word sets\n",
    "\n",
    "To train the Skip-gram network, we need to create specially-formatted training data and classes.\n",
    "\n",
    "Each training sample will be a single word in each sentence in the corpus (**target word**). Because the first (non-input) layer of the network is a dense layer with $M$ units, we one-hot code each target word in the vocabulary: the word becomes a vector of zeros with length `vocab_sz` with a 1 at the position represented by the word's int code. For example, if `tourists` has an int code of 2, then its one-hot vector looks like `[0,0,1,0,0,0,0,....]`.\n",
    "\n",
    "Recall that the goal of Skip-gram is to learn to predict **context words**, words that surround the target word (within a window of $W$ words) in a sentence. For example, if $W=2$, the sentence is `I want to see the new Star Wars movie, how about you?`, and the target word is `the`, then the context words are `[to, see, new, Star]`. Context words play the role of `y` of our classes. In our implementation, we will represent a target word's context words in terms of their int codes.\n",
    "\n",
    "- In `word2vec.py`, implement `make_target_context_word_lists()` that returns 1) a Python list of one-hot coded target vectors (ndarrays) and 2) the associated context words, also a Python list of ndarrays, each containing the int codes for context words."
   ]
  },
  {
   "cell_type": "code",
   "execution_count": 172,
   "metadata": {},
   "outputs": [
    {
     "name": "stdout",
     "output_type": "stream",
     "text": [
      "Training size: 2255. It should be 2255.\n",
      "Second target vector is [[0. 1. 0. ... 0. 0. 0.]] and should be [[0. 1. 0. ... 0. 0. 0.]]\n",
      "Second target vector sums to 1.0 and it should be 1.0\n",
      "Second context list is [0 2 3] and should be [0 2 3]\n"
     ]
    }
   ],
   "source": [
    "targets_onehot, contexts_int = word2vec.make_target_context_word_lists(corpus, word2ind, vocab_sz)\n",
    "print(f'Training size: {len(targets_onehot)}. It should be 2255.')\n",
    "print(f'Second target vector is {targets_onehot[1]} and should be [[0. 1. 0. ... 0. 0. 0.]]')\n",
    "print(f'Second target vector sums to {np.sum(targets_onehot[1])} and it should be 1.0')\n",
    "print(f'Second context list is {contexts_int[1]} and should be [0 2 3]')"
   ]
  },
  {
   "cell_type": "markdown",
   "metadata": {},
   "source": [
    "## Task 2) Implement Skip-gram network\n",
    "\n",
    "The network has the architecture: `Input -> Dense (linear act) -> Dense (softmax act)`.\n",
    "\n",
    "You only need to make a small number of modifications to get Skip-gram to work (*the following list may seem long, but most changes are ~1 line tweaks*).\n",
    "\n",
    "- Copy over your `layer.py`, `network.py`, and `optimizer.py` files from the CNN project. \n",
    "- In `word2vec.py`, implement the Skipgram class constructor. This involves building the network that implements the above layer architecture.\n",
    "- In `word2vec.py`, override in the Skipgram class the `fit` training method.\n",
    "- Add support for a `softmax_embedding` activation function type in `layer.py`. This is needed because the Skip-gram loss function is not *vanilla* cross-entropy (it's the multi-correct-class generalization).\n",
    "    - Add a function `layer::skipgram()`, which is the skipgram loss function. Signature should be `def skipgram(self, y):`, where `y` is the int-coded context word indicies (`shape=(context_sz,)`). Equation for the loss is below.\n",
    "    - Update `layer::loss`.  Make sure the skipgram loss function is called from `loss()` if the net activation function is 'softmax_embedding'.\n",
    "    - Update `layer::compute_net_act`: Make sure the regular softmax is computed in the forward pass even if the activation string is 'softmax_embedding'.\n",
    "    - Update `layer::compute_dlast_net_act`: if activation string is 'softmax_embedding', return a COPY of the net_act in the current layer (this method is only entered for the output layer, so `net_act` = `z_net_act`).\n",
    "    - Update `layer::backward_netAct_to_netIn`: This is the gradient of Skip-gram loss function. When you enter this function for the output `Dense` layer, `d_upstream` is equal to `z_net_act` (due to what you did on the last step). Use the short-cut approach from class to implement.\n",
    "- In `word2vec.py`, implement the `get_word_vector` method that allows us to get a word embedding vector from a trained network.\n",
    "- In `word2vec.py`, implement the `get_all_word_vectors` method that allows us to get all word embedding vector from a list passed in from a trained network.\n",
    "- Test your implementation using the simple toy data below.\n",
    "\n",
    "Equation for skip-gram loss: $$L = C \\times Log\\left ( \\sum_{j=1}^{vocabSz} exp \\left ( \\text{z_net_in}_j \\right ) \\right ) - \\sum_{i=1}^{C} \\text{z_net_in}_{\\vec{y_i}}$$\n",
    "\n",
    "**Left term:** $C$ is the number of words in the current context, $\\text{z_net_in}_j$ are the `net_in` values in the Output layer, and the sum over $j$ is a sum over ALL `net_in` values (before softmax) (summing over units coding each word in the vocab)\n",
    "\n",
    "**Right term:** This is the sum of the Output layer `net_in` values at the context word indices $\\vec{y_i}$."
   ]
  },
  {
   "cell_type": "markdown",
   "metadata": {},
   "source": [
    "### a. Simple corpus test code"
   ]
  },
  {
   "cell_type": "code",
   "execution_count": 173,
   "metadata": {},
   "outputs": [
    {
     "data": {
      "text/plain": [
       "['I',\n",
       " 'love',\n",
       " 'neural',\n",
       " 'networks',\n",
       " 'and',\n",
       " 'studying',\n",
       " 'computer',\n",
       " 'science',\n",
       " 'at',\n",
       " 'colby',\n",
       " 'college']"
      ]
     },
     "execution_count": 173,
     "metadata": {},
     "output_type": "execute_result"
    }
   ],
   "source": [
    "corpus = [\"I love neural networks and studying computer science at colby college\".split()]\n",
    "corpus[0]"
   ]
  },
  {
   "cell_type": "code",
   "execution_count": 174,
   "metadata": {},
   "outputs": [
    {
     "data": {
      "text/plain": [
       "{'I': 0,\n",
       " 'love': 1,\n",
       " 'neural': 2,\n",
       " 'networks': 3,\n",
       " 'and': 4,\n",
       " 'studying': 5,\n",
       " 'computer': 6,\n",
       " 'science': 7,\n",
       " 'at': 8,\n",
       " 'colby': 9,\n",
       " 'college': 10}"
      ]
     },
     "execution_count": 174,
     "metadata": {},
     "output_type": "execute_result"
    }
   ],
   "source": [
    "unique_words = word2vec.find_unique_words(corpus)\n",
    "# Make word -> index lookup table\n",
    "word2ind = word2vec.make_word2ind_mapping(unique_words)\n",
    "ind2word = word2vec.make_ind2word_mapping(unique_words)\n",
    "word2ind"
   ]
  },
  {
   "cell_type": "markdown",
   "metadata": {},
   "source": [
    "`word2ind` should look like:\n",
    "\n",
    "     {'I': 0,\n",
    "     'love': 1,\n",
    "     'neural': 2,\n",
    "     'networks': 3,\n",
    "     'and': 4,\n",
    "     'studying': 5,\n",
    "     'computer': 6,\n",
    "     'science': 7,\n",
    "     'at': 8,\n",
    "     'colby': 9,\n",
    "     'college': 10}"
   ]
  },
  {
   "cell_type": "code",
   "execution_count": 175,
   "metadata": {},
   "outputs": [
    {
     "name": "stdout",
     "output_type": "stream",
     "text": [
      "Training size: 11. It should be 11.\n"
     ]
    }
   ],
   "source": [
    "targets_onehot, contexts_int = word2vec.make_target_context_word_lists(corpus, word2ind, vocab_sz)\n",
    "print(f'Training size: {len(targets_onehot)}. It should be 11.')"
   ]
  },
  {
   "cell_type": "markdown",
   "metadata": {},
   "source": [
    "**Question 1:** How do you control the dimension of the word vector embedding?\n",
    "\n",
    "You control the dimension of the word vector embedding by changing the number of units in the hidden layer (for a 2-layer model). The y_wts are the word vectors, so changing the numbers of units in the y-layer changes the dimensions of the word vectors. "
   ]
  },
  {
   "cell_type": "markdown",
   "metadata": {},
   "source": [
    "#### Test Skipgram loss, forward pass, backward pass"
   ]
  },
  {
   "cell_type": "code",
   "execution_count": 176,
   "metadata": {},
   "outputs": [
    {
     "name": "stdout",
     "output_type": "stream",
     "text": [
      "Your loss is 19.772769210415863 and it should be 19.772769210415863.\n",
      "Your forward softmax is\n",
      "[[0.0007281 0.0015607 0.0006291 ... 0.0001252 0.000447  0.0001193]] and it should be\n",
      "[[0.0007281 0.0015607 0.0006291 ... 0.0001252 0.000447  0.0001193]]\n",
      "Your skip-gram gradient is\n",
      "[[-0.9978156 -0.9953178  0.0018872 ...  0.0003757  0.0013411  0.0003578]] and it should be\n",
      "[[-0.9978156 -0.9953178  0.0018872 ...  0.0003757  0.0013411  0.0003578]]\n"
     ]
    }
   ],
   "source": [
    "np.random.seed(0)\n",
    "embedding_sz = 10\n",
    "\n",
    "# Create Skipgram object here\n",
    "net = word2vec.Skipgram(input_shape=(1, vocab_sz),\n",
    "                        dense_interior_units=(embedding_sz,),\n",
    "                        n_classes=vocab_sz,\n",
    "                        wt_scale=1e-1)\n",
    "\n",
    "y = np.array([0, 1, 10])\n",
    "net.layers[-1].net_in = np.random.randn(1, vocab_sz)\n",
    "test_loss = net.layers[-1].loss(y)\n",
    "net.layers[-1].softmax()\n",
    "skipgram_grad = net.layers[-1].backward_netAct_to_netIn(net.layers[-1].net_act, y)\n",
    "\n",
    "print(f'Your loss is {test_loss} and it should be 19.772769210415863.')\n",
    "print(f'Your forward softmax is\\n{net.layers[-1].net_act} and it should be\\n[[0.0007281 0.0015607 0.0006291 ... 0.0001252 0.000447  0.0001193]]')\n",
    "print(f'Your skip-gram gradient is\\n{skipgram_grad} and it should be\\n[[-0.9978156 -0.9953178  0.0018872 ...  0.0003757  0.0013411  0.0003578]]')"
   ]
  },
  {
   "cell_type": "markdown",
   "metadata": {},
   "source": [
    "#### Test entire training workflow\n",
    "\n",
    "- Create a `Skipgram` network with an embedding size of 10 and wt scale of 1e-1.\n",
    "- Compile the network with an optimizer of your choice and learning rate of 0.01.\n",
    "- Fit the model to `targets_onehot`, `contexts_int` with 500 epochs of training.\n",
    "    \n",
    "If your network works, you should see the loss drop to ~49 after about 100 epochs and remain stable for the rest of the simulation (no large jumps). This should take only seconds to finish."
   ]
  },
  {
   "cell_type": "code",
   "execution_count": 177,
   "metadata": {},
   "outputs": [
    {
     "name": "stdout",
     "output_type": "stream",
     "text": [
      "targets_train: (1, 1016)\n",
      "Starting to train (500 epochs)...\n",
      "Finished epoch 9.0/500. Epoch Loss: 7.690\n",
      "Finished epoch 19.0/500. Epoch Loss: 6.727\n",
      "Finished epoch 29.0/500. Epoch Loss: 5.512\n",
      "Finished epoch 39.0/500. Epoch Loss: 4.784\n",
      "Finished epoch 49.0/500. Epoch Loss: 4.490\n",
      "Finished epoch 59.0/500. Epoch Loss: 4.385\n",
      "Finished epoch 69.0/500. Epoch Loss: 4.337\n",
      "Finished epoch 79.0/500. Epoch Loss: 4.311\n",
      "Finished epoch 89.0/500. Epoch Loss: 4.296\n",
      "Finished epoch 99.0/500. Epoch Loss: 4.286\n",
      "Finished epoch 109.0/500. Epoch Loss: 4.279\n",
      "Finished epoch 119.0/500. Epoch Loss: 4.284\n",
      "Finished epoch 129.0/500. Epoch Loss: 4.341\n",
      "Finished epoch 139.0/500. Epoch Loss: 4.292\n",
      "Finished epoch 149.0/500. Epoch Loss: 4.284\n",
      "Finished epoch 159.0/500. Epoch Loss: 4.287\n",
      "Finished epoch 169.0/500. Epoch Loss: 4.317\n",
      "Finished epoch 179.0/500. Epoch Loss: 4.271\n",
      "Finished epoch 189.0/500. Epoch Loss: 4.285\n",
      "Finished epoch 199.0/500. Epoch Loss: 4.294\n",
      "Finished epoch 209.0/500. Epoch Loss: 4.280\n",
      "Finished epoch 219.0/500. Epoch Loss: 4.340\n",
      "Finished epoch 229.0/500. Epoch Loss: 4.271\n",
      "Finished epoch 239.0/500. Epoch Loss: 4.270\n",
      "Finished epoch 249.0/500. Epoch Loss: 4.308\n",
      "Finished epoch 259.0/500. Epoch Loss: 4.278\n",
      "Finished epoch 269.0/500. Epoch Loss: 4.277\n",
      "Finished epoch 279.0/500. Epoch Loss: 4.321\n",
      "Finished epoch 289.0/500. Epoch Loss: 4.278\n",
      "Finished epoch 299.0/500. Epoch Loss: 4.298\n",
      "Finished epoch 309.0/500. Epoch Loss: 4.274\n",
      "Finished epoch 319.0/500. Epoch Loss: 4.269\n",
      "Finished epoch 329.0/500. Epoch Loss: 4.306\n",
      "Finished epoch 339.0/500. Epoch Loss: 4.287\n",
      "Finished epoch 349.0/500. Epoch Loss: 4.287\n",
      "Finished epoch 359.0/500. Epoch Loss: 4.293\n",
      "Finished epoch 369.0/500. Epoch Loss: 4.271\n",
      "Finished epoch 379.0/500. Epoch Loss: 4.278\n",
      "Finished epoch 389.0/500. Epoch Loss: 4.289\n",
      "Finished epoch 399.0/500. Epoch Loss: 4.298\n",
      "Finished epoch 409.0/500. Epoch Loss: 4.278\n",
      "Finished epoch 419.0/500. Epoch Loss: 4.261\n",
      "Finished epoch 429.0/500. Epoch Loss: 4.273\n",
      "Finished epoch 439.0/500. Epoch Loss: 4.293\n",
      "Finished epoch 449.0/500. Epoch Loss: 4.284\n",
      "Finished epoch 459.0/500. Epoch Loss: 4.301\n",
      "Finished epoch 469.0/500. Epoch Loss: 4.267\n",
      "Finished epoch 479.0/500. Epoch Loss: 4.264\n",
      "Finished epoch 489.0/500. Epoch Loss: 4.297\n",
      "Finished epoch 499.0/500. Epoch Loss: 4.274\n",
      "loss [14.122656414376339, 23.708201515076443, 22.124397922285397, 19.154973734645335, 14.293092746827712, 9.761888745611758, 8.453401196342199, 8.235770496940559, 8.17003638338224, 8.120531436969458, 8.06098376985389, 7.991198739418523, 7.9125701565252395, 7.824314419113108, 7.724701756443826, 7.612562588774299, 7.487951730719547, 7.3521450480568005, 7.207412791728475, 7.056733543696419, 6.903425142671591, 6.750698705213207, 6.601238433904484, 6.456938344542403, 6.318859900703967, 6.18737493185534, 6.062399092512414, 5.943623154880148, 5.830687129875676, 5.7232828569638805, 5.621196903582347, 5.524315105432291, 5.432608068396889, 5.346109983101656, 5.264895967665533, 5.189058405719398, 5.118681297308075, 5.053813054970303, 4.994440796190686, 4.940470904421925, 4.891720167394337, 4.84791934837621, 4.808727876408039, 4.773755869106676, 4.742588735408466, 4.714810127196777, 4.690020429090348, 4.667849588347649, 4.6479643977646825, 4.630071154956343, 4.613914952540956, 4.599276836280662, 4.5859698565913956, 4.573834759866807, 4.562735800487678, 4.552556940864923, 4.5431985549880975, 4.5345746542014345, 4.526610599347899, 4.519241237682567, 4.512409395266124, 4.506064658217425, 4.5001623840792355, 4.494662894324514, 4.489530808739292, 4.484734491060885, 4.480245582440795, 4.476038605001881, 4.47209062211083, 4.468380945215305, 4.464890879446508, 4.461603501888056, 4.458503467645385, 4.455576839756939, 4.4528109396699, 4.450194215528906, 4.44771612594293, 4.445367037233942, 4.4431381324515655, 4.441021330673774, 4.439009215314157, 4.437094970327583, 4.435272323353131, 4.433535494959606, 4.431879153267864, 4.430298373317831, 4.428788600629207, 4.427345618474473, 4.425965518443359, 4.424644673929964, 4.42337971621922, 4.4221675128882785, 4.421005148272982, 4.419889905778615, 4.418819251840979, 4.417790821364597, 4.416802404488089, 4.415851934536997, 4.4149374770537975, 4.414057219778408, 4.413209463527081, 4.412392613792054, 4.4116051731925925, 4.410845734244337, 4.4101129734570605, 4.409405644201204, 4.408722574261318, 4.408062653580455, 4.407424847755516, 4.406808148149548, 4.406211685452963, 4.405634421745457, 4.405075967191847, 4.4045344857819195, 4.404013296869575, 4.403510029798112, 4.403109249612029, 4.40321803224523, 4.40629457676205, 4.412281749233472, 4.416632765388708, 4.418994060852257, 4.422516950866974, 4.4356332547146025, 4.446863722223051, 4.4839986114983175, 4.4852965028654035, 4.5021227795120025, 4.494230661668357, 4.480118657222129, 4.460759076146386, 4.447309511597417, 4.4355780820751285, 4.428823458207773, 4.423454304904658, 4.420324071015543, 4.418454822544921, 4.417699344460566, 4.4199373373395225, 4.420076412000468, 4.426816731260402, 4.424073372774004, 4.4318848368004575, 4.424622569309888, 4.428869990301894, 4.420756511862849, 4.42180774234463, 4.41559887817155, 4.415895018797631, 4.411590628457007, 4.4120633630789765, 4.409198188116259, 4.410033038889487, 4.408313741823577, 4.409621367833926, 4.408968432581301, 4.410942286076021, 4.411543840747899, 4.414536200338201, 4.41692319044694, 4.421530305849132, 4.42653346069535, 4.433523766100944, 4.441368078506098, 4.450367225620178, 4.4575873620139586, 4.463550323579198, 4.462403073520466, 4.458965575805006, 4.448890017372267, 4.439841011283585, 4.429081902288937, 4.421290980060144, 4.414141888187018, 4.4093836764825864, 4.405383841852703, 4.402830418344798, 4.400690169604889, 4.399389015276546, 4.398270113711434, 4.397689646429016, 4.397198450435746, 4.397152892198817, 4.397203808154527, 4.397811856455405, 4.398631800718403, 4.400496043954997, 4.402851333772748, 4.407546070418523, 4.413070772543017, 4.423169472245865, 4.433127903104055, 4.447367345970371, 4.456364096478418, 4.461870996011748, 4.458964918633996, 4.4518093890136505, 4.440094166658539, 4.43173083362505, 4.4203379059470995, 4.414452154798463, 4.407980507784644, 4.404954576548075, 4.40262725555823, 4.401515070688212, 4.4016566774937935, 4.401649651350995, 4.4035036907637775, 4.404383209925114, 4.407657455780978, 4.409672575645459, 4.414351651416518, 4.418397885586944, 4.425217341118571, 4.432375693253534, 4.443177921784986, 4.45172912584288, 4.467695237575132, 4.470138494059527, 4.479909420201316, 4.4720930736549045, 4.4664162153798435, 4.45261305396784, 4.4401562197298965, 4.426316303281621, 4.4170021184657715, 4.409035516980324, 4.4041740328536525, 4.400451439609079, 4.398168933088299, 4.396465697481206, 4.395436748276738, 4.394685209333838, 4.394311677607521, 4.394102194136754, 4.39418779161801, 4.394407846527435, 4.3949666877785045, 4.395670687377123, 4.396887139187354, 4.398263161373955, 4.400519267861603, 4.4028567233838, 4.406731570025585, 4.410234187448686, 4.416221963809954, 4.420435844611192, 4.427997533229965, 4.431062711848493, 4.437564641970999, 4.436826062050169, 4.439027745691322, 4.433843572004441, 4.431643151255934, 4.424653170579535, 4.420880294279612, 4.4152310149998835, 4.412362618944456, 4.409375503523453, 4.408554755363016, 4.4081342622309885, 4.409746965612441, 4.410979338705018, 4.4141633087045795, 4.414671385536057, 4.416199873445018, 4.413596956194744, 4.411892341822028, 4.4077393851844855, 4.4055610471904485, 4.403279555754085, 4.403896926198368, 4.405978304873511, 4.413323233520129, 4.421003583431595, 4.436362593069434, 4.44667733143547, 4.45691113564605, 4.460284825064287, 4.448300695418204, 4.438523112092352, 4.421872516179752, 4.414879498555512, 4.406335588150978, 4.404628980379692, 4.401423515511596, 4.4022760587945475, 4.40178472005807, 4.403940825551396, 4.405110954942685, 4.408209329839013, 4.41063643207833, 4.414477736738752, 4.417613293141858, 4.421795743273037, 4.42455670221114, 4.4283375742783075, 4.429399667884936, 4.431742548820599, 4.430468651750841, 4.430599868992581, 4.427391320976716, 4.425540674681727, 4.421259212066911, 4.418396939778503, 4.414005895810766, 4.411110403354749, 4.407411355298822, 4.405086535537849, 4.402391108487809, 4.400800268942476, 4.399014369526349, 4.398065747471911, 4.396972395049176, 4.396528608151692, 4.395954249562977, 4.395936681778353, 4.395803015754666, 4.396236815284852, 4.39658398234117, 4.397653972586861, 4.3986861033963, 4.400837883984977, 4.402977861602239, 4.406974906494383, 4.410712527394204, 4.417122344785796, 4.422067376209513, 4.4293143096520255, 4.432854690957472, 4.436255579888979, 4.4354136456138855, 4.432801746691021, 4.427974072610274, 4.423232772335171, 4.417628639201823, 4.4150577115787435, 4.41183408306282, 4.4131472405341095, 4.414346559441023, 4.4195938707324895, 4.425388483711236, 4.4318288071453065, 4.437500283056962, 4.438840714258074, 4.438052038839308, 4.432523673340298, 4.427252256879407, 4.41997091256807, 4.415128257166631, 4.409842003233695, 4.407317777748075, 4.404878836517629, 4.405089717262308, 4.405389597843636, 4.408457552029838, 4.4109358890048815, 4.416351912258866, 4.418887123165534, 4.424281617281986, 4.423337689476648, 4.425345152236886, 4.4202187538007, 4.418498199624664, 4.412406160318768, 4.409526820778003, 4.404980730922724, 4.402725948740275, 4.400019578972207, 4.3987075451460695, 4.397333160363893, 4.396791674383372, 4.396333315679934, 4.396428162483431, 4.396719998517362, 4.397469771252619, 4.398555403114628, 4.400135280249779, 4.40218890734893, 4.404872290646423, 4.4079762362434876, 4.411857018021274, 4.415424559745419, 4.419739133674227, 4.421912566525821, 4.424642577495983, 4.423393012689529, 4.42291189840609, 4.418698111441348, 4.415953855216446, 4.411343173941399, 4.408643830319021, 4.405594955902715, 4.404474859448215, 4.403797314771121, 4.405114188992536, 4.407517528921551, 4.412475514649781, 4.4190976135909885, 4.4292010261944, 4.439919367241189, 4.453053089602326, 4.461220611293563, 4.466585889149963, 4.460656543985207, 4.452763450617798, 4.436955988034622, 4.425558994848975, 4.41333029084842, 4.405937888427908, 4.399697429182999, 4.396071386582178, 4.393214774785765, 4.391514372974843, 4.3901886374055215, 4.389366806302115, 4.38873038237484, 4.388332485977792, 4.388048262919225, 4.387897037487836, 4.387845650351859, 4.387896679636, 4.388076200329871, 4.388385678202195, 4.388915435013937, 4.38969116328656, 4.390916800588983, 4.392670038965601, 4.395413840384955, 4.399134428476922, 4.40491822931574, 4.411460045951798, 4.4212483094406965, 4.4283625047377795, 4.437851910252389, 4.439822911472357, 4.439758171788577, 4.434431325699525, 4.426670313439118, 4.4199011354256985, 4.415760387072618, 4.413949733394784, 4.412989294878033, 4.4143967965840325, 4.412774809488422, 4.413519127766286, 4.4116324424860585, 4.4113282394871725, 4.410923396899038, 4.411171423460902, 4.412561017749396, 4.414421050679736, 4.417813034259822, 4.421570706484048, 4.4268606183113866, 4.4311702689027035, 4.436623340359258, 4.437687173222997, 4.439602394598079, 4.434473387188737, 4.431163315925343, 4.4227495604933305, 4.417577522151036, 4.410493295910598, 4.406353610392421, 4.401857338173697, 4.399219021117375, 4.396667161891089, 4.395111094302908, 4.393713756263913, 4.3928132271673865, 4.392070648116874, 4.391561733485883, 4.391206047021192, 4.390944760882641, 4.390838029413697, 4.390749623933798, 4.390824420911249, 4.390880462246364, 4.391123032996448, 4.39135584949289, 4.391842365610447, 4.392430482025191, 4.393467056397154, 4.394965768040092, 4.39742376910295, 4.40114259853665, 4.406849132439353, 4.414492904294945, 4.4248472227988085, 4.434643841255042, 4.444301763841699, 4.448093814287986, 4.446199307277905, 4.440052093480134, 4.429394969969149, 4.419602651273596, 4.411084985238395, 4.40431029531376, 4.399960591237951]\n"
     ]
    }
   ],
   "source": [
    "np.random.seed(0)\n",
    "embedding_sz = 10\n",
    "\n",
    "# Create Skipgram object here\n",
    "skip = word2vec.Skipgram(dense_interior_units=(embedding_sz,), wt_scale=1e-1)\n",
    "skip.compile('adam', lr=0.01)\n",
    "loss = skip.fit(targets_onehot, contexts_int, n_epochs=500, print_every=10)\n",
    "print(\"loss\", loss)"
   ]
  },
  {
   "cell_type": "markdown",
   "metadata": {},
   "source": [
    "### b. Train model on IMDb data\n",
    "\n",
    "- Load the IMDb data back into memory.\n",
    "- Train the Skip-gram model on the IMDb data. As a starting point, use an embedding size/dimension of 10, 0.01 learning rate, and 20 epochs. If all goes well, the loss should converge and remain stable around 16-17 (assuming 10 reviews are in the corpus).\n",
    "- When you get your self-organizing map (SOM) working to visualize the word vectors, you may want to increase the # reviews in the corpus, depending on the quality of the word vectors (determined by looking at your SOM), and how fast training is going."
   ]
  },
  {
   "cell_type": "code",
   "execution_count": 178,
   "metadata": {},
   "outputs": [
    {
     "name": "stdout",
     "output_type": "stream",
     "text": [
      "targets_train: (1, 1016)\n",
      "Starting to train (20 epochs)...\n",
      "Finished epoch 1.0/20. Epoch Loss: 15.072\n",
      "Finished epoch 2.0/20. Epoch Loss: 13.623\n",
      "Finished epoch 3.0/20. Epoch Loss: 12.785\n",
      "Finished epoch 4.0/20. Epoch Loss: 12.022\n",
      "Finished epoch 5.0/20. Epoch Loss: 11.482\n",
      "Finished epoch 6.0/20. Epoch Loss: 11.146\n",
      "Finished epoch 7.0/20. Epoch Loss: 10.979\n",
      "Finished epoch 8.0/20. Epoch Loss: 10.886\n",
      "Finished epoch 9.0/20. Epoch Loss: 10.798\n",
      "Finished epoch 10.0/20. Epoch Loss: 10.786\n",
      "Finished epoch 11.0/20. Epoch Loss: 10.745\n",
      "Finished epoch 12.0/20. Epoch Loss: 10.754\n",
      "Finished epoch 13.0/20. Epoch Loss: 10.729\n",
      "Finished epoch 14.0/20. Epoch Loss: 10.731\n",
      "Finished epoch 15.0/20. Epoch Loss: 10.705\n",
      "Finished epoch 16.0/20. Epoch Loss: 10.722\n",
      "Finished epoch 17.0/20. Epoch Loss: 10.685\n",
      "Finished epoch 18.0/20. Epoch Loss: 10.699\n",
      "Finished epoch 19.0/20. Epoch Loss: 10.694\n",
      "Finished epoch 20.0/20. Epoch Loss: 10.692\n"
     ]
    }
   ],
   "source": [
    "np.random.seed(0)\n",
    "embedding_sz = 10\n",
    "\n",
    "corpus = word2vec.make_corpus(all_reviews[:10])\n",
    "\n",
    "unique_words = word2vec.find_unique_words(corpus)\n",
    "vocab_sz = len(unique_words)\n",
    "               \n",
    "word2ind = word2vec.make_word2ind_mapping(unique_words)\n",
    "ind2word = word2vec.make_ind2word_mapping(unique_words)\n",
    "targets_onehot, contexts_int = word2vec.make_target_context_word_lists(corpus, word2ind, vocab_sz)\n",
    "\n",
    "# Create Skipgram object here\n",
    "skip = word2vec.Skipgram(dense_interior_units=(embedding_sz,), wt_scale=1e-1)\n",
    "skip.compile('adam', lr=0.01)\n",
    "loss_history = skip.fit(targets_onehot, contexts_int, n_epochs=20, print_every=1)\n"
   ]
  },
  {
   "cell_type": "markdown",
   "metadata": {},
   "source": [
    "**Question 2:** Plot the loss history below when there are 10 reviews in the training set."
   ]
  },
  {
   "cell_type": "code",
   "execution_count": 179,
   "metadata": {},
   "outputs": [
    {
     "data": {
      "image/png": "[encoded data removed]",
      "text/plain": [
       "<Figure size 432x288 with 1 Axes>"
      ]
     },
     "metadata": {},
     "output_type": "display_data"
    }
   ],
   "source": [
    "plt.plot(loss_history)\n",
    "plt.title(\"loss history\")\n",
    "plt.xlabel(\"epoch\")\n",
    "plt.ylabel(\"loss\")\n",
    "plt.show()"
   ]
  },
  {
   "cell_type": "markdown",
   "metadata": {},
   "source": [
    "### c. Get and export word embedding vectors\n",
    "\n",
    "- Implement in `word2vec.py` `get_word_vector()`\n",
    "- Implement in `word2vec.py` `get_all_word_vectors()`\n",
    "- Run the following code to save off the IMDb word embeddings"
   ]
  },
  {
   "cell_type": "markdown",
   "metadata": {},
   "source": [
    "#### Test `get_word_vector`"
   ]
  },
  {
   "cell_type": "code",
   "execution_count": 180,
   "metadata": {},
   "outputs": [
    {
     "name": "stdout",
     "output_type": "stream",
     "text": [
      "The shape of one of your word vectors are (10,) and should be (10,)\n",
      "The word vector for \"james\" looks like:\n",
      "[-0.0941815 -0.0702835 -0.1378837  0.292525   0.0571752 -0.0045876\n",
      " -0.1057064 -0.1824693  0.0241738 -0.0145152]\n"
     ]
    }
   ],
   "source": [
    "print(f'The shape of one of your word vectors are {net.get_word_vector(word2ind, \"james\").shape} and should be (10,)')\n",
    "print(f'The word vector for \"james\" looks like:\\n{net.get_word_vector(word2ind, \"james\")}')"
   ]
  },
  {
   "cell_type": "markdown",
   "metadata": {},
   "source": [
    "#### Test `get_all_word_vectors`"
   ]
  },
  {
   "cell_type": "code",
   "execution_count": 181,
   "metadata": {},
   "outputs": [
    {
     "name": "stdout",
     "output_type": "stream",
     "text": [
      "Shape of word vectors: (1016, 10) and should be (1016, 10)\n",
      "(for 10 reviews and embedding sz of 10)\n"
     ]
    }
   ],
   "source": [
    "word_vecs = net.get_all_word_vectors(word2ind, unique_words)\n",
    "print(f'Shape of word vectors: {word_vecs.shape} and should be (1016, 10)\\n(for 10 reviews and embedding sz of 10)')"
   ]
  },
  {
   "cell_type": "code",
   "execution_count": 183,
   "metadata": {},
   "outputs": [],
   "source": [
    "np.save('results/imdb_word_vectors', word_vecs)\n",
    "np.save('results/imdb_word_strings', unique_words)"
   ]
  },
  {
   "cell_type": "code",
   "execution_count": null,
   "metadata": {},
   "outputs": [],
   "source": []
  }
 ],
 "metadata": {
  "kernelspec": {
   "display_name": "Python 3",
   "language": "python",
   "name": "python3"
  },
  "language_info": {
   "codemirror_mode": {
    "name": "ipython",
    "version": 3
   },
   "file_extension": ".py",
   "mimetype": "text/x-python",
   "name": "python",
   "nbconvert_exporter": "python",
   "pygments_lexer": "ipython3",
   "version": "3.6.2"
  }
 },
 "nbformat": 4,
 "nbformat_minor": 2
}
